{
 "cells": [
  {
   "cell_type": "code",
   "execution_count": null,
   "id": "c9b0ec85",
   "metadata": {},
   "outputs": [
    {
     "name": "stdout",
     "output_type": "stream",
     "text": [
      "API key loaded successfully\n"
     ]
    },
    {
     "name": "stderr",
     "output_type": "stream",
     "text": [
      "\u001b[34m\u001b[1mwandb\u001b[0m: Currently logged in as: \u001b[33mnnamdi-odozi\u001b[0m (\u001b[33mnnamdi-odozi-ave-actuaries\u001b[0m) to \u001b[32mhttps://api.wandb.ai\u001b[0m. Use \u001b[1m`wandb login --relogin`\u001b[0m to force relogin\n"
     ]
    }
   ],
   "source": [
    "import torch\n",
    "import pandas as pd\n",
    "import numpy as np\n",
    "import datasets\n",
    "from load_models_and_data import load_vocabulary, load_embeddings, text_to_embeddings, calc_cosine_sim, calculate_similarities\n",
    "from tqdm import tqdm\n",
    "tqdm.pandas()\n",
    "from TwoTowerNN import QryTower, DocTower, TripletEmbeddingDataset, run_hyperparameter_tuning\n",
    "from torch.optim.lr_scheduler import ReduceLROnPlateau\n",
    "from torch.utils.data import Dataset, DataLoader,  SubsetRandomSampler\n",
    "from sklearn.model_selection import KFold, train_test_split\n",
    "import os\n",
    "import wandb\n",
    "from dotenv import load_dotenv"
   ]
  },
  {
   "cell_type": "code",
   "execution_count": 3,
   "id": "77b860fd",
   "metadata": {},
   "outputs": [],
   "source": [
    "device = torch.device(\"cuda\" if torch.cuda.is_available() else \"cpu\")"
   ]
  },
  {
   "cell_type": "code",
   "execution_count": null,
   "id": "ba466e66",
   "metadata": {},
   "outputs": [],
   "source": [
    "from datasets import load_dataset\n",
    "\n",
    "# Loading datasets from Hugging Face\n",
    "ds_soft_neg = load_dataset(\"cocoritzy/week_2_triplet_dataset_soft_negatives\")\n",
    "ds_hard_neg = load_dataset(\"cocoritzy/week_2_triplet_dataset_hard_negatives\")\n"
   ]
  },
  {
   "cell_type": "code",
   "execution_count": null,
   "id": "3a1948ff",
   "metadata": {},
   "outputs": [],
   "source": [
    "# Paths to your files\n",
    "embeddings_path = \"./downloaded_model/embeddings.pt\"\n",
    "vocab_path = \"./downloaded_model/tkn_ids_to_words.csv\"\n",
    "\n",
    "# Load embeddings and vocabulary\n",
    "print(\"Loading embeddings and vocabulary...\")\n",
    "embeddings = load_embeddings(embeddings_path)\n",
    "word_to_idx = load_vocabulary(vocab_path)\n",
    "\n",
    "print(f\"Loaded embeddings with shape: {embeddings.shape}\")\n",
    "print(f\"Loaded vocabulary with {len(word_to_idx)} tokens\")\n",
    "\n",
    "# Example usage (uncomment when ready to test)\n",
    "sample_text = \"This is a test sentence\"\n",
    "embeddings_result = text_to_embeddings(sample_text, word_to_idx, embeddings)\n",
    "print(f\"Embedded text shape: {embeddings_result.shape}\")\n",
    "\n",
    "# Testing - Set numpy print options\n",
    "np.set_printoptions(precision=4, suppress=True, threshold=10)  # threshold limits number of elements shown\n",
    "numpy_array = embeddings_result.detach().numpy()\n",
    "print(\"Embedding array with custom formatting:\")\n",
    "print(numpy_array)\n"
   ]
  },
  {
   "cell_type": "code",
   "execution_count": null,
   "id": "55fa305b",
   "metadata": {},
   "outputs": [],
   "source": [
    "ds_soft_neg"
   ]
  },
  {
   "cell_type": "code",
   "execution_count": null,
   "id": "53a28244",
   "metadata": {},
   "outputs": [],
   "source": [
    "df_soft_neg  = pd.DataFrame(ds_soft_neg['train'])\n",
    "df_hard_neg  = pd.DataFrame(ds_hard_neg['train'])"
   ]
  },
  {
   "cell_type": "code",
   "execution_count": null,
   "id": "c7b81dde",
   "metadata": {},
   "outputs": [],
   "source": [
    "embedded_query = text_to_embeddings(df_soft_neg['query'][0], word_to_idx, embeddings)\n",
    "embedded_positive = text_to_embeddings(df_soft_neg['positive_passage'][0], word_to_idx, embeddings)\n",
    "embedded_negative = text_to_embeddings(df_soft_neg['negative_passage'][0], word_to_idx, embeddings)\n",
    "\n",
    "embedded_query.shape"
   ]
  },
  {
   "cell_type": "code",
   "execution_count": null,
   "id": "9ece943f",
   "metadata": {},
   "outputs": [],
   "source": [
    "a = embedded_query.mean(dim=0)\n",
    "b = embedded_positive.mean(dim=0)\n",
    "c = embedded_negative.mean(dim=0)\n",
    "a.shape\n"
   ]
  },
  {
   "cell_type": "code",
   "execution_count": null,
   "id": "e95b8699",
   "metadata": {},
   "outputs": [],
   "source": [
    "import torch.nn.functional as F\n",
    "\n",
    "cosine_similarity = F.cosine_similarity(a, c, dim=0)\n",
    "print(f\"Cosine similarity between query and positive passage: {cosine_similarity.item()}\")"
   ]
  },
  {
   "cell_type": "code",
   "execution_count": null,
   "id": "0b6a0d5c",
   "metadata": {},
   "outputs": [],
   "source": [
    "\n",
    "# # Process the dataframe using apply just for first five rows\n",
    "# print(\"Calculating similarities... This may take a while depending on dataframe size.\")\n",
    "# similarities = df_soft_neg[0:5].progress_apply(\n",
    "#     lambda row: calculate_similarities(row, word_to_idx, embeddings), \n",
    "#     axis=1\n",
    "# )\n",
    "\n",
    "# # Join the similarities to the dataframe\n",
    "# df_soft_neg_ext = pd.concat([df_soft_neg[0:5], similarities], axis=1)\n",
    "\n",
    "# # Show a sample of the results\n",
    "# #print(df_soft_neg_ext[['query_pos_sim', 'query_neg_sim', 'pos_neg_sim']].head())\n",
    "#print(df_soft_neg_ext.head())\n",
    "#print(df_soft_neg_ext.columns)"
   ]
  },
  {
   "cell_type": "code",
   "execution_count": null,
   "id": "7a02f39f",
   "metadata": {},
   "outputs": [],
   "source": [
    "\n",
    "# Process the dataframe using apply\n",
    "print(\"Calculating similarities... This may take a while depending on dataframe size.\")\n",
    "similarities = df_soft_neg.progress_apply(\n",
    "    lambda row: calculate_similarities(row, word_to_idx, embeddings), \n",
    "    axis=1\n",
    ")\n",
    "\n",
    "# Join the similarities to the dataframe\n",
    "df_soft_neg_ext = pd.concat([df_soft_neg, similarities], axis=1)\n",
    "print(df_soft_neg_ext.head())\n",
    "# Show a sample of the results\n",
    "#print(df_soft_neg_ext[['query_pos_sim', 'query_neg_sim', 'pos_neg_sim']].head())\n",
    "\n",
    "#print(df_soft_neg_ext[['query_pos_sim', 'query_neg_sim', 'pos_neg_sim']].mean())\n",
    "\n",
    "# Calculate how often the positive passage is ranked higher than negative\n",
    "#higher_count = (df_soft_neg_ext['query_pos_sim'] > df_soft_neg_ext['query_neg_sim']).sum()\n",
    "#total = len(df_soft_neg_ext)\n",
    "#print(f\"\\nPositive passage ranked higher than negative: {higher_count} out of {total} ({higher_count/total:.2%})\")\n",
    "\n"
   ]
  },
  {
   "cell_type": "code",
   "execution_count": null,
   "id": "8fbbd3be",
   "metadata": {},
   "outputs": [],
   "source": [
    "# Process the dataframe using apply\n",
    "print(\"Calculating similarities... This may take a while depending on dataframe size.\")\n",
    "similarities = df_hard_neg.progress_apply(\n",
    "    lambda row: calculate_similarities(row, word_to_idx, embeddings), \n",
    "    axis=1\n",
    ")\n",
    "\n",
    "# Join the similarities to the dataframe\n",
    "df_hard_neg_ext = pd.concat([df_hard_neg, similarities], axis=1)\n",
    "print(df_hard_neg_ext.head())\n",
    "# Show a sample of the results\n",
    "#print(df_hard_neg_ext[['query_pos_sim', 'query_neg_sim', 'pos_neg_sim']].head())\n",
    "\n",
    "#print(df_hard_neg_ext[['query_pos_sim', 'query_neg_sim', 'pos_neg_sim']].mean())\n",
    "\n",
    "# Calculate how often the positive passage is ranked higher than negative\n",
    "#higher_count = (df_hard_neg_ext['query_pos_sim'] > df_hard_neg_ext['query_neg_sim']).sum()\n",
    "#total = len(df_hard_neg_ext)\n",
    "#print(f\"\\nPositive passage ranked higher than negative: {higher_count} out of {total} ({higher_count/total:.2%})\")\n",
    "\n"
   ]
  },
  {
   "cell_type": "code",
   "execution_count": null,
   "id": "13cea888",
   "metadata": {},
   "outputs": [],
   "source": [
    "df_all_neg_ext = pd.concat([df_soft_neg_ext, df_hard_neg_ext])\n",
    "df_all_neg_ext.head()"
   ]
  },
  {
   "cell_type": "code",
   "execution_count": null,
   "id": "766f3ea3",
   "metadata": {},
   "outputs": [],
   "source": [
    "# Save DataFrames to pickle format\n",
    "df_soft_neg_ext.to_pickle(\"data/df_soft_neg_ext.pkl\")\n",
    "df_hard_neg_ext.to_pickle(\"data/df_hard_neg_ext.pkl\")\n",
    "df_all_neg_ext.to_pickle(\"data/df_all_neg_ext.pkl\")"
   ]
  },
  {
   "cell_type": "code",
   "execution_count": 4,
   "id": "02765d14",
   "metadata": {},
   "outputs": [],
   "source": [
    "# Function to load a DataFrame from pickle if the file exists\n",
    "def load_df_if_exists(file_path):\n",
    "    if os.path.exists(file_path):\n",
    "        return pd.read_pickle(file_path)\n",
    "    else:\n",
    "        print(f\"File not found: {file_path}\")\n",
    "        return None\n",
    "\n",
    "# Load DataFrames\n",
    "df_soft_neg_ext = load_df_if_exists(\"data/df_soft_neg_ext.pkl\")\n",
    "df_hard_neg_ext = load_df_if_exists(\"data/df_hard_neg_ext.pkl\")\n",
    "df_all_neg_ext = load_df_if_exists(\"data/df_all_neg_ext.pkl\")\n"
   ]
  },
  {
   "cell_type": "code",
   "execution_count": 8,
   "id": "a2b9f622",
   "metadata": {},
   "outputs": [
    {
     "data": {
      "text/html": [
       "<div>\n",
       "<style scoped>\n",
       "    .dataframe tbody tr th:only-of-type {\n",
       "        vertical-align: middle;\n",
       "    }\n",
       "\n",
       "    .dataframe tbody tr th {\n",
       "        vertical-align: top;\n",
       "    }\n",
       "\n",
       "    .dataframe thead th {\n",
       "        text-align: right;\n",
       "    }\n",
       "</style>\n",
       "<table border=\"1\" class=\"dataframe\">\n",
       "  <thead>\n",
       "    <tr style=\"text-align: right;\">\n",
       "      <th></th>\n",
       "      <th>query_id</th>\n",
       "      <th>query</th>\n",
       "      <th>positive_passage</th>\n",
       "      <th>negative_passage</th>\n",
       "      <th>negative_from_query_id</th>\n",
       "      <th>avg_query_embedding</th>\n",
       "      <th>avg_pos_embedding</th>\n",
       "      <th>avg_neg_embedding</th>\n",
       "    </tr>\n",
       "  </thead>\n",
       "  <tbody>\n",
       "    <tr>\n",
       "      <th>0</th>\n",
       "      <td>19699</td>\n",
       "      <td>what is rba</td>\n",
       "      <td>Results-Based Accountability® (also known as R...</td>\n",
       "      <td>I finally found some real salary data for phys...</td>\n",
       "      <td>86595</td>\n",
       "      <td>[0.6579812, 0.24213153, 0.057250064, -0.825741...</td>\n",
       "      <td>[0.39086032, 0.3319433, 0.1275278, -0.80645, 0...</td>\n",
       "      <td>[0.569893, 0.18935415, 0.1920344, -0.7171183, ...</td>\n",
       "    </tr>\n",
       "    <tr>\n",
       "      <th>1</th>\n",
       "      <td>19700</td>\n",
       "      <td>was ronald reagan a democrat</td>\n",
       "      <td>From Wikipedia, the free encyclopedia. A Reaga...</td>\n",
       "      <td>The Pacific Ocean lies to the east while the S...</td>\n",
       "      <td>66360</td>\n",
       "      <td>[-0.6998242, -0.24631366, -0.20571017, 0.24202...</td>\n",
       "      <td>[0.27046937, 0.2619914, 0.049588773, -0.618945...</td>\n",
       "      <td>[0.17404862, 0.21760696, -0.10469024, -0.23737...</td>\n",
       "    </tr>\n",
       "    <tr>\n",
       "      <th>2</th>\n",
       "      <td>19701</td>\n",
       "      <td>how long do you need for sydney and surroundin...</td>\n",
       "      <td>Sydney is the capital city of the Australian s...</td>\n",
       "      <td>Probiotics are found in foods such as yogurt, ...</td>\n",
       "      <td>88507</td>\n",
       "      <td>[0.16817716, 0.29739928, -0.36492547, 0.064426...</td>\n",
       "      <td>[0.39110944, 0.23566554, 0.063871, -0.36585316...</td>\n",
       "      <td>[0.61134595, 0.36615297, 0.28972, -0.6924668, ...</td>\n",
       "    </tr>\n",
       "    <tr>\n",
       "      <th>3</th>\n",
       "      <td>19702</td>\n",
       "      <td>price to install tile in shower</td>\n",
       "      <td>1 Install ceramic tile floor to match shower-A...</td>\n",
       "      <td>Iodine is critical to thyroid health and funct...</td>\n",
       "      <td>87550</td>\n",
       "      <td>[-0.06541735, 0.2755244, 0.19580394, 0.4023429...</td>\n",
       "      <td>[0.69151133, 0.5770993, 0.22074986, -0.7754023...</td>\n",
       "      <td>[0.3590759, -0.036869664, 0.17250647, -0.53339...</td>\n",
       "    </tr>\n",
       "    <tr>\n",
       "      <th>4</th>\n",
       "      <td>19703</td>\n",
       "      <td>why conversion observed in body</td>\n",
       "      <td>Conversion disorder is a type of somatoform di...</td>\n",
       "      <td>The answer to the question how much does it co...</td>\n",
       "      <td>61479</td>\n",
       "      <td>[-0.13369766, -0.30740747, 0.5450557, 0.391294...</td>\n",
       "      <td>[0.42539537, 0.13814452, 0.37000972, -0.632320...</td>\n",
       "      <td>[0.5729694, 0.314426, 0.13929352, -0.9086552, ...</td>\n",
       "    </tr>\n",
       "  </tbody>\n",
       "</table>\n",
       "</div>"
      ],
      "text/plain": [
       "   query_id                                              query  \\\n",
       "0     19699                                        what is rba   \n",
       "1     19700                       was ronald reagan a democrat   \n",
       "2     19701  how long do you need for sydney and surroundin...   \n",
       "3     19702                    price to install tile in shower   \n",
       "4     19703                    why conversion observed in body   \n",
       "\n",
       "                                    positive_passage  \\\n",
       "0  Results-Based Accountability® (also known as R...   \n",
       "1  From Wikipedia, the free encyclopedia. A Reaga...   \n",
       "2  Sydney is the capital city of the Australian s...   \n",
       "3  1 Install ceramic tile floor to match shower-A...   \n",
       "4  Conversion disorder is a type of somatoform di...   \n",
       "\n",
       "                                    negative_passage  negative_from_query_id  \\\n",
       "0  I finally found some real salary data for phys...                   86595   \n",
       "1  The Pacific Ocean lies to the east while the S...                   66360   \n",
       "2  Probiotics are found in foods such as yogurt, ...                   88507   \n",
       "3  Iodine is critical to thyroid health and funct...                   87550   \n",
       "4  The answer to the question how much does it co...                   61479   \n",
       "\n",
       "                                 avg_query_embedding  \\\n",
       "0  [0.6579812, 0.24213153, 0.057250064, -0.825741...   \n",
       "1  [-0.6998242, -0.24631366, -0.20571017, 0.24202...   \n",
       "2  [0.16817716, 0.29739928, -0.36492547, 0.064426...   \n",
       "3  [-0.06541735, 0.2755244, 0.19580394, 0.4023429...   \n",
       "4  [-0.13369766, -0.30740747, 0.5450557, 0.391294...   \n",
       "\n",
       "                                   avg_pos_embedding  \\\n",
       "0  [0.39086032, 0.3319433, 0.1275278, -0.80645, 0...   \n",
       "1  [0.27046937, 0.2619914, 0.049588773, -0.618945...   \n",
       "2  [0.39110944, 0.23566554, 0.063871, -0.36585316...   \n",
       "3  [0.69151133, 0.5770993, 0.22074986, -0.7754023...   \n",
       "4  [0.42539537, 0.13814452, 0.37000972, -0.632320...   \n",
       "\n",
       "                                   avg_neg_embedding  \n",
       "0  [0.569893, 0.18935415, 0.1920344, -0.7171183, ...  \n",
       "1  [0.17404862, 0.21760696, -0.10469024, -0.23737...  \n",
       "2  [0.61134595, 0.36615297, 0.28972, -0.6924668, ...  \n",
       "3  [0.3590759, -0.036869664, 0.17250647, -0.53339...  \n",
       "4  [0.5729694, 0.314426, 0.13929352, -0.9086552, ...  "
      ]
     },
     "execution_count": 8,
     "metadata": {},
     "output_type": "execute_result"
    }
   ],
   "source": [
    "df_soft_neg_ext.head()"
   ]
  },
  {
   "cell_type": "markdown",
   "id": "0ba3edcd",
   "metadata": {},
   "source": [
    "### Twin Tower Network"
   ]
  },
  {
   "cell_type": "code",
   "execution_count": null,
   "id": "239cc5b4",
   "metadata": {},
   "outputs": [],
   "source": [
    "# Create tower instances\n",
    "qryTower = QryTower()\n",
    "docTower = DocTower()\n",
    "\n",
    "\n",
    "# Define hyperparameters\n",
    "batch_size = 128\n",
    "num_epochs = 1 # adjust num of epochs here\n",
    "dataset_size = len(df_soft_neg_ext)  # or len(df_hard_neg_ext) depending on the dataset you want to use\n",
    "steps_per_epoch = dataset_size // batch_size\n",
    "total_steps = steps_per_epoch * num_epochs\n",
    "learning_rate = 1e-3\n",
    "embedding_dim = 128 \n",
    "margin = 0.2 "
   ]
  },
  {
   "cell_type": "code",
   "execution_count": null,
   "id": "82ee431d",
   "metadata": {},
   "outputs": [],
   "source": [
    "# Create the dataset\n",
    "dataset = TripletEmbeddingDataset(df_soft_neg_ext)"
   ]
  },
  {
   "cell_type": "code",
   "execution_count": null,
   "id": "ff7753f1",
   "metadata": {},
   "outputs": [],
   "source": [
    "dataloader = DataLoader(\n",
    "    dataset,\n",
    "    batch_size=batch_size,\n",
    "    shuffle=True,\n",
    "    #num_workers=2,  # Adjust based on your machine's capabilities\n",
    "    pin_memory=True  # Set to True if using GPU\n",
    ")"
   ]
  },
  {
   "cell_type": "code",
   "execution_count": null,
   "id": "7085fe97",
   "metadata": {},
   "outputs": [],
   "source": [
    "qry = torch.randn(batch_size, embedding_dim)  # Query embeddings\n",
    "pos = torch.randn(batch_size, embedding_dim)  # Positive doc embeddings\n",
    "neg = torch.randn(batch_size, embedding_dim)  # Negative doc embeddings\n",
    "\n",
    "#qry = df1['q']\n",
    "\n",
    "\n",
    "# Set up the AdamW optimizer\n",
    "optimizer = torch.optim.AdamW([\n",
    "    {'params': qryTower.parameters()},\n",
    "    {'params': docTower.parameters()}\n",
    "], lr=learning_rate)\n",
    "\n",
    "# Add learning rate scheduler (ReduceLROnPlateau)\n",
    "scheduler = ReduceLROnPlateau(\n",
    "    optimizer,\n",
    "    mode='min',       # Reduce LR when monitored value stops decreasing\n",
    "    factor=0.5,       # Multiply LR by this factor when reducing\n",
    "    patience=2,       # Number of epochs with no improvement after which LR will be reduced\n",
    "    verbose=True      # Print message when LR is reduced\n",
    ")\n",
    "\n"
   ]
  },
  {
   "cell_type": "code",
   "execution_count": null,
   "id": "3aedf0d1",
   "metadata": {},
   "outputs": [],
   "source": [
    "# Training loop (simplified example)\n",
    "for epoch in range(num_epochs):\n",
    "    qryTower.train()\n",
    "    docTower.train()\n",
    "    \n",
    "    \n",
    "    total_loss = 0\n",
    "    for batch in dataloader:\n",
    "        # Get embeddings from batch\n",
    "        query_emb = batch['query']\n",
    "        pos_emb = batch['positive']\n",
    "        neg_emb = batch['negative']\n",
    "        \n",
    "        # Forward pass through towers\n",
    "        query_encoded = qryTower(query_emb)\n",
    "        pos_encoded = docTower(pos_emb)\n",
    "        neg_encoded = docTower(neg_emb)\n",
    "        \n",
    "        # Calculate similarities\n",
    "        pos_sim = torch.nn.functional.cosine_similarity(query_encoded, pos_encoded)\n",
    "        neg_sim = torch.nn.functional.cosine_similarity(query_encoded, neg_encoded)\n",
    "        \n",
    "        # Triplet loss\n",
    "        margin = margin\n",
    "        loss = torch.clamp(margin - pos_sim + neg_sim, min=0).mean()\n",
    "        \n",
    "        # Backward and optimize\n",
    "        optimizer.zero_grad()\n",
    "        loss.backward()\n",
    "        optimizer.step()\n",
    "        \n",
    "        total_loss += loss.item() * len(query_emb)\n",
    "    \n",
    "    # Calculate average loss\n",
    "    avg_loss = total_loss / len(dataset)\n",
    "    \n",
    "    # Update scheduler\n",
    "    scheduler.step(avg_loss)\n",
    "    \n",
    "    # Print epoch results\n",
    "    print(f\"Epoch {epoch+1}/{num_epochs}, Loss: {avg_loss:.4f}, \"\n",
    "          f\"LR: {optimizer.param_groups[0]['lr']:.6f}\")"
   ]
  },
  {
   "cell_type": "code",
   "execution_count": null,
   "id": "9beb07bb",
   "metadata": {},
   "outputs": [
    {
     "data": {
      "text/html": [
       "Tracking run with wandb version 0.19.10"
      ],
      "text/plain": [
       "<IPython.core.display.HTML object>"
      ]
     },
     "metadata": {},
     "output_type": "display_data"
    },
    {
     "data": {
      "text/html": [
       "Run data is saved locally in <code>/root/MLX_Week2/wandb/run-20250423_114436-cdrgtvjr</code>"
      ],
      "text/plain": [
       "<IPython.core.display.HTML object>"
      ]
     },
     "metadata": {},
     "output_type": "display_data"
    },
    {
     "data": {
      "text/html": [
       "Syncing run <strong><a href='https://wandb.ai/nnamdi-odozi-ave-actuaries/twin-tower-model/runs/cdrgtvjr' target=\"_blank\">hyperparameter-tuning</a></strong> to <a href='https://wandb.ai/nnamdi-odozi-ave-actuaries/twin-tower-model' target=\"_blank\">Weights & Biases</a> (<a href='https://wandb.me/developer-guide' target=\"_blank\">docs</a>)<br>"
      ],
      "text/plain": [
       "<IPython.core.display.HTML object>"
      ]
     },
     "metadata": {},
     "output_type": "display_data"
    },
    {
     "data": {
      "text/html": [
       " View project at <a href='https://wandb.ai/nnamdi-odozi-ave-actuaries/twin-tower-model' target=\"_blank\">https://wandb.ai/nnamdi-odozi-ave-actuaries/twin-tower-model</a>"
      ],
      "text/plain": [
       "<IPython.core.display.HTML object>"
      ]
     },
     "metadata": {},
     "output_type": "display_data"
    },
    {
     "data": {
      "text/html": [
       " View run at <a href='https://wandb.ai/nnamdi-odozi-ave-actuaries/twin-tower-model/runs/cdrgtvjr' target=\"_blank\">https://wandb.ai/nnamdi-odozi-ave-actuaries/twin-tower-model/runs/cdrgtvjr</a>"
      ],
      "text/plain": [
       "<IPython.core.display.HTML object>"
      ]
     },
     "metadata": {},
     "output_type": "display_data"
    },
    {
     "name": "stderr",
     "output_type": "stream",
     "text": [
      "/root/MLX_Week2/mlx_env/lib/python3.10/site-packages/torch/optim/lr_scheduler.py:62: UserWarning: The verbose parameter is deprecated. Please use get_last_lr() to access the learning rate.\n",
      "  warnings.warn(\n"
     ]
    },
    {
     "name": "stdout",
     "output_type": "stream",
     "text": [
      "\n",
      "\n",
      "--------------------------------------------------\n",
      "Training with output_dim=128, batch_size=256\n",
      "--------------------------------------------------\n",
      "\n",
      "Fold 1/5\n"
     ]
    },
    {
     "name": "stderr",
     "output_type": "stream",
     "text": [
      "Epoch 1/15 (Train): 100%|██████████| 399/399 [00:06<00:00, 64.79it/s]\n",
      "Epoch 1/15 (Val): 100%|██████████| 100/100 [00:03<00:00, 30.12it/s]\n"
     ]
    },
    {
     "name": "stdout",
     "output_type": "stream",
     "text": [
      "Epoch 1/15, Train Loss: 0.0961, Val Loss: 0.0215, LR: 0.001000\n",
      "New best model saved with validation loss: 0.0215\n"
     ]
    },
    {
     "name": "stderr",
     "output_type": "stream",
     "text": [
      "Epoch 2/15 (Train): 100%|██████████| 399/399 [00:06<00:00, 58.04it/s]\n",
      "Epoch 2/15 (Val): 100%|██████████| 100/100 [00:03<00:00, 31.23it/s]\n"
     ]
    },
    {
     "name": "stdout",
     "output_type": "stream",
     "text": [
      "Epoch 2/15, Train Loss: 0.0811, Val Loss: 0.0209, LR: 0.001000\n",
      "New best model saved with validation loss: 0.0209\n"
     ]
    },
    {
     "name": "stderr",
     "output_type": "stream",
     "text": [
      "Epoch 3/15 (Train): 100%|██████████| 399/399 [00:07<00:00, 53.62it/s]\n",
      "Epoch 3/15 (Val): 100%|██████████| 100/100 [00:03<00:00, 29.29it/s]\n"
     ]
    },
    {
     "name": "stdout",
     "output_type": "stream",
     "text": [
      "Epoch 3/15, Train Loss: 0.0764, Val Loss: 0.0206, LR: 0.001000\n",
      "New best model saved with validation loss: 0.0206\n"
     ]
    },
    {
     "name": "stderr",
     "output_type": "stream",
     "text": [
      "Epoch 4/15 (Train): 100%|██████████| 399/399 [00:06<00:00, 61.12it/s]\n",
      "Epoch 4/15 (Val): 100%|██████████| 100/100 [00:03<00:00, 29.27it/s]\n"
     ]
    },
    {
     "name": "stdout",
     "output_type": "stream",
     "text": [
      "Epoch 4/15, Train Loss: 0.0731, Val Loss: 0.0200, LR: 0.001000\n",
      "New best model saved with validation loss: 0.0200\n"
     ]
    },
    {
     "name": "stderr",
     "output_type": "stream",
     "text": [
      "Epoch 5/15 (Train): 100%|██████████| 399/399 [00:06<00:00, 58.92it/s]\n",
      "Epoch 5/15 (Val): 100%|██████████| 100/100 [00:03<00:00, 29.09it/s]\n"
     ]
    },
    {
     "name": "stdout",
     "output_type": "stream",
     "text": [
      "Epoch 5/15, Train Loss: 0.0698, Val Loss: 0.0202, LR: 0.001000\n"
     ]
    },
    {
     "name": "stderr",
     "output_type": "stream",
     "text": [
      "Epoch 6/15 (Train): 100%|██████████| 399/399 [00:06<00:00, 61.13it/s]\n",
      "Epoch 6/15 (Val): 100%|██████████| 100/100 [00:03<00:00, 29.98it/s]\n"
     ]
    },
    {
     "name": "stdout",
     "output_type": "stream",
     "text": [
      "Epoch 6/15, Train Loss: 0.0669, Val Loss: 0.0202, LR: 0.001000\n"
     ]
    },
    {
     "name": "stderr",
     "output_type": "stream",
     "text": [
      "Epoch 7/15 (Train): 100%|██████████| 399/399 [00:06<00:00, 61.42it/s]\n",
      "Epoch 7/15 (Val): 100%|██████████| 100/100 [00:03<00:00, 28.74it/s]\n"
     ]
    },
    {
     "name": "stdout",
     "output_type": "stream",
     "text": [
      "Epoch 7/15, Train Loss: 0.0641, Val Loss: 0.0201, LR: 0.000500\n"
     ]
    },
    {
     "name": "stderr",
     "output_type": "stream",
     "text": [
      "Epoch 8/15 (Train): 100%|██████████| 399/399 [00:07<00:00, 52.27it/s]\n",
      "Epoch 8/15 (Val): 100%|██████████| 100/100 [00:03<00:00, 31.40it/s]\n"
     ]
    },
    {
     "name": "stdout",
     "output_type": "stream",
     "text": [
      "Epoch 8/15, Train Loss: 0.0579, Val Loss: 0.0200, LR: 0.000500\n"
     ]
    },
    {
     "name": "stderr",
     "output_type": "stream",
     "text": [
      "Epoch 9/15 (Train): 100%|██████████| 399/399 [00:06<00:00, 60.18it/s]\n",
      "Epoch 9/15 (Val): 100%|██████████| 100/100 [00:03<00:00, 28.79it/s]\n"
     ]
    },
    {
     "name": "stdout",
     "output_type": "stream",
     "text": [
      "Epoch 9/15, Train Loss: 0.0555, Val Loss: 0.0199, LR: 0.000500\n",
      "New best model saved with validation loss: 0.0199\n"
     ]
    },
    {
     "name": "stderr",
     "output_type": "stream",
     "text": [
      "Epoch 10/15 (Train): 100%|██████████| 399/399 [00:06<00:00, 57.21it/s]\n",
      "Epoch 10/15 (Val): 100%|██████████| 100/100 [00:03<00:00, 30.94it/s]\n"
     ]
    },
    {
     "name": "stdout",
     "output_type": "stream",
     "text": [
      "Epoch 10/15, Train Loss: 0.0535, Val Loss: 0.0202, LR: 0.000500\n"
     ]
    },
    {
     "name": "stderr",
     "output_type": "stream",
     "text": [
      "Epoch 11/15 (Train): 100%|██████████| 399/399 [00:06<00:00, 59.66it/s]\n",
      "Epoch 11/15 (Val): 100%|██████████| 100/100 [00:03<00:00, 31.19it/s]\n"
     ]
    },
    {
     "name": "stdout",
     "output_type": "stream",
     "text": [
      "Epoch 11/15, Train Loss: 0.0517, Val Loss: 0.0202, LR: 0.000500\n"
     ]
    },
    {
     "name": "stderr",
     "output_type": "stream",
     "text": [
      "Epoch 12/15 (Train): 100%|██████████| 399/399 [00:06<00:00, 59.83it/s]\n",
      "Epoch 12/15 (Val): 100%|██████████| 100/100 [00:03<00:00, 30.44it/s]\n"
     ]
    },
    {
     "name": "stdout",
     "output_type": "stream",
     "text": [
      "Epoch 12/15, Train Loss: 0.0500, Val Loss: 0.0203, LR: 0.000250\n"
     ]
    },
    {
     "name": "stderr",
     "output_type": "stream",
     "text": [
      "Epoch 13/15 (Train): 100%|██████████| 399/399 [00:07<00:00, 50.75it/s]\n",
      "Epoch 13/15 (Val): 100%|██████████| 100/100 [00:03<00:00, 30.12it/s]\n"
     ]
    },
    {
     "name": "stdout",
     "output_type": "stream",
     "text": [
      "Epoch 13/15, Train Loss: 0.0459, Val Loss: 0.0203, LR: 0.000250\n"
     ]
    },
    {
     "name": "stderr",
     "output_type": "stream",
     "text": [
      "Epoch 14/15 (Train): 100%|██████████| 399/399 [00:06<00:00, 59.88it/s]\n",
      "Epoch 14/15 (Val): 100%|██████████| 100/100 [00:03<00:00, 30.41it/s]\n"
     ]
    },
    {
     "name": "stdout",
     "output_type": "stream",
     "text": [
      "Epoch 14/15, Train Loss: 0.0446, Val Loss: 0.0203, LR: 0.000250\n"
     ]
    },
    {
     "name": "stderr",
     "output_type": "stream",
     "text": [
      "Epoch 15/15 (Train): 100%|██████████| 399/399 [00:06<00:00, 63.23it/s]\n",
      "Epoch 15/15 (Val): 100%|██████████| 100/100 [00:03<00:00, 31.63it/s]\n"
     ]
    },
    {
     "name": "stdout",
     "output_type": "stream",
     "text": [
      "Epoch 15/15, Train Loss: 0.0435, Val Loss: 0.0204, LR: 0.000125\n",
      "\n",
      "Fold 2/5\n"
     ]
    },
    {
     "name": "stderr",
     "output_type": "stream",
     "text": [
      "Epoch 1/15 (Train): 100%|██████████| 399/399 [00:05<00:00, 66.57it/s]\n",
      "Epoch 1/15 (Val): 100%|██████████| 100/100 [00:03<00:00, 31.55it/s]\n"
     ]
    },
    {
     "name": "stdout",
     "output_type": "stream",
     "text": [
      "Epoch 1/15, Train Loss: 0.0940, Val Loss: 0.0218, LR: 0.001000\n",
      "New best model saved with validation loss: 0.0218\n"
     ]
    },
    {
     "name": "stderr",
     "output_type": "stream",
     "text": [
      "Epoch 2/15 (Train): 100%|██████████| 399/399 [00:06<00:00, 64.66it/s]\n",
      "Epoch 2/15 (Val): 100%|██████████| 100/100 [00:03<00:00, 31.14it/s]\n"
     ]
    },
    {
     "name": "stdout",
     "output_type": "stream",
     "text": [
      "Epoch 2/15, Train Loss: 0.0806, Val Loss: 0.0210, LR: 0.001000\n",
      "New best model saved with validation loss: 0.0210\n"
     ]
    },
    {
     "name": "stderr",
     "output_type": "stream",
     "text": [
      "Epoch 3/15 (Train): 100%|██████████| 399/399 [00:07<00:00, 56.24it/s]\n",
      "Epoch 3/15 (Val): 100%|██████████| 100/100 [00:03<00:00, 31.48it/s]\n"
     ]
    },
    {
     "name": "stdout",
     "output_type": "stream",
     "text": [
      "Epoch 3/15, Train Loss: 0.0764, Val Loss: 0.0204, LR: 0.001000\n",
      "New best model saved with validation loss: 0.0204\n"
     ]
    },
    {
     "name": "stderr",
     "output_type": "stream",
     "text": [
      "Epoch 4/15 (Train): 100%|██████████| 399/399 [00:06<00:00, 64.39it/s]\n",
      "Epoch 4/15 (Val): 100%|██████████| 100/100 [00:03<00:00, 32.26it/s]\n"
     ]
    },
    {
     "name": "stdout",
     "output_type": "stream",
     "text": [
      "Epoch 4/15, Train Loss: 0.0732, Val Loss: 0.0204, LR: 0.001000\n"
     ]
    },
    {
     "name": "stderr",
     "output_type": "stream",
     "text": [
      "Epoch 5/15 (Train): 100%|██████████| 399/399 [00:06<00:00, 62.44it/s]\n",
      "Epoch 5/15 (Val): 100%|██████████| 100/100 [00:03<00:00, 29.38it/s]\n"
     ]
    },
    {
     "name": "stdout",
     "output_type": "stream",
     "text": [
      "Epoch 5/15, Train Loss: 0.0701, Val Loss: 0.0203, LR: 0.001000\n",
      "New best model saved with validation loss: 0.0203\n"
     ]
    },
    {
     "name": "stderr",
     "output_type": "stream",
     "text": [
      "Epoch 6/15 (Train): 100%|██████████| 399/399 [00:06<00:00, 61.75it/s]\n",
      "Epoch 6/15 (Val): 100%|██████████| 100/100 [00:03<00:00, 30.78it/s]\n"
     ]
    },
    {
     "name": "stdout",
     "output_type": "stream",
     "text": [
      "Epoch 6/15, Train Loss: 0.0673, Val Loss: 0.0200, LR: 0.001000\n",
      "New best model saved with validation loss: 0.0200\n"
     ]
    },
    {
     "name": "stderr",
     "output_type": "stream",
     "text": [
      "Epoch 7/15 (Train): 100%|██████████| 399/399 [00:06<00:00, 61.84it/s]\n",
      "Epoch 7/15 (Val): 100%|██████████| 100/100 [00:03<00:00, 30.73it/s]\n"
     ]
    },
    {
     "name": "stdout",
     "output_type": "stream",
     "text": [
      "Epoch 7/15, Train Loss: 0.0645, Val Loss: 0.0200, LR: 0.001000\n",
      "New best model saved with validation loss: 0.0200\n"
     ]
    },
    {
     "name": "stderr",
     "output_type": "stream",
     "text": [
      "Epoch 8/15 (Train): 100%|██████████| 399/399 [00:07<00:00, 52.04it/s]\n",
      "Epoch 8/15 (Val): 100%|██████████| 100/100 [00:03<00:00, 30.96it/s]\n"
     ]
    },
    {
     "name": "stdout",
     "output_type": "stream",
     "text": [
      "Epoch 8/15, Train Loss: 0.0623, Val Loss: 0.0201, LR: 0.001000\n"
     ]
    },
    {
     "name": "stderr",
     "output_type": "stream",
     "text": [
      "Epoch 9/15 (Train): 100%|██████████| 399/399 [00:06<00:00, 60.48it/s]\n",
      "Epoch 9/15 (Val): 100%|██████████| 100/100 [00:03<00:00, 30.61it/s]\n"
     ]
    },
    {
     "name": "stdout",
     "output_type": "stream",
     "text": [
      "Epoch 9/15, Train Loss: 0.0598, Val Loss: 0.0201, LR: 0.001000\n"
     ]
    },
    {
     "name": "stderr",
     "output_type": "stream",
     "text": [
      "Epoch 10/15 (Train): 100%|██████████| 399/399 [00:06<00:00, 60.90it/s]\n",
      "Epoch 10/15 (Val): 100%|██████████| 100/100 [00:03<00:00, 29.07it/s]\n"
     ]
    },
    {
     "name": "stdout",
     "output_type": "stream",
     "text": [
      "Epoch 10/15, Train Loss: 0.0576, Val Loss: 0.0203, LR: 0.000500\n"
     ]
    },
    {
     "name": "stderr",
     "output_type": "stream",
     "text": [
      "Epoch 11/15 (Train): 100%|██████████| 399/399 [00:06<00:00, 60.18it/s]\n",
      "Epoch 11/15 (Val): 100%|██████████| 100/100 [00:03<00:00, 30.97it/s]\n"
     ]
    },
    {
     "name": "stdout",
     "output_type": "stream",
     "text": [
      "Epoch 11/15, Train Loss: 0.0513, Val Loss: 0.0201, LR: 0.000500\n"
     ]
    },
    {
     "name": "stderr",
     "output_type": "stream",
     "text": [
      "Epoch 12/15 (Train): 100%|██████████| 399/399 [00:06<00:00, 62.95it/s]\n",
      "Epoch 12/15 (Val): 100%|██████████| 100/100 [00:03<00:00, 28.90it/s]\n"
     ]
    },
    {
     "name": "stdout",
     "output_type": "stream",
     "text": [
      "Epoch 12/15, Train Loss: 0.0491, Val Loss: 0.0202, LR: 0.000500\n"
     ]
    },
    {
     "name": "stderr",
     "output_type": "stream",
     "text": [
      "Epoch 13/15 (Train): 100%|██████████| 399/399 [00:06<00:00, 65.82it/s]\n",
      "Epoch 13/15 (Val): 100%|██████████| 100/100 [00:04<00:00, 23.70it/s]\n"
     ]
    },
    {
     "name": "stdout",
     "output_type": "stream",
     "text": [
      "Epoch 13/15, Train Loss: 0.0475, Val Loss: 0.0204, LR: 0.000250\n"
     ]
    },
    {
     "name": "stderr",
     "output_type": "stream",
     "text": [
      "Epoch 14/15 (Train): 100%|██████████| 399/399 [00:06<00:00, 58.57it/s]\n",
      "Epoch 14/15 (Val): 100%|██████████| 100/100 [00:03<00:00, 31.12it/s]\n"
     ]
    },
    {
     "name": "stdout",
     "output_type": "stream",
     "text": [
      "Epoch 14/15, Train Loss: 0.0435, Val Loss: 0.0203, LR: 0.000250\n"
     ]
    },
    {
     "name": "stderr",
     "output_type": "stream",
     "text": [
      "Epoch 15/15 (Train): 100%|██████████| 399/399 [00:06<00:00, 62.08it/s]\n",
      "Epoch 15/15 (Val): 100%|██████████| 100/100 [00:03<00:00, 28.25it/s]\n"
     ]
    },
    {
     "name": "stdout",
     "output_type": "stream",
     "text": [
      "Epoch 15/15, Train Loss: 0.0422, Val Loss: 0.0204, LR: 0.000250\n",
      "\n",
      "Fold 3/5\n"
     ]
    },
    {
     "name": "stderr",
     "output_type": "stream",
     "text": [
      "Epoch 1/15 (Train): 100%|██████████| 399/399 [00:07<00:00, 56.48it/s]\n",
      "Epoch 1/15 (Val): 100%|██████████| 100/100 [00:03<00:00, 30.53it/s]\n"
     ]
    },
    {
     "name": "stdout",
     "output_type": "stream",
     "text": [
      "Epoch 1/15, Train Loss: 0.0954, Val Loss: 0.0212, LR: 0.001000\n",
      "New best model saved with validation loss: 0.0212\n"
     ]
    },
    {
     "name": "stderr",
     "output_type": "stream",
     "text": [
      "Epoch 2/15 (Train): 100%|██████████| 399/399 [00:06<00:00, 61.88it/s]\n",
      "Epoch 2/15 (Val): 100%|██████████| 100/100 [00:03<00:00, 30.37it/s]\n"
     ]
    },
    {
     "name": "stdout",
     "output_type": "stream",
     "text": [
      "Epoch 2/15, Train Loss: 0.0803, Val Loss: 0.0205, LR: 0.001000\n",
      "New best model saved with validation loss: 0.0205\n"
     ]
    },
    {
     "name": "stderr",
     "output_type": "stream",
     "text": [
      "Epoch 3/15 (Train): 100%|██████████| 399/399 [00:06<00:00, 61.09it/s]\n",
      "Epoch 3/15 (Val): 100%|██████████| 100/100 [00:04<00:00, 23.58it/s]\n"
     ]
    },
    {
     "name": "stdout",
     "output_type": "stream",
     "text": [
      "Epoch 3/15, Train Loss: 0.0760, Val Loss: 0.0200, LR: 0.001000\n",
      "New best model saved with validation loss: 0.0200\n"
     ]
    },
    {
     "name": "stderr",
     "output_type": "stream",
     "text": [
      "Epoch 4/15 (Train): 100%|██████████| 399/399 [00:06<00:00, 61.23it/s]\n",
      "Epoch 4/15 (Val): 100%|██████████| 100/100 [00:03<00:00, 28.90it/s]\n"
     ]
    },
    {
     "name": "stdout",
     "output_type": "stream",
     "text": [
      "Epoch 4/15, Train Loss: 0.0728, Val Loss: 0.0201, LR: 0.001000\n"
     ]
    },
    {
     "name": "stderr",
     "output_type": "stream",
     "text": [
      "Epoch 5/15 (Train): 100%|██████████| 399/399 [00:06<00:00, 62.20it/s]\n",
      "Epoch 5/15 (Val): 100%|██████████| 100/100 [00:03<00:00, 30.84it/s]\n"
     ]
    },
    {
     "name": "stdout",
     "output_type": "stream",
     "text": [
      "Epoch 5/15, Train Loss: 0.0696, Val Loss: 0.0200, LR: 0.001000\n",
      "New best model saved with validation loss: 0.0200\n"
     ]
    },
    {
     "name": "stderr",
     "output_type": "stream",
     "text": [
      "Epoch 6/15 (Train): 100%|██████████| 399/399 [00:06<00:00, 60.83it/s]\n",
      "Epoch 6/15 (Val): 100%|██████████| 100/100 [00:03<00:00, 31.05it/s]\n"
     ]
    },
    {
     "name": "stdout",
     "output_type": "stream",
     "text": [
      "Epoch 6/15, Train Loss: 0.0672, Val Loss: 0.0201, LR: 0.001000\n"
     ]
    },
    {
     "name": "stderr",
     "output_type": "stream",
     "text": [
      "Epoch 7/15 (Train): 100%|██████████| 399/399 [00:06<00:00, 61.95it/s]\n",
      "Epoch 7/15 (Val): 100%|██████████| 100/100 [00:03<00:00, 31.41it/s]\n"
     ]
    },
    {
     "name": "stdout",
     "output_type": "stream",
     "text": [
      "Epoch 7/15, Train Loss: 0.0643, Val Loss: 0.0199, LR: 0.001000\n",
      "New best model saved with validation loss: 0.0199\n"
     ]
    },
    {
     "name": "stderr",
     "output_type": "stream",
     "text": [
      "Epoch 8/15 (Train): 100%|██████████| 399/399 [00:06<00:00, 57.88it/s]\n",
      "Epoch 8/15 (Val): 100%|██████████| 100/100 [00:04<00:00, 23.13it/s]\n"
     ]
    },
    {
     "name": "stdout",
     "output_type": "stream",
     "text": [
      "Epoch 8/15, Train Loss: 0.0619, Val Loss: 0.0200, LR: 0.001000\n"
     ]
    },
    {
     "name": "stderr",
     "output_type": "stream",
     "text": [
      "Epoch 9/15 (Train): 100%|██████████| 399/399 [00:06<00:00, 62.63it/s]\n",
      "Epoch 9/15 (Val): 100%|██████████| 100/100 [00:03<00:00, 29.79it/s]\n"
     ]
    },
    {
     "name": "stdout",
     "output_type": "stream",
     "text": [
      "Epoch 9/15, Train Loss: 0.0594, Val Loss: 0.0200, LR: 0.001000\n"
     ]
    },
    {
     "name": "stderr",
     "output_type": "stream",
     "text": [
      "Epoch 10/15 (Train): 100%|██████████| 399/399 [00:06<00:00, 62.47it/s]\n",
      "Epoch 10/15 (Val): 100%|██████████| 100/100 [00:03<00:00, 31.68it/s]\n"
     ]
    },
    {
     "name": "stdout",
     "output_type": "stream",
     "text": [
      "Epoch 10/15, Train Loss: 0.0571, Val Loss: 0.0202, LR: 0.000500\n"
     ]
    },
    {
     "name": "stderr",
     "output_type": "stream",
     "text": [
      "Epoch 11/15 (Train): 100%|██████████| 399/399 [00:06<00:00, 59.86it/s]\n",
      "Epoch 11/15 (Val): 100%|██████████| 100/100 [00:03<00:00, 30.49it/s]\n"
     ]
    },
    {
     "name": "stdout",
     "output_type": "stream",
     "text": [
      "Epoch 11/15, Train Loss: 0.0511, Val Loss: 0.0200, LR: 0.000500\n"
     ]
    },
    {
     "name": "stderr",
     "output_type": "stream",
     "text": [
      "Epoch 12/15 (Train): 100%|██████████| 399/399 [00:06<00:00, 61.31it/s]\n",
      "Epoch 12/15 (Val): 100%|██████████| 100/100 [00:03<00:00, 31.47it/s]\n"
     ]
    },
    {
     "name": "stdout",
     "output_type": "stream",
     "text": [
      "Epoch 12/15, Train Loss: 0.0488, Val Loss: 0.0202, LR: 0.000500\n"
     ]
    },
    {
     "name": "stderr",
     "output_type": "stream",
     "text": [
      "Epoch 13/15 (Train): 100%|██████████| 399/399 [00:06<00:00, 61.63it/s]\n",
      "Epoch 13/15 (Val): 100%|██████████| 100/100 [00:04<00:00, 24.14it/s]\n"
     ]
    },
    {
     "name": "stdout",
     "output_type": "stream",
     "text": [
      "Epoch 13/15, Train Loss: 0.0471, Val Loss: 0.0202, LR: 0.000250\n"
     ]
    },
    {
     "name": "stderr",
     "output_type": "stream",
     "text": [
      "Epoch 14/15 (Train): 100%|██████████| 399/399 [00:06<00:00, 65.52it/s]\n",
      "Epoch 14/15 (Val): 100%|██████████| 100/100 [00:03<00:00, 29.90it/s]\n"
     ]
    },
    {
     "name": "stdout",
     "output_type": "stream",
     "text": [
      "Epoch 14/15, Train Loss: 0.0433, Val Loss: 0.0202, LR: 0.000250\n"
     ]
    },
    {
     "name": "stderr",
     "output_type": "stream",
     "text": [
      "Epoch 15/15 (Train): 100%|██████████| 399/399 [00:06<00:00, 61.55it/s]\n",
      "Epoch 15/15 (Val): 100%|██████████| 100/100 [00:03<00:00, 29.23it/s]\n"
     ]
    },
    {
     "name": "stdout",
     "output_type": "stream",
     "text": [
      "Epoch 15/15, Train Loss: 0.0420, Val Loss: 0.0203, LR: 0.000250\n",
      "\n",
      "Fold 4/5\n"
     ]
    },
    {
     "name": "stderr",
     "output_type": "stream",
     "text": [
      "Epoch 1/15 (Train): 100%|██████████| 399/399 [00:06<00:00, 60.88it/s]\n",
      "Epoch 1/15 (Val): 100%|██████████| 100/100 [00:03<00:00, 30.60it/s]\n"
     ]
    },
    {
     "name": "stdout",
     "output_type": "stream",
     "text": [
      "Epoch 1/15, Train Loss: 0.0964, Val Loss: 0.0213, LR: 0.001000\n",
      "New best model saved with validation loss: 0.0213\n"
     ]
    },
    {
     "name": "stderr",
     "output_type": "stream",
     "text": [
      "Epoch 2/15 (Train): 100%|██████████| 399/399 [00:06<00:00, 62.94it/s]\n",
      "Epoch 2/15 (Val): 100%|██████████| 100/100 [00:03<00:00, 30.57it/s]\n"
     ]
    },
    {
     "name": "stdout",
     "output_type": "stream",
     "text": [
      "Epoch 2/15, Train Loss: 0.0803, Val Loss: 0.0211, LR: 0.001000\n",
      "New best model saved with validation loss: 0.0211\n"
     ]
    },
    {
     "name": "stderr",
     "output_type": "stream",
     "text": [
      "Epoch 3/15 (Train): 100%|██████████| 399/399 [00:06<00:00, 61.28it/s]\n",
      "Epoch 3/15 (Val): 100%|██████████| 100/100 [00:03<00:00, 31.34it/s]\n"
     ]
    },
    {
     "name": "stdout",
     "output_type": "stream",
     "text": [
      "Epoch 3/15, Train Loss: 0.0761, Val Loss: 0.0204, LR: 0.001000\n",
      "New best model saved with validation loss: 0.0204\n"
     ]
    },
    {
     "name": "stderr",
     "output_type": "stream",
     "text": [
      "Epoch 4/15 (Train): 100%|██████████| 399/399 [00:07<00:00, 54.08it/s]\n",
      "Epoch 4/15 (Val): 100%|██████████| 100/100 [00:03<00:00, 30.60it/s]\n"
     ]
    },
    {
     "name": "stdout",
     "output_type": "stream",
     "text": [
      "Epoch 4/15, Train Loss: 0.0726, Val Loss: 0.0201, LR: 0.001000\n",
      "New best model saved with validation loss: 0.0201\n"
     ]
    },
    {
     "name": "stderr",
     "output_type": "stream",
     "text": [
      "Epoch 5/15 (Train): 100%|██████████| 399/399 [00:06<00:00, 60.03it/s]\n",
      "Epoch 5/15 (Val): 100%|██████████| 100/100 [00:03<00:00, 32.99it/s]\n"
     ]
    },
    {
     "name": "stdout",
     "output_type": "stream",
     "text": [
      "Epoch 5/15, Train Loss: 0.0696, Val Loss: 0.0200, LR: 0.001000\n",
      "New best model saved with validation loss: 0.0200\n"
     ]
    },
    {
     "name": "stderr",
     "output_type": "stream",
     "text": [
      "Epoch 6/15 (Train): 100%|██████████| 399/399 [00:06<00:00, 57.38it/s]\n",
      "Epoch 6/15 (Val): 100%|██████████| 100/100 [00:03<00:00, 30.82it/s]\n"
     ]
    },
    {
     "name": "stdout",
     "output_type": "stream",
     "text": [
      "Epoch 6/15, Train Loss: 0.0668, Val Loss: 0.0200, LR: 0.001000\n",
      "New best model saved with validation loss: 0.0200\n"
     ]
    },
    {
     "name": "stderr",
     "output_type": "stream",
     "text": [
      "Epoch 7/15 (Train): 100%|██████████| 399/399 [00:06<00:00, 57.71it/s]\n",
      "Epoch 7/15 (Val): 100%|██████████| 100/100 [00:03<00:00, 30.53it/s]\n"
     ]
    },
    {
     "name": "stdout",
     "output_type": "stream",
     "text": [
      "Epoch 7/15, Train Loss: 0.0643, Val Loss: 0.0199, LR: 0.001000\n",
      "New best model saved with validation loss: 0.0199\n"
     ]
    },
    {
     "name": "stderr",
     "output_type": "stream",
     "text": [
      "Epoch 8/15 (Train): 100%|██████████| 399/399 [00:06<00:00, 60.74it/s]\n",
      "Epoch 8/15 (Val): 100%|██████████| 100/100 [00:03<00:00, 30.83it/s]\n"
     ]
    },
    {
     "name": "stdout",
     "output_type": "stream",
     "text": [
      "Epoch 8/15, Train Loss: 0.0618, Val Loss: 0.0204, LR: 0.001000\n"
     ]
    },
    {
     "name": "stderr",
     "output_type": "stream",
     "text": [
      "Epoch 9/15 (Train): 100%|██████████| 399/399 [00:07<00:00, 54.10it/s]\n",
      "Epoch 9/15 (Val): 100%|██████████| 100/100 [00:03<00:00, 30.36it/s]\n"
     ]
    },
    {
     "name": "stdout",
     "output_type": "stream",
     "text": [
      "Epoch 9/15, Train Loss: 0.0594, Val Loss: 0.0199, LR: 0.001000\n",
      "New best model saved with validation loss: 0.0199\n"
     ]
    },
    {
     "name": "stderr",
     "output_type": "stream",
     "text": [
      "Epoch 10/15 (Train): 100%|██████████| 399/399 [00:06<00:00, 57.86it/s]\n",
      "Epoch 10/15 (Val): 100%|██████████| 100/100 [00:03<00:00, 29.53it/s]\n"
     ]
    },
    {
     "name": "stdout",
     "output_type": "stream",
     "text": [
      "Epoch 10/15, Train Loss: 0.0569, Val Loss: 0.0201, LR: 0.001000\n"
     ]
    },
    {
     "name": "stderr",
     "output_type": "stream",
     "text": [
      "Epoch 11/15 (Train): 100%|██████████| 399/399 [00:06<00:00, 62.47it/s]\n",
      "Epoch 11/15 (Val): 100%|██████████| 100/100 [00:03<00:00, 32.32it/s]\n"
     ]
    },
    {
     "name": "stdout",
     "output_type": "stream",
     "text": [
      "Epoch 11/15, Train Loss: 0.0550, Val Loss: 0.0200, LR: 0.001000\n"
     ]
    },
    {
     "name": "stderr",
     "output_type": "stream",
     "text": [
      "Epoch 12/15 (Train): 100%|██████████| 399/399 [00:06<00:00, 59.65it/s]\n",
      "Epoch 12/15 (Val): 100%|██████████| 100/100 [00:03<00:00, 29.77it/s]\n"
     ]
    },
    {
     "name": "stdout",
     "output_type": "stream",
     "text": [
      "Epoch 12/15, Train Loss: 0.0529, Val Loss: 0.0203, LR: 0.000500\n"
     ]
    },
    {
     "name": "stderr",
     "output_type": "stream",
     "text": [
      "Epoch 13/15 (Train): 100%|██████████| 399/399 [00:06<00:00, 60.60it/s]\n",
      "Epoch 13/15 (Val): 100%|██████████| 100/100 [00:03<00:00, 29.58it/s]\n"
     ]
    },
    {
     "name": "stdout",
     "output_type": "stream",
     "text": [
      "Epoch 13/15, Train Loss: 0.0467, Val Loss: 0.0201, LR: 0.000500\n"
     ]
    },
    {
     "name": "stderr",
     "output_type": "stream",
     "text": [
      "Epoch 14/15 (Train): 100%|██████████| 399/399 [00:07<00:00, 51.86it/s]\n",
      "Epoch 14/15 (Val): 100%|██████████| 100/100 [00:03<00:00, 30.37it/s]\n"
     ]
    },
    {
     "name": "stdout",
     "output_type": "stream",
     "text": [
      "Epoch 14/15, Train Loss: 0.0445, Val Loss: 0.0203, LR: 0.000500\n"
     ]
    },
    {
     "name": "stderr",
     "output_type": "stream",
     "text": [
      "Epoch 15/15 (Train): 100%|██████████| 399/399 [00:06<00:00, 60.96it/s]\n",
      "Epoch 15/15 (Val): 100%|██████████| 100/100 [00:03<00:00, 30.98it/s]\n"
     ]
    },
    {
     "name": "stdout",
     "output_type": "stream",
     "text": [
      "Epoch 15/15, Train Loss: 0.0429, Val Loss: 0.0202, LR: 0.000250\n",
      "\n",
      "Fold 5/5\n"
     ]
    },
    {
     "name": "stderr",
     "output_type": "stream",
     "text": [
      "Epoch 1/15 (Train): 100%|██████████| 399/399 [00:06<00:00, 61.14it/s]\n",
      "Epoch 1/15 (Val): 100%|██████████| 100/100 [00:03<00:00, 30.93it/s]\n"
     ]
    },
    {
     "name": "stdout",
     "output_type": "stream",
     "text": [
      "Epoch 1/15, Train Loss: 0.0962, Val Loss: 0.0210, LR: 0.001000\n",
      "New best model saved with validation loss: 0.0210\n"
     ]
    },
    {
     "name": "stderr",
     "output_type": "stream",
     "text": [
      "Epoch 2/15 (Train): 100%|██████████| 399/399 [00:06<00:00, 65.07it/s]\n",
      "Epoch 2/15 (Val): 100%|██████████| 100/100 [00:03<00:00, 31.09it/s]\n"
     ]
    },
    {
     "name": "stdout",
     "output_type": "stream",
     "text": [
      "Epoch 2/15, Train Loss: 0.0816, Val Loss: 0.0205, LR: 0.001000\n",
      "New best model saved with validation loss: 0.0205\n"
     ]
    },
    {
     "name": "stderr",
     "output_type": "stream",
     "text": [
      "Epoch 3/15 (Train): 100%|██████████| 399/399 [00:06<00:00, 61.71it/s]\n",
      "Epoch 3/15 (Val): 100%|██████████| 100/100 [00:03<00:00, 30.93it/s]\n"
     ]
    },
    {
     "name": "stdout",
     "output_type": "stream",
     "text": [
      "Epoch 3/15, Train Loss: 0.0770, Val Loss: 0.0200, LR: 0.001000\n",
      "New best model saved with validation loss: 0.0200\n"
     ]
    },
    {
     "name": "stderr",
     "output_type": "stream",
     "text": [
      "Epoch 4/15 (Train): 100%|██████████| 399/399 [00:07<00:00, 55.18it/s]\n",
      "Epoch 4/15 (Val): 100%|██████████| 100/100 [00:03<00:00, 32.00it/s]\n"
     ]
    },
    {
     "name": "stdout",
     "output_type": "stream",
     "text": [
      "Epoch 4/15, Train Loss: 0.0734, Val Loss: 0.0202, LR: 0.001000\n"
     ]
    },
    {
     "name": "stderr",
     "output_type": "stream",
     "text": [
      "Epoch 5/15 (Train): 100%|██████████| 399/399 [00:06<00:00, 64.38it/s]\n",
      "Epoch 5/15 (Val): 100%|██████████| 100/100 [00:03<00:00, 31.47it/s]\n"
     ]
    },
    {
     "name": "stdout",
     "output_type": "stream",
     "text": [
      "Epoch 5/15, Train Loss: 0.0703, Val Loss: 0.0200, LR: 0.001000\n",
      "New best model saved with validation loss: 0.0200\n"
     ]
    },
    {
     "name": "stderr",
     "output_type": "stream",
     "text": [
      "Epoch 6/15 (Train): 100%|██████████| 399/399 [00:06<00:00, 57.56it/s]\n",
      "Epoch 6/15 (Val): 100%|██████████| 100/100 [00:03<00:00, 31.50it/s]\n"
     ]
    },
    {
     "name": "stdout",
     "output_type": "stream",
     "text": [
      "Epoch 6/15, Train Loss: 0.0675, Val Loss: 0.0199, LR: 0.001000\n",
      "New best model saved with validation loss: 0.0199\n"
     ]
    },
    {
     "name": "stderr",
     "output_type": "stream",
     "text": [
      "Epoch 7/15 (Train): 100%|██████████| 399/399 [00:06<00:00, 60.93it/s]\n",
      "Epoch 7/15 (Val): 100%|██████████| 100/100 [00:03<00:00, 31.41it/s]\n"
     ]
    },
    {
     "name": "stdout",
     "output_type": "stream",
     "text": [
      "Epoch 7/15, Train Loss: 0.0645, Val Loss: 0.0199, LR: 0.001000\n"
     ]
    },
    {
     "name": "stderr",
     "output_type": "stream",
     "text": [
      "Epoch 8/15 (Train): 100%|██████████| 399/399 [00:06<00:00, 62.19it/s]\n",
      "Epoch 8/15 (Val): 100%|██████████| 100/100 [00:03<00:00, 30.95it/s]\n"
     ]
    },
    {
     "name": "stdout",
     "output_type": "stream",
     "text": [
      "Epoch 8/15, Train Loss: 0.0619, Val Loss: 0.0200, LR: 0.001000\n"
     ]
    },
    {
     "name": "stderr",
     "output_type": "stream",
     "text": [
      "Epoch 9/15 (Train): 100%|██████████| 399/399 [00:07<00:00, 54.23it/s]\n",
      "Epoch 9/15 (Val): 100%|██████████| 100/100 [00:03<00:00, 31.22it/s]\n"
     ]
    },
    {
     "name": "stdout",
     "output_type": "stream",
     "text": [
      "Epoch 9/15, Train Loss: 0.0593, Val Loss: 0.0201, LR: 0.000500\n"
     ]
    },
    {
     "name": "stderr",
     "output_type": "stream",
     "text": [
      "Epoch 10/15 (Train): 100%|██████████| 399/399 [00:06<00:00, 64.40it/s]\n",
      "Epoch 10/15 (Val): 100%|██████████| 100/100 [00:03<00:00, 31.37it/s]\n"
     ]
    },
    {
     "name": "stdout",
     "output_type": "stream",
     "text": [
      "Epoch 10/15, Train Loss: 0.0530, Val Loss: 0.0198, LR: 0.000500\n",
      "New best model saved with validation loss: 0.0198\n"
     ]
    },
    {
     "name": "stderr",
     "output_type": "stream",
     "text": [
      "Epoch 11/15 (Train): 100%|██████████| 399/399 [00:06<00:00, 60.74it/s]\n",
      "Epoch 11/15 (Val): 100%|██████████| 100/100 [00:03<00:00, 31.30it/s]\n"
     ]
    },
    {
     "name": "stdout",
     "output_type": "stream",
     "text": [
      "Epoch 11/15, Train Loss: 0.0506, Val Loss: 0.0198, LR: 0.000500\n"
     ]
    },
    {
     "name": "stderr",
     "output_type": "stream",
     "text": [
      "Epoch 12/15 (Train): 100%|██████████| 399/399 [00:06<00:00, 61.90it/s]\n",
      "Epoch 12/15 (Val): 100%|██████████| 100/100 [00:03<00:00, 32.31it/s]\n"
     ]
    },
    {
     "name": "stdout",
     "output_type": "stream",
     "text": [
      "Epoch 12/15, Train Loss: 0.0487, Val Loss: 0.0201, LR: 0.000500\n"
     ]
    },
    {
     "name": "stderr",
     "output_type": "stream",
     "text": [
      "Epoch 13/15 (Train): 100%|██████████| 399/399 [00:06<00:00, 62.69it/s]\n",
      "Epoch 13/15 (Val): 100%|██████████| 100/100 [00:03<00:00, 32.13it/s]\n"
     ]
    },
    {
     "name": "stdout",
     "output_type": "stream",
     "text": [
      "Epoch 13/15, Train Loss: 0.0472, Val Loss: 0.0202, LR: 0.000250\n"
     ]
    },
    {
     "name": "stderr",
     "output_type": "stream",
     "text": [
      "Epoch 14/15 (Train): 100%|██████████| 399/399 [00:06<00:00, 60.65it/s]\n",
      "Epoch 14/15 (Val): 100%|██████████| 100/100 [00:03<00:00, 32.01it/s]\n"
     ]
    },
    {
     "name": "stdout",
     "output_type": "stream",
     "text": [
      "Epoch 14/15, Train Loss: 0.0432, Val Loss: 0.0201, LR: 0.000250\n"
     ]
    },
    {
     "name": "stderr",
     "output_type": "stream",
     "text": [
      "Epoch 15/15 (Train): 100%|██████████| 399/399 [00:08<00:00, 46.07it/s]\n",
      "Epoch 15/15 (Val): 100%|██████████| 100/100 [00:03<00:00, 31.47it/s]\n"
     ]
    },
    {
     "name": "stdout",
     "output_type": "stream",
     "text": [
      "Epoch 15/15, Train Loss: 0.0419, Val Loss: 0.0202, LR: 0.000250\n",
      "\n",
      "Average CV loss for output_dim=128, batch_size=256: 0.0199\n",
      "\n",
      "\n",
      "--------------------------------------------------\n",
      "Training with output_dim=128, batch_size=512\n",
      "--------------------------------------------------\n",
      "\n",
      "Fold 1/5\n"
     ]
    },
    {
     "name": "stderr",
     "output_type": "stream",
     "text": [
      "Epoch 1/15 (Train): 100%|██████████| 200/200 [00:04<00:00, 42.05it/s]\n",
      "Epoch 1/15 (Val): 100%|██████████| 50/50 [00:03<00:00, 15.91it/s]\n"
     ]
    },
    {
     "name": "stdout",
     "output_type": "stream",
     "text": [
      "Epoch 1/15, Train Loss: 0.0989, Val Loss: 0.0213, LR: 0.001000\n",
      "New best model saved with validation loss: 0.0213\n"
     ]
    },
    {
     "name": "stderr",
     "output_type": "stream",
     "text": [
      "Epoch 2/15 (Train): 100%|██████████| 200/200 [00:05<00:00, 36.15it/s]\n",
      "Epoch 2/15 (Val): 100%|██████████| 50/50 [00:02<00:00, 16.80it/s]\n"
     ]
    },
    {
     "name": "stdout",
     "output_type": "stream",
     "text": [
      "Epoch 2/15, Train Loss: 0.0810, Val Loss: 0.0205, LR: 0.001000\n",
      "New best model saved with validation loss: 0.0205\n"
     ]
    },
    {
     "name": "stderr",
     "output_type": "stream",
     "text": [
      "Epoch 3/15 (Train): 100%|██████████| 200/200 [00:04<00:00, 41.44it/s]\n",
      "Epoch 3/15 (Val): 100%|██████████| 50/50 [00:02<00:00, 17.52it/s]\n"
     ]
    },
    {
     "name": "stdout",
     "output_type": "stream",
     "text": [
      "Epoch 3/15, Train Loss: 0.0766, Val Loss: 0.0202, LR: 0.001000\n",
      "New best model saved with validation loss: 0.0202\n"
     ]
    },
    {
     "name": "stderr",
     "output_type": "stream",
     "text": [
      "Epoch 4/15 (Train): 100%|██████████| 200/200 [00:04<00:00, 42.92it/s]\n",
      "Epoch 4/15 (Val): 100%|██████████| 50/50 [00:02<00:00, 17.16it/s]\n"
     ]
    },
    {
     "name": "stdout",
     "output_type": "stream",
     "text": [
      "Epoch 4/15, Train Loss: 0.0726, Val Loss: 0.0201, LR: 0.001000\n",
      "New best model saved with validation loss: 0.0201\n"
     ]
    },
    {
     "name": "stderr",
     "output_type": "stream",
     "text": [
      "Epoch 5/15 (Train): 100%|██████████| 200/200 [00:05<00:00, 34.02it/s]\n",
      "Epoch 5/15 (Val): 100%|██████████| 50/50 [00:02<00:00, 17.07it/s]\n"
     ]
    },
    {
     "name": "stdout",
     "output_type": "stream",
     "text": [
      "Epoch 5/15, Train Loss: 0.0699, Val Loss: 0.0200, LR: 0.001000\n",
      "New best model saved with validation loss: 0.0200\n"
     ]
    },
    {
     "name": "stderr",
     "output_type": "stream",
     "text": [
      "Epoch 6/15 (Train): 100%|██████████| 200/200 [00:05<00:00, 37.84it/s]\n",
      "Epoch 6/15 (Val): 100%|██████████| 50/50 [00:02<00:00, 17.18it/s]\n"
     ]
    },
    {
     "name": "stdout",
     "output_type": "stream",
     "text": [
      "Epoch 6/15, Train Loss: 0.0672, Val Loss: 0.0198, LR: 0.001000\n",
      "New best model saved with validation loss: 0.0198\n"
     ]
    },
    {
     "name": "stderr",
     "output_type": "stream",
     "text": [
      "Epoch 7/15 (Train): 100%|██████████| 200/200 [00:04<00:00, 40.04it/s]\n",
      "Epoch 7/15 (Val): 100%|██████████| 50/50 [00:02<00:00, 17.19it/s]\n"
     ]
    },
    {
     "name": "stdout",
     "output_type": "stream",
     "text": [
      "Epoch 7/15, Train Loss: 0.0644, Val Loss: 0.0199, LR: 0.001000\n"
     ]
    },
    {
     "name": "stderr",
     "output_type": "stream",
     "text": [
      "Epoch 8/15 (Train): 100%|██████████| 200/200 [00:04<00:00, 43.74it/s]\n",
      "Epoch 8/15 (Val): 100%|██████████| 50/50 [00:02<00:00, 16.67it/s]\n"
     ]
    },
    {
     "name": "stdout",
     "output_type": "stream",
     "text": [
      "Epoch 8/15, Train Loss: 0.0619, Val Loss: 0.0198, LR: 0.001000\n",
      "New best model saved with validation loss: 0.0198\n"
     ]
    },
    {
     "name": "stderr",
     "output_type": "stream",
     "text": [
      "Epoch 9/15 (Train): 100%|██████████| 200/200 [00:04<00:00, 40.88it/s]\n",
      "Epoch 9/15 (Val): 100%|██████████| 50/50 [00:02<00:00, 17.80it/s]\n"
     ]
    },
    {
     "name": "stdout",
     "output_type": "stream",
     "text": [
      "Epoch 9/15, Train Loss: 0.0598, Val Loss: 0.0200, LR: 0.001000\n"
     ]
    },
    {
     "name": "stderr",
     "output_type": "stream",
     "text": [
      "Epoch 10/15 (Train): 100%|██████████| 200/200 [00:05<00:00, 34.05it/s]\n",
      "Epoch 10/15 (Val): 100%|██████████| 50/50 [00:03<00:00, 16.28it/s]\n"
     ]
    },
    {
     "name": "stdout",
     "output_type": "stream",
     "text": [
      "Epoch 10/15, Train Loss: 0.0571, Val Loss: 0.0202, LR: 0.001000\n"
     ]
    },
    {
     "name": "stderr",
     "output_type": "stream",
     "text": [
      "Epoch 11/15 (Train): 100%|██████████| 200/200 [00:04<00:00, 40.34it/s]\n",
      "Epoch 11/15 (Val): 100%|██████████| 50/50 [00:02<00:00, 16.88it/s]\n"
     ]
    },
    {
     "name": "stdout",
     "output_type": "stream",
     "text": [
      "Epoch 11/15, Train Loss: 0.0551, Val Loss: 0.0201, LR: 0.000500\n"
     ]
    },
    {
     "name": "stderr",
     "output_type": "stream",
     "text": [
      "Epoch 12/15 (Train): 100%|██████████| 200/200 [00:04<00:00, 41.37it/s]\n",
      "Epoch 12/15 (Val): 100%|██████████| 50/50 [00:02<00:00, 16.97it/s]\n"
     ]
    },
    {
     "name": "stdout",
     "output_type": "stream",
     "text": [
      "Epoch 12/15, Train Loss: 0.0498, Val Loss: 0.0198, LR: 0.000500\n"
     ]
    },
    {
     "name": "stderr",
     "output_type": "stream",
     "text": [
      "Epoch 13/15 (Train): 100%|██████████| 200/200 [00:04<00:00, 40.84it/s]\n",
      "Epoch 13/15 (Val): 100%|██████████| 50/50 [00:02<00:00, 17.15it/s]\n"
     ]
    },
    {
     "name": "stdout",
     "output_type": "stream",
     "text": [
      "Epoch 13/15, Train Loss: 0.0478, Val Loss: 0.0200, LR: 0.000500\n"
     ]
    },
    {
     "name": "stderr",
     "output_type": "stream",
     "text": [
      "Epoch 14/15 (Train): 100%|██████████| 200/200 [00:04<00:00, 42.34it/s]\n",
      "Epoch 14/15 (Val): 100%|██████████| 50/50 [00:02<00:00, 17.03it/s]\n"
     ]
    },
    {
     "name": "stdout",
     "output_type": "stream",
     "text": [
      "Epoch 14/15, Train Loss: 0.0463, Val Loss: 0.0201, LR: 0.000250\n"
     ]
    },
    {
     "name": "stderr",
     "output_type": "stream",
     "text": [
      "Epoch 15/15 (Train): 100%|██████████| 200/200 [00:06<00:00, 32.20it/s]\n",
      "Epoch 15/15 (Val): 100%|██████████| 50/50 [00:02<00:00, 17.41it/s]\n"
     ]
    },
    {
     "name": "stdout",
     "output_type": "stream",
     "text": [
      "Epoch 15/15, Train Loss: 0.0431, Val Loss: 0.0201, LR: 0.000250\n",
      "\n",
      "Fold 2/5\n"
     ]
    },
    {
     "name": "stderr",
     "output_type": "stream",
     "text": [
      "Epoch 1/15 (Train): 100%|██████████| 200/200 [00:05<00:00, 37.07it/s]\n",
      "Epoch 1/15 (Val): 100%|██████████| 50/50 [00:02<00:00, 17.06it/s]\n"
     ]
    },
    {
     "name": "stdout",
     "output_type": "stream",
     "text": [
      "Epoch 1/15, Train Loss: 0.0986, Val Loss: 0.0215, LR: 0.001000\n",
      "New best model saved with validation loss: 0.0215\n"
     ]
    },
    {
     "name": "stderr",
     "output_type": "stream",
     "text": [
      "Epoch 2/15 (Train): 100%|██████████| 200/200 [00:04<00:00, 40.37it/s]\n",
      "Epoch 2/15 (Val): 100%|██████████| 50/50 [00:03<00:00, 16.36it/s]\n"
     ]
    },
    {
     "name": "stdout",
     "output_type": "stream",
     "text": [
      "Epoch 2/15, Train Loss: 0.0813, Val Loss: 0.0206, LR: 0.001000\n",
      "New best model saved with validation loss: 0.0206\n"
     ]
    },
    {
     "name": "stderr",
     "output_type": "stream",
     "text": [
      "Epoch 3/15 (Train): 100%|██████████| 200/200 [00:05<00:00, 36.75it/s]\n",
      "Epoch 3/15 (Val): 100%|██████████| 50/50 [00:02<00:00, 17.26it/s]\n"
     ]
    },
    {
     "name": "stdout",
     "output_type": "stream",
     "text": [
      "Epoch 3/15, Train Loss: 0.0759, Val Loss: 0.0203, LR: 0.001000\n",
      "New best model saved with validation loss: 0.0203\n"
     ]
    },
    {
     "name": "stderr",
     "output_type": "stream",
     "text": [
      "Epoch 4/15 (Train): 100%|██████████| 200/200 [00:05<00:00, 39.78it/s]\n",
      "Epoch 4/15 (Val): 100%|██████████| 50/50 [00:02<00:00, 16.79it/s]\n"
     ]
    },
    {
     "name": "stdout",
     "output_type": "stream",
     "text": [
      "Epoch 4/15, Train Loss: 0.0724, Val Loss: 0.0199, LR: 0.001000\n",
      "New best model saved with validation loss: 0.0199\n"
     ]
    },
    {
     "name": "stderr",
     "output_type": "stream",
     "text": [
      "Epoch 5/15 (Train): 100%|██████████| 200/200 [00:05<00:00, 33.42it/s]\n",
      "Epoch 5/15 (Val): 100%|██████████| 50/50 [00:02<00:00, 17.08it/s]\n"
     ]
    },
    {
     "name": "stdout",
     "output_type": "stream",
     "text": [
      "Epoch 5/15, Train Loss: 0.0696, Val Loss: 0.0199, LR: 0.001000\n",
      "New best model saved with validation loss: 0.0199\n"
     ]
    },
    {
     "name": "stderr",
     "output_type": "stream",
     "text": [
      "Epoch 6/15 (Train): 100%|██████████| 200/200 [00:04<00:00, 40.78it/s]\n",
      "Epoch 6/15 (Val): 100%|██████████| 50/50 [00:02<00:00, 16.99it/s]\n"
     ]
    },
    {
     "name": "stdout",
     "output_type": "stream",
     "text": [
      "Epoch 6/15, Train Loss: 0.0663, Val Loss: 0.0199, LR: 0.001000\n"
     ]
    },
    {
     "name": "stderr",
     "output_type": "stream",
     "text": [
      "Epoch 7/15 (Train): 100%|██████████| 200/200 [00:04<00:00, 40.31it/s]\n",
      "Epoch 7/15 (Val): 100%|██████████| 50/50 [00:02<00:00, 17.26it/s]\n"
     ]
    },
    {
     "name": "stdout",
     "output_type": "stream",
     "text": [
      "Epoch 7/15, Train Loss: 0.0639, Val Loss: 0.0198, LR: 0.001000\n",
      "New best model saved with validation loss: 0.0198\n"
     ]
    },
    {
     "name": "stderr",
     "output_type": "stream",
     "text": [
      "Epoch 8/15 (Train): 100%|██████████| 200/200 [00:05<00:00, 38.99it/s]\n",
      "Epoch 8/15 (Val): 100%|██████████| 50/50 [00:02<00:00, 16.96it/s]\n"
     ]
    },
    {
     "name": "stdout",
     "output_type": "stream",
     "text": [
      "Epoch 8/15, Train Loss: 0.0614, Val Loss: 0.0199, LR: 0.001000\n"
     ]
    },
    {
     "name": "stderr",
     "output_type": "stream",
     "text": [
      "Epoch 9/15 (Train): 100%|██████████| 200/200 [00:04<00:00, 40.34it/s]\n",
      "Epoch 9/15 (Val): 100%|██████████| 50/50 [00:03<00:00, 16.30it/s]\n"
     ]
    },
    {
     "name": "stdout",
     "output_type": "stream",
     "text": [
      "Epoch 9/15, Train Loss: 0.0592, Val Loss: 0.0199, LR: 0.001000\n"
     ]
    },
    {
     "name": "stderr",
     "output_type": "stream",
     "text": [
      "Epoch 10/15 (Train): 100%|██████████| 200/200 [00:04<00:00, 40.76it/s]\n",
      "Epoch 10/15 (Val): 100%|██████████| 50/50 [00:05<00:00,  8.60it/s]\n"
     ]
    },
    {
     "name": "stdout",
     "output_type": "stream",
     "text": [
      "Epoch 10/15, Train Loss: 0.0571, Val Loss: 0.0200, LR: 0.000500\n"
     ]
    },
    {
     "name": "stderr",
     "output_type": "stream",
     "text": [
      "Epoch 11/15 (Train): 100%|██████████| 200/200 [00:05<00:00, 37.43it/s]\n",
      "Epoch 11/15 (Val): 100%|██████████| 50/50 [00:02<00:00, 16.85it/s]\n"
     ]
    },
    {
     "name": "stdout",
     "output_type": "stream",
     "text": [
      "Epoch 11/15, Train Loss: 0.0515, Val Loss: 0.0199, LR: 0.000500\n"
     ]
    },
    {
     "name": "stderr",
     "output_type": "stream",
     "text": [
      "Epoch 12/15 (Train): 100%|██████████| 200/200 [00:05<00:00, 39.59it/s]\n",
      "Epoch 12/15 (Val): 100%|██████████| 50/50 [00:02<00:00, 17.20it/s]\n"
     ]
    },
    {
     "name": "stdout",
     "output_type": "stream",
     "text": [
      "Epoch 12/15, Train Loss: 0.0495, Val Loss: 0.0200, LR: 0.000500\n"
     ]
    },
    {
     "name": "stderr",
     "output_type": "stream",
     "text": [
      "Epoch 13/15 (Train): 100%|██████████| 200/200 [00:04<00:00, 40.48it/s]\n",
      "Epoch 13/15 (Val): 100%|██████████| 50/50 [00:03<00:00, 16.32it/s]\n"
     ]
    },
    {
     "name": "stdout",
     "output_type": "stream",
     "text": [
      "Epoch 13/15, Train Loss: 0.0479, Val Loss: 0.0201, LR: 0.000250\n"
     ]
    },
    {
     "name": "stderr",
     "output_type": "stream",
     "text": [
      "Epoch 14/15 (Train): 100%|██████████| 200/200 [00:04<00:00, 41.32it/s]\n",
      "Epoch 14/15 (Val): 100%|██████████| 50/50 [00:03<00:00, 16.58it/s]\n"
     ]
    },
    {
     "name": "stdout",
     "output_type": "stream",
     "text": [
      "Epoch 14/15, Train Loss: 0.0446, Val Loss: 0.0201, LR: 0.000250\n"
     ]
    },
    {
     "name": "stderr",
     "output_type": "stream",
     "text": [
      "Epoch 15/15 (Train): 100%|██████████| 200/200 [00:05<00:00, 38.74it/s]\n",
      "Epoch 15/15 (Val): 100%|██████████| 50/50 [00:03<00:00, 12.65it/s]\n"
     ]
    },
    {
     "name": "stdout",
     "output_type": "stream",
     "text": [
      "Epoch 15/15, Train Loss: 0.0435, Val Loss: 0.0202, LR: 0.000250\n",
      "\n",
      "Fold 3/5\n"
     ]
    },
    {
     "name": "stderr",
     "output_type": "stream",
     "text": [
      "Epoch 1/15 (Train): 100%|██████████| 200/200 [00:04<00:00, 40.54it/s]\n",
      "Epoch 1/15 (Val): 100%|██████████| 50/50 [00:02<00:00, 16.71it/s]\n"
     ]
    },
    {
     "name": "stdout",
     "output_type": "stream",
     "text": [
      "Epoch 1/15, Train Loss: 0.1000, Val Loss: 0.0219, LR: 0.001000\n",
      "New best model saved with validation loss: 0.0219\n"
     ]
    },
    {
     "name": "stderr",
     "output_type": "stream",
     "text": [
      "Epoch 2/15 (Train): 100%|██████████| 200/200 [00:05<00:00, 38.13it/s]\n",
      "Epoch 2/15 (Val): 100%|██████████| 50/50 [00:03<00:00, 16.64it/s]\n"
     ]
    },
    {
     "name": "stdout",
     "output_type": "stream",
     "text": [
      "Epoch 2/15, Train Loss: 0.0821, Val Loss: 0.0209, LR: 0.001000\n",
      "New best model saved with validation loss: 0.0209\n"
     ]
    },
    {
     "name": "stderr",
     "output_type": "stream",
     "text": [
      "Epoch 3/15 (Train): 100%|██████████| 200/200 [00:05<00:00, 39.26it/s]\n",
      "Epoch 3/15 (Val): 100%|██████████| 50/50 [00:03<00:00, 16.43it/s]\n"
     ]
    },
    {
     "name": "stdout",
     "output_type": "stream",
     "text": [
      "Epoch 3/15, Train Loss: 0.0772, Val Loss: 0.0205, LR: 0.001000\n",
      "New best model saved with validation loss: 0.0205\n"
     ]
    },
    {
     "name": "stderr",
     "output_type": "stream",
     "text": [
      "Epoch 4/15 (Train): 100%|██████████| 200/200 [00:05<00:00, 39.27it/s]\n",
      "Epoch 4/15 (Val): 100%|██████████| 50/50 [00:02<00:00, 16.80it/s]\n"
     ]
    },
    {
     "name": "stdout",
     "output_type": "stream",
     "text": [
      "Epoch 4/15, Train Loss: 0.0738, Val Loss: 0.0201, LR: 0.001000\n",
      "New best model saved with validation loss: 0.0201\n"
     ]
    },
    {
     "name": "stderr",
     "output_type": "stream",
     "text": [
      "Epoch 5/15 (Train): 100%|██████████| 200/200 [00:05<00:00, 39.14it/s]\n",
      "Epoch 5/15 (Val): 100%|██████████| 50/50 [00:04<00:00, 12.26it/s]\n"
     ]
    },
    {
     "name": "stdout",
     "output_type": "stream",
     "text": [
      "Epoch 5/15, Train Loss: 0.0708, Val Loss: 0.0200, LR: 0.001000\n",
      "New best model saved with validation loss: 0.0200\n"
     ]
    },
    {
     "name": "stderr",
     "output_type": "stream",
     "text": [
      "Epoch 6/15 (Train): 100%|██████████| 200/200 [00:05<00:00, 39.33it/s]\n",
      "Epoch 6/15 (Val): 100%|██████████| 50/50 [00:03<00:00, 16.14it/s]\n"
     ]
    },
    {
     "name": "stdout",
     "output_type": "stream",
     "text": [
      "Epoch 6/15, Train Loss: 0.0677, Val Loss: 0.0200, LR: 0.001000\n"
     ]
    },
    {
     "name": "stderr",
     "output_type": "stream",
     "text": [
      "Epoch 7/15 (Train): 100%|██████████| 200/200 [00:05<00:00, 38.89it/s]\n",
      "Epoch 7/15 (Val): 100%|██████████| 50/50 [00:02<00:00, 16.90it/s]\n"
     ]
    },
    {
     "name": "stdout",
     "output_type": "stream",
     "text": [
      "Epoch 7/15, Train Loss: 0.0652, Val Loss: 0.0199, LR: 0.001000\n",
      "New best model saved with validation loss: 0.0199\n"
     ]
    },
    {
     "name": "stderr",
     "output_type": "stream",
     "text": [
      "Epoch 8/15 (Train): 100%|██████████| 200/200 [00:05<00:00, 39.39it/s]\n",
      "Epoch 8/15 (Val): 100%|██████████| 50/50 [00:02<00:00, 17.90it/s]\n"
     ]
    },
    {
     "name": "stdout",
     "output_type": "stream",
     "text": [
      "Epoch 8/15, Train Loss: 0.0626, Val Loss: 0.0200, LR: 0.001000\n"
     ]
    },
    {
     "name": "stderr",
     "output_type": "stream",
     "text": [
      "Epoch 9/15 (Train): 100%|██████████| 200/200 [00:04<00:00, 40.84it/s]\n",
      "Epoch 9/15 (Val): 100%|██████████| 50/50 [00:02<00:00, 16.94it/s]\n"
     ]
    },
    {
     "name": "stdout",
     "output_type": "stream",
     "text": [
      "Epoch 9/15, Train Loss: 0.0604, Val Loss: 0.0200, LR: 0.001000\n"
     ]
    },
    {
     "name": "stderr",
     "output_type": "stream",
     "text": [
      "Epoch 10/15 (Train): 100%|██████████| 200/200 [00:04<00:00, 42.91it/s]\n",
      "Epoch 10/15 (Val): 100%|██████████| 50/50 [00:02<00:00, 16.98it/s]\n"
     ]
    },
    {
     "name": "stdout",
     "output_type": "stream",
     "text": [
      "Epoch 10/15, Train Loss: 0.0580, Val Loss: 0.0200, LR: 0.000500\n"
     ]
    },
    {
     "name": "stderr",
     "output_type": "stream",
     "text": [
      "Epoch 11/15 (Train): 100%|██████████| 200/200 [00:05<00:00, 33.92it/s]\n",
      "Epoch 11/15 (Val): 100%|██████████| 50/50 [00:02<00:00, 16.75it/s]\n"
     ]
    },
    {
     "name": "stdout",
     "output_type": "stream",
     "text": [
      "Epoch 11/15, Train Loss: 0.0523, Val Loss: 0.0201, LR: 0.000500\n"
     ]
    },
    {
     "name": "stderr",
     "output_type": "stream",
     "text": [
      "Epoch 12/15 (Train): 100%|██████████| 200/200 [00:04<00:00, 41.57it/s]\n",
      "Epoch 12/15 (Val): 100%|██████████| 50/50 [00:02<00:00, 17.13it/s]\n"
     ]
    },
    {
     "name": "stdout",
     "output_type": "stream",
     "text": [
      "Epoch 12/15, Train Loss: 0.0501, Val Loss: 0.0199, LR: 0.000500\n"
     ]
    },
    {
     "name": "stderr",
     "output_type": "stream",
     "text": [
      "Epoch 13/15 (Train): 100%|██████████| 200/200 [00:04<00:00, 42.21it/s]\n",
      "Epoch 13/15 (Val): 100%|██████████| 50/50 [00:02<00:00, 17.44it/s]\n"
     ]
    },
    {
     "name": "stdout",
     "output_type": "stream",
     "text": [
      "Epoch 13/15, Train Loss: 0.0486, Val Loss: 0.0201, LR: 0.000250\n"
     ]
    },
    {
     "name": "stderr",
     "output_type": "stream",
     "text": [
      "Epoch 14/15 (Train): 100%|██████████| 200/200 [00:04<00:00, 41.06it/s]\n",
      "Epoch 14/15 (Val): 100%|██████████| 50/50 [00:03<00:00, 15.99it/s]\n"
     ]
    },
    {
     "name": "stdout",
     "output_type": "stream",
     "text": [
      "Epoch 14/15, Train Loss: 0.0451, Val Loss: 0.0201, LR: 0.000250\n"
     ]
    },
    {
     "name": "stderr",
     "output_type": "stream",
     "text": [
      "Epoch 15/15 (Train): 100%|██████████| 200/200 [00:04<00:00, 42.44it/s]\n",
      "Epoch 15/15 (Val): 100%|██████████| 50/50 [00:02<00:00, 16.93it/s]\n"
     ]
    },
    {
     "name": "stdout",
     "output_type": "stream",
     "text": [
      "Epoch 15/15, Train Loss: 0.0439, Val Loss: 0.0202, LR: 0.000250\n",
      "\n",
      "Fold 4/5\n"
     ]
    },
    {
     "name": "stderr",
     "output_type": "stream",
     "text": [
      "Epoch 1/15 (Train): 100%|██████████| 200/200 [00:05<00:00, 35.76it/s]\n",
      "Epoch 1/15 (Val): 100%|██████████| 50/50 [00:02<00:00, 17.55it/s]\n"
     ]
    },
    {
     "name": "stdout",
     "output_type": "stream",
     "text": [
      "Epoch 1/15, Train Loss: 0.0973, Val Loss: 0.0215, LR: 0.001000\n",
      "New best model saved with validation loss: 0.0215\n"
     ]
    },
    {
     "name": "stderr",
     "output_type": "stream",
     "text": [
      "Epoch 2/15 (Train): 100%|██████████| 200/200 [00:04<00:00, 44.83it/s]\n",
      "Epoch 2/15 (Val): 100%|██████████| 50/50 [00:02<00:00, 16.95it/s]\n"
     ]
    },
    {
     "name": "stdout",
     "output_type": "stream",
     "text": [
      "Epoch 2/15, Train Loss: 0.0814, Val Loss: 0.0206, LR: 0.001000\n",
      "New best model saved with validation loss: 0.0206\n"
     ]
    },
    {
     "name": "stderr",
     "output_type": "stream",
     "text": [
      "Epoch 3/15 (Train): 100%|██████████| 200/200 [00:04<00:00, 44.47it/s]\n",
      "Epoch 3/15 (Val): 100%|██████████| 50/50 [00:02<00:00, 16.94it/s]\n"
     ]
    },
    {
     "name": "stdout",
     "output_type": "stream",
     "text": [
      "Epoch 3/15, Train Loss: 0.0768, Val Loss: 0.0200, LR: 0.001000\n",
      "New best model saved with validation loss: 0.0200\n"
     ]
    },
    {
     "name": "stderr",
     "output_type": "stream",
     "text": [
      "Epoch 4/15 (Train): 100%|██████████| 200/200 [00:04<00:00, 43.04it/s]\n",
      "Epoch 4/15 (Val): 100%|██████████| 50/50 [00:03<00:00, 16.24it/s]\n"
     ]
    },
    {
     "name": "stdout",
     "output_type": "stream",
     "text": [
      "Epoch 4/15, Train Loss: 0.0730, Val Loss: 0.0200, LR: 0.001000\n",
      "New best model saved with validation loss: 0.0200\n"
     ]
    },
    {
     "name": "stderr",
     "output_type": "stream",
     "text": [
      "Epoch 5/15 (Train): 100%|██████████| 200/200 [00:04<00:00, 41.90it/s]\n",
      "Epoch 5/15 (Val): 100%|██████████| 50/50 [00:02<00:00, 17.46it/s]\n"
     ]
    },
    {
     "name": "stdout",
     "output_type": "stream",
     "text": [
      "Epoch 5/15, Train Loss: 0.0704, Val Loss: 0.0199, LR: 0.001000\n",
      "New best model saved with validation loss: 0.0199\n"
     ]
    },
    {
     "name": "stderr",
     "output_type": "stream",
     "text": [
      "Epoch 6/15 (Train): 100%|██████████| 200/200 [00:05<00:00, 35.73it/s]\n",
      "Epoch 6/15 (Val): 100%|██████████| 50/50 [00:02<00:00, 17.69it/s]\n"
     ]
    },
    {
     "name": "stdout",
     "output_type": "stream",
     "text": [
      "Epoch 6/15, Train Loss: 0.0677, Val Loss: 0.0199, LR: 0.001000\n",
      "New best model saved with validation loss: 0.0199\n"
     ]
    },
    {
     "name": "stderr",
     "output_type": "stream",
     "text": [
      "Epoch 7/15 (Train): 100%|██████████| 200/200 [00:04<00:00, 42.49it/s]\n",
      "Epoch 7/15 (Val): 100%|██████████| 50/50 [00:02<00:00, 17.86it/s]\n"
     ]
    },
    {
     "name": "stdout",
     "output_type": "stream",
     "text": [
      "Epoch 7/15, Train Loss: 0.0650, Val Loss: 0.0198, LR: 0.001000\n",
      "New best model saved with validation loss: 0.0198\n"
     ]
    },
    {
     "name": "stderr",
     "output_type": "stream",
     "text": [
      "Epoch 8/15 (Train): 100%|██████████| 200/200 [00:04<00:00, 43.82it/s]\n",
      "Epoch 8/15 (Val): 100%|██████████| 50/50 [00:02<00:00, 17.93it/s]\n"
     ]
    },
    {
     "name": "stdout",
     "output_type": "stream",
     "text": [
      "Epoch 8/15, Train Loss: 0.0628, Val Loss: 0.0197, LR: 0.001000\n",
      "New best model saved with validation loss: 0.0197\n"
     ]
    },
    {
     "name": "stderr",
     "output_type": "stream",
     "text": [
      "Epoch 9/15 (Train): 100%|██████████| 200/200 [00:04<00:00, 42.85it/s]\n",
      "Epoch 9/15 (Val): 100%|██████████| 50/50 [00:02<00:00, 17.35it/s]\n"
     ]
    },
    {
     "name": "stdout",
     "output_type": "stream",
     "text": [
      "Epoch 9/15, Train Loss: 0.0603, Val Loss: 0.0199, LR: 0.001000\n"
     ]
    },
    {
     "name": "stderr",
     "output_type": "stream",
     "text": [
      "Epoch 10/15 (Train): 100%|██████████| 200/200 [00:04<00:00, 42.91it/s]\n",
      "Epoch 10/15 (Val): 100%|██████████| 50/50 [00:02<00:00, 17.63it/s]\n"
     ]
    },
    {
     "name": "stdout",
     "output_type": "stream",
     "text": [
      "Epoch 10/15, Train Loss: 0.0578, Val Loss: 0.0197, LR: 0.001000\n"
     ]
    },
    {
     "name": "stderr",
     "output_type": "stream",
     "text": [
      "Epoch 11/15 (Train): 100%|██████████| 200/200 [00:05<00:00, 34.99it/s]\n",
      "Epoch 11/15 (Val): 100%|██████████| 50/50 [00:02<00:00, 17.97it/s]\n"
     ]
    },
    {
     "name": "stdout",
     "output_type": "stream",
     "text": [
      "Epoch 11/15, Train Loss: 0.0561, Val Loss: 0.0200, LR: 0.000500\n"
     ]
    },
    {
     "name": "stderr",
     "output_type": "stream",
     "text": [
      "Epoch 12/15 (Train): 100%|██████████| 200/200 [00:04<00:00, 43.84it/s]\n",
      "Epoch 12/15 (Val): 100%|██████████| 50/50 [00:02<00:00, 17.79it/s]\n"
     ]
    },
    {
     "name": "stdout",
     "output_type": "stream",
     "text": [
      "Epoch 12/15, Train Loss: 0.0502, Val Loss: 0.0196, LR: 0.000500\n",
      "New best model saved with validation loss: 0.0196\n"
     ]
    },
    {
     "name": "stderr",
     "output_type": "stream",
     "text": [
      "Epoch 13/15 (Train): 100%|██████████| 200/200 [00:04<00:00, 42.55it/s]\n",
      "Epoch 13/15 (Val): 100%|██████████| 50/50 [00:03<00:00, 16.19it/s]\n"
     ]
    },
    {
     "name": "stdout",
     "output_type": "stream",
     "text": [
      "Epoch 13/15, Train Loss: 0.0481, Val Loss: 0.0197, LR: 0.000500\n"
     ]
    },
    {
     "name": "stderr",
     "output_type": "stream",
     "text": [
      "Epoch 14/15 (Train): 100%|██████████| 200/200 [00:04<00:00, 44.94it/s]\n",
      "Epoch 14/15 (Val): 100%|██████████| 50/50 [00:02<00:00, 17.02it/s]\n"
     ]
    },
    {
     "name": "stdout",
     "output_type": "stream",
     "text": [
      "Epoch 14/15, Train Loss: 0.0466, Val Loss: 0.0198, LR: 0.000500\n"
     ]
    },
    {
     "name": "stderr",
     "output_type": "stream",
     "text": [
      "Epoch 15/15 (Train): 100%|██████████| 200/200 [00:04<00:00, 44.69it/s]\n",
      "Epoch 15/15 (Val): 100%|██████████| 50/50 [00:02<00:00, 17.95it/s]\n"
     ]
    },
    {
     "name": "stdout",
     "output_type": "stream",
     "text": [
      "Epoch 15/15, Train Loss: 0.0453, Val Loss: 0.0199, LR: 0.000250\n",
      "\n",
      "Fold 5/5\n"
     ]
    },
    {
     "name": "stderr",
     "output_type": "stream",
     "text": [
      "Epoch 1/15 (Train): 100%|██████████| 200/200 [00:05<00:00, 35.87it/s]\n",
      "Epoch 1/15 (Val): 100%|██████████| 50/50 [00:02<00:00, 18.23it/s]\n"
     ]
    },
    {
     "name": "stdout",
     "output_type": "stream",
     "text": [
      "Epoch 1/15, Train Loss: 0.0999, Val Loss: 0.0211, LR: 0.001000\n",
      "New best model saved with validation loss: 0.0211\n"
     ]
    },
    {
     "name": "stderr",
     "output_type": "stream",
     "text": [
      "Epoch 2/15 (Train): 100%|██████████| 200/200 [00:04<00:00, 42.98it/s]\n",
      "Epoch 2/15 (Val): 100%|██████████| 50/50 [00:02<00:00, 16.99it/s]\n"
     ]
    },
    {
     "name": "stdout",
     "output_type": "stream",
     "text": [
      "Epoch 2/15, Train Loss: 0.0812, Val Loss: 0.0205, LR: 0.001000\n",
      "New best model saved with validation loss: 0.0205\n"
     ]
    },
    {
     "name": "stderr",
     "output_type": "stream",
     "text": [
      "Epoch 3/15 (Train): 100%|██████████| 200/200 [00:04<00:00, 42.59it/s]\n",
      "Epoch 3/15 (Val): 100%|██████████| 50/50 [00:03<00:00, 16.44it/s]\n"
     ]
    },
    {
     "name": "stdout",
     "output_type": "stream",
     "text": [
      "Epoch 3/15, Train Loss: 0.0762, Val Loss: 0.0198, LR: 0.001000\n",
      "New best model saved with validation loss: 0.0198\n"
     ]
    },
    {
     "name": "stderr",
     "output_type": "stream",
     "text": [
      "Epoch 4/15 (Train): 100%|██████████| 200/200 [00:04<00:00, 44.63it/s]\n",
      "Epoch 4/15 (Val): 100%|██████████| 50/50 [00:02<00:00, 17.17it/s]\n"
     ]
    },
    {
     "name": "stdout",
     "output_type": "stream",
     "text": [
      "Epoch 4/15, Train Loss: 0.0728, Val Loss: 0.0197, LR: 0.001000\n",
      "New best model saved with validation loss: 0.0197\n"
     ]
    },
    {
     "name": "stderr",
     "output_type": "stream",
     "text": [
      "Epoch 5/15 (Train): 100%|██████████| 200/200 [00:04<00:00, 45.12it/s]\n",
      "Epoch 5/15 (Val): 100%|██████████| 50/50 [00:02<00:00, 18.21it/s]\n"
     ]
    },
    {
     "name": "stdout",
     "output_type": "stream",
     "text": [
      "Epoch 5/15, Train Loss: 0.0695, Val Loss: 0.0196, LR: 0.001000\n",
      "New best model saved with validation loss: 0.0196\n"
     ]
    },
    {
     "name": "stderr",
     "output_type": "stream",
     "text": [
      "Epoch 6/15 (Train): 100%|██████████| 200/200 [00:04<00:00, 43.43it/s]\n",
      "Epoch 6/15 (Val): 100%|██████████| 50/50 [00:04<00:00, 10.28it/s]\n"
     ]
    },
    {
     "name": "stdout",
     "output_type": "stream",
     "text": [
      "Epoch 6/15, Train Loss: 0.0669, Val Loss: 0.0196, LR: 0.001000\n"
     ]
    },
    {
     "name": "stderr",
     "output_type": "stream",
     "text": [
      "Epoch 7/15 (Train): 100%|██████████| 200/200 [00:04<00:00, 40.58it/s]\n",
      "Epoch 7/15 (Val): 100%|██████████| 50/50 [00:02<00:00, 16.67it/s]\n"
     ]
    },
    {
     "name": "stdout",
     "output_type": "stream",
     "text": [
      "Epoch 7/15, Train Loss: 0.0639, Val Loss: 0.0197, LR: 0.001000\n"
     ]
    },
    {
     "name": "stderr",
     "output_type": "stream",
     "text": [
      "Epoch 8/15 (Train): 100%|██████████| 200/200 [00:04<00:00, 41.13it/s]\n",
      "Epoch 8/15 (Val): 100%|██████████| 50/50 [00:03<00:00, 16.35it/s]\n"
     ]
    },
    {
     "name": "stdout",
     "output_type": "stream",
     "text": [
      "Epoch 8/15, Train Loss: 0.0614, Val Loss: 0.0195, LR: 0.001000\n",
      "New best model saved with validation loss: 0.0195\n"
     ]
    },
    {
     "name": "stderr",
     "output_type": "stream",
     "text": [
      "Epoch 9/15 (Train): 100%|██████████| 200/200 [00:05<00:00, 38.25it/s]\n",
      "Epoch 9/15 (Val): 100%|██████████| 50/50 [00:03<00:00, 15.85it/s]\n"
     ]
    },
    {
     "name": "stdout",
     "output_type": "stream",
     "text": [
      "Epoch 9/15, Train Loss: 0.0590, Val Loss: 0.0198, LR: 0.001000\n"
     ]
    },
    {
     "name": "stderr",
     "output_type": "stream",
     "text": [
      "Epoch 10/15 (Train): 100%|██████████| 200/200 [00:05<00:00, 39.21it/s]\n",
      "Epoch 10/15 (Val): 100%|██████████| 50/50 [00:03<00:00, 16.44it/s]\n"
     ]
    },
    {
     "name": "stdout",
     "output_type": "stream",
     "text": [
      "Epoch 10/15, Train Loss: 0.0569, Val Loss: 0.0196, LR: 0.001000\n"
     ]
    },
    {
     "name": "stderr",
     "output_type": "stream",
     "text": [
      "Epoch 11/15 (Train): 100%|██████████| 200/200 [00:05<00:00, 38.69it/s]\n",
      "Epoch 11/15 (Val): 100%|██████████| 50/50 [00:05<00:00,  8.63it/s]\n"
     ]
    },
    {
     "name": "stdout",
     "output_type": "stream",
     "text": [
      "Epoch 11/15, Train Loss: 0.0550, Val Loss: 0.0199, LR: 0.000500\n"
     ]
    },
    {
     "name": "stderr",
     "output_type": "stream",
     "text": [
      "Epoch 12/15 (Train): 100%|██████████| 200/200 [00:05<00:00, 38.79it/s]\n",
      "Epoch 12/15 (Val): 100%|██████████| 50/50 [00:03<00:00, 16.36it/s]\n"
     ]
    },
    {
     "name": "stdout",
     "output_type": "stream",
     "text": [
      "Epoch 12/15, Train Loss: 0.0494, Val Loss: 0.0197, LR: 0.000500\n"
     ]
    },
    {
     "name": "stderr",
     "output_type": "stream",
     "text": [
      "Epoch 13/15 (Train): 100%|██████████| 200/200 [00:05<00:00, 38.19it/s]\n",
      "Epoch 13/15 (Val): 100%|██████████| 50/50 [00:03<00:00, 16.04it/s]\n"
     ]
    },
    {
     "name": "stdout",
     "output_type": "stream",
     "text": [
      "Epoch 13/15, Train Loss: 0.0474, Val Loss: 0.0198, LR: 0.000500\n"
     ]
    },
    {
     "name": "stderr",
     "output_type": "stream",
     "text": [
      "Epoch 14/15 (Train): 100%|██████████| 200/200 [00:05<00:00, 37.62it/s]\n",
      "Epoch 14/15 (Val): 100%|██████████| 50/50 [00:03<00:00, 16.12it/s]\n"
     ]
    },
    {
     "name": "stdout",
     "output_type": "stream",
     "text": [
      "Epoch 14/15, Train Loss: 0.0461, Val Loss: 0.0198, LR: 0.000250\n"
     ]
    },
    {
     "name": "stderr",
     "output_type": "stream",
     "text": [
      "Epoch 15/15 (Train): 100%|██████████| 200/200 [00:05<00:00, 37.36it/s]\n",
      "Epoch 15/15 (Val): 100%|██████████| 50/50 [00:03<00:00, 16.24it/s]\n"
     ]
    },
    {
     "name": "stdout",
     "output_type": "stream",
     "text": [
      "Epoch 15/15, Train Loss: 0.0425, Val Loss: 0.0200, LR: 0.000250\n",
      "\n",
      "Average CV loss for output_dim=128, batch_size=512: 0.0197\n",
      "\n",
      "\n",
      "Best hyperparameters:\n",
      "Output dimension: 128\n",
      "Batch size: 512\n",
      "Average CV loss: 0.0197\n",
      "\n",
      "\n",
      "Training final model with best hyperparameters...\n"
     ]
    },
    {
     "name": "stderr",
     "output_type": "stream",
     "text": [
      "Epoch 1/15 (Train): 100%|██████████| 250/250 [00:12<00:00, 20.26it/s]\n",
      "Epoch 1/15 (Val): 100%|██████████| 63/63 [00:03<00:00, 18.47it/s]\n"
     ]
    },
    {
     "name": "stdout",
     "output_type": "stream",
     "text": [
      "Epoch 1/15, Train Loss: 0.1181, Val Loss: 0.1063, LR: 0.001000\n",
      "New best model saved with validation loss: 0.1063\n"
     ]
    },
    {
     "name": "stderr",
     "output_type": "stream",
     "text": [
      "Epoch 2/15 (Train): 100%|██████████| 250/250 [00:13<00:00, 19.14it/s]\n",
      "Epoch 2/15 (Val): 100%|██████████| 63/63 [00:03<00:00, 17.08it/s]\n"
     ]
    },
    {
     "name": "stdout",
     "output_type": "stream",
     "text": [
      "Epoch 2/15, Train Loss: 0.1003, Val Loss: 0.1024, LR: 0.001000\n",
      "New best model saved with validation loss: 0.1024\n"
     ]
    },
    {
     "name": "stderr",
     "output_type": "stream",
     "text": [
      "Epoch 3/15 (Train): 100%|██████████| 250/250 [00:12<00:00, 20.17it/s]\n",
      "Epoch 3/15 (Val): 100%|██████████| 63/63 [00:03<00:00, 18.43it/s]\n"
     ]
    },
    {
     "name": "stdout",
     "output_type": "stream",
     "text": [
      "Epoch 3/15, Train Loss: 0.0950, Val Loss: 0.1022, LR: 0.001000\n",
      "New best model saved with validation loss: 0.1022\n"
     ]
    },
    {
     "name": "stderr",
     "output_type": "stream",
     "text": [
      "Epoch 4/15 (Train): 100%|██████████| 250/250 [00:13<00:00, 18.66it/s]\n",
      "Epoch 4/15 (Val): 100%|██████████| 63/63 [00:03<00:00, 18.11it/s]\n"
     ]
    },
    {
     "name": "stdout",
     "output_type": "stream",
     "text": [
      "Epoch 4/15, Train Loss: 0.0911, Val Loss: 0.1005, LR: 0.001000\n",
      "New best model saved with validation loss: 0.1005\n"
     ]
    },
    {
     "name": "stderr",
     "output_type": "stream",
     "text": [
      "Epoch 5/15 (Train): 100%|██████████| 250/250 [00:12<00:00, 20.27it/s]\n",
      "Epoch 5/15 (Val): 100%|██████████| 63/63 [00:03<00:00, 18.51it/s]\n"
     ]
    },
    {
     "name": "stdout",
     "output_type": "stream",
     "text": [
      "Epoch 5/15, Train Loss: 0.0874, Val Loss: 0.0997, LR: 0.001000\n",
      "New best model saved with validation loss: 0.0997\n"
     ]
    },
    {
     "name": "stderr",
     "output_type": "stream",
     "text": [
      "Epoch 6/15 (Train): 100%|██████████| 250/250 [00:12<00:00, 20.22it/s]\n",
      "Epoch 6/15 (Val): 100%|██████████| 63/63 [00:03<00:00, 18.17it/s]\n"
     ]
    },
    {
     "name": "stdout",
     "output_type": "stream",
     "text": [
      "Epoch 6/15, Train Loss: 0.0843, Val Loss: 0.0995, LR: 0.001000\n",
      "New best model saved with validation loss: 0.0995\n"
     ]
    },
    {
     "name": "stderr",
     "output_type": "stream",
     "text": [
      "Epoch 7/15 (Train): 100%|██████████| 250/250 [00:12<00:00, 19.82it/s]\n",
      "Epoch 7/15 (Val): 100%|██████████| 63/63 [00:03<00:00, 18.20it/s]\n"
     ]
    },
    {
     "name": "stdout",
     "output_type": "stream",
     "text": [
      "Epoch 7/15, Train Loss: 0.0815, Val Loss: 0.1005, LR: 0.001000\n"
     ]
    },
    {
     "name": "stderr",
     "output_type": "stream",
     "text": [
      "Epoch 8/15 (Train): 100%|██████████| 250/250 [00:12<00:00, 20.21it/s]\n",
      "Epoch 8/15 (Val): 100%|██████████| 63/63 [00:03<00:00, 18.20it/s]\n"
     ]
    },
    {
     "name": "stdout",
     "output_type": "stream",
     "text": [
      "Epoch 8/15, Train Loss: 0.0788, Val Loss: 0.0999, LR: 0.001000\n"
     ]
    },
    {
     "name": "stderr",
     "output_type": "stream",
     "text": [
      "Epoch 9/15 (Train): 100%|██████████| 250/250 [00:12<00:00, 19.98it/s]\n",
      "Epoch 9/15 (Val): 100%|██████████| 63/63 [00:03<00:00, 18.23it/s]\n"
     ]
    },
    {
     "name": "stdout",
     "output_type": "stream",
     "text": [
      "Epoch 9/15, Train Loss: 0.0765, Val Loss: 0.0996, LR: 0.000500\n"
     ]
    },
    {
     "name": "stderr",
     "output_type": "stream",
     "text": [
      "Epoch 10/15 (Train): 100%|██████████| 250/250 [00:12<00:00, 19.85it/s]\n",
      "Epoch 10/15 (Val): 100%|██████████| 63/63 [00:03<00:00, 18.17it/s]\n"
     ]
    },
    {
     "name": "stdout",
     "output_type": "stream",
     "text": [
      "Epoch 10/15, Train Loss: 0.0696, Val Loss: 0.0992, LR: 0.000500\n",
      "New best model saved with validation loss: 0.0992\n"
     ]
    },
    {
     "name": "stderr",
     "output_type": "stream",
     "text": [
      "Epoch 11/15 (Train): 100%|██████████| 250/250 [00:12<00:00, 20.02it/s]\n",
      "Epoch 11/15 (Val): 100%|██████████| 63/63 [00:03<00:00, 18.19it/s]\n"
     ]
    },
    {
     "name": "stdout",
     "output_type": "stream",
     "text": [
      "Epoch 11/15, Train Loss: 0.0669, Val Loss: 0.0989, LR: 0.000500\n",
      "New best model saved with validation loss: 0.0989\n"
     ]
    },
    {
     "name": "stderr",
     "output_type": "stream",
     "text": [
      "Epoch 12/15 (Train): 100%|██████████| 250/250 [00:12<00:00, 20.06it/s]\n",
      "Epoch 12/15 (Val): 100%|██████████| 63/63 [00:03<00:00, 18.41it/s]\n"
     ]
    },
    {
     "name": "stdout",
     "output_type": "stream",
     "text": [
      "Epoch 12/15, Train Loss: 0.0652, Val Loss: 0.0992, LR: 0.000500\n"
     ]
    },
    {
     "name": "stderr",
     "output_type": "stream",
     "text": [
      "Epoch 13/15 (Train): 100%|██████████| 250/250 [00:12<00:00, 19.97it/s]\n",
      "Epoch 13/15 (Val): 100%|██████████| 63/63 [00:03<00:00, 18.33it/s]\n"
     ]
    },
    {
     "name": "stdout",
     "output_type": "stream",
     "text": [
      "Epoch 13/15, Train Loss: 0.0635, Val Loss: 0.0995, LR: 0.000500\n"
     ]
    },
    {
     "name": "stderr",
     "output_type": "stream",
     "text": [
      "Epoch 14/15 (Train): 100%|██████████| 250/250 [00:12<00:00, 20.17it/s]\n",
      "Epoch 14/15 (Val): 100%|██████████| 63/63 [00:03<00:00, 18.30it/s]\n"
     ]
    },
    {
     "name": "stdout",
     "output_type": "stream",
     "text": [
      "Epoch 14/15, Train Loss: 0.0620, Val Loss: 0.0998, LR: 0.000250\n"
     ]
    },
    {
     "name": "stderr",
     "output_type": "stream",
     "text": [
      "Epoch 15/15 (Train): 100%|██████████| 250/250 [00:12<00:00, 19.90it/s]\n",
      "Epoch 15/15 (Val): 100%|██████████| 63/63 [00:03<00:00, 18.31it/s]"
     ]
    },
    {
     "name": "stdout",
     "output_type": "stream",
     "text": [
      "Epoch 15/15, Train Loss: 0.0578, Val Loss: 0.0999, LR: 0.000250\n"
     ]
    },
    {
     "name": "stderr",
     "output_type": "stream",
     "text": [
      "\n"
     ]
    },
    {
     "data": {
      "text/html": [],
      "text/plain": [
       "<IPython.core.display.HTML object>"
      ]
     },
     "metadata": {},
     "output_type": "display_data"
    },
    {
     "data": {
      "text/html": [
       "<br>    <style><br>        .wandb-row {<br>            display: flex;<br>            flex-direction: row;<br>            flex-wrap: wrap;<br>            justify-content: flex-start;<br>            width: 100%;<br>        }<br>        .wandb-col {<br>            display: flex;<br>            flex-direction: column;<br>            flex-basis: 100%;<br>            flex: 1;<br>            padding: 10px;<br>        }<br>    </style><br><div class=\"wandb-row\"><div class=\"wandb-col\"><h3>Run history:</h3><br/><table class=\"wandb\"><tr><td>avg_cv_loss</td><td>█▁</td></tr><tr><td>batch_size</td><td>▁█</td></tr><tr><td>epoch</td><td>▁▁▄▇█▃▅▇▇█▅▅▆█▁▄▅▅▇▂▅▅▆▁▁▇▁▂▄▇▂▃▄▅▂▅▇▇▅▇</td></tr><tr><td>learning_rate</td><td>█▃███▃▁███████▃█▃▃▃▁▃▁███▃▁▁███▃▃██▃▁█▃▁</td></tr><tr><td>output_dim</td><td>▁▁</td></tr><tr><td>train_loss</td><td>▅▅▃▂▂▆▅▅▄▃▇▆▄▂▂▁▄▄▃▇▄▃▃█▅▅▄▁█▅▂█▃▂▂▅▄▄▇▅</td></tr><tr><td>val_loss</td><td>▁▁▁▁▁▁▁▁▁▁▁▁▁▁▁▁▁▁▁▁▁▁▁▁▁▁▁▁▁▁▁▁▁▁▁▁▁▁██</td></tr></table><br/></div><div class=\"wandb-col\"><h3>Run summary:</h3><br/><table class=\"wandb\"><tr><td>avg_cv_loss</td><td>0.01975</td></tr><tr><td>batch_size</td><td>512</td></tr><tr><td>epoch</td><td>15</td></tr><tr><td>learning_rate</td><td>0.00025</td></tr><tr><td>output_dim</td><td>128</td></tr><tr><td>train_loss</td><td>0.05783</td></tr><tr><td>val_loss</td><td>0.09991</td></tr></table><br/></div></div>"
      ],
      "text/plain": [
       "<IPython.core.display.HTML object>"
      ]
     },
     "metadata": {},
     "output_type": "display_data"
    },
    {
     "data": {
      "text/html": [
       " View run <strong style=\"color:#cdcd00\">hyperparameter-tuning</strong> at: <a href='https://wandb.ai/nnamdi-odozi-ave-actuaries/twin-tower-model/runs/cdrgtvjr' target=\"_blank\">https://wandb.ai/nnamdi-odozi-ave-actuaries/twin-tower-model/runs/cdrgtvjr</a><br> View project at: <a href='https://wandb.ai/nnamdi-odozi-ave-actuaries/twin-tower-model' target=\"_blank\">https://wandb.ai/nnamdi-odozi-ave-actuaries/twin-tower-model</a><br>Synced 5 W&B file(s), 0 media file(s), 144 artifact file(s) and 0 other file(s)"
      ],
      "text/plain": [
       "<IPython.core.display.HTML object>"
      ]
     },
     "metadata": {},
     "output_type": "display_data"
    },
    {
     "data": {
      "text/html": [
       "Find logs at: <code>./wandb/run-20250423_114436-cdrgtvjr/logs</code>"
      ],
      "text/plain": [
       "<IPython.core.display.HTML object>"
      ]
     },
     "metadata": {},
     "output_type": "display_data"
    },
    {
     "name": "stdout",
     "output_type": "stream",
     "text": [
      "Best output dimension: 128\n",
      "Best batch size: 512\n",
      "Best validation loss: 0.0197\n"
     ]
    }
   ],
   "source": [
    "# Run the hyperparameter tuning with your dataframe\n",
    "best_params, final_qry_tower, final_doc_tower = run_hyperparameter_tuning(\n",
    "    df_all_neg_ext,\n",
    "    output_dims=[128],\n",
    "    batch_sizes=[256, 512],\n",
    "    epochs=10\n",
    ")\n",
    "\n",
    "# Print the best parameters found\n",
    "print(f\"Best output dimension: {best_params['output_dim']}\")\n",
    "print(f\"Best batch size: {best_params['batch_size']}\")\n",
    "print(f\"Best validation loss: {best_params['avg_cv_loss']:.4f}\")"
   ]
  },
  {
   "cell_type": "code",
   "execution_count": 11,
   "id": "11581eef",
   "metadata": {},
   "outputs": [
    {
     "name": "stdout",
     "output_type": "stream",
     "text": [
      "Final model uploaded to Weights & Biases project: twin-tower-model\n"
     ]
    },
    {
     "data": {
      "text/html": [],
      "text/plain": [
       "<IPython.core.display.HTML object>"
      ]
     },
     "metadata": {},
     "output_type": "display_data"
    },
    {
     "data": {
      "text/html": [
       " View run <strong style=\"color:#cdcd00\">final-model-summary</strong> at: <a href='https://wandb.ai/nnamdi-odozi-ave-actuaries/twin-tower-model/runs/uclwl0ph' target=\"_blank\">https://wandb.ai/nnamdi-odozi-ave-actuaries/twin-tower-model/runs/uclwl0ph</a><br> View project at: <a href='https://wandb.ai/nnamdi-odozi-ave-actuaries/twin-tower-model' target=\"_blank\">https://wandb.ai/nnamdi-odozi-ave-actuaries/twin-tower-model</a><br>Synced 5 W&B file(s), 0 media file(s), 2 artifact file(s) and 0 other file(s)"
      ],
      "text/plain": [
       "<IPython.core.display.HTML object>"
      ]
     },
     "metadata": {},
     "output_type": "display_data"
    },
    {
     "data": {
      "text/html": [
       "Find logs at: <code>./wandb/run-20250423_121714-uclwl0ph/logs</code>"
      ],
      "text/plain": [
       "<IPython.core.display.HTML object>"
      ]
     },
     "metadata": {},
     "output_type": "display_data"
    }
   ],
   "source": [
    "# Code to upload final model to wandb\n",
    "import wandb\n",
    "import os\n",
    "import time\n",
    "from dotenv import load_dotenv\n",
    "\n",
    "# Load your API key from config.txt\n",
    "def load_api_key_from_config(config_path=\"config.txt\"):\n",
    "    try:\n",
    "        with open(config_path, \"r\") as f:\n",
    "            first_line = f.readline().strip()\n",
    "            if \"=\" in first_line:\n",
    "                api_key = first_line.split(\"=\")[1].strip()\n",
    "            else:\n",
    "                api_key = first_line\n",
    "        return api_key\n",
    "    except FileNotFoundError:\n",
    "        print(f\"Config file not found at {config_path}\")\n",
    "        return None\n",
    "\n",
    "# Set up wandb - only set API key if wandb.run doesn't exist yet\n",
    "if wandb.run is None:\n",
    "    api_key = load_api_key_from_config()\n",
    "    if api_key:\n",
    "        os.environ[\"WANDB_API_KEY\"] = api_key\n",
    "        wandb.login()\n",
    "        print(\"Successfully logged in to Weights & Biases\")\n",
    "    else:\n",
    "        print(\"Failed to load API key\")\n",
    "\n",
    "# Check if there's an active run, only initialize if needed\n",
    "if wandb.run is None:\n",
    "    run = wandb.init(\n",
    "        project=\"twin-tower-model\",\n",
    "        name=\"final-model-summary\",  # Changed name to indicate this is a summary\n",
    "        config={\n",
    "            \"output_dim\": best_params[\"output_dim\"],\n",
    "            \"batch_size\": best_params[\"batch_size\"],\n",
    "            \"architecture\": \"Twin Tower Network\",\n",
    "            \"dataset\": \"MS MARCO\"\n",
    "        }\n",
    "    )\n",
    "else:\n",
    "    run = wandb.run\n",
    "    # Update the run with additional metadata if needed\n",
    "    run.config.update({\n",
    "        \"architecture\": \"Twin Tower Network\",\n",
    "        \"dataset\": \"MS MARCO\"\n",
    "    })\n",
    "\n",
    "# Upload the model with a timestamp to avoid conflicts\n",
    "timestamp = int(time.time())\n",
    "artifact_name = f\"twin-tower-final-model-{timestamp}\"\n",
    "\n",
    "model_artifact = wandb.Artifact(\n",
    "    name=artifact_name, \n",
    "    type=\"model\",\n",
    "    description=\"Twin Tower model trained on full training data with optimal hyperparameters\"\n",
    ")\n",
    "\n",
    "final_model_path = \"checkpoints/final_model/final_model.pt\"\n",
    "model_artifact.add_file(final_model_path)\n",
    "wandb.log_artifact(model_artifact)\n",
    "\n",
    "print(f\"Final model uploaded to Weights & Biases project: {run.project}\")\n",
    "\n",
    "# Only finish the run if we created it in this script\n",
    "if run.name == \"final-model-summary\":\n",
    "    wandb.finish()"
   ]
  }
 ],
 "metadata": {
  "kernelspec": {
   "display_name": "mlx_env",
   "language": "python",
   "name": "python3"
  },
  "language_info": {
   "codemirror_mode": {
    "name": "ipython",
    "version": 3
   },
   "file_extension": ".py",
   "mimetype": "text/x-python",
   "name": "python",
   "nbconvert_exporter": "python",
   "pygments_lexer": "ipython3",
   "version": "3.10.12"
  }
 },
 "nbformat": 4,
 "nbformat_minor": 5
}

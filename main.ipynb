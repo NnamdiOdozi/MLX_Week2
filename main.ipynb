{
 "cells": [
  {
   "cell_type": "code",
   "execution_count": 1,
   "id": "c9b0ec85",
   "metadata": {},
   "outputs": [
    {
     "name": "stderr",
     "output_type": "stream",
     "text": [
      "c:\\Users\\nnamd\\OneDrive\\Python_learning\\MLX\\MLX_Week2\\mlx_env\\Lib\\site-packages\\tqdm\\auto.py:21: TqdmWarning: IProgress not found. Please update jupyter and ipywidgets. See https://ipywidgets.readthedocs.io/en/stable/user_install.html\n",
      "  from .autonotebook import tqdm as notebook_tqdm\n",
      "\u001b[34m\u001b[1mwandb\u001b[0m: Using wandb-core as the SDK backend.  Please refer to https://wandb.me/wandb-core for more information.\n"
     ]
    },
    {
     "name": "stdout",
     "output_type": "stream",
     "text": [
      "API key loaded successfully\n"
     ]
    },
    {
     "name": "stderr",
     "output_type": "stream",
     "text": [
      "\u001b[34m\u001b[1mwandb\u001b[0m: Currently logged in as: \u001b[33mnnamdi-odozi\u001b[0m (\u001b[33mnnamdi-odozi-ave-actuaries\u001b[0m) to \u001b[32mhttps://api.wandb.ai\u001b[0m. Use \u001b[1m`wandb login --relogin`\u001b[0m to force relogin\n"
     ]
    }
   ],
   "source": [
    "import torch\n",
    "import pandas as pd\n",
    "import numpy as np\n",
    "import datasets\n",
    "from load_models_and_data import load_vocabulary, load_embeddings, text_to_embeddings, calc_cosine_sim, calculate_similarities\n",
    "from tqdm import tqdm\n",
    "tqdm.pandas()"
   ]
  },
  {
   "cell_type": "code",
   "execution_count": 2,
   "id": "ba466e66",
   "metadata": {},
   "outputs": [],
   "source": [
    "from datasets import load_dataset\n",
    "\n",
    "# Loading datasets from Hugging Face\n",
    "ds1 = load_dataset(\"cocoritzy/week_2_triplet_dataset_soft_negatives\")\n",
    "ds2 = load_dataset(\"cocoritzy/week_2_triplet_dataset_hard_negatives\")\n"
   ]
  },
  {
   "cell_type": "code",
   "execution_count": 3,
   "id": "3a1948ff",
   "metadata": {},
   "outputs": [
    {
     "name": "stdout",
     "output_type": "stream",
     "text": [
      "Loading embeddings and vocabulary...\n",
      "Loaded embeddings with shape: torch.Size([63642, 128])\n",
      "Loaded vocabulary with 63641 tokens\n",
      "Embedded text shape: torch.Size([5, 128])\n",
      "Embedding array with custom formatting:\n",
      "[[ 0.1381  0.5469 -1.076  ... -0.3798 -0.7187  0.2953]\n",
      " [ 0.1925 -0.0985 -0.1367 ...  0.7328  0.5067  0.7939]\n",
      " [ 0.2072  0.043  -0.6497 ... -0.0641 -0.6588 -0.1389]\n",
      " [ 0.418  -0.645  -0.5003 ... -0.159  -0.2203 -0.2697]\n",
      " [-0.4971  0.4175 -0.0469 ... -0.1927  2.253  -0.1716]]\n"
     ]
    }
   ],
   "source": [
    "# Paths to your files\n",
    "embeddings_path = \"./downloaded_model/embeddings.pt\"\n",
    "vocab_path = \"./downloaded_model/tkn_ids_to_words.csv\"\n",
    "\n",
    "# Load embeddings and vocabulary\n",
    "print(\"Loading embeddings and vocabulary...\")\n",
    "embeddings = load_embeddings(embeddings_path)\n",
    "word_to_idx = load_vocabulary(vocab_path)\n",
    "\n",
    "print(f\"Loaded embeddings with shape: {embeddings.shape}\")\n",
    "print(f\"Loaded vocabulary with {len(word_to_idx)} tokens\")\n",
    "\n",
    "# Example usage (uncomment when ready to test)\n",
    "sample_text = \"This is a test sentence\"\n",
    "embeddings_result = text_to_embeddings(sample_text, word_to_idx, embeddings)\n",
    "print(f\"Embedded text shape: {embeddings_result.shape}\")\n",
    "\n",
    "# Testing - Set numpy print options\n",
    "np.set_printoptions(precision=4, suppress=True, threshold=10)  # threshold limits number of elements shown\n",
    "numpy_array = embeddings_result.detach().numpy()\n",
    "print(\"Embedding array with custom formatting:\")\n",
    "print(numpy_array)\n"
   ]
  },
  {
   "cell_type": "code",
   "execution_count": 4,
   "id": "53a28244",
   "metadata": {},
   "outputs": [],
   "source": [
    "df1  = pd.DataFrame(ds1['train'])\n",
    "df2  = pd.DataFrame(ds2['train'])"
   ]
  },
  {
   "cell_type": "code",
   "execution_count": 5,
   "id": "b0bc3c4c",
   "metadata": {},
   "outputs": [
    {
     "data": {
      "application/vnd.microsoft.datawrangler.viewer.v0+json": {
       "columns": [
        {
         "name": "index",
         "rawType": "int64",
         "type": "integer"
        },
        {
         "name": "query_id",
         "rawType": "int64",
         "type": "integer"
        },
        {
         "name": "query",
         "rawType": "object",
         "type": "string"
        },
        {
         "name": "positive_passage",
         "rawType": "object",
         "type": "string"
        },
        {
         "name": "negative_passage",
         "rawType": "object",
         "type": "string"
        },
        {
         "name": "negative_from_query_id",
         "rawType": "int64",
         "type": "integer"
        }
       ],
       "conversionMethod": "pd.DataFrame",
       "ref": "79fac5fb-6fd4-4aa2-b3c9-f501214d909d",
       "rows": [
        [
         "0",
         "19699",
         "what is rba",
         "Results-Based Accountability® (also known as RBA) is a disciplined way of thinking and taking action that communities can use to improve the lives of children, youth, families, adults and the community as a whole. RBA is also used by organizations to improve the performance of their programs. Creating Community Impact with RBA. Community impact focuses on conditions of well-being for children, families and the community as a whole that a group of leaders is working collectively to improve. For example: “Residents with good jobs,” “Children ready for school,” or “A safe and clean neighborhood”.",
         "I finally found some real salary data for physicians in Australia. This website outlines the different salary grades at the public hospitals in Queensland (keep in mind that Brisbane has a lower cost of living than Sydney or Melbourne): http://www.health.qld.gov.au/medical/md_rem_packages.asp. It seems like about what everybody's been saying here.",
         "86595"
        ],
        [
         "1",
         "19700",
         "was ronald reagan a democrat",
         "From Wikipedia, the free encyclopedia. A Reagan Democrat is a traditionally Democratic voter in the United States, especially a white working-class Northerner, who defected from their party to support Republican President Ronald Reagan in either or both the 1980 and 1984 elections. During the 1980 election a dramatic number of voters in the U.S., disillusioned with the economic 'malaise' of the 1970s and the presidency of Jimmy Carter (even more than, four years earlier, Liberal Republican Gerald Ford), supported former California governor (and former Democrat) Ronald Reagan.",
         "The Pacific Ocean lies to the east while the Sea of Japan and the East China Sea separate Japan from the Asian continent. In terms of latitude, Japan coincides approximately with the Mediterranean Sea and with the city of Los Angeles in North America. mountains of the Chubu region through Niigata Prefecture to the Sea of Japan. Second in length is the Tone River, which flows through the Kanto Plain to the Pacific Ocean, and third in length is the Ishikari River in Hokkaido, at 268 kilometers.",
         "66360"
        ],
        [
         "2",
         "19701",
         "how long do you need for sydney and surrounding areas",
         "Sydney is the capital city of the Australian state of New South Wales, and Australia's largest city. A week in Sydney will help you see many of the sights of Sydney and its surrounds, and understand the city and its culture. If you're up for exploring the area by bike (one of the best ways to do so as much of it is parkland), take the train to Concord West station on the Northern Line (red line on the Sydney Trains map-about 20-25 minutes from the city on a direct train).",
         "Probiotics are found in foods such as yogurt, while prebiotics are found in whole grains, bananas, onions, garlic, honey and artichokes. In addition, probiotics and prebiotics are added to some foods and available as dietary supplements. You don't necessarily need probiotics — a type of good bacteria — to be healthy. However, these microorganisms may help with digestion and offer protection from harmful bacteria, just as the existing good bacteria in your body already do. Prebiotics are nondigestible carbohydrates that act as food for probiotics.",
         "88507"
        ],
        [
         "3",
         "19702",
         "price to install tile in shower",
         "1 Install ceramic tile floor to match shower-Average prices for installation are between $11 to $22 per square foot; 2  A light/fan combination-Averages at $180 and one hour of installation; 3  Insulate and re-finish ceilings and walls-Fiberglass wall insulation with R-30 value will cost $2.25 per square foot.",
         "Iodine is critical to thyroid health and function. Without adequate dietary iodine, your body is unable to manufacture the thyroid hormones. Of course, excess intake of iodine-rich foods is also implicated in thyroid disease. Remember: moderation is the key, not excess. ",
         "87550"
        ],
        [
         "4",
         "19703",
         "why conversion observed in body",
         "Conversion disorder is a type of somatoform disorder where physical symptoms or signs are present that cannot be explained by a medical condition. Very importantly, unlike factitious disorders and malingering, the symptoms of somatoform disorders are not intentional or under conscious control of the patient.",
         "The answer to the question how much does it cost to build a house does not have a pat answer. Variables include square footage, footprint, design complexity, quality classif … ications, geographic location, metropolitan conditions, and so forth.",
         "61479"
        ],
        [
         "5",
         "19704",
         "where are the lungs located in the back",
         "1. Get help from a doctor now ›. under ribs: The lungs in the front and back are inside the rib cage. This is why doctors will place a stethoscope on the back as well as the front to evaluate the function of the lungs. ...Read more. 1 Where are your kidneys located on your back in women. 2  Where are the lungs located in the back. 3  Where are lungs located in your body. 4  Ask a doctor a question free online. 5  Where are the lungs located in the human body.",
         "Spanning tree in a nutshell. 1  STP provides a means to prevent loops by blocking links in an Ethernet network. 2  Blocked links can be brought in to service if active links fail. 3  The root bridge in a spanning tree is the logical center and sees all traffic on a network. STP configuration. Bridges will perform the spanning tree algorithm when they are first connected to the network or whenever there is a topology change. When a bridge hears a configuration message, a special type of BPDU (bridge protocol data unit), it will begin its disruptive spanning tree algorithm.",
         "99422"
        ],
        [
         "6",
         "19705",
         "cost to get a patent",
         "The cost of a patent can vary widely depending on, not only the complexity of the invention, but also the intended market. The most expensive patents are international patents, which can run up to $100,000 or higher. Domestically the costs can be $10,000 or above. Patent applications involve lots of text and drawings, even for simpler inventions. The first step in the patent application process is to file a non provisional patent application, which involves paying attorney fees in the range of $5000 to $15,000 or more, depending on the intricacies of the invention. The amount you spend on a patent application will also depend on the market opportunities",
         "ORIGIN OF NORMANS AND NAME. The Normans, as a race, originated in the Scandinavian peninsula, composed of Norway, Denmark, and Sweden. At first these bold and adventurous sea rovers were known as Northman or Norsemen. Between the eighth and ninth centuries they invaded Europe and even came to North American before the time of Columbus, it is said.",
         "60346"
        ],
        [
         "7",
         "19707",
         "best tragedies of ancient greece",
         "by Mark Cartwright. Greek tragedy was a popular and influential form of drama performed in theatres across ancient Greece from the late 6th century BCE. The most famous playwrights of the genre were Aeschylus, Sophocles, and Euripides and many of their works were still performed centuries after their initial premiere. Greek tragedy led to Greek comedy and, together, these genres formed the foundation upon which all modern theatre is based. In the Roman world, tragedy plays were translated and imitated in Latin, and the genre gave rise to a new art form from the 1st century BCE, pantomime, which drew inspiration from the presentation and subject matter of Greek tragedy.",
         "Zeit·geist. n. The spirit of the time; the taste and outlook characteristic of a period or generation: A new cult of technological optimism has deeply embedded itself in the zeitgeist (Sebastian Seung). ",
         "40600"
        ],
        [
         "8",
         "19708",
         "what is a conifer",
         "A conifer is a tree or shrub which produces distinctive cones as part of its sexual reproduction. These woody plants are classified among the gymnosperms, and they have a wide variety of uses, from trapping carbon in the environment to providing resins which can be used in the production of solvents. Several features beyond the cones set conifers apart from other types of woody plants. A conifer is typically evergreen, although some individuals are deciduous, and almost all conifers have needle or scale-like leaves.",
         "Mission San Antonio de Valero-The Alamo. Originally known as the Mission San Antonio de Valero, the Alamo, began as a Catholic mission and compound in 1718, one of many Catholic missions organized as part of the official Spanish plan to Christianize Native Americans and colonize northern New Spain.",
         "57120"
        ],
        [
         "9",
         "19709",
         "in animals somatic cells are produced by and gametic cells are produced by",
         "In animals, somatic cells are produced by mitosis and ________ are produced by meiosis. After telophase I of meiosis, the chromosomal makeup of each daughter cell is. A) diploid, and the chromosomes are composed of a single chromatid. B) diploid, and the chromosomes are composed of two chromatids. C) ha",
         "Schizophrenia types (subtypes) are diagnosed by the symptoms the person is experiencing. However, this is problematic as one person can experience a different set of schizophrenia symptoms at different times, thus leading to multiple schizophrenia subtype diagnoses. Diagnostic Criteria for Each Type of Schizophrenia. Schizophrenia types are diagnosed based on the Diagnostic and Statistical Manual of Mental Disorders (DSM-IV-TR). The DSM-IV-TR criteria for each form of schizophrenia is as follows: 4. 1  Paranoid type schizophrenia. 2  Contains: preoccupation with delusions and frequent auditory hallucination",
         "51032"
        ],
        [
         "10",
         "19710",
         "remembering the name of the author who wrote the cat in the hat",
         "The Cat in the Hat is a children's book by Dr. Seuss, featuring a tall, anthropomorphic, mischievous cat, wearing a tall, red and white striped hat. With the series of Beginner Books that The Cat inaugurated, Seuss promoted both his name and the cause of elementary literacy in the United States. ",
         "Signal peptide. A signal peptide is a short peptide present at the N-terminus of the majority of newly synthesized proteins that are destined towards the secretory pathway. These proteins include those that reside either inside certain organelles, secreted from the cell, or inserted into most cellular membranes.",
         "64905"
        ],
        [
         "11",
         "19711",
         "how long cooking chicken legs in the big easy",
         "Directions. 1  Arrange chicken thighs/leg quarters skin side up in a shallow baking dish. 2  Sprinkle with garlic powder. 3  Drizzle about 1/2 teaspoon soy sauce on each piece. 4  Bake at 350 degrees Fahrenheit for 45 minutes to an hour, until the skin is crisp and brown and the meat is ready to fall off the bones.",
         "A boy who has hypospadias should not be circumcised because the foreskin may be needed during surgery. Hypospadias may be caused by an intersex disorder, which is a condition that is caused by abnormalities in the chromosomes or endocrine system that can produce female characteristics in a male baby. In many cases of hypospadias, particularly when the genitals are incompletely formed, the testicles do not descend. Hypospadias can usually be corrected with reconstructive surgery, which is usually performed when the boy is between 6 months and 2 years of age.",
         "60325"
        ],
        [
         "12",
         "19712",
         "average cost of heating per square foot",
         "1 Expect to pay about $6-$16 a square foot for a professionally installed hydronic (hot water) radiant floor heating system, or $9,000-$22,500 or more for a 1,500 square foot home, depending on local rates, the number of temperature zones and the overall size of the system.",
         "refers to the end of an axon or an axon branch, which forms a synapse on a neuron or other target. See also terminal button. AXON TERMINAL: The axon terminal of a neuron is most commonly located at the end of the axon, nearest to the synaptic cleft..",
         "43151"
        ],
        [
         "13",
         "19713",
         "is mount pinatubo made of granite or basalt",
         "Mount Pinatubo is a volcano on the island of Luzon in the  Philippines. It is best known for its enormous eruption on June 15,  1991. This eruption was the second largest of … the twentieth  century. 1 person found this useful. Similar to many other volcanoes it has a large assortment or rocks, a lot of granite as these rocks are carried out from the magma chamber. … There are other rocks such as basalt, Scoria, sandstone, mudstone, shale, limestone, quartize, hornfels, slate and marble. 4 people",
         "Rome had a… (What was Rome’s influence on the US?)  Rome had been ruled by a monarchy,  Expanded greatly during its republican period that lasted until Caesar became emperor  Members of the Roman Senate held the greatest amount of power  The Romans used a Republican form of Government-Representative Democracy. ",
         "29457"
        ],
        [
         "14",
         "19714",
         "concrete pads cost",
         "Get an INSTANT estimate of the cost to Install a Concrete Pad! Our free calculator uses recent, trusted data to estimate costs for your Concrete Pad Installation project. For a basic 120 square feet project in zip code 47474, the benchmark cost to Install a Concrete Pad ranges between $4.64 - $6.36 per square foot* . To estimate costs for your project: 1.",
         "This information enables us to identify the rooms that will best accommodate your party and to prepare for your arrival. See room terms and details for information about rollaway and/or extra person charges. Please note that at most Starwood hotels, guests 17 and under are considered children. All other guests are considered adults. You will be told of any hotel-specific differences in this policy on the following page",
         "52698"
        ],
        [
         "15",
         "19715",
         "what kind of organism is a black damsel",
         "Known by multiple common names, such as humbug damselfish, three-striped damselfish and white-tailed damselfish, Dascyllus aruanus is a feisty little fish that adapts well to aquarium life. Three-striped damselfish can be pugnacious and are better introduced at the latter stages of setting up a marine fish community. Remove as many of the three-striped damselfish fry as you want to try and raise to a rearing aquarium, with an absence of adult fish and invertebrates that might look upon the young fish as tasty morsels for the taking. Dascyllus aruanus is a worthy first-time breeding project for up-and-coming marine aquarists.",
         "Planktonic organisms are unable to swim against a current. Being planktonic is a lifestyle and includes members from a wide variety of classifications (plants and animals, small and large). It includes the drifters who cannot swim at all as well as those that can swim feebly. The bacteria use up a lot of dissolved oxygen in the seawater so that areas of red tide may have little, or no, oxygen. If oxygen levels are low this can affect organisms in the water, such as fish. If the marine organism needs dissolved oxygen and cannot leave the red tide then it may suffocate and die.",
         "47925"
        ],
        [
         "16",
         "19716",
         "who coined the phrase it is what it is",
         "The first reference to the phrase, '...it is what it is,' that I've come across is from 1943, in a New York State hermit's letter to the editor of an Adirondack Mountain newspaper. The hermit was named Noah John Rondeau, and he concluded his letter with this particular phrase.",
         "PhD programs in pharmaceutical science at leading public universities range from $10,000 per year to $15,000 per year for in-state students. As mentioned above, out-of-state students generally pay twice the tuition of",
         "86622"
        ],
        [
         "17",
         "19717",
         "what is oilskin fabric",
         "Noun. 1. oilskin-a macintosh made from cotton fabric treated with oil and pigment to make it waterproof. slicker. mac, mack, mackintosh, macintosh-a waterproof raincoat made of rubberized fabric. 1. (Textiles). a. a cotton fabric treated with oil and pigment to make it waterproof. b. (as modifier): an oilskin hat. 2. (Clothing & Fashion) (often plural) a protective outer garment of this fabric.",
         "Radarsat 2 RADARSAT does not have these limitations. At the heart of RADARSAT is an advanced radar sensor called Synthetic Aperture Radar (SAR). SAR is a microwave instrument that sends pulsed signals to Earth and processes the received reflected pulses. Radarsat 9 RADARSAT Image Products RADARSAT image products are designed to provide operational and scientific users with a wide range of resolution, format and delivery options. For each RADARSAT beam mode, image products are processed to different levels of geometric accuracy and radiometric calibration.",
         "89760"
        ],
        [
         "18",
         "19718",
         "how long is german measles contagious",
         "Quick Answer. The German measles are contagious for 7 days before to 7 days after the rash appears, as noted by the New York State Department of Health. Rubella is another term for the German measles, and the disease itself is highly contagious and can be seen in patients through a rash, swollen glands a fever. Know More.",
         "Republican Ronald Reagan became the oldest President elected when he took office as the 40th President of the United States. The actor turned politician served two terms as President, from 1981 to 1989. Dates: February 6, 1911 -- June 5, 2004. Only two months after taking office as President of the United States, Reagan was shot on March 30, 1981 by John W. Hinckley, Jr. outside the Hilton Hotel in Washington D.C. Hinckley was copying a scene from the movie Taxi Driver, strangely believing that this was going to win him actress Jodie Foster's love.",
         "40187"
        ],
        [
         "19",
         "19719",
         "what is a camerata",
         "The Camerata are a group of four powerful and influential individuals in the city of Cloudbank. Established by Grant Kendrell and Royce Bracket, the group circumvents the official administration and democratic nature of Cloudbank, in order to establish some form of stability in the ever-changing city. The group uses the Transistor to integrate various individuals of influence. The true reason for integration is unknown, perhaps the Camerata had moral objection to outright killing their targets. Integration, however, does also appear to increase the functionality of the Transistor.",
         "1 These are averages; actual costs may be higher or lower. 2  In contrast, DoItYourself.com estimates that the cost of a typical kitchen remodel can start around $5,000 with some do-it-yourself work included, and averages $15,000-$26,000.",
         "33694"
        ],
        [
         "20",
         "19720",
         "how long does it take to bake a pound cake",
         "1. Preheat your oven to 300ºF (150ºC). In your pan or pans (this recipe is quite large -- but pound cakes are perfect for a double-layer masterpiece), line them with cooking spray or butter; this prevents sticking. You could also sprinkle with flour (on top of the butter) or line with parchment paper. Pour batter into your pan(s) and place in the oven. Cook for 75 minutes, checking periodically. Some ovens cook unevenly or quickly -- if this describes yours, keep an eye on it. 1  If to be used for fancy ornamented cakes, bake 30 to 35 minutes in a dripping-pan. 2  Insert a skewer or toothpick to see if it's finished.",
         "If the fracture fragments do move out of place and the bones heal in that position, it is called a malunion.. Treatment for this is determined by how far out of place the bones are and how the stability of the ankle joint is affected.",
         "48404"
        ],
        [
         "21",
         "19721",
         "what is the maximum dose of subutex",
         "Subutex Dosage for Treating Opioid Dependence. One typical way to dose Subutex is to start with 8 mg on the first day and 16 mg (the full dosage) on the second day. Often, by the third day you can be switched to Suboxone ® (buprenorphine and naloxone). Typically, the initial dose for treating opioid dependence is 8 mg on the first day and 16 mg",
         "Every day thousands of users submit information to us about which programs they use to open specific types of files. While we do not yet have a description of the PICON file format and what it is normally used for, we do know which programs are known to open these files. ",
         "82295"
        ],
        [
         "22",
         "19722",
         "salary difference in same team",
         "* Salaries flatten when nurses are in a position for more than 10 years. Nurses working in the same position for 11 to 15 years report a salary of $56,000; those holding their positions for over 15 years made $56,700. * As in previous years, men in nursing made more money than women. The average salary for all male respondents was $54,600, compared with $50,600 for women-an 8% difference. ",
         "1 Generally, a cleaning service will bring all the cleaning products and tools. 2  MaidPro in Boston, Massachusetts bundles cleaning into 3, 5 and 7-hour packages varying from $129 to $266 for a one-time service. 3  Biweekly jobs take 2-3 hours per visit and run $50-$70.",
         "38980"
        ],
        [
         "23",
         "19723",
         "what was tet",
         "The Tet Offensive was a military campaign during the Vietnam War that began on January 31, 1968 by the forces of the National Liberation Front for South Vietnam. The purpose w … as to displace the invading army presently stationed in South Vietnam and regain control of the country by the Vietnamese.",
         "Made from a grounded mixture of chickpeas, chickpea or gram flour is a chief condiment in Indian, Pakistani and Bangladeshi cuisines. The flour is powdery yellow and has an earthy flavor adding savour to various dishes. Chickpea flour makes a tasty and crispy coating for deep-fried vegetable pakoras. One can use either raw or roasted chickpeas. Roasted chickpea flour is more characterized; while raw flour has a slightly bitter taste. Also known as besan, it is used in gravies, batters, etc. When made into a paste with water or yogurt, it is used popularly as a face cleanser in the Indian subcontinent. Also it is commonly used as a replacement for egg in vegetarian cooking. Chila, a very popular fast food and snack is made from gram flour batter",
         "45680"
        ],
        [
         "24",
         "19725",
         "what energy is used in photosynthesis",
         "Photosynthesis is a process used by plants and other organisms to convert light energy, normally from the Sun, into chemical energy that can be later released to fuel the organisms' activities. However, not all organisms that use light as a source of energy carry out photosynthesis, since photoheterotrophs use organic compounds, rather than carbon dioxide, as a source of carbon. In plants, algae and cyanobacteria, photosynthesis releases oxygen.",
         "Question: I have to write a essay about myself. I need to include Family Background, Intrests, and Long & Short term goals. I was wondering how to start my essay and how to word my thesis in the introduction paragraph. Answers: Here's an example of how you could start off your introductory",
         "94722"
        ],
        [
         "25",
         "19726",
         "The smallest blood vessels in your body,where gas exchange occurs are called",
         "Gas exchange is the delivery of oxygen from the lungs to the bloodstream, and the elimination of carbon dioxide from the bloodstream to the lungs. It occurs in the lungs between the alveoli and a network of tiny blood vessels called capillaries, which are located in the walls of the alveoli. The walls of the alveoli actually share a membrane with the capillaries in which oxygen and carbon dioxide move freely between the respiratory system and the bloodstream.",
         "The traditional marketing concept is basically customer-oriented, while the extended market orientation concept is oriented towards customers, and also towards the other key market actors: competitors, distributors, influencers and other stakeholders, be they offline or online. The Internet technology is creating a dual trading arena where traditional market actors have changing roles and new actors are emerging. To cope with this increased market complexity, a distinction is made between a cultural and an instrumental definition of the Market Orientation (MO) concept.",
         "38735"
        ],
        [
         "26",
         "19727",
         "what is rappelling",
         "Rappelling is the process of coming down from a mountain that is usually done with two pieces of rope. Use a natural anchor or a set of bolts to rappel from with help from an experienced rock climber in this free video on rappelling techniques. Expert: Scott Kiesling. Contact: www.climbon.biz.",
         "Day Trader. An example of a momo play is the five-minute forex momo trade, which is a fast trade based on identifying a momentum burst on five-minute charts. In this play, a forex trader tries to make money from an extension move but will exit the position as soon as it appears to be weakening in order to protect profits. A slang term used to describe an advanced trading strategy based purely on momentum. In a momo play, the trader is not interested in the company's fundamentals, only in the short-term direction of a security's price movement. As such, momo plays are used solely by day traders, not by buy-and-hold investor",
         "30556"
        ],
        [
         "27",
         "19728",
         "what does a brewery representative do",
         "A Beer Sales Representative is an important member of a beer manufacturers business. They are the soldiers on the ground that Boost Beer Sales. Selling Beer is by far one of the most amazing jobs that any person can have. Becoming a Beer Sales Representative. Beer jobs are not that easy to find or get because every guy in their right mind wants to become a beer rep. Beer companies are looking for guys that know how to Sell and Market a product. They want people that have a passion for the beer business",
         "Zocor (simvastatin) is a statin that lowers lipids and cholesterol levels used in conjunction with lifestyle changes such as a low-fat, low cholesterol diet, and exercise to reduce the chances of cardiovascular disease and ischemic strokes in patients with elevated lipids and cholesterol. Zocor is available as a generic named simvastatin. Common side effects of Zocor include heartburn, gas, bloating, stomach pain, indigestion, nausea, constipation, diarrhea, headache, joint pain, muscle pain, skin rash, sleep problems (insomnia), or cold symptoms such as stuffy nose, sneezing, or sore throat.",
         "78733"
        ],
        [
         "28",
         "19729",
         "how long will i be in hospital after a gallbladder surgery last",
         "Recovering from a gallbladder removal. Recovery after keyhole surgery to remove your gallbladder (laparoscopic cholecystectomy) is usually quick. Most people are able to eat and drink and leave hospital on the same day as the surgery. In some cases you may be advised to stay overnight and go home the next day. After open surgery, you will have to stay three to five days in hospital and your recovery time will be longer. Typically, it takes around four to six weeks to recover fully from the effects of open surgery. ",
         "1 The oil from raspberry seeds is rich in Vitamin E, Omega-3 fatty acids and has a sun protection factor (SPF) of 25-50. 2  Red raspberry ketones are currently being used in Japan as a weight loss supplement in a pill form and as an external patch. 1 Red raspberry oil is creating interest in the cosmeceutical market (skin care products which provide health benefits). 2 ",
         "62539"
        ],
        [
         "29",
         "19730",
         "at what age does medicare begin",
         "For most people, Medicare starts the 1st day of the month you turn age 65. You can sign up for Medicare Part A & B which covers about 80% of the costs of care. You can also sign up for a Medicare Supplement plan (Medigap) to cover the difference. Medicare along with a Medicare Supplement is great health insurance.",
         "The word rhyme can be used in a specific and a general sense. In the specific sense, two words rhyme if their final stressed vowel and all following sounds are identical; two lines of poetry rhyme if their final strong positions are filled with rhyming words.",
         "66217"
        ],
        [
         "30",
         "19731",
         "Adoption fees for rabbits",
         "Adoption Fees Michigan Rabbit Rescue is a not-for-profit organization. The adoption donation fee is $85 ($125.00 for a pair), payable to Michigan Rabbit Rescue. This fee also includes the cost of a copy of the House Rabbit Handbook ($9.00) which is provided with all adoptions. The book fee will not be charged twice for adopting a pair, or if you already own the book.",
         "The circulatory system is the body's transport system. It is made up of a group of organs that transport blood throughout the body. The heart pumps the blood and the arteries and veins transport it. Oxygen-rich blood leaves the left side of the heart and enters the biggest artery, called the aorta. One of the most important systems in your body, the nervous system is your body's control system. It sends, receives, and processes nerve impulses throughout the body. These nerve impulses tell your muscles and organs what to do and how to respond to the environment.",
         "81693"
        ],
        [
         "31",
         "19732",
         "what is a diabetic kidney",
         "Diabetic kidney disease, or diabetic nephropathy, is a complication of type 1 or type 2 diabetes caused by damage to the kidneys' delicate filtering system. Your kidneys contain millions of tiny blood vessel clusters (glomeruli) that filter waste from your blood.",
         "Humanistic and integrative psychotherapy encourages the distinctly human qualities of choice and creativity. It recognises that we are strongly influenced by forces in society and in the unconscious, and some of these are negative and destructive.",
         "44992"
        ],
        [
         "32",
         "19733",
         "why is james madison father of constitution",
         "James Madison. James Madison, America's fourth President (1809-1817), made a major contribution to the ratification of the Constitution by writing The Federalist Papers, along with Alexander Hamilton and John Jay. In later years, he was referred to as the Father of the Constitution..",
         "You will see Bronson Cave immediately, a drive-through tunnel carved into a 100-foot tall rock wall. There are three exits at the far end of the 50-foot long tunnel. One is big enough for a Batmobile and the others are crawl-through size. Walk right in. No flashlight is needed to explore the short cave.",
         "25583"
        ],
        [
         "33",
         "19734",
         "what temp does meat need to be cooked to",
         "Marinated Grilled Steak. The proper temperature to cook a medium-rare steak is 130° - 135° F. Although, according to foodsafety.gov, beef, lamb, and pork should be cooked to at least 145° (or above, if desired). Ground meat must be cooked to at least 160° F. Ground poultry must be cooked to at least 165°. ",
         "Addison’s disease represents an insufficiency or dysfunction of the cortex of the adrenal glands, which fails to release adequate amounts of hormones to meet the physiological needs of the body, despite release of adrenocorticotrophic hormone (ACTH) from the pituitary gland. Their cortex produces several steroid hormones, of which the glucocorticoid cortisol, the mineralocorticoid aldosterone and the sexual hormone dehydroepiandrosterone (DHEA) are important. Addison’s disease affects both glucocorticoid and mineralocorticoid function.",
         "94579"
        ],
        [
         "34",
         "19735",
         "what is a mobile analog phone",
         "Motorola DynaTAC 8000X TACS mobile phone. Advanced Mobile Phone System (AMPS) is an analog mobile cell phone system standard developed by Bell Labs, and officially introduced in the Americas on October 13, 1983, Israel in 1986, Australia in 1987, and Pakistan in 1990. It was the primary analog mobile phone system in North America (and other locales) through the 1980s and into the 2000s. As of February 18, 2008, carriers in the United States were no longer required to support AMPS and companies such as AT&T and Verizon have discontinued this service permanently.",
         "2. apostrophe-the mark (') used to indicate the omission of one or more letters from a printed word. punctuation mark, punctuation-the marks used to clarify meaning by indicating separation of words into sentences and clauses and phrases. Translations. [əˈpɒstrəfɪ] N. 1. the punctuation mark ' used to indicate the omission of a letter or number, such as he's for he has or he is, also used in English to form the possessive, as in John's father and twenty pounds' worth. [C17: from Late Latin, from Greek apostrophos mark of elision, from apostrephein to turn away].",
         "93631"
        ],
        [
         "35",
         "19736",
         "traits that are derived from a common ancestor are said to be",
         "Convergent evolution creates analogous structures that have similar form or function, but that were not present in the last common ancestor of those groups. The cladistic term for the same phenomenon is homoplasy, from Greek for same form. The recurrent evolution of flight is a classic example of convergent evolution. Functionally similar features arising through convergent evolution are termed analogous, in contrast to homologous structures or traits, which have a common origin, but not necessarily similar function.",
         "The USDA also requires that eggs be sold under refrigeration, regardless of how they are washed, so even your super-crunchy health food stores are going to keep their eggs in the refrigerator or risk being shut down. Any world traveler has probably noticed that in most countries outside of the US and Canada, eggs aren't stored under refrigeration. Whether you are wandering in an outdoor market, shopping in a grocery store or visiting a home, you will find eggs sitting on the counter, at room temperature.",
         "27126"
        ],
        [
         "36",
         "19737",
         "residential solar cost",
         "System Costs. As mentioned in the introduction, residential solar systems are typically sized from 3 to 8kW and end up costing somewhere between $15,000 and $40,000. In this section, we will look at the costs of the various components of a solar system (not installation or operational costs). Solar Panels. The solar panels themselves usually account for about 30% of total costs. Residential solar panels with a combined capacity of 3-8kW typically cost between $4,000-$16,000. The best solar panels are not necessarily the most expensive.",
         "Hence it is advised to avoid eating for 8-12 hours before the blood sample is drawn for a lipid profile test. Given below is the normal range of fasting triglyceride levels, in children and adults, as per the National Cholesterol Education Program (NCEP), USA. In the first trimester, triglyceride levels fall, and then gradually increase to reach a maximum value during the third trimester. The levels observed during third trimester are 2-3 fold higher than the regular levels. After delivery, the amount of triglycerides gradually reduces to attai",
         "99761"
        ],
        [
         "37",
         "19738",
         "irs late penalty fees",
         "1 The penalty for filing late is normally 5 percent of the unpaid taxes for each month or part of a month that a tax return is late. 2  That penalty starts accruing the day after the tax filing due date and will not exceed 25 percent of your unpaid taxes.",
         "This report describes the typical weather at the Yellowknife Airport (Yellowknife, Northwest Territories, Canada) weather station over the course of an average year. It is based on the historical records from 1977 to 2012. Earlier records are either unavailable or unreliable. During the cold season, which lasts from November 25 to March 12, there is a 69% average chance that precipitation will be observed at some point during a given day. When precipitation does occur it is most often in the form of light snow (86% of days with precipitation have at worst light snow) and moderate snow (13%).",
         "88138"
        ],
        [
         "38",
         "19739",
         "what is the discriminant of an equation",
         "The Discriminant. In the quadratic formula, the expression under the square root sign, b 2 – 4 ac, is called the discriminant. The sign of the discriminant can be used to find the number of solutions of the corresponding quadratic equation, ax 2 + bx + c = 0. If the discriminant b 2 – 4 ac is negative, then there are no real solutions of the equation. If the discriminant is positive, then the ± symbol means you get two answers. The solutions of this equation correspond to the x-intercepts of the parabola. y = ax 2 + bx + c. So, you can also use the discriminant to find the number of x-intercepts of a parabola.",
         "Seasoning cooked beans with salt can prolong their shelf life in the refrigerator to about one week. Salt acts as a natural preservative, making food last longer.",
         "50885"
        ],
        [
         "39",
         "19740",
         "gayla name meaning",
         "English Meaning: The name Gayla is an English baby name. In English the meaning of the name Gayla is: Festive party. American Meaning: The name Gayla is an American baby name. In American the meaning of the name Gayla is: Festive party. SoulUrge Number: 2. Expression Number: 1. People with this name have a deep inner desire for love and companionship, and want to work with others to achieve peace and harmony.",
         "In the final Fence Stain 101, we’ll show you how to do it while still keeping your fence protected. Fence Stain 101 is a three-part series offering professional tips for staining your wood fence. This is the second installment. Try to choose a streak of cloudy weather for staining your fence. If your wood fence is new, you need to let it set for a few days in warm, sunny weather so the moisture will evaporate from the wood. If you’ve recently pressure washed your fence, wait until it dries thoroughly.",
         "95818"
        ],
        [
         "40",
         "19741",
         "what animal is a possum",
         "Foxes, cats and birds of prey are the main predators of the possum but other animals such as Tasmanian devils, dogs, dingos and snakes also prey on the possum. The possum is a very solitary animal, and possum individuals only really come together to mate. The pygmy possum is the smallest species of possum in the world, growing to just 10cm tall, where the brushtail possum can reach more than a meter in height.",
         "An RNA virus is a virus that has RNA (ribonucleic acid) as its genetic material. Ambisense RNA viruses resemble negative-sense RNA viruses, except they also translate genes from the positive strand.",
         "58280"
        ],
        [
         "41",
         "19742",
         "types of bacterial respiration",
         "The respiration in bacteria is basically of two types aerobic and anaerobic which may be obligate or facultative. They are further classified as: Obligate aerobes: These are strict aerobes that mean they always require oxygen for their survival. They are not able to withstand anaerobic conditions. ",
         "how pinworm infections spread pinworms infections are highly contagious you become infected with pinworms by unintentionally ingesting pinworm eggs which have been deposited onto a surface by an infected person the cycle of infection begins with the ingestion of these microscopic eggs",
         "21818"
        ],
        [
         "42",
         "19743",
         "what are monocytes",
         "3D Rendering of a Monocyte. Monocytes are a type of white blood cells (leukocytes). They are the largest of all leukocytes. They are part of the innate immune system of vertebrates including all mammals (humans included), birds, reptiles, and fish. Monocytes which migrate from the bloodstream to other tissues will then differentiate into tissue resident macrophages or dendritic cells. Macrophages are responsible for protecting tissues from foreign substances, but are also suspected to be important in the formation of important organs like the heart and brain.",
         "Remember: Do not breed too young, too old or undernourished ewes. A ewe comes into first heat at 6 to 7 months of age, or sometimes earlier, but she should not be bred at this time. This is the reason why ewes and rams must be raised apart as from 4 months old onwards. - She may have trouble giving birth. A good practice is to breed a young ewe when she has reached about 80% of her grown weight. * For example, if grown ewes in your area weigh around 80 pounds, breed young ewes when they weigh 60 to 70 pounds. Complete according to what you have studied. 1  It is convenient to wait at least months after the last parturition (lambing) before a ewe is bred again",
         "59247"
        ],
        [
         "43",
         "19744",
         "interior decorator cost per hour",
         "The cost of hiring an interior designer varies greatly. Most charge per hour, with the current market rate between $50 and $200 per hour. You would pay this in addition to the cost of furniture, accessories, artwork, etc. Some interior designers charge their clients by marking up the decor they choose.",
         "The terms of the trust are the duties and powers of the trustee and the rights of the beneficiary conferred by the settlor when he created the trust. State statutes and court decisions govern the law of trusts. The validity of a trust of real property is determined by the law of the state where the property is located. The court appoints a trustee to administer the trust and orders the person having legal title to the property to convey it to the appointed trustee. If two or more trustees are appointed, they always hold the title to trust property in Joint Tenancy with the Right of Survivorship.",
         "95959"
        ],
        [
         "44",
         "19745",
         "certified child life specialist average salary locally",
         "$37,000. Average Child Life Specialist salaries for job postings in Las Vegas, NV are 19% lower than average Child Life Specialist salaries for job postings nationwide. ",
         "For example, at the Advantage Staffing website at http://www.advantagestaffing.net/Jobs.htm#Flagger, an ad reads: FLAGGERS – Oregon and Washington $8.50 - $9.50 per hour Job Description: Need certified flaggers for local construction sites. There's a good article about gettting a job as a flagger at http://www.ehow.com/how_5280970_job-flagger-making-hr.html which might also be helpful. It mentions that union flaggers can earn close to $25 per hour, while non-union and utility company workers, etc. make less.",
         "49107"
        ],
        [
         "45",
         "19746",
         "What Kills Scorpions Naturally",
         "Keep yourself, your loved ones, and your home safe from scorpions with diatomaceous earth. It's a safe product that works through a mechanical reaction, rather than chemical, to kill bugs. When the scorpion comes into contact with the DE, the powder will attach to the exoskeleton of the scorpion and begin to dehydrate.",
         "Eukaryotic cells are those cells, which are complex and larger than the prokaryotic cells. The term eukaryote is derived from the Greek word- a€â€ oeeukaryotea œeukaryoteâ meaning true or. Good nuclei this cell includes all life kingdoms. except monera The prokaryotic cells do not have membrane bound cellular organelles. The cellular structure of the prokaryotes and eukaryotes differ in the presence of c ellular structures like the mitochondria and chloroplasts, cell wall and the structure of chromosomal DNA.",
         "34127"
        ],
        [
         "46",
         "19747",
         "what is the meaning of powhiri",
         "The powhiri is the ritual ceremony of encounter. Traditionally the process served to discover whether the visiting party were friend or foe, and so its origins lay partly in military necessity. The kaupapa or purpose of the occasion will be discussed, and perhaps general present day issues and concerns might be aired. Each speech is followed by the performance of a waiata (song), or sometimes a haka (dance), by the orator's support group.",
         "On average a dog stayes in heat for 3 weeks, or 21 days. But some dogs can go only 2 weeks while others may go up to 4 weeks. Report Abuse. On average a dog stayes in heat for 3 weeks, or 21 days. But some dogs can go only 2 weeks while others may go up to 4 weeks. Just like humans, they all differ. We've owned many dogs and they all vary but average out to about 3",
         "38220"
        ],
        [
         "47",
         "19748",
         "Burly Man Definition",
         "Burly Man. Often refers to a man who is able to grow a corn-silk like beard. A burly man is not afraid to share his eclectic tastes such as music and authors. A burly man is a true friend who is reliable.",
         "hair grows at the rate of 1/2 inch per month. You cannot speed it up with anything! don't waste your money on any false claims from people.",
         "76266"
        ],
        [
         "48",
         "19749",
         "do game shows pay their contestants",
         "1 If you can use most of the prizes the show offers, such as a new car or trip, you may be content to appear on a game show that features material prizes. 2  If not, you should probably try out for a show where cash is the main prize. 3  In the United States, game show contestants must pay taxes on any prizes they win. 2. Meet the eligibility requirements. All game shows have certain eligibility requirements for their contestants. Generally, you must be at least 18 years of age, except for those shows that use child or teenage contestants, and you are allowed to appear on no more than 1 game show per year.",
         "LOCATION AND SIZE. Located between Colombia and Peru on the west coast of South America, Ecuador has an area of 283,560 square kilometers (176,204 square miles) and a coastline of 2,237 kilometers (1,390 miles).",
         "72580"
        ],
        [
         "49",
         "19750",
         "diseases caused by clostridium",
         "by Seth Cowan. Tetanus is a disease caused by the bacteria Clostridium tetani, a gram negative rod bacterium. C. tetani spores generally reside in manure rich soils after being passed from the normal gut flora of animals. ",
         "A supply planner is responsible for making sure an organisation has enough inventory on hand to meet its objectives. Supply chain planners generate and monitor production schedules and works closely with a master production scheduler to ensure policies are being followed. A supply planner is responsible for managing inventory targets in order to ensure a steady level of supply, manufacturing, or product availability. It is vital to create and implement accurate distribution plans. Good attention to detail and being proactive in solving problems is also important. The Certified Demand Driven Planner Program was created by a global partnership between the International Supply Chain Education Alliance (ISCEA) and the Demand Driven Institute (DDI).",
         "60309"
        ]
       ],
       "shape": {
        "columns": 5,
        "rows": 79704
       }
      },
      "text/html": [
       "<div>\n",
       "<style scoped>\n",
       "    .dataframe tbody tr th:only-of-type {\n",
       "        vertical-align: middle;\n",
       "    }\n",
       "\n",
       "    .dataframe tbody tr th {\n",
       "        vertical-align: top;\n",
       "    }\n",
       "\n",
       "    .dataframe thead th {\n",
       "        text-align: right;\n",
       "    }\n",
       "</style>\n",
       "<table border=\"1\" class=\"dataframe\">\n",
       "  <thead>\n",
       "    <tr style=\"text-align: right;\">\n",
       "      <th></th>\n",
       "      <th>query_id</th>\n",
       "      <th>query</th>\n",
       "      <th>positive_passage</th>\n",
       "      <th>negative_passage</th>\n",
       "      <th>negative_from_query_id</th>\n",
       "    </tr>\n",
       "  </thead>\n",
       "  <tbody>\n",
       "    <tr>\n",
       "      <th>0</th>\n",
       "      <td>19699</td>\n",
       "      <td>what is rba</td>\n",
       "      <td>Results-Based Accountability® (also known as R...</td>\n",
       "      <td>I finally found some real salary data for phys...</td>\n",
       "      <td>86595</td>\n",
       "    </tr>\n",
       "    <tr>\n",
       "      <th>1</th>\n",
       "      <td>19700</td>\n",
       "      <td>was ronald reagan a democrat</td>\n",
       "      <td>From Wikipedia, the free encyclopedia. A Reaga...</td>\n",
       "      <td>The Pacific Ocean lies to the east while the S...</td>\n",
       "      <td>66360</td>\n",
       "    </tr>\n",
       "    <tr>\n",
       "      <th>2</th>\n",
       "      <td>19701</td>\n",
       "      <td>how long do you need for sydney and surroundin...</td>\n",
       "      <td>Sydney is the capital city of the Australian s...</td>\n",
       "      <td>Probiotics are found in foods such as yogurt, ...</td>\n",
       "      <td>88507</td>\n",
       "    </tr>\n",
       "    <tr>\n",
       "      <th>3</th>\n",
       "      <td>19702</td>\n",
       "      <td>price to install tile in shower</td>\n",
       "      <td>1 Install ceramic tile floor to match shower-A...</td>\n",
       "      <td>Iodine is critical to thyroid health and funct...</td>\n",
       "      <td>87550</td>\n",
       "    </tr>\n",
       "    <tr>\n",
       "      <th>4</th>\n",
       "      <td>19703</td>\n",
       "      <td>why conversion observed in body</td>\n",
       "      <td>Conversion disorder is a type of somatoform di...</td>\n",
       "      <td>The answer to the question how much does it co...</td>\n",
       "      <td>61479</td>\n",
       "    </tr>\n",
       "    <tr>\n",
       "      <th>...</th>\n",
       "      <td>...</td>\n",
       "      <td>...</td>\n",
       "      <td>...</td>\n",
       "      <td>...</td>\n",
       "      <td>...</td>\n",
       "    </tr>\n",
       "    <tr>\n",
       "      <th>79699</th>\n",
       "      <td>102124</td>\n",
       "      <td>meaning of propagation</td>\n",
       "      <td>definition of propagation the act or action of...</td>\n",
       "      <td>A minimum of two credits of laboratory science...</td>\n",
       "      <td>21857</td>\n",
       "    </tr>\n",
       "    <tr>\n",
       "      <th>79700</th>\n",
       "      <td>102125</td>\n",
       "      <td>do you have to do a phd to be a clinical psych...</td>\n",
       "      <td>The goal you choose will determine your path. ...</td>\n",
       "      <td>1 The mitochondria of eukaryotes evolved from ...</td>\n",
       "      <td>28764</td>\n",
       "    </tr>\n",
       "    <tr>\n",
       "      <th>79701</th>\n",
       "      <td>102126</td>\n",
       "      <td>what wine goes with oysters</td>\n",
       "      <td>You may also enjoy these other types of wine w...</td>\n",
       "      <td>Raynaud's (say ray-NOHZ) phenomenon is a probl...</td>\n",
       "      <td>42284</td>\n",
       "    </tr>\n",
       "    <tr>\n",
       "      <th>79702</th>\n",
       "      <td>102127</td>\n",
       "      <td>what strengths does lithium come in</td>\n",
       "      <td>Lithium 150 mg. Lithium (Eskalith ® , Eskalith...</td>\n",
       "      <td>While kids feel like they’ve been grownups for...</td>\n",
       "      <td>42891</td>\n",
       "    </tr>\n",
       "    <tr>\n",
       "      <th>79703</th>\n",
       "      <td>102128</td>\n",
       "      <td>what is polarity index definition</td>\n",
       "      <td>Polarity Index. Burdick &amp; Jackson solvents are...</td>\n",
       "      <td>Calculating Costs Per Inmate. According to the...</td>\n",
       "      <td>94401</td>\n",
       "    </tr>\n",
       "  </tbody>\n",
       "</table>\n",
       "<p>79704 rows × 5 columns</p>\n",
       "</div>"
      ],
      "text/plain": [
       "       query_id                                              query  \\\n",
       "0         19699                                        what is rba   \n",
       "1         19700                       was ronald reagan a democrat   \n",
       "2         19701  how long do you need for sydney and surroundin...   \n",
       "3         19702                    price to install tile in shower   \n",
       "4         19703                    why conversion observed in body   \n",
       "...         ...                                                ...   \n",
       "79699    102124                             meaning of propagation   \n",
       "79700    102125  do you have to do a phd to be a clinical psych...   \n",
       "79701    102126                        what wine goes with oysters   \n",
       "79702    102127                what strengths does lithium come in   \n",
       "79703    102128                  what is polarity index definition   \n",
       "\n",
       "                                        positive_passage  \\\n",
       "0      Results-Based Accountability® (also known as R...   \n",
       "1      From Wikipedia, the free encyclopedia. A Reaga...   \n",
       "2      Sydney is the capital city of the Australian s...   \n",
       "3      1 Install ceramic tile floor to match shower-A...   \n",
       "4      Conversion disorder is a type of somatoform di...   \n",
       "...                                                  ...   \n",
       "79699  definition of propagation the act or action of...   \n",
       "79700  The goal you choose will determine your path. ...   \n",
       "79701  You may also enjoy these other types of wine w...   \n",
       "79702  Lithium 150 mg. Lithium (Eskalith ® , Eskalith...   \n",
       "79703  Polarity Index. Burdick & Jackson solvents are...   \n",
       "\n",
       "                                        negative_passage  \\\n",
       "0      I finally found some real salary data for phys...   \n",
       "1      The Pacific Ocean lies to the east while the S...   \n",
       "2      Probiotics are found in foods such as yogurt, ...   \n",
       "3      Iodine is critical to thyroid health and funct...   \n",
       "4      The answer to the question how much does it co...   \n",
       "...                                                  ...   \n",
       "79699  A minimum of two credits of laboratory science...   \n",
       "79700  1 The mitochondria of eukaryotes evolved from ...   \n",
       "79701  Raynaud's (say ray-NOHZ) phenomenon is a probl...   \n",
       "79702  While kids feel like they’ve been grownups for...   \n",
       "79703  Calculating Costs Per Inmate. According to the...   \n",
       "\n",
       "       negative_from_query_id  \n",
       "0                       86595  \n",
       "1                       66360  \n",
       "2                       88507  \n",
       "3                       87550  \n",
       "4                       61479  \n",
       "...                       ...  \n",
       "79699                   21857  \n",
       "79700                   28764  \n",
       "79701                   42284  \n",
       "79702                   42891  \n",
       "79703                   94401  \n",
       "\n",
       "[79704 rows x 5 columns]"
      ]
     },
     "execution_count": 5,
     "metadata": {},
     "output_type": "execute_result"
    }
   ],
   "source": [
    "df1"
   ]
  },
  {
   "cell_type": "code",
   "execution_count": 6,
   "id": "260a30f0",
   "metadata": {},
   "outputs": [
    {
     "data": {
      "application/vnd.microsoft.datawrangler.viewer.v0+json": {
       "columns": [
        {
         "name": "index",
         "rawType": "int64",
         "type": "integer"
        },
        {
         "name": "query_id",
         "rawType": "int64",
         "type": "integer"
        },
        {
         "name": "query",
         "rawType": "object",
         "type": "string"
        },
        {
         "name": "positive_passage",
         "rawType": "object",
         "type": "string"
        },
        {
         "name": "negative_passage",
         "rawType": "object",
         "type": "string"
        },
        {
         "name": "negative_index_in_group",
         "rawType": "int64",
         "type": "integer"
        }
       ],
       "conversionMethod": "pd.DataFrame",
       "ref": "31610983-b887-471c-9cb6-fa441cd44df9",
       "rows": [
        [
         "0",
         "19699",
         "what is rba",
         "Results-Based Accountability® (also known as RBA) is a disciplined way of thinking and taking action that communities can use to improve the lives of children, youth, families, adults and the community as a whole. RBA is also used by organizations to improve the performance of their programs. Creating Community Impact with RBA. Community impact focuses on conditions of well-being for children, families and the community as a whole that a group of leaders is working collectively to improve. For example: “Residents with good jobs,” “Children ready for school,” or “A safe and clean neighborhood”.",
         "vs. NetIQ Identity Manager. Risk-based authentication (RBA) is a method of applying varying levels of stringency to authentication processes based on the likelihood that access to a given system could result in its being compromised. Risk-based authentication can be categorized as either user-dependent or transaction-dependent. User-dependent RBA processes employ the same authentication for every session initiated by a given user; the exact credentials that the site demands depend on who the user is.",
         "8"
        ],
        [
         "1",
         "19700",
         "was ronald reagan a democrat",
         "From Wikipedia, the free encyclopedia. A Reagan Democrat is a traditionally Democratic voter in the United States, especially a white working-class Northerner, who defected from their party to support Republican President Ronald Reagan in either or both the 1980 and 1984 elections. During the 1980 election a dramatic number of voters in the U.S., disillusioned with the economic 'malaise' of the 1970s and the presidency of Jimmy Carter (even more than, four years earlier, Liberal Republican Gerald Ford), supported former California governor (and former Democrat) Ronald Reagan.",
         "1984 Re-Election. In November 1984, Ronald Reagan was re-elected in a landslide, defeating Democratic challenger Walter Mondale. Reagan carried 49 of the 50 U.S. states in the election, and received 525 of 538 electoral votes—the largest number ever won by an American presidential candidate. ",
         "7"
        ],
        [
         "2",
         "19701",
         "how long do you need for sydney and surrounding areas",
         "Sydney is the capital city of the Australian state of New South Wales, and Australia's largest city. A week in Sydney will help you see many of the sights of Sydney and its surrounds, and understand the city and its culture. If you're up for exploring the area by bike (one of the best ways to do so as much of it is parkland), take the train to Concord West station on the Northern Line (red line on the Sydney Trains map-about 20-25 minutes from the city on a direct train).",
         "The Sydney central business district, Sydney harbour and outer suburbs from the West. North Sydney 's commercial district. The extensive area covered by urban Sydney is formally divided into more than 300 suburbs for addressing and postal purposes, and administered as 38 local government areas. The Sydney Statistical Division, used for census data, is the unofficial metropolitan area and covers 12,145 km² (4,689 mi²). This area includes the Central Coast and Blue Mountains as well as broad swathes of national park and other non-urban land.",
         "3"
        ],
        [
         "3",
         "19702",
         "price to install tile in shower",
         "1 Install ceramic tile floor to match shower-Average prices for installation are between $11 to $22 per square foot; 2  A light/fan combination-Averages at $180 and one hour of installation; 3  Insulate and re-finish ceilings and walls-Fiberglass wall insulation with R-30 value will cost $2.25 per square foot.",
         "The national average for a new shower installation project, when performed by a capable contractor, is $2,689. At the low-end of the normal cost range, homeowners are paying $1,109, and at the high end of the average range they’re spending $2,459. More luxurious showers can cost in excess of $10,000 to install.",
         "8"
        ],
        [
         "4",
         "19703",
         "why conversion observed in body",
         "Conversion disorder is a type of somatoform disorder where physical symptoms or signs are present that cannot be explained by a medical condition. Very importantly, unlike factitious disorders and malingering, the symptoms of somatoform disorders are not intentional or under conscious control of the patient.",
         "Conclusions: In adult body CT, dose to an organ fully encompassed by the primary radiation beam can be estimated from CTDI vol using a protocol-independent conversion coefficient. However, fully encompassed organs only account for 50% ± 19% of k factor and 46% ± 24% of q factor. Dose received by partially encompassed organs is also substantial. To estimate effective dose and risk index from DLP, it is necessary to use conversion coefficients specific to the anatomical region examined.",
         "1"
        ],
        [
         "5",
         "19704",
         "where are the lungs located in the back",
         "1. Get help from a doctor now ›. under ribs: The lungs in the front and back are inside the rib cage. This is why doctors will place a stethoscope on the back as well as the front to evaluate the function of the lungs. ...Read more. 1 Where are your kidneys located on your back in women. 2  Where are the lungs located in the back. 3  Where are lungs located in your body. 4  Ask a doctor a question free online. 5  Where are the lungs located in the human body.",
         "When you have pain in your lungs and back pain, or upper back pain from your lungs, it could be the earliest signs of some very serious problems such as lung cancer, or it may only be a coincidence. You may only have something as simple as mechanical back pain, and bronchitis. There are also many possible causes of lung or breathing pain, which are not associated with your back or spine. Among these would be a collapsed lung, or an infection of some type, such as pneumonia or an abscess. You may also have pleuritis or pleurisy, an inflammation of the pleura that covers the lungs.",
         "3"
        ],
        [
         "6",
         "19705",
         "cost to get a patent",
         "The cost of a patent can vary widely depending on, not only the complexity of the invention, but also the intended market. The most expensive patents are international patents, which can run up to $100,000 or higher. Domestically the costs can be $10,000 or above. Patent applications involve lots of text and drawings, even for simpler inventions. The first step in the patent application process is to file a non provisional patent application, which involves paying attorney fees in the range of $5000 to $15,000 or more, depending on the intricacies of the invention. The amount you spend on a patent application will also depend on the market opportunities",
         "“Patent attorneys are expensive — it's not unusual for the patent process to cost inventors $5,000 to $15,000.” (Don Dedelak, “How To Find A Company To Make And Market An Invention” Entrepreneur, April 1, 2001). $5000 to $7000 in attorney’s fees for a simple patent application. $100,000 or more for worldwide patent rights. “Getting even a simple patent approved -- a process known as ‘prosecuting’ the patent application -- can cost up to $10,000 domestically and $100,000 or more for worldwide rights…” Cost of getting a patent.",
         "3"
        ],
        [
         "7",
         "19707",
         "best tragedies of ancient greece",
         "by Mark Cartwright. Greek tragedy was a popular and influential form of drama performed in theatres across ancient Greece from the late 6th century BCE. The most famous playwrights of the genre were Aeschylus, Sophocles, and Euripides and many of their works were still performed centuries after their initial premiere. Greek tragedy led to Greek comedy and, together, these genres formed the foundation upon which all modern theatre is based. In the Roman world, tragedy plays were translated and imitated in Latin, and the genre gave rise to a new art form from the 1st century BCE, pantomime, which drew inspiration from the presentation and subject matter of Greek tragedy.",
         "(1777-1779, the final lines of Oedipus at Colonnus). Sophocles of Kolōnos (c. 496 - c. 406 BCE) was one of the most famous and celebrated writers of tragedy plays in ancient Greece and his surviving works, written throughout the 5th century BCE, include such classics as Oedipus the King, Antigone, and Women of Trachis. The most famous playwrights of the genre were Aeschylus, Sophocles, and Euripides and many of their works were still performed centuries after their initial premiere. Greek tragedy led to Greek comedy and, together, these... [ continue reading ].",
         "3"
        ],
        [
         "8",
         "19708",
         "what is a conifer",
         "A conifer is a tree or shrub which produces distinctive cones as part of its sexual reproduction. These woody plants are classified among the gymnosperms, and they have a wide variety of uses, from trapping carbon in the environment to providing resins which can be used in the production of solvents. Several features beyond the cones set conifers apart from other types of woody plants. A conifer is typically evergreen, although some individuals are deciduous, and almost all conifers have needle or scale-like leaves.",
         "Any of various trees or shrubs that bear cones. Conifers are dependent on the wind to blow pollen produced by the male cones to the female cones, where seeds develop. Conifers are usually evergreen, often have needle-shaped or scale-like leaves, and include the pine, fir, spruce, hemlock, and yew. See Note at pollination. 1. conifer-any gymnospermous tree or shrub bearing cones. coniferous tree. pine, pine tree, true pine-a coniferous tree. larch tree, larch-any of numerous conifers of the genus Larix all having deciduous needlelike leaves.",
         "6"
        ],
        [
         "9",
         "19709",
         "in animals somatic cells are produced by and gametic cells are produced by",
         "In animals, somatic cells are produced by mitosis and ________ are produced by meiosis. After telophase I of meiosis, the chromosomal makeup of each daughter cell is. A) diploid, and the chromosomes are composed of a single chromatid. B) diploid, and the chromosomes are composed of two chromatids. C) ha",
         "Haploid describes a cell that contains a single set of chromosomes. The term haploid can also refer to the number of chromosomes in egg or sperm cells, which are also called gametes. In humans, gametes are haploid cells that contain 23 chromosomes, each of which a one of a chromosome pair that exists in diplod cells. The number of chromosomes in a single set is represented as n, which is also called the haploid number",
         "5"
        ],
        [
         "10",
         "19710",
         "remembering the name of the author who wrote the cat in the hat",
         "The Cat in the Hat is a children's book by Dr. Seuss, featuring a tall, anthropomorphic, mischievous cat, wearing a tall, red and white striped hat. With the series of Beginner Books that The Cat inaugurated, Seuss promoted both his name and the cause of elementary literacy in the United States. ",
         "After the war Geisel focused on his children's books, writing classics such as If I Ran the Zoo (1950), Horton Hears a Who! (1955), If I Ran the Circus (1956), The Cat in the Hat (1957), How the Grinch Stole Christmas! (1957), and Green Eggs and Ham (1960). Geisel adopted his Dr. Seuss pseudonym during his university studies at Dartmouth College and the University of Oxford. After leaving Oxford in 1927 he began his career as an illustrator and cartoonist for Vanity Fair, Life, and various other publications.",
         "9"
        ],
        [
         "11",
         "19711",
         "how long cooking chicken legs in the big easy",
         "Directions. 1  Arrange chicken thighs/leg quarters skin side up in a shallow baking dish. 2  Sprinkle with garlic powder. 3  Drizzle about 1/2 teaspoon soy sauce on each piece. 4  Bake at 350 degrees Fahrenheit for 45 minutes to an hour, until the skin is crisp and brown and the meat is ready to fall off the bones.",
         "1 Arrange chicken thighs/leg quarters skin side up in a shallow baking dish. 2  Sprinkle with garlic powder. 3  Drizzle about 1/2 teaspoon soy sauce on each piece. 4  Bake at 350 degrees Fahrenheit for 45 minutes to an hour, until the skin is crisp and brown and the meat is ready to fall off the bones.",
         "3"
        ],
        [
         "12",
         "19712",
         "average cost of heating per square foot",
         "1 Expect to pay about $6-$16 a square foot for a professionally installed hydronic (hot water) radiant floor heating system, or $9,000-$22,500 or more for a 1,500 square foot home, depending on local rates, the number of temperature zones and the overall size of the system.",
         "Current electric charges in the area are about 15¢ per kWh, natural gas is about $1.40 a ccf, propane is about $3.00 a gallon, and oil is about $3.20 a gallon. The annual cost to heat a 2200 square foot existing house of average energy consumption for different combinations of fuels and furnaces: 1  Natural Gas in an 80% furnace: $1215.",
         "5"
        ],
        [
         "13",
         "19713",
         "is mount pinatubo made of granite or basalt",
         "Mount Pinatubo is a volcano on the island of Luzon in the  Philippines. It is best known for its enormous eruption on June 15,  1991. This eruption was the second largest of … the twentieth  century. 1 person found this useful. Similar to many other volcanoes it has a large assortment or rocks, a lot of granite as these rocks are carried out from the magma chamber. … There are other rocks such as basalt, Scoria, sandstone, mudstone, shale, limestone, quartize, hornfels, slate and marble. 4 people",
         "Mount Pinatubo (Filipino: Bundok Pinatubo) is an active stratovolcano in the Cabusilan Mountains on the island of Luzon, near the tripoint of the Philippine provinces of Zambales, Tarlac, and Pampanga. Before the volcanic activities of 1991, its eruptive history was unknown to most people. It ejected roughly 10,000,000,000 tonnes (1.1 × 10 10 short tons) or 10 km 3 (2.4 cu mi) of magma, and 20,000,000 tonnes (22,000,000 short tons) SO 2, bringing vast quantities of minerals and metals to the surface environment. It injected more particulate into the stratosphere than any eruption since Krakatoa in 1883.",
         "6"
        ],
        [
         "14",
         "19714",
         "concrete pads cost",
         "Get an INSTANT estimate of the cost to Install a Concrete Pad! Our free calculator uses recent, trusted data to estimate costs for your Concrete Pad Installation project. For a basic 120 square feet project in zip code 47474, the benchmark cost to Install a Concrete Pad ranges between $4.64 - $6.36 per square foot* . To estimate costs for your project: 1.",
         "Labor. The cost to pour a concrete pad takes a big jump if you hire the pros, who charge per hour, per worker. If forming and pouring your pad takes three workers two days to complete at a cost of $30 per worker hour, it could add around $1,400 to your bill. That’s not counting concrete, reinforcement, excavation and fill sand costs.",
         "4"
        ],
        [
         "15",
         "19715",
         "what kind of organism is a black damsel",
         "Known by multiple common names, such as humbug damselfish, three-striped damselfish and white-tailed damselfish, Dascyllus aruanus is a feisty little fish that adapts well to aquarium life. Three-striped damselfish can be pugnacious and are better introduced at the latter stages of setting up a marine fish community. Remove as many of the three-striped damselfish fry as you want to try and raise to a rearing aquarium, with an absence of adult fish and invertebrates that might look upon the young fish as tasty morsels for the taking. Dascyllus aruanus is a worthy first-time breeding project for up-and-coming marine aquarists.",
         "1 Three Stripe Damsel Fish-These striking black and white fish are fairly aggressive and need a large aquarium with plenty of hiding places. 2  Cerulean Damsel Fish-These vividly coloured fish are very territorial and should be added to the aquarium only after more peaceful fish have had time to establish themselves. 1 Sulphur Damsel Fish-With exotic yellow colouration, these hardy and adaptable fish are aquarium favourites. 2  Blue Green Chromis-These stunningly beautiful iridescent fish are naturally hardy and peaceful by nature. 3  Despite being small they need a lot of swimming space.",
         "8"
        ],
        [
         "16",
         "19716",
         "who coined the phrase it is what it is",
         "The first reference to the phrase, '...it is what it is,' that I've come across is from 1943, in a New York State hermit's letter to the editor of an Adirondack Mountain newspaper. The hermit was named Noah John Rondeau, and he concluded his letter with this particular phrase.",
         "While you’ll never hear me use the phrase “It is what it is”, there is value in maintaining a portion of your attitude that is stoic in nature. Know what you can control and what you can’t control. And the first thing to accept that you can’t control is the past.",
         "5"
        ],
        [
         "17",
         "19717",
         "what is oilskin fabric",
         "Noun. 1. oilskin-a macintosh made from cotton fabric treated with oil and pigment to make it waterproof. slicker. mac, mack, mackintosh, macintosh-a waterproof raincoat made of rubberized fabric. 1. (Textiles). a. a cotton fabric treated with oil and pigment to make it waterproof. b. (as modifier): an oilskin hat. 2. (Clothing & Fashion) (often plural) a protective outer garment of this fabric.",
         "An oilskin is a waterproof garment, typically worn by sailors and by others in wet areas, such as fish-plant workers. The cuffs of better oilskin jackets include an inner seal at the wrist similar to that on a scuba diver's drysuit to prevent water from being forced up the sleeve. Pockets on trousers and jackets are often lined with quick-drying synthetic fleece that is warm even when soaked.",
         "2"
        ],
        [
         "18",
         "19718",
         "how long is german measles contagious",
         "Quick Answer. The German measles are contagious for 7 days before to 7 days after the rash appears, as noted by the New York State Department of Health. Rubella is another term for the German measles, and the disease itself is highly contagious and can be seen in patients through a rash, swollen glands a fever. Know More.",
         "Rubella is contagious but less so than measles and chickenpox. How long does it take to show signs of rubella after being exposed? The incubation period varies from 12 to 23 days (av-erage, 14 days). Symptoms are often mild and may be subclinical or inapparent up to half of the time.",
         "2"
        ],
        [
         "19",
         "19719",
         "what is a camerata",
         "The Camerata are a group of four powerful and influential individuals in the city of Cloudbank. Established by Grant Kendrell and Royce Bracket, the group circumvents the official administration and democratic nature of Cloudbank, in order to establish some form of stability in the ever-changing city. The group uses the Transistor to integrate various individuals of influence. The true reason for integration is unknown, perhaps the Camerata had moral objection to outright killing their targets. Integration, however, does also appear to increase the functionality of the Transistor.",
         "Origin of CAMERATA. New Latin, from Latin, neuter plural of cameratus, past participle of camerare to arch, from camera arched roof — more at chamber. This word doesn't usually appear in our free dictionary, but the definition from our premium Unabridged Dictionary is offered here on a limited basis. Note that some information is displayed differently in the Unabridged. To access the complete Unabridged Dictionary, with an additional 300,000 words that aren't in our free dictionary, start a free trial.",
         "2"
        ],
        [
         "20",
         "19720",
         "how long does it take to bake a pound cake",
         "1. Preheat your oven to 300ºF (150ºC). In your pan or pans (this recipe is quite large -- but pound cakes are perfect for a double-layer masterpiece), line them with cooking spray or butter; this prevents sticking. You could also sprinkle with flour (on top of the butter) or line with parchment paper. Pour batter into your pan(s) and place in the oven. Cook for 75 minutes, checking periodically. Some ovens cook unevenly or quickly -- if this describes yours, keep an eye on it. 1  If to be used for fancy ornamented cakes, bake 30 to 35 minutes in a dripping-pan. 2  Insert a skewer or toothpick to see if it's finished.",
         "There's nothing like the taste of a cake you made in your own kitchen. Baking a cake is as simple as measuring ingredients, mixing them in the right order, and remembering to take the cake out of the oven before it burns. Read on to learn how to bake three basic cakes: chocolate cake, apple cake, and vanilla pound cake. Scroll to the bottom for tips on how to follow a cake recipe. ",
         "1"
        ],
        [
         "21",
         "19721",
         "what is the maximum dose of subutex",
         "Subutex Dosage for Treating Opioid Dependence. One typical way to dose Subutex is to start with 8 mg on the first day and 16 mg (the full dosage) on the second day. Often, by the third day you can be switched to Suboxone ® (buprenorphine and naloxone). Typically, the initial dose for treating opioid dependence is 8 mg on the first day and 16 mg",
         "Multiple clinical trials have compared buprenorphine with methadone for opioid maintenance. Most studies have shown that buprenorphine (less than 40 mg) is as effective as low-dose methadone (less than 40 mg). 17, 18 High-dose methadone (greater than 60 mg) may be more effective than buprenorphine, however. A meta-analysis 18 of five studies that compared the two therapies showed that 8 to 12 mg of buprenorphine is not as effective as 50 to 80 mg of methadone. 19 A 2004 Cochrane review 16 confirmed these findings. ",
         "5"
        ],
        [
         "22",
         "19722",
         "salary difference in same team",
         "* Salaries flatten when nurses are in a position for more than 10 years. Nurses working in the same position for 11 to 15 years report a salary of $56,000; those holding their positions for over 15 years made $56,700. * As in previous years, men in nursing made more money than women. The average salary for all male respondents was $54,600, compared with $50,600 for women-an 8% difference. ",
         "The 14 teams participating in New Zealand's ITM Cup currently face a salary cap that is the lesser of $NZ 1.35 million or 36% of the union's commercial revenue. Maximum player salaries are $55,000, and minimum salaries are $18,000. The salary cap, known officially as Total Player Payments, is A$10,070,000 for the 2015 season with a salary floor of $9,566,500 except for Greater Western Sydney, whose salary cap is $10,500,000 with a floor of $9,996,500.",
         "1"
        ],
        [
         "23",
         "19723",
         "what was tet",
         "The Tet Offensive was a military campaign during the Vietnam War that began on January 31, 1968 by the forces of the National Liberation Front for South Vietnam. The purpose w … as to displace the invading army presently stationed in South Vietnam and regain control of the country by the Vietnamese.",
         "The Tet Offensive was a series of surprise attacks by the Vietcong (rebel forces sponsored by North Vietnam) and North Vietnamese forces, on scores of cities, towns, and hamlets throughout South Vietnam.",
         "9"
        ],
        [
         "24",
         "19725",
         "what energy is used in photosynthesis",
         "Photosynthesis is a process used by plants and other organisms to convert light energy, normally from the Sun, into chemical energy that can be later released to fuel the organisms' activities. However, not all organisms that use light as a source of energy carry out photosynthesis, since photoheterotrophs use organic compounds, rather than carbon dioxide, as a source of carbon. In plants, algae and cyanobacteria, photosynthesis releases oxygen.",
         "PHOTOSYNTHESIS. INTRODUCTION. Photosynthesis, process by which green plants and certain other organisms use the energy of light to convert carbon dioxide and water into the simple sugar glucose. In so doing, photosynthesis provides the basic energy source for virtually all organisms. Photosynthesis, process by which green plants and certain other organisms use the energy of light to convert carbon dioxide and water into the simple sugar glucose",
         "2"
        ],
        [
         "25",
         "19726",
         "The smallest blood vessels in your body,where gas exchange occurs are called",
         "Gas exchange is the delivery of oxygen from the lungs to the bloodstream, and the elimination of carbon dioxide from the bloodstream to the lungs. It occurs in the lungs between the alveoli and a network of tiny blood vessels called capillaries, which are located in the walls of the alveoli. The walls of the alveoli actually share a membrane with the capillaries in which oxygen and carbon dioxide move freely between the respiratory system and the bloodstream.",
         "2. Capillaries-these are the sites of gas exchange between the tissues. 3. Veins-these return oxygen poor blood to the heart, except for the vein that carries blood from the lungs. On the right is a diagram showing how the three connect. Notice the artery and vein are much larger than the capillaries.",
         "5"
        ],
        [
         "26",
         "19727",
         "what is rappelling",
         "Rappelling is the process of coming down from a mountain that is usually done with two pieces of rope. Use a natural anchor or a set of bolts to rappel from with help from an experienced rock climber in this free video on rappelling techniques. Expert: Scott Kiesling. Contact: www.climbon.biz.",
         "1. rappel - (mountaineering) a descent of a vertical cliff or wall made by using a doubled rope that is fixed to a higher point and wrapped around the body. abseil. mountain climbing, mountaineering-the activity of climbing a mountain. descent-the act of changing your location in a downward direction.",
         "4"
        ],
        [
         "27",
         "19728",
         "what does a brewery representative do",
         "A Beer Sales Representative is an important member of a beer manufacturers business. They are the soldiers on the ground that Boost Beer Sales. Selling Beer is by far one of the most amazing jobs that any person can have. Becoming a Beer Sales Representative. Beer jobs are not that easy to find or get because every guy in their right mind wants to become a beer rep. Beer companies are looking for guys that know how to Sell and Market a product. They want people that have a passion for the beer business",
         "Brewery Representative. Have passion for craft beer & sales. 2+ years of sales experience. We are passionate about our company and our beer, and we work each day to create great beer... 6 days ago-save job-email-more... 1  View all Harpoon Brewery jobs in Boston, MA-Boston jobs.",
         "1"
        ],
        [
         "28",
         "19729",
         "how long will i be in hospital after a gallbladder surgery last",
         "Recovering from a gallbladder removal. Recovery after keyhole surgery to remove your gallbladder (laparoscopic cholecystectomy) is usually quick. Most people are able to eat and drink and leave hospital on the same day as the surgery. In some cases you may be advised to stay overnight and go home the next day. After open surgery, you will have to stay three to five days in hospital and your recovery time will be longer. Typically, it takes around four to six weeks to recover fully from the effects of open surgery. ",
         "Laparoscopic gallbladder surgery requires a shorter hospital stay; usually the patient is home within 24 hours. In some cases you may need to stay overnight. In contrast, patients undergoing open cholecystectomy are often in the hospital three to seven days. ",
         "2"
        ],
        [
         "29",
         "19730",
         "at what age does medicare begin",
         "For most people, Medicare starts the 1st day of the month you turn age 65. You can sign up for Medicare Part A & B which covers about 80% of the costs of care. You can also sign up for a Medicare Supplement plan (Medigap) to cover the difference. Medicare along with a Medicare Supplement is great health insurance.",
         "You can sign up for Medicare beginning three months before you turn 65, and coverage can start as soon as the first day of your birthday month. The initial enrollment period lasts until three months after your 65th birthday.",
         "2"
        ],
        [
         "30",
         "19731",
         "Adoption fees for rabbits",
         "Adoption Fees Michigan Rabbit Rescue is a not-for-profit organization. The adoption donation fee is $85 ($125.00 for a pair), payable to Michigan Rabbit Rescue. This fee also includes the cost of a copy of the House Rabbit Handbook ($9.00) which is provided with all adoptions. The book fee will not be charged twice for adopting a pair, or if you already own the book.",
         "1 $60 adoption fee for a single rabbit for members, $78 for nonmembers ($18 sent in for HRS membership). 2  $100 adoption fee for a pair of rabbits for members, $118 for nonmembers. 3  The fee helps cover the cost of spaying and neutering.",
         "2"
        ],
        [
         "31",
         "19732",
         "what is a diabetic kidney",
         "Diabetic kidney disease, or diabetic nephropathy, is a complication of type 1 or type 2 diabetes caused by damage to the kidneys' delicate filtering system. Your kidneys contain millions of tiny blood vessel clusters (glomeruli) that filter waste from your blood.",
         "Kidney disease in type 1 diabetes is slightly different than in type 2 diabetes. In type 1 diabetes, kidney disease rarely begins in the first 10 years after diagnosis of diabetes. In type 2 diabetes, some patients already have kidney disease by the time they are diagnosed with diabetes.",
         "3"
        ],
        [
         "32",
         "19733",
         "why is james madison father of constitution",
         "James Madison. James Madison, America's fourth President (1809-1817), made a major contribution to the ratification of the Constitution by writing The Federalist Papers, along with Alexander Hamilton and John Jay. In later years, he was referred to as the Father of the Constitution..",
         "In later years, when he was referred to as the Father of the Constitution, Madison protested that the document was not the off-spring of a single brain, but the work of many heads and many hands.. In Congress, he helped frame the Bill of Rights and enact the first revenue legislation.",
         "5"
        ],
        [
         "33",
         "19734",
         "what temp does meat need to be cooked to",
         "Marinated Grilled Steak. The proper temperature to cook a medium-rare steak is 130° - 135° F. Although, according to foodsafety.gov, beef, lamb, and pork should be cooked to at least 145° (or above, if desired). Ground meat must be cooked to at least 160° F. Ground poultry must be cooked to at least 165°. ",
         "If you are cooking at high temps, carryover can be up to 10°F. If you are cooking at low temps, it might not go up the full 5°F. But 5°F is a good rule of thumb for most roasts. Medium rare is the best temp for beef, lamb, venison steaks, roasts, and duck breasts. Food scientists have equipment to measure tenderness and juiciness. But at that temp, it takes at least two hours to kill them to 7D. The time gets lower as the temperature goes higher. So beef at 140°F degrees will get to a 7D kill rate in just 12 minutes, while at 160°F degrees, pathogens are destroyed in just 7.3 seconds, hence the USDA guidelines for the consumer.",
         "4"
        ],
        [
         "34",
         "19735",
         "what is a mobile analog phone",
         "Motorola DynaTAC 8000X TACS mobile phone. Advanced Mobile Phone System (AMPS) is an analog mobile cell phone system standard developed by Bell Labs, and officially introduced in the Americas on October 13, 1983, Israel in 1986, Australia in 1987, and Pakistan in 1990. It was the primary analog mobile phone system in North America (and other locales) through the 1980s and into the 2000s. As of February 18, 2008, carriers in the United States were no longer required to support AMPS and companies such as AT&T and Verizon have discontinued this service permanently.",
         "In 1983, the analog cell phone standard called AMPS (Advanced Mobile Phone System) was approved by the U.S. Federal Communications Commission (FCC) and first used in Chicago. AMPS uses a range of frequencies between 824 megahertz (MHz) and 894 MHz for analog cell phones. ",
         "7"
        ],
        [
         "35",
         "19736",
         "traits that are derived from a common ancestor are said to be",
         "Convergent evolution creates analogous structures that have similar form or function, but that were not present in the last common ancestor of those groups. The cladistic term for the same phenomenon is homoplasy, from Greek for same form. The recurrent evolution of flight is a classic example of convergent evolution. Functionally similar features arising through convergent evolution are termed analogous, in contrast to homologous structures or traits, which have a common origin, but not necessarily similar function.",
         "Primitive trait: same as plesiomorphy; a character that is present in the common ancestor of a clade; a primitive trait is inferred to be the original character state of that character within the clade under consideration; compare to derived trait. Evolutionary Systematics is based on identifying and determining the traits of an ancestral species or, more usually, supra-specific taxa. Cladistics rejects the possibity of knowing the actual common ancestor, and instead posits a hypothetical common ancestor.",
         "3"
        ],
        [
         "36",
         "19737",
         "residential solar cost",
         "System Costs. As mentioned in the introduction, residential solar systems are typically sized from 3 to 8kW and end up costing somewhere between $15,000 and $40,000. In this section, we will look at the costs of the various components of a solar system (not installation or operational costs). Solar Panels. The solar panels themselves usually account for about 30% of total costs. Residential solar panels with a combined capacity of 3-8kW typically cost between $4,000-$16,000. The best solar panels are not necessarily the most expensive.",
         "The bulk of the price of going solar is now the “soft costs” (installation, permitting, etc.) rather than the solar panel cost. Again referencing the latest US Solar Market Insight report, the average installed cost of a residential solar panel system was $4.72/watt. However, prices vary tremendously by region. “Common residential system prices ranged from less than $3.00/W to just above $7.00/W,” the Solar Energy Industries Association writes. The total price of a system, of course, varies tremendously based on the size of your roof and your electricity needs. I got a quote for my 2,000 square foot house in the Dallas area and it was $85,000 installed. Financed over 30 years that comes out to $509/month. My electric bill is about $140/month on average. So over 30 years solar would cost over $100,000 more than electricity from the grid (gas, coal, wind).",
         "4"
        ],
        [
         "37",
         "19738",
         "irs late penalty fees",
         "1 The penalty for filing late is normally 5 percent of the unpaid taxes for each month or part of a month that a tax return is late. 2  That penalty starts accruing the day after the tax filing due date and will not exceed 25 percent of your unpaid taxes.",
         "If you file your tax return on time and apply for an installment agreement, the IRS reduces your late-payment penalty to 0.25 percent per month. $5,000 x 0.0025 = $12.50 per month. If you do not apply for the filing extension, the late-filing payment fee is 4.5 percent of the unpaid tax per month up to five months. $5,000 x 0.045 = $225 per month. In addition to late-payment penalties, any tax you owe after April 15 will accrue interest.",
         "8"
        ],
        [
         "38",
         "19739",
         "what is the discriminant of an equation",
         "The Discriminant. In the quadratic formula, the expression under the square root sign, b 2 – 4 ac, is called the discriminant. The sign of the discriminant can be used to find the number of solutions of the corresponding quadratic equation, ax 2 + bx + c = 0. If the discriminant b 2 – 4 ac is negative, then there are no real solutions of the equation. If the discriminant is positive, then the ± symbol means you get two answers. The solutions of this equation correspond to the x-intercepts of the parabola. y = ax 2 + bx + c. So, you can also use the discriminant to find the number of x-intercepts of a parabola.",
         "Definition of Discriminant. The Discriminant of an equation gives an idea of the number of roots and the nature of roots of the equation. If ax 2 + bx + c = 0 is a quadratic equation, then the Discriminant of the equation, i.e. D = b 2 - 4ac. ",
         "4"
        ],
        [
         "39",
         "19740",
         "gayla name meaning",
         "English Meaning: The name Gayla is an English baby name. In English the meaning of the name Gayla is: Festive party. American Meaning: The name Gayla is an American baby name. In American the meaning of the name Gayla is: Festive party. SoulUrge Number: 2. Expression Number: 1. People with this name have a deep inner desire for love and companionship, and want to work with others to achieve peace and harmony.",
         "Gayla is a very prominent first name for females (#1027 out of 4276, Top 24%) but an unusual surname for both adults and children. (2000 U.S. Census). Displayed below is the birth name popularity of Gayla for girls. Gayla was first listed in 1940-1949 and reached its highest position of #493 in the U.S. during 1950-1959, but is not found in the list currently.",
         "8"
        ],
        [
         "40",
         "19741",
         "what animal is a possum",
         "Foxes, cats and birds of prey are the main predators of the possum but other animals such as Tasmanian devils, dogs, dingos and snakes also prey on the possum. The possum is a very solitary animal, and possum individuals only really come together to mate. The pygmy possum is the smallest species of possum in the world, growing to just 10cm tall, where the brushtail possum can reach more than a meter in height.",
         "The possum is a medium-sized marsupial that is natively found in Australia, Papua New Guinea and Sulawesi, which is a tropical island found in the Indonesian Archipelago. Today the possum has also been introduced to New Zealand and parts of China. The pygmy possum is the smallest species of possum in the world, growing to just 10cm tall, where the brushtail possum can reach more than a meter in height.",
         "7"
        ],
        [
         "41",
         "19742",
         "types of bacterial respiration",
         "The respiration in bacteria is basically of two types aerobic and anaerobic which may be obligate or facultative. They are further classified as: Obligate aerobes: These are strict aerobes that mean they always require oxygen for their survival. They are not able to withstand anaerobic conditions. ",
         "Electron Transport and Oxidative Phosphorylation. In the final stage of respiration, ATP is formed through a series of electron transfer reactions within the cytoplasmic membrane that drive the oxidative phosphorylation of ADP to ATP. Bacteria use various flavins, cytochrome, and non-heme iron components as well as multiple cytochrome oxidases for this process. ",
         "9"
        ],
        [
         "42",
         "19743",
         "what are monocytes",
         "3D Rendering of a Monocyte. Monocytes are a type of white blood cells (leukocytes). They are the largest of all leukocytes. They are part of the innate immune system of vertebrates including all mammals (humans included), birds, reptiles, and fish. Monocytes which migrate from the bloodstream to other tissues will then differentiate into tissue resident macrophages or dendritic cells. Macrophages are responsible for protecting tissues from foreign substances, but are also suspected to be important in the formation of important organs like the heart and brain.",
         "Monocytes are white blood cells that are common to the blood of all vertebrates and they help the immune system to function properly. There are a number of reasons for a high monocyte count, which can also be called monocytosis. Some of the reasons can include stress, viral fevers, inflammation and organ necrosis. A physician may order a monocyte blood count test to check for raised levels of monocytes. There are a number of reasons for this test, from a simple health check up to people suffering from heart attacks and leukemia. Complications with the blood and cancer are two other reasons that this test may be performed.",
         "7"
        ],
        [
         "43",
         "19744",
         "interior decorator cost per hour",
         "The cost of hiring an interior designer varies greatly. Most charge per hour, with the current market rate between $50 and $200 per hour. You would pay this in addition to the cost of furniture, accessories, artwork, etc. Some interior designers charge their clients by marking up the decor they choose.",
         "If the interior decorator charges for his services by the hour, the hourly rate may range between $50 and $200 per hour depending on the square footage of the space and the amount of work needed to complete the job.",
         "3"
        ],
        [
         "44",
         "19745",
         "certified child life specialist average salary locally",
         "$37,000. Average Child Life Specialist salaries for job postings in Las Vegas, NV are 19% lower than average Child Life Specialist salaries for job postings nationwide. ",
         "Results from a child life salary survey in 2012 indicated that, on average, entry-level child life professionals earned $39,263, but this varied based on the region of the country, position held, number of years of experience in the field, education level, certification status and size of the child life program. ",
         "2"
        ],
        [
         "45",
         "19746",
         "What Kills Scorpions Naturally",
         "Keep yourself, your loved ones, and your home safe from scorpions with diatomaceous earth. It's a safe product that works through a mechanical reaction, rather than chemical, to kill bugs. When the scorpion comes into contact with the DE, the powder will attach to the exoskeleton of the scorpion and begin to dehydrate.",
         "Natural Scorpion Pest Control. Scorpions can get inside buildings through torn windows and door screens, or through vents and other openings in walls. For this reason, prevention is a good, natural method of scorpion pest control. Check weather stripping around doors and make sure there are no gaps. Repair or replace any damaged sections.",
         "4"
        ],
        [
         "46",
         "19747",
         "what is the meaning of powhiri",
         "The powhiri is the ritual ceremony of encounter. Traditionally the process served to discover whether the visiting party were friend or foe, and so its origins lay partly in military necessity. The kaupapa or purpose of the occasion will be discussed, and perhaps general present day issues and concerns might be aired. Each speech is followed by the performance of a waiata (song), or sometimes a haka (dance), by the orator's support group.",
         "A pōwhiri may not be performed for every group of manuhiri (visitors); a mihi whakatau (informal greeting to visitors) may be used instead. Pōwhiri is often used for special visitors or for tūpāpaku (the body of the deceased) for a tangihanga (funeral). The first warrior represents the realm of Tumatauenga, the Atua (God) of War. The third Warrior represents Rongo the Atua of Peace (Rangimarie). It is the final warrior who offers the rautapu, a signal that the manuhiri (guests) may enter the Marae-atea.",
         "1"
        ],
        [
         "47",
         "19748",
         "Burly Man Definition",
         "Burly Man. Often refers to a man who is able to grow a corn-silk like beard. A burly man is not afraid to share his eclectic tastes such as music and authors. A burly man is a true friend who is reliable.",
         "LINK / CITE ADD TO WORD LIST. adjective. This man is burly. This man is burly. The definition of burly is big, strong and rough. An example of a burly person is a muscular lumberjack.",
         "5"
        ],
        [
         "48",
         "19749",
         "do game shows pay their contestants",
         "1 If you can use most of the prizes the show offers, such as a new car or trip, you may be content to appear on a game show that features material prizes. 2  If not, you should probably try out for a show where cash is the main prize. 3  In the United States, game show contestants must pay taxes on any prizes they win. 2. Meet the eligibility requirements. All game shows have certain eligibility requirements for their contestants. Generally, you must be at least 18 years of age, except for those shows that use child or teenage contestants, and you are allowed to appear on no more than 1 game show per year.",
         "Rating Newest Oldest. Best Answer: You don't always win the money amount on the front of your lectern when you are on a game show. As someone else said, 2nd place earns $2000 and 3rd place earns $1000 in Jeopardy! In any case, the prize money is paid out from the ad revenue that the show receives from sponsors. I think in this case Who Wants to be a Millionaire or Deal or No Deal is the best example of how shows can be successful while still paying the prize money. I feel this way because these shows have a potential, however small it may be, to pay out 1 million dollars to every contestant on the show. Here is the reality. Regardless of the show whether it be a game show or a drama, a network will receive money from commercial advertising based on the viewership. With this in mind a game show costs very little to actually air compared to a full production drama series, that's where the prize money comes from",
         "4"
        ],
        [
         "49",
         "19750",
         "diseases caused by clostridium",
         "by Seth Cowan. Tetanus is a disease caused by the bacteria Clostridium tetani, a gram negative rod bacterium. C. tetani spores generally reside in manure rich soils after being passed from the normal gut flora of animals. ",
         "Clostridial gas gangrene is a highly lethal necrotizing soft tissue infection of skeletal muscle caused by toxin-and gas-producing Clostridium species. The synonym clostridial myonecrosis better describes both the causative agent and the target tissue. ",
         "2"
        ]
       ],
       "shape": {
        "columns": 5,
        "rows": 79700
       }
      },
      "text/html": [
       "<div>\n",
       "<style scoped>\n",
       "    .dataframe tbody tr th:only-of-type {\n",
       "        vertical-align: middle;\n",
       "    }\n",
       "\n",
       "    .dataframe tbody tr th {\n",
       "        vertical-align: top;\n",
       "    }\n",
       "\n",
       "    .dataframe thead th {\n",
       "        text-align: right;\n",
       "    }\n",
       "</style>\n",
       "<table border=\"1\" class=\"dataframe\">\n",
       "  <thead>\n",
       "    <tr style=\"text-align: right;\">\n",
       "      <th></th>\n",
       "      <th>query_id</th>\n",
       "      <th>query</th>\n",
       "      <th>positive_passage</th>\n",
       "      <th>negative_passage</th>\n",
       "      <th>negative_index_in_group</th>\n",
       "    </tr>\n",
       "  </thead>\n",
       "  <tbody>\n",
       "    <tr>\n",
       "      <th>0</th>\n",
       "      <td>19699</td>\n",
       "      <td>what is rba</td>\n",
       "      <td>Results-Based Accountability® (also known as R...</td>\n",
       "      <td>vs. NetIQ Identity Manager. Risk-based authent...</td>\n",
       "      <td>8</td>\n",
       "    </tr>\n",
       "    <tr>\n",
       "      <th>1</th>\n",
       "      <td>19700</td>\n",
       "      <td>was ronald reagan a democrat</td>\n",
       "      <td>From Wikipedia, the free encyclopedia. A Reaga...</td>\n",
       "      <td>1984 Re-Election. In November 1984, Ronald Rea...</td>\n",
       "      <td>7</td>\n",
       "    </tr>\n",
       "    <tr>\n",
       "      <th>2</th>\n",
       "      <td>19701</td>\n",
       "      <td>how long do you need for sydney and surroundin...</td>\n",
       "      <td>Sydney is the capital city of the Australian s...</td>\n",
       "      <td>The Sydney central business district, Sydney h...</td>\n",
       "      <td>3</td>\n",
       "    </tr>\n",
       "    <tr>\n",
       "      <th>3</th>\n",
       "      <td>19702</td>\n",
       "      <td>price to install tile in shower</td>\n",
       "      <td>1 Install ceramic tile floor to match shower-A...</td>\n",
       "      <td>The national average for a new shower installa...</td>\n",
       "      <td>8</td>\n",
       "    </tr>\n",
       "    <tr>\n",
       "      <th>4</th>\n",
       "      <td>19703</td>\n",
       "      <td>why conversion observed in body</td>\n",
       "      <td>Conversion disorder is a type of somatoform di...</td>\n",
       "      <td>Conclusions: In adult body CT, dose to an orga...</td>\n",
       "      <td>1</td>\n",
       "    </tr>\n",
       "    <tr>\n",
       "      <th>...</th>\n",
       "      <td>...</td>\n",
       "      <td>...</td>\n",
       "      <td>...</td>\n",
       "      <td>...</td>\n",
       "      <td>...</td>\n",
       "    </tr>\n",
       "    <tr>\n",
       "      <th>79695</th>\n",
       "      <td>102124</td>\n",
       "      <td>meaning of propagation</td>\n",
       "      <td>definition of propagation the act or action of...</td>\n",
       "      <td>1 1 no object of a plant or animal reproduce b...</td>\n",
       "      <td>3</td>\n",
       "    </tr>\n",
       "    <tr>\n",
       "      <th>79696</th>\n",
       "      <td>102125</td>\n",
       "      <td>do you have to do a phd to be a clinical psych...</td>\n",
       "      <td>The goal you choose will determine your path. ...</td>\n",
       "      <td>The Path to Becoming a Psychologist. First, yo...</td>\n",
       "      <td>1</td>\n",
       "    </tr>\n",
       "    <tr>\n",
       "      <th>79697</th>\n",
       "      <td>102126</td>\n",
       "      <td>what wine goes with oysters</td>\n",
       "      <td>You may also enjoy these other types of wine w...</td>\n",
       "      <td>If you need a wine to pair with oysters or mus...</td>\n",
       "      <td>1</td>\n",
       "    </tr>\n",
       "    <tr>\n",
       "      <th>79698</th>\n",
       "      <td>102127</td>\n",
       "      <td>what strengths does lithium come in</td>\n",
       "      <td>Lithium 150 mg. Lithium (Eskalith ® , Eskalith...</td>\n",
       "      <td>A: Lithium is a medication that is used to tre...</td>\n",
       "      <td>8</td>\n",
       "    </tr>\n",
       "    <tr>\n",
       "      <th>79699</th>\n",
       "      <td>102128</td>\n",
       "      <td>what is polarity index definition</td>\n",
       "      <td>Polarity Index. Burdick &amp; Jackson solvents are...</td>\n",
       "      <td>Definition. noun. (1) The presence of or havin...</td>\n",
       "      <td>5</td>\n",
       "    </tr>\n",
       "  </tbody>\n",
       "</table>\n",
       "<p>79700 rows × 5 columns</p>\n",
       "</div>"
      ],
      "text/plain": [
       "       query_id                                              query  \\\n",
       "0         19699                                        what is rba   \n",
       "1         19700                       was ronald reagan a democrat   \n",
       "2         19701  how long do you need for sydney and surroundin...   \n",
       "3         19702                    price to install tile in shower   \n",
       "4         19703                    why conversion observed in body   \n",
       "...         ...                                                ...   \n",
       "79695    102124                             meaning of propagation   \n",
       "79696    102125  do you have to do a phd to be a clinical psych...   \n",
       "79697    102126                        what wine goes with oysters   \n",
       "79698    102127                what strengths does lithium come in   \n",
       "79699    102128                  what is polarity index definition   \n",
       "\n",
       "                                        positive_passage  \\\n",
       "0      Results-Based Accountability® (also known as R...   \n",
       "1      From Wikipedia, the free encyclopedia. A Reaga...   \n",
       "2      Sydney is the capital city of the Australian s...   \n",
       "3      1 Install ceramic tile floor to match shower-A...   \n",
       "4      Conversion disorder is a type of somatoform di...   \n",
       "...                                                  ...   \n",
       "79695  definition of propagation the act or action of...   \n",
       "79696  The goal you choose will determine your path. ...   \n",
       "79697  You may also enjoy these other types of wine w...   \n",
       "79698  Lithium 150 mg. Lithium (Eskalith ® , Eskalith...   \n",
       "79699  Polarity Index. Burdick & Jackson solvents are...   \n",
       "\n",
       "                                        negative_passage  \\\n",
       "0      vs. NetIQ Identity Manager. Risk-based authent...   \n",
       "1      1984 Re-Election. In November 1984, Ronald Rea...   \n",
       "2      The Sydney central business district, Sydney h...   \n",
       "3      The national average for a new shower installa...   \n",
       "4      Conclusions: In adult body CT, dose to an orga...   \n",
       "...                                                  ...   \n",
       "79695  1 1 no object of a plant or animal reproduce b...   \n",
       "79696  The Path to Becoming a Psychologist. First, yo...   \n",
       "79697  If you need a wine to pair with oysters or mus...   \n",
       "79698  A: Lithium is a medication that is used to tre...   \n",
       "79699  Definition. noun. (1) The presence of or havin...   \n",
       "\n",
       "       negative_index_in_group  \n",
       "0                            8  \n",
       "1                            7  \n",
       "2                            3  \n",
       "3                            8  \n",
       "4                            1  \n",
       "...                        ...  \n",
       "79695                        3  \n",
       "79696                        1  \n",
       "79697                        1  \n",
       "79698                        8  \n",
       "79699                        5  \n",
       "\n",
       "[79700 rows x 5 columns]"
      ]
     },
     "execution_count": 6,
     "metadata": {},
     "output_type": "execute_result"
    }
   ],
   "source": [
    "df2"
   ]
  },
  {
   "cell_type": "code",
   "execution_count": 8,
   "id": "c7b81dde",
   "metadata": {},
   "outputs": [
    {
     "data": {
      "text/plain": [
       "torch.Size([3, 128])"
      ]
     },
     "execution_count": 8,
     "metadata": {},
     "output_type": "execute_result"
    }
   ],
   "source": [
    "embedded_query = text_to_embeddings(df2['query'][0], word_to_idx, embeddings)\n",
    "embedded_positive = text_to_embeddings(df1['positive_passage'][0], word_to_idx, embeddings)\n",
    "embedded_negative = text_to_embeddings(df1['negative_passage'][0], word_to_idx, embeddings)\n",
    "\n",
    "embedded_query.shape"
   ]
  },
  {
   "cell_type": "code",
   "execution_count": 9,
   "id": "9ece943f",
   "metadata": {},
   "outputs": [],
   "source": [
    "a = embedded_query.mean(dim=0)\n",
    "b = embedded_positive.mean(dim=0)\n",
    "c = embedded_negative.mean(dim=0)\n"
   ]
  },
  {
   "cell_type": "code",
   "execution_count": 10,
   "id": "e95b8699",
   "metadata": {},
   "outputs": [
    {
     "name": "stdout",
     "output_type": "stream",
     "text": [
      "Cosine similarity between query and positive passage: 0.7518182992935181\n"
     ]
    }
   ],
   "source": [
    "import torch.nn.functional as F\n",
    "\n",
    "cosine_similarity = F.cosine_similarity(a, c, dim=0)\n",
    "print(f\"Cosine similarity between query and positive passage: {cosine_similarity.item()}\")"
   ]
  },
  {
   "cell_type": "code",
   "execution_count": 11,
   "id": "7a02f39f",
   "metadata": {},
   "outputs": [
    {
     "name": "stdout",
     "output_type": "stream",
     "text": [
      "Calculating similarities... This may take a while depending on dataframe size.\n"
     ]
    },
    {
     "name": "stderr",
     "output_type": "stream",
     "text": [
      "100%|██████████| 79704/79704 [04:51<00:00, 273.42it/s]"
     ]
    },
    {
     "name": "stdout",
     "output_type": "stream",
     "text": [
      "   query_pos_sim  query_neg_sim  pos_neg_sim\n",
      "0       0.746116       0.751818     0.877889\n",
      "1       0.357790      -0.023197     0.585325\n",
      "2       0.280621       0.223732     0.756405\n",
      "3       0.282147       0.126030     0.656548\n",
      "4       0.132451      -0.001793     0.705996\n",
      "query_pos_sim    0.426907\n",
      "query_neg_sim    0.206892\n",
      "pos_neg_sim      0.688815\n",
      "dtype: float64\n",
      "\n",
      "Positive passage ranked higher than negative: 75260 out of 79704 (94.42%)\n"
     ]
    },
    {
     "name": "stderr",
     "output_type": "stream",
     "text": [
      "\n"
     ]
    }
   ],
   "source": [
    "\n",
    "# Process the dataframe using apply\n",
    "print(\"Calculating similarities... This may take a while depending on dataframe size.\")\n",
    "similarities = df1.progress_apply(\n",
    "    lambda row: calculate_similarities(row, word_to_idx, embeddings), \n",
    "    axis=1\n",
    ")\n",
    "\n",
    "# Join the similarities to the dataframe\n",
    "df1_with_similarities = pd.concat([df1, similarities], axis=1)\n",
    "\n",
    "# Show a sample of the results\n",
    "print(df1_with_similarities[['query_pos_sim', 'query_neg_sim', 'pos_neg_sim']].head())\n",
    "\n",
    "print(df1_with_similarities[['query_pos_sim', 'query_neg_sim', 'pos_neg_sim']].mean())\n",
    "\n",
    "# Calculate how often the positive passage is ranked higher than negative\n",
    "higher_count = (df1_with_similarities['query_pos_sim'] > df1_with_similarities['query_neg_sim']).sum()\n",
    "total = len(df1_with_similarities)\n",
    "print(f\"\\nPositive passage ranked higher than negative: {higher_count} out of {total} ({higher_count/total:.2%})\")\n",
    "\n"
   ]
  },
  {
   "cell_type": "code",
   "execution_count": 12,
   "id": "8fbbd3be",
   "metadata": {},
   "outputs": [
    {
     "name": "stdout",
     "output_type": "stream",
     "text": [
      "Calculating similarities... This may take a while depending on dataframe size.\n"
     ]
    },
    {
     "name": "stderr",
     "output_type": "stream",
     "text": [
      "100%|██████████| 79700/79700 [05:12<00:00, 254.99it/s]"
     ]
    },
    {
     "name": "stdout",
     "output_type": "stream",
     "text": [
      "   query_pos_sim  query_neg_sim  pos_neg_sim\n",
      "0       0.746116       0.699165     0.847480\n",
      "1       0.357790       0.228804     0.941763\n",
      "2       0.280621       0.226715     0.909032\n",
      "3       0.282147       0.172816     0.928545\n",
      "4       0.132451       0.161791     0.773421\n",
      "query_pos_sim    0.426904\n",
      "query_neg_sim    0.407663\n",
      "pos_neg_sim      0.847123\n",
      "dtype: float64\n",
      "\n",
      "Positive passage ranked higher than negative: 45329 out of 79700 (56.87%)\n"
     ]
    },
    {
     "name": "stderr",
     "output_type": "stream",
     "text": [
      "\n"
     ]
    }
   ],
   "source": [
    "# Process the dataframe using apply\n",
    "print(\"Calculating similarities... This may take a while depending on dataframe size.\")\n",
    "similarities = df2.progress_apply(\n",
    "    lambda row: calculate_similarities(row, word_to_idx, embeddings), \n",
    "    axis=1\n",
    ")\n",
    "\n",
    "# Join the similarities to the dataframe\n",
    "df2_with_similarities = pd.concat([df2, similarities], axis=1)\n",
    "\n",
    "# Show a sample of the results\n",
    "print(df2_with_similarities[['query_pos_sim', 'query_neg_sim', 'pos_neg_sim']].head())\n",
    "\n",
    "print(df2_with_similarities[['query_pos_sim', 'query_neg_sim', 'pos_neg_sim']].mean())\n",
    "\n",
    "# Calculate how often the positive passage is ranked higher than negative\n",
    "higher_count = (df2_with_similarities['query_pos_sim'] > df2_with_similarities['query_neg_sim']).sum()\n",
    "total = len(df2_with_similarities)\n",
    "print(f\"\\nPositive passage ranked higher than negative: {higher_count} out of {total} ({higher_count/total:.2%})\")\n",
    "\n"
   ]
  },
  {
   "cell_type": "code",
   "execution_count": null,
   "id": "239cc5b4",
   "metadata": {},
   "outputs": [],
   "source": []
  }
 ],
 "metadata": {
  "kernelspec": {
   "display_name": "mlx_env",
   "language": "python",
   "name": "python3"
  },
  "language_info": {
   "codemirror_mode": {
    "name": "ipython",
    "version": 3
   },
   "file_extension": ".py",
   "mimetype": "text/x-python",
   "name": "python",
   "nbconvert_exporter": "python",
   "pygments_lexer": "ipython3",
   "version": "3.12.4"
  }
 },
 "nbformat": 4,
 "nbformat_minor": 5
}

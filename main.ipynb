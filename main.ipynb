{
 "cells": [
  {
   "cell_type": "code",
   "execution_count": 16,
   "id": "c9b0ec85",
   "metadata": {},
   "outputs": [],
   "source": [
    "import torch\n",
    "import pandas as pd\n",
    "import numpy as np\n",
    "import datasets\n",
    "from load_models_and_data import load_vocabulary, load_embeddings, text_to_embeddings\n"
   ]
  },
  {
   "cell_type": "code",
   "execution_count": 14,
   "id": "ba466e66",
   "metadata": {},
   "outputs": [],
   "source": [
    "from datasets import load_dataset\n",
    "\n",
    "# Loading datasets from Hugging Face\n",
    "ds1 = load_dataset(\"cocoritzy/week_2_triplet_dataset_soft_negatives\")\n",
    "ds2 = load_dataset(\"cocoritzy/week_2_triplet_dataset_hard_negatives\")\n"
   ]
  },
  {
   "cell_type": "code",
   "execution_count": 15,
   "id": "3a1948ff",
   "metadata": {},
   "outputs": [
    {
     "name": "stdout",
     "output_type": "stream",
     "text": [
      "Loading embeddings and vocabulary...\n",
      "Loaded embeddings with shape: torch.Size([63642, 128])\n",
      "Loaded vocabulary with 63641 tokens\n",
      "Embedded text shape: torch.Size([5, 128])\n",
      "Embedding array with custom formatting:\n",
      "[[ 0.1381  0.5469 -1.076  ... -0.3798 -0.7187  0.2953]\n",
      " [ 0.1925 -0.0985 -0.1367 ...  0.7328  0.5067  0.7939]\n",
      " [ 0.2072  0.043  -0.6497 ... -0.0641 -0.6588 -0.1389]\n",
      " [ 0.418  -0.645  -0.5003 ... -0.159  -0.2203 -0.2697]\n",
      " [-0.4971  0.4175 -0.0469 ... -0.1927  2.253  -0.1716]]\n"
     ]
    }
   ],
   "source": [
    "# Paths to your files\n",
    "embeddings_path = \"./downloaded_model/embeddings.pt\"\n",
    "vocab_path = \"./downloaded_model/tkn_ids_to_words.csv\"\n",
    "\n",
    "# Load embeddings and vocabulary\n",
    "print(\"Loading embeddings and vocabulary...\")\n",
    "embeddings = load_embeddings(embeddings_path)\n",
    "word_to_idx = load_vocabulary(vocab_path)\n",
    "\n",
    "print(f\"Loaded embeddings with shape: {embeddings.shape}\")\n",
    "print(f\"Loaded vocabulary with {len(word_to_idx)} tokens\")\n",
    "\n",
    "# Example usage (uncomment when ready to test)\n",
    "sample_text = \"This is a test sentence\"\n",
    "embeddings_result = text_to_embeddings(sample_text, word_to_idx, embeddings)\n",
    "print(f\"Embedded text shape: {embeddings_result.shape}\")\n",
    "\n",
    "# Set numpy print options\n",
    "np.set_printoptions(precision=4, suppress=True, threshold=10)  # threshold limits number of elements shown\n",
    "numpy_array = embeddings_result.detach().numpy()\n",
    "print(\"Embedding array with custom formatting:\")\n",
    "print(numpy_array)\n"
   ]
  },
  {
   "cell_type": "code",
   "execution_count": null,
   "id": "39a89a8c",
   "metadata": {},
   "outputs": [],
   "source": []
  },
  {
   "cell_type": "code",
   "execution_count": 12,
   "id": "53a28244",
   "metadata": {},
   "outputs": [],
   "source": [
    "df1  = pd.DataFrame(ds1['train'])\n",
    "df2  = pd.DataFrame(ds2['train'])"
   ]
  },
  {
   "cell_type": "code",
   "execution_count": 26,
   "id": "260a30f0",
   "metadata": {},
   "outputs": [
    {
     "data": {
      "application/vnd.microsoft.datawrangler.viewer.v0+json": {
       "columns": [
        {
         "name": "index",
         "rawType": "int64",
         "type": "integer"
        },
        {
         "name": "query_id",
         "rawType": "int64",
         "type": "integer"
        },
        {
         "name": "query",
         "rawType": "object",
         "type": "string"
        },
        {
         "name": "positive_passage",
         "rawType": "object",
         "type": "string"
        },
        {
         "name": "negative_passage",
         "rawType": "object",
         "type": "string"
        },
        {
         "name": "negative_from_query_id",
         "rawType": "int64",
         "type": "integer"
        }
       ],
       "conversionMethod": "pd.DataFrame",
       "ref": "4b138d3e-d174-41de-a494-9b956cd4e675",
       "rows": [
        [
         "0",
         "19699",
         "what is rba",
         "Results-Based Accountability® (also known as RBA) is a disciplined way of thinking and taking action that communities can use to improve the lives of children, youth, families, adults and the community as a whole. RBA is also used by organizations to improve the performance of their programs. Creating Community Impact with RBA. Community impact focuses on conditions of well-being for children, families and the community as a whole that a group of leaders is working collectively to improve. For example: “Residents with good jobs,” “Children ready for school,” or “A safe and clean neighborhood”.",
         "I finally found some real salary data for physicians in Australia. This website outlines the different salary grades at the public hospitals in Queensland (keep in mind that Brisbane has a lower cost of living than Sydney or Melbourne): http://www.health.qld.gov.au/medical/md_rem_packages.asp. It seems like about what everybody's been saying here.",
         "86595"
        ],
        [
         "1",
         "19700",
         "was ronald reagan a democrat",
         "From Wikipedia, the free encyclopedia. A Reagan Democrat is a traditionally Democratic voter in the United States, especially a white working-class Northerner, who defected from their party to support Republican President Ronald Reagan in either or both the 1980 and 1984 elections. During the 1980 election a dramatic number of voters in the U.S., disillusioned with the economic 'malaise' of the 1970s and the presidency of Jimmy Carter (even more than, four years earlier, Liberal Republican Gerald Ford), supported former California governor (and former Democrat) Ronald Reagan.",
         "The Pacific Ocean lies to the east while the Sea of Japan and the East China Sea separate Japan from the Asian continent. In terms of latitude, Japan coincides approximately with the Mediterranean Sea and with the city of Los Angeles in North America. mountains of the Chubu region through Niigata Prefecture to the Sea of Japan. Second in length is the Tone River, which flows through the Kanto Plain to the Pacific Ocean, and third in length is the Ishikari River in Hokkaido, at 268 kilometers.",
         "66360"
        ],
        [
         "2",
         "19701",
         "how long do you need for sydney and surrounding areas",
         "Sydney is the capital city of the Australian state of New South Wales, and Australia's largest city. A week in Sydney will help you see many of the sights of Sydney and its surrounds, and understand the city and its culture. If you're up for exploring the area by bike (one of the best ways to do so as much of it is parkland), take the train to Concord West station on the Northern Line (red line on the Sydney Trains map-about 20-25 minutes from the city on a direct train).",
         "Probiotics are found in foods such as yogurt, while prebiotics are found in whole grains, bananas, onions, garlic, honey and artichokes. In addition, probiotics and prebiotics are added to some foods and available as dietary supplements. You don't necessarily need probiotics — a type of good bacteria — to be healthy. However, these microorganisms may help with digestion and offer protection from harmful bacteria, just as the existing good bacteria in your body already do. Prebiotics are nondigestible carbohydrates that act as food for probiotics.",
         "88507"
        ],
        [
         "3",
         "19702",
         "price to install tile in shower",
         "1 Install ceramic tile floor to match shower-Average prices for installation are between $11 to $22 per square foot; 2  A light/fan combination-Averages at $180 and one hour of installation; 3  Insulate and re-finish ceilings and walls-Fiberglass wall insulation with R-30 value will cost $2.25 per square foot.",
         "Iodine is critical to thyroid health and function. Without adequate dietary iodine, your body is unable to manufacture the thyroid hormones. Of course, excess intake of iodine-rich foods is also implicated in thyroid disease. Remember: moderation is the key, not excess. ",
         "87550"
        ],
        [
         "4",
         "19703",
         "why conversion observed in body",
         "Conversion disorder is a type of somatoform disorder where physical symptoms or signs are present that cannot be explained by a medical condition. Very importantly, unlike factitious disorders and malingering, the symptoms of somatoform disorders are not intentional or under conscious control of the patient.",
         "The answer to the question how much does it cost to build a house does not have a pat answer. Variables include square footage, footprint, design complexity, quality classif … ications, geographic location, metropolitan conditions, and so forth.",
         "61479"
        ],
        [
         "5",
         "19704",
         "where are the lungs located in the back",
         "1. Get help from a doctor now ›. under ribs: The lungs in the front and back are inside the rib cage. This is why doctors will place a stethoscope on the back as well as the front to evaluate the function of the lungs. ...Read more. 1 Where are your kidneys located on your back in women. 2  Where are the lungs located in the back. 3  Where are lungs located in your body. 4  Ask a doctor a question free online. 5  Where are the lungs located in the human body.",
         "Spanning tree in a nutshell. 1  STP provides a means to prevent loops by blocking links in an Ethernet network. 2  Blocked links can be brought in to service if active links fail. 3  The root bridge in a spanning tree is the logical center and sees all traffic on a network. STP configuration. Bridges will perform the spanning tree algorithm when they are first connected to the network or whenever there is a topology change. When a bridge hears a configuration message, a special type of BPDU (bridge protocol data unit), it will begin its disruptive spanning tree algorithm.",
         "99422"
        ],
        [
         "6",
         "19705",
         "cost to get a patent",
         "The cost of a patent can vary widely depending on, not only the complexity of the invention, but also the intended market. The most expensive patents are international patents, which can run up to $100,000 or higher. Domestically the costs can be $10,000 or above. Patent applications involve lots of text and drawings, even for simpler inventions. The first step in the patent application process is to file a non provisional patent application, which involves paying attorney fees in the range of $5000 to $15,000 or more, depending on the intricacies of the invention. The amount you spend on a patent application will also depend on the market opportunities",
         "ORIGIN OF NORMANS AND NAME. The Normans, as a race, originated in the Scandinavian peninsula, composed of Norway, Denmark, and Sweden. At first these bold and adventurous sea rovers were known as Northman or Norsemen. Between the eighth and ninth centuries they invaded Europe and even came to North American before the time of Columbus, it is said.",
         "60346"
        ],
        [
         "7",
         "19707",
         "best tragedies of ancient greece",
         "by Mark Cartwright. Greek tragedy was a popular and influential form of drama performed in theatres across ancient Greece from the late 6th century BCE. The most famous playwrights of the genre were Aeschylus, Sophocles, and Euripides and many of their works were still performed centuries after their initial premiere. Greek tragedy led to Greek comedy and, together, these genres formed the foundation upon which all modern theatre is based. In the Roman world, tragedy plays were translated and imitated in Latin, and the genre gave rise to a new art form from the 1st century BCE, pantomime, which drew inspiration from the presentation and subject matter of Greek tragedy.",
         "Zeit·geist. n. The spirit of the time; the taste and outlook characteristic of a period or generation: A new cult of technological optimism has deeply embedded itself in the zeitgeist (Sebastian Seung). ",
         "40600"
        ],
        [
         "8",
         "19708",
         "what is a conifer",
         "A conifer is a tree or shrub which produces distinctive cones as part of its sexual reproduction. These woody plants are classified among the gymnosperms, and they have a wide variety of uses, from trapping carbon in the environment to providing resins which can be used in the production of solvents. Several features beyond the cones set conifers apart from other types of woody plants. A conifer is typically evergreen, although some individuals are deciduous, and almost all conifers have needle or scale-like leaves.",
         "Mission San Antonio de Valero-The Alamo. Originally known as the Mission San Antonio de Valero, the Alamo, began as a Catholic mission and compound in 1718, one of many Catholic missions organized as part of the official Spanish plan to Christianize Native Americans and colonize northern New Spain.",
         "57120"
        ],
        [
         "9",
         "19709",
         "in animals somatic cells are produced by and gametic cells are produced by",
         "In animals, somatic cells are produced by mitosis and ________ are produced by meiosis. After telophase I of meiosis, the chromosomal makeup of each daughter cell is. A) diploid, and the chromosomes are composed of a single chromatid. B) diploid, and the chromosomes are composed of two chromatids. C) ha",
         "Schizophrenia types (subtypes) are diagnosed by the symptoms the person is experiencing. However, this is problematic as one person can experience a different set of schizophrenia symptoms at different times, thus leading to multiple schizophrenia subtype diagnoses. Diagnostic Criteria for Each Type of Schizophrenia. Schizophrenia types are diagnosed based on the Diagnostic and Statistical Manual of Mental Disorders (DSM-IV-TR). The DSM-IV-TR criteria for each form of schizophrenia is as follows: 4. 1  Paranoid type schizophrenia. 2  Contains: preoccupation with delusions and frequent auditory hallucination",
         "51032"
        ],
        [
         "10",
         "19710",
         "remembering the name of the author who wrote the cat in the hat",
         "The Cat in the Hat is a children's book by Dr. Seuss, featuring a tall, anthropomorphic, mischievous cat, wearing a tall, red and white striped hat. With the series of Beginner Books that The Cat inaugurated, Seuss promoted both his name and the cause of elementary literacy in the United States. ",
         "Signal peptide. A signal peptide is a short peptide present at the N-terminus of the majority of newly synthesized proteins that are destined towards the secretory pathway. These proteins include those that reside either inside certain organelles, secreted from the cell, or inserted into most cellular membranes.",
         "64905"
        ],
        [
         "11",
         "19711",
         "how long cooking chicken legs in the big easy",
         "Directions. 1  Arrange chicken thighs/leg quarters skin side up in a shallow baking dish. 2  Sprinkle with garlic powder. 3  Drizzle about 1/2 teaspoon soy sauce on each piece. 4  Bake at 350 degrees Fahrenheit for 45 minutes to an hour, until the skin is crisp and brown and the meat is ready to fall off the bones.",
         "A boy who has hypospadias should not be circumcised because the foreskin may be needed during surgery. Hypospadias may be caused by an intersex disorder, which is a condition that is caused by abnormalities in the chromosomes or endocrine system that can produce female characteristics in a male baby. In many cases of hypospadias, particularly when the genitals are incompletely formed, the testicles do not descend. Hypospadias can usually be corrected with reconstructive surgery, which is usually performed when the boy is between 6 months and 2 years of age.",
         "60325"
        ],
        [
         "12",
         "19712",
         "average cost of heating per square foot",
         "1 Expect to pay about $6-$16 a square foot for a professionally installed hydronic (hot water) radiant floor heating system, or $9,000-$22,500 or more for a 1,500 square foot home, depending on local rates, the number of temperature zones and the overall size of the system.",
         "refers to the end of an axon or an axon branch, which forms a synapse on a neuron or other target. See also terminal button. AXON TERMINAL: The axon terminal of a neuron is most commonly located at the end of the axon, nearest to the synaptic cleft..",
         "43151"
        ],
        [
         "13",
         "19713",
         "is mount pinatubo made of granite or basalt",
         "Mount Pinatubo is a volcano on the island of Luzon in the  Philippines. It is best known for its enormous eruption on June 15,  1991. This eruption was the second largest of … the twentieth  century. 1 person found this useful. Similar to many other volcanoes it has a large assortment or rocks, a lot of granite as these rocks are carried out from the magma chamber. … There are other rocks such as basalt, Scoria, sandstone, mudstone, shale, limestone, quartize, hornfels, slate and marble. 4 people",
         "Rome had a… (What was Rome’s influence on the US?)  Rome had been ruled by a monarchy,  Expanded greatly during its republican period that lasted until Caesar became emperor  Members of the Roman Senate held the greatest amount of power  The Romans used a Republican form of Government-Representative Democracy. ",
         "29457"
        ],
        [
         "14",
         "19714",
         "concrete pads cost",
         "Get an INSTANT estimate of the cost to Install a Concrete Pad! Our free calculator uses recent, trusted data to estimate costs for your Concrete Pad Installation project. For a basic 120 square feet project in zip code 47474, the benchmark cost to Install a Concrete Pad ranges between $4.64 - $6.36 per square foot* . To estimate costs for your project: 1.",
         "This information enables us to identify the rooms that will best accommodate your party and to prepare for your arrival. See room terms and details for information about rollaway and/or extra person charges. Please note that at most Starwood hotels, guests 17 and under are considered children. All other guests are considered adults. You will be told of any hotel-specific differences in this policy on the following page",
         "52698"
        ],
        [
         "15",
         "19715",
         "what kind of organism is a black damsel",
         "Known by multiple common names, such as humbug damselfish, three-striped damselfish and white-tailed damselfish, Dascyllus aruanus is a feisty little fish that adapts well to aquarium life. Three-striped damselfish can be pugnacious and are better introduced at the latter stages of setting up a marine fish community. Remove as many of the three-striped damselfish fry as you want to try and raise to a rearing aquarium, with an absence of adult fish and invertebrates that might look upon the young fish as tasty morsels for the taking. Dascyllus aruanus is a worthy first-time breeding project for up-and-coming marine aquarists.",
         "Planktonic organisms are unable to swim against a current. Being planktonic is a lifestyle and includes members from a wide variety of classifications (plants and animals, small and large). It includes the drifters who cannot swim at all as well as those that can swim feebly. The bacteria use up a lot of dissolved oxygen in the seawater so that areas of red tide may have little, or no, oxygen. If oxygen levels are low this can affect organisms in the water, such as fish. If the marine organism needs dissolved oxygen and cannot leave the red tide then it may suffocate and die.",
         "47925"
        ],
        [
         "16",
         "19716",
         "who coined the phrase it is what it is",
         "The first reference to the phrase, '...it is what it is,' that I've come across is from 1943, in a New York State hermit's letter to the editor of an Adirondack Mountain newspaper. The hermit was named Noah John Rondeau, and he concluded his letter with this particular phrase.",
         "PhD programs in pharmaceutical science at leading public universities range from $10,000 per year to $15,000 per year for in-state students. As mentioned above, out-of-state students generally pay twice the tuition of",
         "86622"
        ],
        [
         "17",
         "19717",
         "what is oilskin fabric",
         "Noun. 1. oilskin-a macintosh made from cotton fabric treated with oil and pigment to make it waterproof. slicker. mac, mack, mackintosh, macintosh-a waterproof raincoat made of rubberized fabric. 1. (Textiles). a. a cotton fabric treated with oil and pigment to make it waterproof. b. (as modifier): an oilskin hat. 2. (Clothing & Fashion) (often plural) a protective outer garment of this fabric.",
         "Radarsat 2 RADARSAT does not have these limitations. At the heart of RADARSAT is an advanced radar sensor called Synthetic Aperture Radar (SAR). SAR is a microwave instrument that sends pulsed signals to Earth and processes the received reflected pulses. Radarsat 9 RADARSAT Image Products RADARSAT image products are designed to provide operational and scientific users with a wide range of resolution, format and delivery options. For each RADARSAT beam mode, image products are processed to different levels of geometric accuracy and radiometric calibration.",
         "89760"
        ],
        [
         "18",
         "19718",
         "how long is german measles contagious",
         "Quick Answer. The German measles are contagious for 7 days before to 7 days after the rash appears, as noted by the New York State Department of Health. Rubella is another term for the German measles, and the disease itself is highly contagious and can be seen in patients through a rash, swollen glands a fever. Know More.",
         "Republican Ronald Reagan became the oldest President elected when he took office as the 40th President of the United States. The actor turned politician served two terms as President, from 1981 to 1989. Dates: February 6, 1911 -- June 5, 2004. Only two months after taking office as President of the United States, Reagan was shot on March 30, 1981 by John W. Hinckley, Jr. outside the Hilton Hotel in Washington D.C. Hinckley was copying a scene from the movie Taxi Driver, strangely believing that this was going to win him actress Jodie Foster's love.",
         "40187"
        ],
        [
         "19",
         "19719",
         "what is a camerata",
         "The Camerata are a group of four powerful and influential individuals in the city of Cloudbank. Established by Grant Kendrell and Royce Bracket, the group circumvents the official administration and democratic nature of Cloudbank, in order to establish some form of stability in the ever-changing city. The group uses the Transistor to integrate various individuals of influence. The true reason for integration is unknown, perhaps the Camerata had moral objection to outright killing their targets. Integration, however, does also appear to increase the functionality of the Transistor.",
         "1 These are averages; actual costs may be higher or lower. 2  In contrast, DoItYourself.com estimates that the cost of a typical kitchen remodel can start around $5,000 with some do-it-yourself work included, and averages $15,000-$26,000.",
         "33694"
        ],
        [
         "20",
         "19720",
         "how long does it take to bake a pound cake",
         "1. Preheat your oven to 300ºF (150ºC). In your pan or pans (this recipe is quite large -- but pound cakes are perfect for a double-layer masterpiece), line them with cooking spray or butter; this prevents sticking. You could also sprinkle with flour (on top of the butter) or line with parchment paper. Pour batter into your pan(s) and place in the oven. Cook for 75 minutes, checking periodically. Some ovens cook unevenly or quickly -- if this describes yours, keep an eye on it. 1  If to be used for fancy ornamented cakes, bake 30 to 35 minutes in a dripping-pan. 2  Insert a skewer or toothpick to see if it's finished.",
         "If the fracture fragments do move out of place and the bones heal in that position, it is called a malunion.. Treatment for this is determined by how far out of place the bones are and how the stability of the ankle joint is affected.",
         "48404"
        ],
        [
         "21",
         "19721",
         "what is the maximum dose of subutex",
         "Subutex Dosage for Treating Opioid Dependence. One typical way to dose Subutex is to start with 8 mg on the first day and 16 mg (the full dosage) on the second day. Often, by the third day you can be switched to Suboxone ® (buprenorphine and naloxone). Typically, the initial dose for treating opioid dependence is 8 mg on the first day and 16 mg",
         "Every day thousands of users submit information to us about which programs they use to open specific types of files. While we do not yet have a description of the PICON file format and what it is normally used for, we do know which programs are known to open these files. ",
         "82295"
        ],
        [
         "22",
         "19722",
         "salary difference in same team",
         "* Salaries flatten when nurses are in a position for more than 10 years. Nurses working in the same position for 11 to 15 years report a salary of $56,000; those holding their positions for over 15 years made $56,700. * As in previous years, men in nursing made more money than women. The average salary for all male respondents was $54,600, compared with $50,600 for women-an 8% difference. ",
         "1 Generally, a cleaning service will bring all the cleaning products and tools. 2  MaidPro in Boston, Massachusetts bundles cleaning into 3, 5 and 7-hour packages varying from $129 to $266 for a one-time service. 3  Biweekly jobs take 2-3 hours per visit and run $50-$70.",
         "38980"
        ],
        [
         "23",
         "19723",
         "what was tet",
         "The Tet Offensive was a military campaign during the Vietnam War that began on January 31, 1968 by the forces of the National Liberation Front for South Vietnam. The purpose w … as to displace the invading army presently stationed in South Vietnam and regain control of the country by the Vietnamese.",
         "Made from a grounded mixture of chickpeas, chickpea or gram flour is a chief condiment in Indian, Pakistani and Bangladeshi cuisines. The flour is powdery yellow and has an earthy flavor adding savour to various dishes. Chickpea flour makes a tasty and crispy coating for deep-fried vegetable pakoras. One can use either raw or roasted chickpeas. Roasted chickpea flour is more characterized; while raw flour has a slightly bitter taste. Also known as besan, it is used in gravies, batters, etc. When made into a paste with water or yogurt, it is used popularly as a face cleanser in the Indian subcontinent. Also it is commonly used as a replacement for egg in vegetarian cooking. Chila, a very popular fast food and snack is made from gram flour batter",
         "45680"
        ],
        [
         "24",
         "19725",
         "what energy is used in photosynthesis",
         "Photosynthesis is a process used by plants and other organisms to convert light energy, normally from the Sun, into chemical energy that can be later released to fuel the organisms' activities. However, not all organisms that use light as a source of energy carry out photosynthesis, since photoheterotrophs use organic compounds, rather than carbon dioxide, as a source of carbon. In plants, algae and cyanobacteria, photosynthesis releases oxygen.",
         "Question: I have to write a essay about myself. I need to include Family Background, Intrests, and Long & Short term goals. I was wondering how to start my essay and how to word my thesis in the introduction paragraph. Answers: Here's an example of how you could start off your introductory",
         "94722"
        ],
        [
         "25",
         "19726",
         "The smallest blood vessels in your body,where gas exchange occurs are called",
         "Gas exchange is the delivery of oxygen from the lungs to the bloodstream, and the elimination of carbon dioxide from the bloodstream to the lungs. It occurs in the lungs between the alveoli and a network of tiny blood vessels called capillaries, which are located in the walls of the alveoli. The walls of the alveoli actually share a membrane with the capillaries in which oxygen and carbon dioxide move freely between the respiratory system and the bloodstream.",
         "The traditional marketing concept is basically customer-oriented, while the extended market orientation concept is oriented towards customers, and also towards the other key market actors: competitors, distributors, influencers and other stakeholders, be they offline or online. The Internet technology is creating a dual trading arena where traditional market actors have changing roles and new actors are emerging. To cope with this increased market complexity, a distinction is made between a cultural and an instrumental definition of the Market Orientation (MO) concept.",
         "38735"
        ],
        [
         "26",
         "19727",
         "what is rappelling",
         "Rappelling is the process of coming down from a mountain that is usually done with two pieces of rope. Use a natural anchor or a set of bolts to rappel from with help from an experienced rock climber in this free video on rappelling techniques. Expert: Scott Kiesling. Contact: www.climbon.biz.",
         "Day Trader. An example of a momo play is the five-minute forex momo trade, which is a fast trade based on identifying a momentum burst on five-minute charts. In this play, a forex trader tries to make money from an extension move but will exit the position as soon as it appears to be weakening in order to protect profits. A slang term used to describe an advanced trading strategy based purely on momentum. In a momo play, the trader is not interested in the company's fundamentals, only in the short-term direction of a security's price movement. As such, momo plays are used solely by day traders, not by buy-and-hold investor",
         "30556"
        ],
        [
         "27",
         "19728",
         "what does a brewery representative do",
         "A Beer Sales Representative is an important member of a beer manufacturers business. They are the soldiers on the ground that Boost Beer Sales. Selling Beer is by far one of the most amazing jobs that any person can have. Becoming a Beer Sales Representative. Beer jobs are not that easy to find or get because every guy in their right mind wants to become a beer rep. Beer companies are looking for guys that know how to Sell and Market a product. They want people that have a passion for the beer business",
         "Zocor (simvastatin) is a statin that lowers lipids and cholesterol levels used in conjunction with lifestyle changes such as a low-fat, low cholesterol diet, and exercise to reduce the chances of cardiovascular disease and ischemic strokes in patients with elevated lipids and cholesterol. Zocor is available as a generic named simvastatin. Common side effects of Zocor include heartburn, gas, bloating, stomach pain, indigestion, nausea, constipation, diarrhea, headache, joint pain, muscle pain, skin rash, sleep problems (insomnia), or cold symptoms such as stuffy nose, sneezing, or sore throat.",
         "78733"
        ],
        [
         "28",
         "19729",
         "how long will i be in hospital after a gallbladder surgery last",
         "Recovering from a gallbladder removal. Recovery after keyhole surgery to remove your gallbladder (laparoscopic cholecystectomy) is usually quick. Most people are able to eat and drink and leave hospital on the same day as the surgery. In some cases you may be advised to stay overnight and go home the next day. After open surgery, you will have to stay three to five days in hospital and your recovery time will be longer. Typically, it takes around four to six weeks to recover fully from the effects of open surgery. ",
         "1 The oil from raspberry seeds is rich in Vitamin E, Omega-3 fatty acids and has a sun protection factor (SPF) of 25-50. 2  Red raspberry ketones are currently being used in Japan as a weight loss supplement in a pill form and as an external patch. 1 Red raspberry oil is creating interest in the cosmeceutical market (skin care products which provide health benefits). 2 ",
         "62539"
        ],
        [
         "29",
         "19730",
         "at what age does medicare begin",
         "For most people, Medicare starts the 1st day of the month you turn age 65. You can sign up for Medicare Part A & B which covers about 80% of the costs of care. You can also sign up for a Medicare Supplement plan (Medigap) to cover the difference. Medicare along with a Medicare Supplement is great health insurance.",
         "The word rhyme can be used in a specific and a general sense. In the specific sense, two words rhyme if their final stressed vowel and all following sounds are identical; two lines of poetry rhyme if their final strong positions are filled with rhyming words.",
         "66217"
        ],
        [
         "30",
         "19731",
         "Adoption fees for rabbits",
         "Adoption Fees Michigan Rabbit Rescue is a not-for-profit organization. The adoption donation fee is $85 ($125.00 for a pair), payable to Michigan Rabbit Rescue. This fee also includes the cost of a copy of the House Rabbit Handbook ($9.00) which is provided with all adoptions. The book fee will not be charged twice for adopting a pair, or if you already own the book.",
         "The circulatory system is the body's transport system. It is made up of a group of organs that transport blood throughout the body. The heart pumps the blood and the arteries and veins transport it. Oxygen-rich blood leaves the left side of the heart and enters the biggest artery, called the aorta. One of the most important systems in your body, the nervous system is your body's control system. It sends, receives, and processes nerve impulses throughout the body. These nerve impulses tell your muscles and organs what to do and how to respond to the environment.",
         "81693"
        ],
        [
         "31",
         "19732",
         "what is a diabetic kidney",
         "Diabetic kidney disease, or diabetic nephropathy, is a complication of type 1 or type 2 diabetes caused by damage to the kidneys' delicate filtering system. Your kidneys contain millions of tiny blood vessel clusters (glomeruli) that filter waste from your blood.",
         "Humanistic and integrative psychotherapy encourages the distinctly human qualities of choice and creativity. It recognises that we are strongly influenced by forces in society and in the unconscious, and some of these are negative and destructive.",
         "44992"
        ],
        [
         "32",
         "19733",
         "why is james madison father of constitution",
         "James Madison. James Madison, America's fourth President (1809-1817), made a major contribution to the ratification of the Constitution by writing The Federalist Papers, along with Alexander Hamilton and John Jay. In later years, he was referred to as the Father of the Constitution..",
         "You will see Bronson Cave immediately, a drive-through tunnel carved into a 100-foot tall rock wall. There are three exits at the far end of the 50-foot long tunnel. One is big enough for a Batmobile and the others are crawl-through size. Walk right in. No flashlight is needed to explore the short cave.",
         "25583"
        ],
        [
         "33",
         "19734",
         "what temp does meat need to be cooked to",
         "Marinated Grilled Steak. The proper temperature to cook a medium-rare steak is 130° - 135° F. Although, according to foodsafety.gov, beef, lamb, and pork should be cooked to at least 145° (or above, if desired). Ground meat must be cooked to at least 160° F. Ground poultry must be cooked to at least 165°. ",
         "Addison’s disease represents an insufficiency or dysfunction of the cortex of the adrenal glands, which fails to release adequate amounts of hormones to meet the physiological needs of the body, despite release of adrenocorticotrophic hormone (ACTH) from the pituitary gland. Their cortex produces several steroid hormones, of which the glucocorticoid cortisol, the mineralocorticoid aldosterone and the sexual hormone dehydroepiandrosterone (DHEA) are important. Addison’s disease affects both glucocorticoid and mineralocorticoid function.",
         "94579"
        ],
        [
         "34",
         "19735",
         "what is a mobile analog phone",
         "Motorola DynaTAC 8000X TACS mobile phone. Advanced Mobile Phone System (AMPS) is an analog mobile cell phone system standard developed by Bell Labs, and officially introduced in the Americas on October 13, 1983, Israel in 1986, Australia in 1987, and Pakistan in 1990. It was the primary analog mobile phone system in North America (and other locales) through the 1980s and into the 2000s. As of February 18, 2008, carriers in the United States were no longer required to support AMPS and companies such as AT&T and Verizon have discontinued this service permanently.",
         "2. apostrophe-the mark (') used to indicate the omission of one or more letters from a printed word. punctuation mark, punctuation-the marks used to clarify meaning by indicating separation of words into sentences and clauses and phrases. Translations. [əˈpɒstrəfɪ] N. 1. the punctuation mark ' used to indicate the omission of a letter or number, such as he's for he has or he is, also used in English to form the possessive, as in John's father and twenty pounds' worth. [C17: from Late Latin, from Greek apostrophos mark of elision, from apostrephein to turn away].",
         "93631"
        ],
        [
         "35",
         "19736",
         "traits that are derived from a common ancestor are said to be",
         "Convergent evolution creates analogous structures that have similar form or function, but that were not present in the last common ancestor of those groups. The cladistic term for the same phenomenon is homoplasy, from Greek for same form. The recurrent evolution of flight is a classic example of convergent evolution. Functionally similar features arising through convergent evolution are termed analogous, in contrast to homologous structures or traits, which have a common origin, but not necessarily similar function.",
         "The USDA also requires that eggs be sold under refrigeration, regardless of how they are washed, so even your super-crunchy health food stores are going to keep their eggs in the refrigerator or risk being shut down. Any world traveler has probably noticed that in most countries outside of the US and Canada, eggs aren't stored under refrigeration. Whether you are wandering in an outdoor market, shopping in a grocery store or visiting a home, you will find eggs sitting on the counter, at room temperature.",
         "27126"
        ],
        [
         "36",
         "19737",
         "residential solar cost",
         "System Costs. As mentioned in the introduction, residential solar systems are typically sized from 3 to 8kW and end up costing somewhere between $15,000 and $40,000. In this section, we will look at the costs of the various components of a solar system (not installation or operational costs). Solar Panels. The solar panels themselves usually account for about 30% of total costs. Residential solar panels with a combined capacity of 3-8kW typically cost between $4,000-$16,000. The best solar panels are not necessarily the most expensive.",
         "Hence it is advised to avoid eating for 8-12 hours before the blood sample is drawn for a lipid profile test. Given below is the normal range of fasting triglyceride levels, in children and adults, as per the National Cholesterol Education Program (NCEP), USA. In the first trimester, triglyceride levels fall, and then gradually increase to reach a maximum value during the third trimester. The levels observed during third trimester are 2-3 fold higher than the regular levels. After delivery, the amount of triglycerides gradually reduces to attai",
         "99761"
        ],
        [
         "37",
         "19738",
         "irs late penalty fees",
         "1 The penalty for filing late is normally 5 percent of the unpaid taxes for each month or part of a month that a tax return is late. 2  That penalty starts accruing the day after the tax filing due date and will not exceed 25 percent of your unpaid taxes.",
         "This report describes the typical weather at the Yellowknife Airport (Yellowknife, Northwest Territories, Canada) weather station over the course of an average year. It is based on the historical records from 1977 to 2012. Earlier records are either unavailable or unreliable. During the cold season, which lasts from November 25 to March 12, there is a 69% average chance that precipitation will be observed at some point during a given day. When precipitation does occur it is most often in the form of light snow (86% of days with precipitation have at worst light snow) and moderate snow (13%).",
         "88138"
        ],
        [
         "38",
         "19739",
         "what is the discriminant of an equation",
         "The Discriminant. In the quadratic formula, the expression under the square root sign, b 2 – 4 ac, is called the discriminant. The sign of the discriminant can be used to find the number of solutions of the corresponding quadratic equation, ax 2 + bx + c = 0. If the discriminant b 2 – 4 ac is negative, then there are no real solutions of the equation. If the discriminant is positive, then the ± symbol means you get two answers. The solutions of this equation correspond to the x-intercepts of the parabola. y = ax 2 + bx + c. So, you can also use the discriminant to find the number of x-intercepts of a parabola.",
         "Seasoning cooked beans with salt can prolong their shelf life in the refrigerator to about one week. Salt acts as a natural preservative, making food last longer.",
         "50885"
        ],
        [
         "39",
         "19740",
         "gayla name meaning",
         "English Meaning: The name Gayla is an English baby name. In English the meaning of the name Gayla is: Festive party. American Meaning: The name Gayla is an American baby name. In American the meaning of the name Gayla is: Festive party. SoulUrge Number: 2. Expression Number: 1. People with this name have a deep inner desire for love and companionship, and want to work with others to achieve peace and harmony.",
         "In the final Fence Stain 101, we’ll show you how to do it while still keeping your fence protected. Fence Stain 101 is a three-part series offering professional tips for staining your wood fence. This is the second installment. Try to choose a streak of cloudy weather for staining your fence. If your wood fence is new, you need to let it set for a few days in warm, sunny weather so the moisture will evaporate from the wood. If you’ve recently pressure washed your fence, wait until it dries thoroughly.",
         "95818"
        ],
        [
         "40",
         "19741",
         "what animal is a possum",
         "Foxes, cats and birds of prey are the main predators of the possum but other animals such as Tasmanian devils, dogs, dingos and snakes also prey on the possum. The possum is a very solitary animal, and possum individuals only really come together to mate. The pygmy possum is the smallest species of possum in the world, growing to just 10cm tall, where the brushtail possum can reach more than a meter in height.",
         "An RNA virus is a virus that has RNA (ribonucleic acid) as its genetic material. Ambisense RNA viruses resemble negative-sense RNA viruses, except they also translate genes from the positive strand.",
         "58280"
        ],
        [
         "41",
         "19742",
         "types of bacterial respiration",
         "The respiration in bacteria is basically of two types aerobic and anaerobic which may be obligate or facultative. They are further classified as: Obligate aerobes: These are strict aerobes that mean they always require oxygen for their survival. They are not able to withstand anaerobic conditions. ",
         "how pinworm infections spread pinworms infections are highly contagious you become infected with pinworms by unintentionally ingesting pinworm eggs which have been deposited onto a surface by an infected person the cycle of infection begins with the ingestion of these microscopic eggs",
         "21818"
        ],
        [
         "42",
         "19743",
         "what are monocytes",
         "3D Rendering of a Monocyte. Monocytes are a type of white blood cells (leukocytes). They are the largest of all leukocytes. They are part of the innate immune system of vertebrates including all mammals (humans included), birds, reptiles, and fish. Monocytes which migrate from the bloodstream to other tissues will then differentiate into tissue resident macrophages or dendritic cells. Macrophages are responsible for protecting tissues from foreign substances, but are also suspected to be important in the formation of important organs like the heart and brain.",
         "Remember: Do not breed too young, too old or undernourished ewes. A ewe comes into first heat at 6 to 7 months of age, or sometimes earlier, but she should not be bred at this time. This is the reason why ewes and rams must be raised apart as from 4 months old onwards. - She may have trouble giving birth. A good practice is to breed a young ewe when she has reached about 80% of her grown weight. * For example, if grown ewes in your area weigh around 80 pounds, breed young ewes when they weigh 60 to 70 pounds. Complete according to what you have studied. 1  It is convenient to wait at least months after the last parturition (lambing) before a ewe is bred again",
         "59247"
        ],
        [
         "43",
         "19744",
         "interior decorator cost per hour",
         "The cost of hiring an interior designer varies greatly. Most charge per hour, with the current market rate between $50 and $200 per hour. You would pay this in addition to the cost of furniture, accessories, artwork, etc. Some interior designers charge their clients by marking up the decor they choose.",
         "The terms of the trust are the duties and powers of the trustee and the rights of the beneficiary conferred by the settlor when he created the trust. State statutes and court decisions govern the law of trusts. The validity of a trust of real property is determined by the law of the state where the property is located. The court appoints a trustee to administer the trust and orders the person having legal title to the property to convey it to the appointed trustee. If two or more trustees are appointed, they always hold the title to trust property in Joint Tenancy with the Right of Survivorship.",
         "95959"
        ],
        [
         "44",
         "19745",
         "certified child life specialist average salary locally",
         "$37,000. Average Child Life Specialist salaries for job postings in Las Vegas, NV are 19% lower than average Child Life Specialist salaries for job postings nationwide. ",
         "For example, at the Advantage Staffing website at http://www.advantagestaffing.net/Jobs.htm#Flagger, an ad reads: FLAGGERS – Oregon and Washington $8.50 - $9.50 per hour Job Description: Need certified flaggers for local construction sites. There's a good article about gettting a job as a flagger at http://www.ehow.com/how_5280970_job-flagger-making-hr.html which might also be helpful. It mentions that union flaggers can earn close to $25 per hour, while non-union and utility company workers, etc. make less.",
         "49107"
        ],
        [
         "45",
         "19746",
         "What Kills Scorpions Naturally",
         "Keep yourself, your loved ones, and your home safe from scorpions with diatomaceous earth. It's a safe product that works through a mechanical reaction, rather than chemical, to kill bugs. When the scorpion comes into contact with the DE, the powder will attach to the exoskeleton of the scorpion and begin to dehydrate.",
         "Eukaryotic cells are those cells, which are complex and larger than the prokaryotic cells. The term eukaryote is derived from the Greek word- a€â€ oeeukaryotea œeukaryoteâ meaning true or. Good nuclei this cell includes all life kingdoms. except monera The prokaryotic cells do not have membrane bound cellular organelles. The cellular structure of the prokaryotes and eukaryotes differ in the presence of c ellular structures like the mitochondria and chloroplasts, cell wall and the structure of chromosomal DNA.",
         "34127"
        ],
        [
         "46",
         "19747",
         "what is the meaning of powhiri",
         "The powhiri is the ritual ceremony of encounter. Traditionally the process served to discover whether the visiting party were friend or foe, and so its origins lay partly in military necessity. The kaupapa or purpose of the occasion will be discussed, and perhaps general present day issues and concerns might be aired. Each speech is followed by the performance of a waiata (song), or sometimes a haka (dance), by the orator's support group.",
         "On average a dog stayes in heat for 3 weeks, or 21 days. But some dogs can go only 2 weeks while others may go up to 4 weeks. Report Abuse. On average a dog stayes in heat for 3 weeks, or 21 days. But some dogs can go only 2 weeks while others may go up to 4 weeks. Just like humans, they all differ. We've owned many dogs and they all vary but average out to about 3",
         "38220"
        ],
        [
         "47",
         "19748",
         "Burly Man Definition",
         "Burly Man. Often refers to a man who is able to grow a corn-silk like beard. A burly man is not afraid to share his eclectic tastes such as music and authors. A burly man is a true friend who is reliable.",
         "hair grows at the rate of 1/2 inch per month. You cannot speed it up with anything! don't waste your money on any false claims from people.",
         "76266"
        ],
        [
         "48",
         "19749",
         "do game shows pay their contestants",
         "1 If you can use most of the prizes the show offers, such as a new car or trip, you may be content to appear on a game show that features material prizes. 2  If not, you should probably try out for a show where cash is the main prize. 3  In the United States, game show contestants must pay taxes on any prizes they win. 2. Meet the eligibility requirements. All game shows have certain eligibility requirements for their contestants. Generally, you must be at least 18 years of age, except for those shows that use child or teenage contestants, and you are allowed to appear on no more than 1 game show per year.",
         "LOCATION AND SIZE. Located between Colombia and Peru on the west coast of South America, Ecuador has an area of 283,560 square kilometers (176,204 square miles) and a coastline of 2,237 kilometers (1,390 miles).",
         "72580"
        ],
        [
         "49",
         "19750",
         "diseases caused by clostridium",
         "by Seth Cowan. Tetanus is a disease caused by the bacteria Clostridium tetani, a gram negative rod bacterium. C. tetani spores generally reside in manure rich soils after being passed from the normal gut flora of animals. ",
         "A supply planner is responsible for making sure an organisation has enough inventory on hand to meet its objectives. Supply chain planners generate and monitor production schedules and works closely with a master production scheduler to ensure policies are being followed. A supply planner is responsible for managing inventory targets in order to ensure a steady level of supply, manufacturing, or product availability. It is vital to create and implement accurate distribution plans. Good attention to detail and being proactive in solving problems is also important. The Certified Demand Driven Planner Program was created by a global partnership between the International Supply Chain Education Alliance (ISCEA) and the Demand Driven Institute (DDI).",
         "60309"
        ]
       ],
       "shape": {
        "columns": 5,
        "rows": 79704
       }
      },
      "text/html": [
       "<div>\n",
       "<style scoped>\n",
       "    .dataframe tbody tr th:only-of-type {\n",
       "        vertical-align: middle;\n",
       "    }\n",
       "\n",
       "    .dataframe tbody tr th {\n",
       "        vertical-align: top;\n",
       "    }\n",
       "\n",
       "    .dataframe thead th {\n",
       "        text-align: right;\n",
       "    }\n",
       "</style>\n",
       "<table border=\"1\" class=\"dataframe\">\n",
       "  <thead>\n",
       "    <tr style=\"text-align: right;\">\n",
       "      <th></th>\n",
       "      <th>query_id</th>\n",
       "      <th>query</th>\n",
       "      <th>positive_passage</th>\n",
       "      <th>negative_passage</th>\n",
       "      <th>negative_from_query_id</th>\n",
       "    </tr>\n",
       "  </thead>\n",
       "  <tbody>\n",
       "    <tr>\n",
       "      <th>0</th>\n",
       "      <td>19699</td>\n",
       "      <td>what is rba</td>\n",
       "      <td>Results-Based Accountability® (also known as R...</td>\n",
       "      <td>I finally found some real salary data for phys...</td>\n",
       "      <td>86595</td>\n",
       "    </tr>\n",
       "    <tr>\n",
       "      <th>1</th>\n",
       "      <td>19700</td>\n",
       "      <td>was ronald reagan a democrat</td>\n",
       "      <td>From Wikipedia, the free encyclopedia. A Reaga...</td>\n",
       "      <td>The Pacific Ocean lies to the east while the S...</td>\n",
       "      <td>66360</td>\n",
       "    </tr>\n",
       "    <tr>\n",
       "      <th>2</th>\n",
       "      <td>19701</td>\n",
       "      <td>how long do you need for sydney and surroundin...</td>\n",
       "      <td>Sydney is the capital city of the Australian s...</td>\n",
       "      <td>Probiotics are found in foods such as yogurt, ...</td>\n",
       "      <td>88507</td>\n",
       "    </tr>\n",
       "    <tr>\n",
       "      <th>3</th>\n",
       "      <td>19702</td>\n",
       "      <td>price to install tile in shower</td>\n",
       "      <td>1 Install ceramic tile floor to match shower-A...</td>\n",
       "      <td>Iodine is critical to thyroid health and funct...</td>\n",
       "      <td>87550</td>\n",
       "    </tr>\n",
       "    <tr>\n",
       "      <th>4</th>\n",
       "      <td>19703</td>\n",
       "      <td>why conversion observed in body</td>\n",
       "      <td>Conversion disorder is a type of somatoform di...</td>\n",
       "      <td>The answer to the question how much does it co...</td>\n",
       "      <td>61479</td>\n",
       "    </tr>\n",
       "    <tr>\n",
       "      <th>...</th>\n",
       "      <td>...</td>\n",
       "      <td>...</td>\n",
       "      <td>...</td>\n",
       "      <td>...</td>\n",
       "      <td>...</td>\n",
       "    </tr>\n",
       "    <tr>\n",
       "      <th>79699</th>\n",
       "      <td>102124</td>\n",
       "      <td>meaning of propagation</td>\n",
       "      <td>definition of propagation the act or action of...</td>\n",
       "      <td>A minimum of two credits of laboratory science...</td>\n",
       "      <td>21857</td>\n",
       "    </tr>\n",
       "    <tr>\n",
       "      <th>79700</th>\n",
       "      <td>102125</td>\n",
       "      <td>do you have to do a phd to be a clinical psych...</td>\n",
       "      <td>The goal you choose will determine your path. ...</td>\n",
       "      <td>1 The mitochondria of eukaryotes evolved from ...</td>\n",
       "      <td>28764</td>\n",
       "    </tr>\n",
       "    <tr>\n",
       "      <th>79701</th>\n",
       "      <td>102126</td>\n",
       "      <td>what wine goes with oysters</td>\n",
       "      <td>You may also enjoy these other types of wine w...</td>\n",
       "      <td>Raynaud's (say ray-NOHZ) phenomenon is a probl...</td>\n",
       "      <td>42284</td>\n",
       "    </tr>\n",
       "    <tr>\n",
       "      <th>79702</th>\n",
       "      <td>102127</td>\n",
       "      <td>what strengths does lithium come in</td>\n",
       "      <td>Lithium 150 mg. Lithium (Eskalith ® , Eskalith...</td>\n",
       "      <td>While kids feel like they’ve been grownups for...</td>\n",
       "      <td>42891</td>\n",
       "    </tr>\n",
       "    <tr>\n",
       "      <th>79703</th>\n",
       "      <td>102128</td>\n",
       "      <td>what is polarity index definition</td>\n",
       "      <td>Polarity Index. Burdick &amp; Jackson solvents are...</td>\n",
       "      <td>Calculating Costs Per Inmate. According to the...</td>\n",
       "      <td>94401</td>\n",
       "    </tr>\n",
       "  </tbody>\n",
       "</table>\n",
       "<p>79704 rows × 5 columns</p>\n",
       "</div>"
      ],
      "text/plain": [
       "       query_id                                              query  \\\n",
       "0         19699                                        what is rba   \n",
       "1         19700                       was ronald reagan a democrat   \n",
       "2         19701  how long do you need for sydney and surroundin...   \n",
       "3         19702                    price to install tile in shower   \n",
       "4         19703                    why conversion observed in body   \n",
       "...         ...                                                ...   \n",
       "79699    102124                             meaning of propagation   \n",
       "79700    102125  do you have to do a phd to be a clinical psych...   \n",
       "79701    102126                        what wine goes with oysters   \n",
       "79702    102127                what strengths does lithium come in   \n",
       "79703    102128                  what is polarity index definition   \n",
       "\n",
       "                                        positive_passage  \\\n",
       "0      Results-Based Accountability® (also known as R...   \n",
       "1      From Wikipedia, the free encyclopedia. A Reaga...   \n",
       "2      Sydney is the capital city of the Australian s...   \n",
       "3      1 Install ceramic tile floor to match shower-A...   \n",
       "4      Conversion disorder is a type of somatoform di...   \n",
       "...                                                  ...   \n",
       "79699  definition of propagation the act or action of...   \n",
       "79700  The goal you choose will determine your path. ...   \n",
       "79701  You may also enjoy these other types of wine w...   \n",
       "79702  Lithium 150 mg. Lithium (Eskalith ® , Eskalith...   \n",
       "79703  Polarity Index. Burdick & Jackson solvents are...   \n",
       "\n",
       "                                        negative_passage  \\\n",
       "0      I finally found some real salary data for phys...   \n",
       "1      The Pacific Ocean lies to the east while the S...   \n",
       "2      Probiotics are found in foods such as yogurt, ...   \n",
       "3      Iodine is critical to thyroid health and funct...   \n",
       "4      The answer to the question how much does it co...   \n",
       "...                                                  ...   \n",
       "79699  A minimum of two credits of laboratory science...   \n",
       "79700  1 The mitochondria of eukaryotes evolved from ...   \n",
       "79701  Raynaud's (say ray-NOHZ) phenomenon is a probl...   \n",
       "79702  While kids feel like they’ve been grownups for...   \n",
       "79703  Calculating Costs Per Inmate. According to the...   \n",
       "\n",
       "       negative_from_query_id  \n",
       "0                       86595  \n",
       "1                       66360  \n",
       "2                       88507  \n",
       "3                       87550  \n",
       "4                       61479  \n",
       "...                       ...  \n",
       "79699                   21857  \n",
       "79700                   28764  \n",
       "79701                   42284  \n",
       "79702                   42891  \n",
       "79703                   94401  \n",
       "\n",
       "[79704 rows x 5 columns]"
      ]
     },
     "execution_count": 26,
     "metadata": {},
     "output_type": "execute_result"
    }
   ],
   "source": [
    "df1"
   ]
  },
  {
   "cell_type": "code",
   "execution_count": 20,
   "id": "afd451dc",
   "metadata": {},
   "outputs": [
    {
     "data": {
      "text/plain": [
       "0                                              what is rba\n",
       "1                             was ronald reagan a democrat\n",
       "2        how long do you need for sydney and surroundin...\n",
       "3                          price to install tile in shower\n",
       "4                          why conversion observed in body\n",
       "                               ...                        \n",
       "79699                               meaning of propagation\n",
       "79700    do you have to do a phd to be a clinical psych...\n",
       "79701                          what wine goes with oysters\n",
       "79702                  what strengths does lithium come in\n",
       "79703                    what is polarity index definition\n",
       "Name: query, Length: 79704, dtype: object"
      ]
     },
     "execution_count": 20,
     "metadata": {},
     "output_type": "execute_result"
    }
   ],
   "source": [
    "df1['query']"
   ]
  },
  {
   "cell_type": "code",
   "execution_count": null,
   "id": "4f02538b",
   "metadata": {},
   "outputs": [],
   "source": []
  },
  {
   "cell_type": "code",
   "execution_count": 33,
   "id": "c7b81dde",
   "metadata": {},
   "outputs": [
    {
     "data": {
      "text/plain": [
       "torch.Size([3, 128])"
      ]
     },
     "execution_count": 33,
     "metadata": {},
     "output_type": "execute_result"
    }
   ],
   "source": [
    "embedded_query = text_to_embeddings(df1['query'][0], word_to_idx, embeddings)\n",
    "embedded_positive = text_to_embeddings(df1['positive_passage'][0], word_to_idx, embeddings)\n",
    "embedded_negative = text_to_embeddings(df1['negative_passage'][0], word_to_idx, embeddings)\n",
    "\n",
    "embedded_query.shape"
   ]
  },
  {
   "cell_type": "code",
   "execution_count": 35,
   "id": "9ece943f",
   "metadata": {},
   "outputs": [],
   "source": [
    "a = embedded_query.mean(dim=0)\n",
    "b = embedded_positive.mean(dim=0)\n",
    "c = embedded_negative.mean(dim=0)\n"
   ]
  },
  {
   "cell_type": "code",
   "execution_count": 38,
   "id": "e95b8699",
   "metadata": {},
   "outputs": [
    {
     "name": "stdout",
     "output_type": "stream",
     "text": [
      "Cosine similarity between query and positive passage: 0.7518182992935181\n"
     ]
    }
   ],
   "source": [
    "import torch.nn.functional as F\n",
    "\n",
    "cosine_similarity = F.cosine_similarity(a, c, dim=0)\n",
    "print(f\"Cosine similarity between query and positive passage: {cosine_similarity.item()}\")"
   ]
  }
 ],
 "metadata": {
  "kernelspec": {
   "display_name": "mlx_env",
   "language": "python",
   "name": "python3"
  },
  "language_info": {
   "codemirror_mode": {
    "name": "ipython",
    "version": 3
   },
   "file_extension": ".py",
   "mimetype": "text/x-python",
   "name": "python",
   "nbconvert_exporter": "python",
   "pygments_lexer": "ipython3",
   "version": "3.12.4"
  }
 },
 "nbformat": 4,
 "nbformat_minor": 5
}

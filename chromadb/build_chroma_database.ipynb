{
 "cells": [
  {
   "cell_type": "code",
   "execution_count": 8,
   "metadata": {},
   "outputs": [
    {
     "name": "stdout",
     "output_type": "stream",
     "text": [
      "Using device: cuda\n"
     ]
    }
   ],
   "source": [
    "# Make sure this notebook is running on the GPU\n",
    "import torch\n",
    "import tqdm\n",
    "from model_for_db import DocTower\n",
    "import chromadb\n",
    "\n",
    "device = torch.device(\"cuda\" if torch.cuda.is_available() else \"cpu\")\n",
    "print(f\"Using device: {device}\")\n"
   ]
  },
  {
   "cell_type": "code",
   "execution_count": null,
   "metadata": {},
   "outputs": [],
   "source": [
    "# Prepare the document dataset\n",
    "# Get the dataset from cocoritz\n",
    "# Combine the positive and negative passages into a single documents dataset\n",
    "\n"
   ]
  },
  {
   "cell_type": "code",
   "execution_count": 9,
   "metadata": {},
   "outputs": [],
   "source": [
    "# Embed the documents\n",
    "def embed_docs(model, documents, batch_size=128, collection=None, start_id=0):\n",
    "\n",
    "    \"\"\"\n",
    "    Embed a list of texts using a pre-trained model.\n",
    "    \n",
    "    Args:\n",
    "        model: The pre-trained doc tower model to use for embedding.\n",
    "        documents: The list of texts to embed.\n",
    "    \"\"\"\n",
    "\n",
    "    model.to(device)\n",
    "    model.eval()\n",
    "\n",
    "\n",
    "    total_documents = len(documents)\n",
    "    # Create progress bar for the total number of batches\n",
    "    total_batches = (total_documents + batch_size - 1) // batch_size\n",
    "    progress_bar = tqdm(range(total_batches), desc=\"Processing batches\")\n",
    "\n",
    "    with torch.no_grad():\n",
    "        for i in range(0, total_documents, batch_size):\n",
    "\n",
    "            # Get batch of data\n",
    "            batch_passages = documents[i:i + batch_size] \n",
    "\n",
    "            doc_embeds = model(batch_passages)\n",
    "            batch_embeddings = doc_embeds.cpu().numpy()\n",
    "            \n",
    "            batch_ids = [str(start_id + i + j) for j in range(len(batch_passages))]\n",
    "            \n",
    "            \n",
    "            print('Documents embedded. Storing to ChromaDB...')\n",
    "            # Add batch directly to ChromaDB collection\n",
    "            collection.add(\n",
    "                documents=batch_passages,\n",
    "                ids=batch_ids,\n",
    "                embeddings=batch_embeddings\n",
    "            )\n",
    "            \n",
    "            # Update progress bar\n",
    "            progress_bar.update()\n",
    "            progress_bar.set_postfix({\"Processed\": f\"{i+batch_size}/{len(documents)} passages\"})\n",
    "\n",
    "    print('Documents embedded and stored in ChromaDB.')\n",
    "    return \n",
    "        \n",
    "    \n"
   ]
  },
  {
   "cell_type": "code",
   "execution_count": null,
   "metadata": {},
   "outputs": [],
   "source": [
    "# Load the list of documents\n",
    "all_passages = []"
   ]
  },
  {
   "cell_type": "markdown",
   "metadata": {},
   "source": [
    "### USAGE"
   ]
  },
  {
   "cell_type": "code",
   "execution_count": 10,
   "metadata": {},
   "outputs": [
    {
     "name": "stdout",
     "output_type": "stream",
     "text": [
      "Collection already contains 0 documents\n"
     ]
    }
   ],
   "source": [
    "# Load the complete statedict\n",
    "state_dict = torch.load(\"two_tower_model_GRU_padding.pt\", map_location=device)\n",
    "\n",
    "# Extract only the DocTower parameters\n",
    "doc_tower_state = state_dict['docTower']\n",
    "\n",
    "model = DocTower()\n",
    "model.load_state_dict(doc_tower_state)\n",
    "model.eval()\n",
    "\n",
    "# Initialize ChromaDB client\n",
    "client = chromadb.PersistentClient(path=\"./chroma_db\")\n",
    "# Create or access a collection\n",
    "collection_name = 'marco_sn_documents'\n",
    "collection = client.get_or_create_collection(name=collection_name)\n",
    "\n",
    "# Determine how many documents are already in the collection\n",
    "existing_docs_count = collection.count()\n",
    "print(f\"Collection already contains {existing_docs_count} documents\")\n"
   ]
  },
  {
   "cell_type": "code",
   "execution_count": null,
   "metadata": {},
   "outputs": [],
   "source": [
    "# Embed only new documents or all (depending on your use case)\n",
    "embed_docs(model, all_passages, batch_size=256, device=device, collection=collection, start_id=existing_docs_count)"
   ]
  }
 ],
 "metadata": {
  "kernelspec": {
   "display_name": ".venv",
   "language": "python",
   "name": "python3"
  },
  "language_info": {
   "codemirror_mode": {
    "name": "ipython",
    "version": 3
   },
   "file_extension": ".py",
   "mimetype": "text/x-python",
   "name": "python",
   "nbconvert_exporter": "python",
   "pygments_lexer": "ipython3",
   "version": "3.10.12"
  }
 },
 "nbformat": 4,
 "nbformat_minor": 2
}

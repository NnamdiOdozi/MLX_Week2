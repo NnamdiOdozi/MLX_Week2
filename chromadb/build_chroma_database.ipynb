{
 "cells": [
  {
   "cell_type": "code",
   "execution_count": 32,
   "metadata": {},
   "outputs": [
    {
     "name": "stdout",
     "output_type": "stream",
     "text": [
      "Using device: cuda\n"
     ]
    }
   ],
   "source": [
    "# Make sure this notebook is running on the GPU\n",
    "import torch\n",
    "from tqdm import tqdm\n",
    "from model_for_db import DocTower\n",
    "import chromadb\n",
    "\n",
    "device = torch.device(\"cuda\" if torch.cuda.is_available() else \"cpu\")\n",
    "print(f\"Using device: {device}\")\n",
    "\n"
   ]
  },
  {
   "cell_type": "code",
   "execution_count": 37,
   "metadata": {},
   "outputs": [],
   "source": [
    "# this tokenizer should just return the length of the document\n",
    "def simple_tokenizer(text):\n",
    "    # split on whitespace\n",
    "    words = text.split()\n",
    "    len_words = len(words)\n",
    "    return len_words"
   ]
  },
  {
   "cell_type": "code",
   "execution_count": 39,
   "metadata": {},
   "outputs": [],
   "source": [
    "# Embed the documents\n",
    "def embed_docs(model, documents, batch_size, device, collection=None, start_id=0):\n",
    "\n",
    "    \"\"\"\n",
    "    Embed a list of texts using a pre-trained model.\n",
    "    \n",
    "    Args:\n",
    "        model: The pre-trained doc tower model to use for embedding.\n",
    "        documents: The list of texts to embed.\n",
    "    \"\"\"\n",
    "\n",
    "    model.to(device)\n",
    "    model.eval()\n",
    "\n",
    "    total_documents = len(documents)\n",
    "    # Create progress bar for the total number of batches\n",
    "    total_batches = (total_documents + batch_size - 1) // batch_size\n",
    "    progress_bar = tqdm(range(total_batches), desc=\"Processing batches\")\n",
    "\n",
    "    with torch.no_grad():\n",
    "        for i in range(0, total_documents, batch_size):\n",
    "\n",
    "            # Get batch of data\n",
    "            batch_passages = documents[i:i + batch_size] \n",
    "            \n",
    "            # Calculate lengths for current batch only\n",
    "            batch_lengths = [simple_tokenizer(doc) for doc in batch_passages]\n",
    "\n",
    "            doc_embeds = model(batch_passages, batch_lengths)\n",
    "            batch_embeddings = doc_embeds.cpu().numpy()\n",
    "            \n",
    "            batch_ids = [str(start_id + i + j) for j in range(len(batch_passages))]\n",
    "            \n",
    "            \n",
    "            print('Documents embedded. Storing to ChromaDB...')\n",
    "            # Add batch directly to ChromaDB collection\n",
    "            collection.add(\n",
    "                documents=batch_passages,\n",
    "                ids=batch_ids,\n",
    "                embeddings=batch_embeddings\n",
    "            )\n",
    "            \n",
    "            # Update progress bar\n",
    "            progress_bar.update()\n",
    "            progress_bar.set_postfix({\"Processed\": f\"{i+batch_size}/{len(documents)} passages\"})\n",
    "\n",
    "    print('Documents embedded and stored in ChromaDB.')\n",
    "    return \n",
    "        \n",
    "    \n"
   ]
  },
  {
   "cell_type": "code",
   "execution_count": 40,
   "metadata": {},
   "outputs": [
    {
     "name": "stdout",
     "output_type": "stream",
     "text": [
      "79704\n",
      "79704\n",
      "159408\n"
     ]
    }
   ],
   "source": [
    "# Load the list of documents\n",
    "# Prepare the document dataset\n",
    "# Get the dataset from cocoritz\n",
    "# Combine the positive and negative passages into a single documents dataset\n",
    "from datasets import load_dataset\n",
    "df_sn = load_dataset(\"cocoritzy/week_2_triplet_dataset_soft_negatives\")\n",
    "df_sn = df_sn[\"train\"].to_pandas()\n",
    "df_sn.head()\n",
    "\n",
    "# Create a list of documents from all values in the positive and negative columns \n",
    "print(len(df_sn['positive_passage'].tolist()))\n",
    "print(len(df_sn['negative_passage'].tolist()))\n",
    "all_passages = df_sn['positive_passage'].tolist() + df_sn['negative_passage'].tolist()\n",
    "print(len(all_passages))"
   ]
  },
  {
   "cell_type": "markdown",
   "metadata": {},
   "source": [
    "### USAGE"
   ]
  },
  {
   "cell_type": "code",
   "execution_count": 41,
   "metadata": {},
   "outputs": [
    {
     "name": "stdout",
     "output_type": "stream",
     "text": [
      "Collection already contains 0 documents\n"
     ]
    }
   ],
   "source": [
    "# Load the complete statedict\n",
    "state_dict = torch.load(\"two_tower_model_GRU_padding.pt\", map_location=device)\n",
    "\n",
    "# Extract only the DocTower parameters\n",
    "doc_tower_state = state_dict['docTower']\n",
    "\n",
    "model = DocTower()\n",
    "model.load_state_dict(doc_tower_state)\n",
    "model.eval()\n",
    "\n",
    "# Initialize ChromaDB client\n",
    "client = chromadb.PersistentClient(path=\"./chroma_db\")\n",
    "# Create or access a collection\n",
    "collection_name = 'marco_sn_documents'\n",
    "collection = client.get_or_create_collection(name=collection_name)\n",
    "\n",
    "# Determine how many documents are already in the collection\n",
    "existing_docs_count = collection.count()\n",
    "print(f\"Collection already contains {existing_docs_count} documents\")\n"
   ]
  },
  {
   "cell_type": "code",
   "execution_count": 42,
   "metadata": {},
   "outputs": [
    {
     "name": "stderr",
     "output_type": "stream",
     "text": []
    },
    {
     "ename": "TypeError",
     "evalue": "'descending' is an invalid keyword argument for sort()",
     "output_type": "error",
     "traceback": [
      "\u001b[0;31m---------------------------------------------------------------------------\u001b[0m",
      "\u001b[0;31mTypeError\u001b[0m                                 Traceback (most recent call last)",
      "Cell \u001b[0;32mIn[42], line 2\u001b[0m\n\u001b[1;32m      1\u001b[0m \u001b[38;5;66;03m# Embed only new documents or all (depending on your use case)\u001b[39;00m\n\u001b[0;32m----> 2\u001b[0m \u001b[43membed_docs\u001b[49m\u001b[43m(\u001b[49m\u001b[43mmodel\u001b[49m\u001b[43m,\u001b[49m\u001b[43m \u001b[49m\u001b[43mall_passages\u001b[49m\u001b[43m,\u001b[49m\u001b[43m \u001b[49m\u001b[43mbatch_size\u001b[49m\u001b[38;5;241;43m=\u001b[39;49m\u001b[38;5;241;43m256\u001b[39;49m\u001b[43m,\u001b[49m\u001b[43m \u001b[49m\u001b[43mdevice\u001b[49m\u001b[38;5;241;43m=\u001b[39;49m\u001b[43mdevice\u001b[49m\u001b[43m,\u001b[49m\u001b[43m \u001b[49m\u001b[43mcollection\u001b[49m\u001b[38;5;241;43m=\u001b[39;49m\u001b[43mcollection\u001b[49m\u001b[43m,\u001b[49m\u001b[43m \u001b[49m\u001b[43mstart_id\u001b[49m\u001b[38;5;241;43m=\u001b[39;49m\u001b[43mexisting_docs_count\u001b[49m\u001b[43m)\u001b[49m\n",
      "Cell \u001b[0;32mIn[39], line 29\u001b[0m, in \u001b[0;36membed_docs\u001b[0;34m(model, documents, batch_size, device, collection, start_id)\u001b[0m\n\u001b[1;32m     26\u001b[0m \u001b[38;5;66;03m# Calculate lengths for current batch only\u001b[39;00m\n\u001b[1;32m     27\u001b[0m batch_lengths \u001b[38;5;241m=\u001b[39m [simple_tokenizer(doc) \u001b[38;5;28;01mfor\u001b[39;00m doc \u001b[38;5;129;01min\u001b[39;00m batch_passages]\n\u001b[0;32m---> 29\u001b[0m doc_embeds \u001b[38;5;241m=\u001b[39m \u001b[43mmodel\u001b[49m\u001b[43m(\u001b[49m\u001b[43mbatch_passages\u001b[49m\u001b[43m,\u001b[49m\u001b[43m \u001b[49m\u001b[43mbatch_lengths\u001b[49m\u001b[43m)\u001b[49m\n\u001b[1;32m     30\u001b[0m batch_embeddings \u001b[38;5;241m=\u001b[39m doc_embeds\u001b[38;5;241m.\u001b[39mcpu()\u001b[38;5;241m.\u001b[39mnumpy()\n\u001b[1;32m     32\u001b[0m batch_ids \u001b[38;5;241m=\u001b[39m [\u001b[38;5;28mstr\u001b[39m(start_id \u001b[38;5;241m+\u001b[39m i \u001b[38;5;241m+\u001b[39m j) \u001b[38;5;28;01mfor\u001b[39;00m j \u001b[38;5;129;01min\u001b[39;00m \u001b[38;5;28mrange\u001b[39m(\u001b[38;5;28mlen\u001b[39m(batch_passages))]\n",
      "File \u001b[0;32m~/MLX_Week2/.venv/lib/python3.10/site-packages/torch/nn/modules/module.py:1739\u001b[0m, in \u001b[0;36mModule._wrapped_call_impl\u001b[0;34m(self, *args, **kwargs)\u001b[0m\n\u001b[1;32m   1737\u001b[0m     \u001b[38;5;28;01mreturn\u001b[39;00m \u001b[38;5;28mself\u001b[39m\u001b[38;5;241m.\u001b[39m_compiled_call_impl(\u001b[38;5;241m*\u001b[39margs, \u001b[38;5;241m*\u001b[39m\u001b[38;5;241m*\u001b[39mkwargs)  \u001b[38;5;66;03m# type: ignore[misc]\u001b[39;00m\n\u001b[1;32m   1738\u001b[0m \u001b[38;5;28;01melse\u001b[39;00m:\n\u001b[0;32m-> 1739\u001b[0m     \u001b[38;5;28;01mreturn\u001b[39;00m \u001b[38;5;28;43mself\u001b[39;49m\u001b[38;5;241;43m.\u001b[39;49m\u001b[43m_call_impl\u001b[49m\u001b[43m(\u001b[49m\u001b[38;5;241;43m*\u001b[39;49m\u001b[43margs\u001b[49m\u001b[43m,\u001b[49m\u001b[43m \u001b[49m\u001b[38;5;241;43m*\u001b[39;49m\u001b[38;5;241;43m*\u001b[39;49m\u001b[43mkwargs\u001b[49m\u001b[43m)\u001b[49m\n",
      "File \u001b[0;32m~/MLX_Week2/.venv/lib/python3.10/site-packages/torch/nn/modules/module.py:1750\u001b[0m, in \u001b[0;36mModule._call_impl\u001b[0;34m(self, *args, **kwargs)\u001b[0m\n\u001b[1;32m   1745\u001b[0m \u001b[38;5;66;03m# If we don't have any hooks, we want to skip the rest of the logic in\u001b[39;00m\n\u001b[1;32m   1746\u001b[0m \u001b[38;5;66;03m# this function, and just call forward.\u001b[39;00m\n\u001b[1;32m   1747\u001b[0m \u001b[38;5;28;01mif\u001b[39;00m \u001b[38;5;129;01mnot\u001b[39;00m (\u001b[38;5;28mself\u001b[39m\u001b[38;5;241m.\u001b[39m_backward_hooks \u001b[38;5;129;01mor\u001b[39;00m \u001b[38;5;28mself\u001b[39m\u001b[38;5;241m.\u001b[39m_backward_pre_hooks \u001b[38;5;129;01mor\u001b[39;00m \u001b[38;5;28mself\u001b[39m\u001b[38;5;241m.\u001b[39m_forward_hooks \u001b[38;5;129;01mor\u001b[39;00m \u001b[38;5;28mself\u001b[39m\u001b[38;5;241m.\u001b[39m_forward_pre_hooks\n\u001b[1;32m   1748\u001b[0m         \u001b[38;5;129;01mor\u001b[39;00m _global_backward_pre_hooks \u001b[38;5;129;01mor\u001b[39;00m _global_backward_hooks\n\u001b[1;32m   1749\u001b[0m         \u001b[38;5;129;01mor\u001b[39;00m _global_forward_hooks \u001b[38;5;129;01mor\u001b[39;00m _global_forward_pre_hooks):\n\u001b[0;32m-> 1750\u001b[0m     \u001b[38;5;28;01mreturn\u001b[39;00m \u001b[43mforward_call\u001b[49m\u001b[43m(\u001b[49m\u001b[38;5;241;43m*\u001b[39;49m\u001b[43margs\u001b[49m\u001b[43m,\u001b[49m\u001b[43m \u001b[49m\u001b[38;5;241;43m*\u001b[39;49m\u001b[38;5;241;43m*\u001b[39;49m\u001b[43mkwargs\u001b[49m\u001b[43m)\u001b[49m\n\u001b[1;32m   1752\u001b[0m result \u001b[38;5;241m=\u001b[39m \u001b[38;5;28;01mNone\u001b[39;00m\n\u001b[1;32m   1753\u001b[0m called_always_called_hooks \u001b[38;5;241m=\u001b[39m \u001b[38;5;28mset\u001b[39m()\n",
      "File \u001b[0;32m~/MLX_Week2/chromadb/model_for_db.py:48\u001b[0m, in \u001b[0;36mDocTower.forward\u001b[0;34m(self, x, lengths)\u001b[0m\n\u001b[1;32m     46\u001b[0m \u001b[38;5;28;01mdef\u001b[39;00m\u001b[38;5;250m \u001b[39m\u001b[38;5;21mforward\u001b[39m(\u001b[38;5;28mself\u001b[39m, x, lengths):\n\u001b[1;32m     47\u001b[0m     \u001b[38;5;66;03m# 1. Sort by descending length\u001b[39;00m\n\u001b[0;32m---> 48\u001b[0m     lengths, sort_idx \u001b[38;5;241m=\u001b[39m \u001b[43mlengths\u001b[49m\u001b[38;5;241;43m.\u001b[39;49m\u001b[43msort\u001b[49m\u001b[43m(\u001b[49m\u001b[43mdescending\u001b[49m\u001b[38;5;241;43m=\u001b[39;49m\u001b[38;5;28;43;01mTrue\u001b[39;49;00m\u001b[43m)\u001b[49m\n\u001b[1;32m     49\u001b[0m     x \u001b[38;5;241m=\u001b[39m x[sort_idx]\n\u001b[1;32m     51\u001b[0m     \u001b[38;5;66;03m# 2. Pack\u001b[39;00m\n",
      "\u001b[0;31mTypeError\u001b[0m: 'descending' is an invalid keyword argument for sort()"
     ]
    }
   ],
   "source": [
    "# Embed only new documents or all (depending on your use case)\n",
    "embed_docs(model, all_passages, batch_size=256, device=device, collection=collection, start_id=existing_docs_count)"
   ]
  },
  {
   "cell_type": "code",
   "execution_count": null,
   "metadata": {},
   "outputs": [],
   "source": []
  }
 ],
 "metadata": {
  "kernelspec": {
   "display_name": ".venv",
   "language": "python",
   "name": "python3"
  },
  "language_info": {
   "codemirror_mode": {
    "name": "ipython",
    "version": 3
   },
   "file_extension": ".py",
   "mimetype": "text/x-python",
   "name": "python",
   "nbconvert_exporter": "python",
   "pygments_lexer": "ipython3",
   "version": "3.10.12"
  }
 },
 "nbformat": 4,
 "nbformat_minor": 2
}

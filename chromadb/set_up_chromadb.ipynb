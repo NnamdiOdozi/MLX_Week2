{
 "cells": [
  {
   "cell_type": "markdown",
   "metadata": {},
   "source": [
    "In this notebook we set up chromadb, a vector database used to store document embeddings for easy retrieval. "
   ]
  },
  {
   "cell_type": "code",
   "execution_count": 1,
   "metadata": {},
   "outputs": [],
   "source": [
    "from datasets import load_dataset\n",
    "\n",
    "# Stream the dataset from Hugging Face\n",
    "ds = load_dataset(\"microsoft/ms_marco\", \"v1.1\")\n",
    "\n",
    "# Extrac the train, test, and validation datasets into a list of dictionaries\n",
    "train_ds = ds[\"train\"]['passages']\n",
    "test_ds = ds[\"test\"]['passages']\n",
    "validation_ds = ds[\"validation\"]['passages']\n",
    "\n"
   ]
  },
  {
   "cell_type": "code",
   "execution_count": 2,
   "metadata": {},
   "outputs": [],
   "source": [
    "# from the list of dictionaries, you want the passage_text passages and corresponding url\n",
    "passages = []\n",
    "urls = []\n",
    "for item in test_ds:\n",
    "    for passage in item['passage_text']:\n",
    "        passages.append(passage)\n",
    "    \n",
    "    for url in item['url']:\n",
    "        urls.append(url)\n",
    "    \n",
    "# create a list of ids the length of the passages list\n",
    "ids = [str(i) for i in range(len(passages))]\n"
   ]
  },
  {
   "cell_type": "code",
   "execution_count": 3,
   "metadata": {},
   "outputs": [],
   "source": [
    "def create_data_for_collection(ds):\n",
    "    passages = []\n",
    "    urls = []\n",
    "\n",
    "    for item in ds:\n",
    "        for passage in item['passage_text']:\n",
    "            passages.append(passage)\n",
    "        for url in item['url']:\n",
    "            urls.append(url)\n",
    "\n",
    "    return passages, urls\n",
    "    \n"
   ]
  },
  {
   "cell_type": "code",
   "execution_count": 4,
   "metadata": {},
   "outputs": [
    {
     "name": "stdout",
     "output_type": "stream",
     "text": [
      "before joining:\n",
      "train 676193\n",
      "test 79176\n",
      "validation 82360\n",
      "urls train 676193\n",
      "urls test 79176\n",
      "urls validation 82360\n",
      "after joining:\n",
      "all passages 837729\n",
      "all urls 837729\n",
      "ids 837729\n"
     ]
    }
   ],
   "source": [
    "passages_train, urls_train = create_data_for_collection(train_ds)\n",
    "passages_test, urls_test = create_data_for_collection(test_ds)\n",
    "passages_validation, urls_validation = create_data_for_collection(validation_ds)\n",
    "\n",
    "print(\"before joining:\")\n",
    "print(\"train\", len(passages_train))\n",
    "print(\"test\", len(passages_test))\n",
    "print(\"validation\", len(passages_validation))\n",
    "print(\"urls train\", len(urls_train))\n",
    "print(\"urls test\", len(urls_test))\n",
    "print(\"urls validation\", len(urls_validation))\n",
    "\n",
    "# join the passages\n",
    "all_passages = passages_train + passages_test + passages_validation\n",
    "all_urls = urls_train + urls_test + urls_validation\n",
    "ids = [str(i) for i in range(len(all_passages))]\n",
    "\n",
    "print(\"after joining:\")\n",
    "print(\"all passages\", len(all_passages))\n",
    "print(\"all urls\", len(all_urls))\n",
    "print(\"ids\", len(ids))\n",
    "\n",
    "# Conver the list of urls to a list of dictionaries for ChromaDB\n",
    "metadatas = [{\"url\": url} for url in all_urls]"
   ]
  },
  {
   "cell_type": "markdown",
   "metadata": {},
   "source": [
    "Since we now have all the passages, urls, and ids, we create a document collection"
   ]
  },
  {
   "cell_type": "code",
   "execution_count": null,
   "metadata": {},
   "outputs": [],
   "source": [
    "import chromadb\n",
    "\n",
    "client = chromadb.Client()\n",
    "\n",
    "# delete the collection if it already exists\n",
    "try:\n",
    "    client.delete_collection(\"test_collection\")\n",
    "except:\n",
    "    pass\n",
    "\n",
    "# create a new collection\n",
    "collection = client.create_collection(\"ms_marcov1.1_collection\")\n",
    "\n",
    "collection.add(\n",
    "    documents=all_passages,\n",
    "    metadatas=metadatas,\n",
    "    ids=ids\n",
    ")"
   ]
  },
  {
   "cell_type": "code",
   "execution_count": null,
   "metadata": {},
   "outputs": [],
   "source": [
    "# from the list of dictionaries, you want the passage_text passages and corresponding url\n",
    "passages = []\n",
    "urls = []\n",
    "for item in test_ds:\n",
    "    for passage in item['passage_text']:\n",
    "        passages.append(passage)\n",
    "    \n",
    "    for url in item['url']:\n",
    "        urls.append(url)\n",
    "    \n",
    "# create a list of ids the length of the passages list\n",
    "ids = [str(i) for i in range(len(passages))]\n"
   ]
  },
  {
   "cell_type": "code",
   "execution_count": 4,
   "metadata": {},
   "outputs": [
    {
     "name": "stdout",
     "output_type": "stream",
     "text": [
      "{'ids': [['id1', 'id2']], 'embeddings': None, 'documents': [['This is a document about machine learning', 'This is another document about data science']], 'uris': None, 'included': ['metadatas', 'documents', 'distances'], 'data': None, 'metadatas': [[{'source': 'test1'}, {'source': 'test2'}]], 'distances': [[0.5763760209083557, 1.1664083003997803]]}\n"
     ]
    }
   ],
   "source": [
    "results = collection.query(\n",
    "    query_texts=[\"What is machine learning?\"],\n",
    "    n_results=2\n",
    ")\n",
    "\n",
    "print(results)\n"
   ]
  },
  {
   "cell_type": "markdown",
   "metadata": {},
   "source": [
    "Now we learn how to store embeddings in a local storage and link it to the Chroma DB"
   ]
  },
  {
   "cell_type": "code",
   "execution_count": null,
   "metadata": {},
   "outputs": [],
   "source": []
  }
 ],
 "metadata": {
  "kernelspec": {
   "display_name": ".venv",
   "language": "python",
   "name": "python3"
  },
  "language_info": {
   "codemirror_mode": {
    "name": "ipython",
    "version": 3
   },
   "file_extension": ".py",
   "mimetype": "text/x-python",
   "name": "python",
   "nbconvert_exporter": "python",
   "pygments_lexer": "ipython3",
   "version": "3.11.6"
  }
 },
 "nbformat": 4,
 "nbformat_minor": 2
}

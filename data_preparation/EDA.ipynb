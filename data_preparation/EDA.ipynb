{
 "cells": [
  {
   "cell_type": "markdown",
   "id": "cb88a0fc",
   "metadata": {},
   "source": [
    "### Exploring the MS Marco dataset for Document Query \n",
    "\n",
    "Dataset can be found on Hugging Face: https://huggingface.co/datasets/microsoft/ms_marco\n",
    "The original dataset is split into train (82.3k rows), validation (10k rows), and test (9.65k rows); for a total of 102k rows for v1.1 of the dataset.\n",
    "\n",
    "The goal of this notebook is to look at the distribution of data and compare it to the vocabulary that was generated from the data used to train word2vec to identify: \n",
    "\n",
    "* similarity in vocabulary \n",
    "* eyeball view of the relevance of the documents returned\n",
    "\n",
    "**for this exercise, we don't care about the answer given, only the documents returned per query\n"
   ]
  },
  {
   "cell_type": "code",
   "execution_count": 1,
   "id": "79386f9f",
   "metadata": {},
   "outputs": [],
   "source": [
    "from datasets import load_dataset\n",
    "import pandas as pd\n",
    "import seaborn as sns\n",
    "import os"
   ]
  },
  {
   "cell_type": "code",
   "execution_count": 2,
   "id": "e14ecf76",
   "metadata": {},
   "outputs": [],
   "source": [
    "# Stream the dataset from Hugging Face\n",
    "ds = load_dataset(\"microsoft/ms_marco\", \"v1.1\")"
   ]
  },
  {
   "cell_type": "code",
   "execution_count": 3,
   "id": "5c085f43",
   "metadata": {},
   "outputs": [
    {
     "name": "stdout",
     "output_type": "stream",
     "text": [
      "train dataset:  Dataset({\n",
      "    features: ['answers', 'passages', 'query', 'query_id', 'query_type', 'wellFormedAnswers'],\n",
      "    num_rows: 82326\n",
      "})\n",
      "validation dataset:  Dataset({\n",
      "    features: ['answers', 'passages', 'query', 'query_id', 'query_type', 'wellFormedAnswers'],\n",
      "    num_rows: 10047\n",
      "})\n",
      "test dataset:  Dataset({\n",
      "    features: ['answers', 'passages', 'query', 'query_id', 'query_type', 'wellFormedAnswers'],\n",
      "    num_rows: 9650\n",
      "})\n"
     ]
    }
   ],
   "source": [
    "# Check that the dataset is loaded correctly\n",
    "ds.keys()\n",
    "print(\"train dataset: \", ds['train'])\n",
    "print(\"validation dataset: \", ds['validation'])\n",
    "print(\"test dataset: \", ds['test'])\n"
   ]
  },
  {
   "cell_type": "code",
   "execution_count": 7,
   "id": "3e630a64",
   "metadata": {},
   "outputs": [
    {
     "data": {
      "text/plain": [
       "{'answers': ['Results-Based Accountability is a disciplined way of thinking and taking action that communities can use to improve the lives of children, youth, families, adults and the community as a whole.'],\n",
       " 'passages': {'is_selected': [0, 0, 0, 0, 0, 1, 0, 0, 0, 0],\n",
       "  'passage_text': [\"Since 2007, the RBA's outstanding reputation has been affected by the 'Securency' or NPA scandal. These RBA subsidiaries were involved in bribing overseas officials so that Australia might win lucrative note-printing contracts. The assets of the bank include the gold and foreign exchange reserves of Australia, which is estimated to have a net worth of A$101 billion. Nearly 94% of the RBA's employees work at its headquarters in Sydney, New South Wales and at the Business Resumption Site.\",\n",
       "   \"The Reserve Bank of Australia (RBA) came into being on 14 January 1960 as Australia 's central bank and banknote issuing authority, when the Reserve Bank Act 1959 removed the central banking functions from the Commonwealth Bank. The assets of the bank include the gold and foreign exchange reserves of Australia, which is estimated to have a net worth of A$101 billion. Nearly 94% of the RBA's employees work at its headquarters in Sydney, New South Wales and at the Business Resumption Site.\",\n",
       "   'RBA Recognized with the 2014 Microsoft US Regional Partner of the ... by PR Newswire. Contract Awarded for supply and support the. Securitisations System used for risk management and analysis. ',\n",
       "   'The inner workings of a rebuildable atomizer are surprisingly simple. The coil inside the RBA is made of some type of resistance wire, normally Kanthal or nichrome. When a current is applied to the coil (resistance wire), it heats up and the heated coil then vaporizes the eliquid. 1 The bottom feed RBA is, perhaps, the easiest of all RBA types to build, maintain, and use. 2  It is filled from below, much like bottom coil clearomizer. 3  Bottom feed RBAs can utilize cotton instead of silica for the wick. 4  The Genesis, or genny, is a top feed RBA that utilizes a short woven mesh wire.',\n",
       "   'Results-Based Accountability® (also known as RBA) is a disciplined way of thinking and taking action that communities can use to improve the lives of children, youth, families, adults and the community as a whole. RBA is also used by organizations to improve the performance of their programs. RBA improves the lives of children, families, and communities and the performance of programs because RBA: 1  Gets from talk to action quickly; 2  Is a simple, common sense process that everyone can understand; 3  Helps groups to surface and challenge assumptions that can be barriers to innovation;',\n",
       "   'Results-Based Accountability® (also known as RBA) is a disciplined way of thinking and taking action that communities can use to improve the lives of children, youth, families, adults and the community as a whole. RBA is also used by organizations to improve the performance of their programs. Creating Community Impact with RBA. Community impact focuses on conditions of well-being for children, families and the community as a whole that a group of leaders is working collectively to improve. For example: “Residents with good jobs,” “Children ready for school,” or “A safe and clean neighborhood”.',\n",
       "   'RBA uses a data-driven, decision-making process to help communities and organizations get beyond talking about problems to taking action to solve problems. It is a simple, common sense framework that everyone can understand. RBA starts with ends and works backward, towards means. The “end” or difference you are trying to make looks slightly different if you are working on a broad community level or are focusing on your specific program or organization. RBA improves the lives of children, families, and communities and the performance of programs because RBA: 1  Gets from talk to action quickly; 2  Is a simple, common sense process that everyone can understand; 3  Helps groups to surface and challenge assumptions that can be barriers to innovation;',\n",
       "   'vs. NetIQ Identity Manager. Risk-based authentication (RBA) is a method of applying varying levels of stringency to authentication processes based on the likelihood that access to a given system could result in its being compromised. Risk-based authentication can be categorized as either user-dependent or transaction-dependent. User-dependent RBA processes employ the same authentication for every session initiated by a given user; the exact credentials that the site demands depend on who the user is.',\n",
       "   'A rebuildable atomizer (RBA), often referred to as simply a “rebuildable,” is just a special type of atomizer used in the Vape Pen and Mod Industry that connects to a personal vaporizer. 1 The bottom feed RBA is, perhaps, the easiest of all RBA types to build, maintain, and use. 2  It is filled from below, much like bottom coil clearomizer. 3  Bottom feed RBAs can utilize cotton instead of silica for the wick. 4  The Genesis, or genny, is a top feed RBA that utilizes a short woven mesh wire.',\n",
       "   'Get To Know Us. RBA is a digital and technology consultancy with roots in strategy, design and technology. Our team of specialists help progressive companies deliver modern digital experiences backed by proven technology engineering. '],\n",
       "  'url': ['https://en.wikipedia.org/wiki/Reserve_Bank_of_Australia',\n",
       "   'https://en.wikipedia.org/wiki/Reserve_Bank_of_Australia',\n",
       "   'http://acronyms.thefreedictionary.com/RBA',\n",
       "   'https://www.slimvapepen.com/rebuildable-atomizer-rba/',\n",
       "   'http://rba-africa.com/about/what-is-rba/',\n",
       "   'http://resultsleadership.org/what-is-results-based-accountability-rba/',\n",
       "   'http://rba-africa.com/about/what-is-rba/',\n",
       "   'http://searchsecurity.techtarget.com/definition/risk-based-authentication-RBA',\n",
       "   'https://www.slimvapepen.com/rebuildable-atomizer-rba/',\n",
       "   'http://www.rbaconsulting.com/']},\n",
       " 'query': 'what is rba',\n",
       " 'query_id': 19699,\n",
       " 'query_type': 'description',\n",
       " 'wellFormedAnswers': []}"
      ]
     },
     "execution_count": 7,
     "metadata": {},
     "output_type": "execute_result"
    }
   ],
   "source": [
    "ds['train'][0]"
   ]
  },
  {
   "cell_type": "code",
   "execution_count": 8,
   "id": "b6325c0c",
   "metadata": {},
   "outputs": [
    {
     "name": "stdout",
     "output_type": "stream",
     "text": [
      "answers: <class 'list'>\n",
      "  Length: 1\n",
      "  Content: ['People get diabetes when their blood glucose level, sometimes called blood sugar, is too high.']\n",
      "\n",
      "passages: <class 'dict'>\n",
      "  Length: 3\n",
      "  Content: {'is_selected': [0, 0, 0, 1, 0, 0, 0, 0, 0], 'passage_text': [\"Diabetes is a major health condition which interferes with the body's ability to control insulin. According to the Centers for Disease Control, millions of Americans have diabetes and over one million new people are diagnosed each year. The end result is diabetes. Some people may develop diabetes sooner than others. If diabetes is not controlled with medication, the condition will destroy every organ within the body in a very short period of time eventually resulting in death.\", 'Unfortunately, too many people disregard the other risk factors for diabetes and think that weight is the only risk factor for type 2 diabetes. Most overweight people never develop type 2 diabetes, and many people with type 2 diabetes are at a normal weight or only moderately overweight. Myth: Eating too much sugar causes diabetes. Fact: The answer is not so simple. Myth: If you are overweight or obese, you will eventually develop type 2 diabetes. Fact: Being overweight is a risk factor for developing this disease, but other risk factors such as family history, ethnicity and age also play a role.', 'In type 1 diabetes, which is usually diagnosed in childhood, a person’s pancreas fails to produce insulin from birth. Therefore, the body does not convert glucose into sugar, which is essential for cell function. What you eat plays a huge role in your health. The onset of diabetes is dependent on a complex interplay of genetics, each individual’s immune system, the environment, and lifestyle choices. Not everyone with a bad diet will develop diabetes, and not everyone with a healthy diet will avoid it.', 'Diabetes is a serious disease. People get diabetes when their blood glucose level, sometimes called blood sugar, is too high. Diabetes can lead to dangerous health problems, such as having a heart attack or stroke. The good news is that there are things you can do to take control of diabetes and prevent its problems.', 'Diabetes is a health condition that disrupts the body’s normal production of insulin. Currently, more than one million Americans are diagnosed with diabetes every year, and many others have the disease but are unaware of it. Without proper maintenance, diabetes can have major health complications. The onset of diabetes is dependent on a complex interplay of genetics, each individual’s immune system, the environment, and lifestyle choices. Not everyone with a bad diet will develop diabetes, and not everyone with a healthy diet will avoid it.', \"Best Answer: Type 1 diabetes usually strikes children because the pancreas fails to produce insulin. Insulin is a hormone that takes glucose (sugar) from the blood and into the cells. This is how our body has energy for life and it's functions. Type 2 diabetes use to be called adult onset because it use to happen mostly to overweight adults. There is no cure for type 1 diabetes, type 2 diabetes can go into remission after weight loss, gastric bypass or banding. Type 2 diabetes is a complex metabolic disorder linked to obesity, it develops over time, with the body becoming progressively less able to control blood sugar levels. Some patients, who have had ‘gastric banding’, show a reversal of diabete\", 'There are two major types of diabetes. In type 1 (fomerly called juvenile-onset or insulin-dependent) diabetes, the body completely stops producing any insulin, a hormone that enables the body to use glucose found in foods for energy. People with type 1 diabetes must take daily insulin injections to survive. Everyone with type 1 diabetes, and some people with type 2 diabetes, also need to take insulin injections. Some people with type 2 diabetes take pills called oral agents which help their bodies produce more insulin and/or use the insulin it is producing better.', 'You will not develop type 2 diabetes automatically if you have prediabetes. For some people with prediabetes, early treatment can actually return blood glucose levels to the normal range. Research shows that you can lower your risk for type 2 diabetes by 58% by: 1  Losing 7% of your body weight (or 15 pounds if you weigh 200 pounds). Some people with prediabetes may have some of the symptoms of diabetes or even problems from diabetes already. You usually find out that you have prediabetes when being tested for diabetes. If you have prediabetes, you should be checked for type 2 diabetes every one to two years.', 'People with type 1 diabetes do not produce insulin, a hormone that regulates how cells obtain energy from food; in type 2, the pancreas produces too little insulin or the body is not able to properly use insulin the body does produce. '], 'url': ['http://www.ehow.com/how-does_4672183_diabetes-develop.html', 'http://www.diabetes.org/diabetes-basics/myths/', 'http://www.informationaboutdiabetes.com/articles/diabetes/how-does-diabetes-develop', 'https://www.nia.nih.gov/health/publication/diabetes-older-people', 'http://www.informationaboutdiabetes.com/articles/diabetes/how-does-diabetes-develop', 'https://answers.yahoo.com/question/index?qid=20081004223948AAzRSnF', 'http://www.joslin.org/info/general_diabetes_facts_and_information.html', 'http://www.diabetes.org/diabetes-basics/diagnosis/', 'http://www.joslin.org/info/genetics_and_diabetes.html']}\n",
      "\n",
      "query: <class 'str'>\n",
      "  Length: 34\n",
      "  Content: how does a person develop diabetes\n",
      "\n",
      "query_id: <class 'int'>\n",
      "  Content: 94207\n",
      "\n",
      "query_type: <class 'str'>\n",
      "  Length: 11\n",
      "  Content: description\n",
      "\n",
      "wellFormedAnswers: <class 'list'>\n",
      "  Length: 0\n",
      "  Content: []\n",
      "\n"
     ]
    }
   ],
   "source": [
    "# Look at a specific example in detail\n",
    "example = ds['train'][74418]\n",
    "for key, value in example.items():\n",
    "    print(f\"{key}: {type(value)}\")\n",
    "    if hasattr(value, \"__len__\"):\n",
    "        print(f\"  Length: {len(value)}\")\n",
    "    print(f\"  Content: {value}\\n\")"
   ]
  },
  {
   "cell_type": "code",
   "execution_count": 9,
   "id": "57655be7",
   "metadata": {},
   "outputs": [
    {
     "name": "stdout",
     "output_type": "stream",
     "text": [
      "Example 27943:\n",
      "Query: what is the name of this archipelago\n",
      "Query ID: 47669\n",
      "Query Type: location\n",
      "Number of passages: 8\n",
      "Number of selected passages: 1\n",
      "Example of selected passage: An Archipelago is a landform that is a group of many islands. Some of the most famous. archipelagos ...\n",
      "--------------------------------------------------\n",
      "Example 54027:\n",
      "Query: is asmr sinful\n",
      "Query ID: 73782\n",
      "Query Type: description\n",
      "Number of passages: 9\n",
      "Number of selected passages: 1\n",
      "Example of selected passage: I love asmr. It's so relaxing but I can't see it as being a sin. If you're referring to how it can b...\n",
      "--------------------------------------------------\n",
      "Example 77248:\n",
      "Query: what is the insula\n",
      "Query ID: 97043\n",
      "Query Type: description\n",
      "Number of passages: 10\n",
      "Number of selected passages: 1\n",
      "Example of selected passage: Adorable animal families that will make you aww. The insula is another name given to the area of the...\n",
      "--------------------------------------------------\n"
     ]
    }
   ],
   "source": [
    "# Sample and display a few random examples\n",
    "import random\n",
    "sample_indices = random.sample(range(len(ds['train'])), 3)\n",
    "for idx in sample_indices:\n",
    "    print(f\"Example {idx}:\")\n",
    "    print(f\"Query: {ds['train'][idx]['query']}\")\n",
    "    print(f\"Query ID: {ds['train'][idx]['query_id']}\")\n",
    "    print(f\"Query Type: {ds['train'][idx]['query_type']}\")\n",
    "    \n",
    "    # Show the passages and which ones are selected as answers\n",
    "    is_selected = ds['train'][idx]['passages']['is_selected']\n",
    "    passage_texts = ds['train'][idx]['passages']['passage_text']\n",
    "    \n",
    "    print(f\"Number of passages: {len(passage_texts)}\")\n",
    "    print(f\"Number of selected passages: {sum(is_selected)}\")\n",
    "    \n",
    "    # Print the first selected passage\n",
    "    if sum(is_selected) > 0:\n",
    "        selected_idx = is_selected.index(1)\n",
    "        print(f\"Example of selected passage: {passage_texts[selected_idx][:100]}...\")\n",
    "    \n",
    "    print(\"-\" * 50)"
   ]
  },
  {
   "cell_type": "markdown",
   "id": "59685932",
   "metadata": {},
   "source": [
    "#### Step 1: Does our vocabulary sufficiently cover the vocabulary of the query and passages text? "
   ]
  },
  {
   "cell_type": "markdown",
   "id": "315ab85c",
   "metadata": {},
   "source": [
    "Get the query and passages text into two separate big ass strings"
   ]
  },
  {
   "cell_type": "code",
   "execution_count": 11,
   "id": "f452f94d",
   "metadata": {},
   "outputs": [
    {
     "name": "stdout",
     "output_type": "stream",
     "text": [
      "Original length of query_text: 82326\n",
      "Length of unique query_text: 82326\n",
      "Original length of passages_text: 82326\n",
      "Length of unique passages_text: 82326\n"
     ]
    }
   ],
   "source": [
    "## Get the query and passages text as a single string\n",
    "\n",
    "# For all examples in the train dataset, get the query and passages text as a single string\n",
    "query_text = []\n",
    "passages_text = []\n",
    "\n",
    "for example in ds['train']:\n",
    "    query_text.append(example['query'])\n",
    "    passages_text.append(example['passages']['passage_text'])\n",
    "\n",
    "# Use a dictionary to track unique queries and their corresponding passages\n",
    "unique_queries = {}\n",
    "for q, p in zip(query_text, passages_text):\n",
    "    if q not in unique_queries:\n",
    "        unique_queries[q] = p\n",
    "\n",
    "# Convert the dictionary back to lists\n",
    "unique_query_text = list(unique_queries.keys())\n",
    "unique_passages_text = list(unique_queries.values())\n",
    "\n",
    "\n",
    "# Check that the length of the unique query and passages text are the same\n",
    "print(\"Original length of query_text:\", len(query_text))\n",
    "print(\"Length of unique query_text:\", len(unique_query_text))\n",
    "print(\"Original length of passages_text:\", len(passages_text))\n",
    "print(\"Length of unique passages_text:\", len(unique_passages_text))"
   ]
  },
  {
   "cell_type": "code",
   "execution_count": 5,
   "id": "ed6aaea1",
   "metadata": {},
   "outputs": [
    {
     "name": "stdout",
     "output_type": "stream",
     "text": [
      "what is rba\n",
      " \n",
      "[\"Since 2007, the RBA's outstanding reputation has been affected by the 'Securency' or NPA scandal. These RBA subsidiaries were involved in bribing overseas officials so that Australia might win lucrative note-printing contracts. The assets of the bank include the gold and foreign exchange reserves of Australia, which is estimated to have a net worth of A$101 billion. Nearly 94% of the RBA's employees work at its headquarters in Sydney, New South Wales and at the Business Resumption Site.\", \"The Reserve Bank of Australia (RBA) came into being on 14 January 1960 as Australia 's central bank and banknote issuing authority, when the Reserve Bank Act 1959 removed the central banking functions from the Commonwealth Bank. The assets of the bank include the gold and foreign exchange reserves of Australia, which is estimated to have a net worth of A$101 billion. Nearly 94% of the RBA's employees work at its headquarters in Sydney, New South Wales and at the Business Resumption Site.\", 'RBA Recognized with the 2014 Microsoft US Regional Partner of the ... by PR Newswire. Contract Awarded for supply and support the. Securitisations System used for risk management and analysis. ', 'The inner workings of a rebuildable atomizer are surprisingly simple. The coil inside the RBA is made of some type of resistance wire, normally Kanthal or nichrome. When a current is applied to the coil (resistance wire), it heats up and the heated coil then vaporizes the eliquid. 1 The bottom feed RBA is, perhaps, the easiest of all RBA types to build, maintain, and use. 2  It is filled from below, much like bottom coil clearomizer. 3  Bottom feed RBAs can utilize cotton instead of silica for the wick. 4  The Genesis, or genny, is a top feed RBA that utilizes a short woven mesh wire.', 'Results-Based Accountability® (also known as RBA) is a disciplined way of thinking and taking action that communities can use to improve the lives of children, youth, families, adults and the community as a whole. RBA is also used by organizations to improve the performance of their programs. RBA improves the lives of children, families, and communities and the performance of programs because RBA: 1  Gets from talk to action quickly; 2  Is a simple, common sense process that everyone can understand; 3  Helps groups to surface and challenge assumptions that can be barriers to innovation;', 'Results-Based Accountability® (also known as RBA) is a disciplined way of thinking and taking action that communities can use to improve the lives of children, youth, families, adults and the community as a whole. RBA is also used by organizations to improve the performance of their programs. Creating Community Impact with RBA. Community impact focuses on conditions of well-being for children, families and the community as a whole that a group of leaders is working collectively to improve. For example: “Residents with good jobs,” “Children ready for school,” or “A safe and clean neighborhood”.', 'RBA uses a data-driven, decision-making process to help communities and organizations get beyond talking about problems to taking action to solve problems. It is a simple, common sense framework that everyone can understand. RBA starts with ends and works backward, towards means. The “end” or difference you are trying to make looks slightly different if you are working on a broad community level or are focusing on your specific program or organization. RBA improves the lives of children, families, and communities and the performance of programs because RBA: 1  Gets from talk to action quickly; 2  Is a simple, common sense process that everyone can understand; 3  Helps groups to surface and challenge assumptions that can be barriers to innovation;', 'vs. NetIQ Identity Manager. Risk-based authentication (RBA) is a method of applying varying levels of stringency to authentication processes based on the likelihood that access to a given system could result in its being compromised. Risk-based authentication can be categorized as either user-dependent or transaction-dependent. User-dependent RBA processes employ the same authentication for every session initiated by a given user; the exact credentials that the site demands depend on who the user is.', 'A rebuildable atomizer (RBA), often referred to as simply a “rebuildable,” is just a special type of atomizer used in the Vape Pen and Mod Industry that connects to a personal vaporizer. 1 The bottom feed RBA is, perhaps, the easiest of all RBA types to build, maintain, and use. 2  It is filled from below, much like bottom coil clearomizer. 3  Bottom feed RBAs can utilize cotton instead of silica for the wick. 4  The Genesis, or genny, is a top feed RBA that utilizes a short woven mesh wire.', 'Get To Know Us. RBA is a digital and technology consultancy with roots in strategy, design and technology. Our team of specialists help progressive companies deliver modern digital experiences backed by proven technology engineering. ']\n"
     ]
    }
   ],
   "source": [
    "# Check that the length of the query and passages text are the same\n",
    "print(len(query_text))\n",
    "print(len(passages_text))\n",
    "\n",
    "# Cheeky check of the first query and passages text\n",
    "print(query_text[0])\n",
    "print(\" \")\n",
    "print(passages_text[0])\n"
   ]
  },
  {
   "cell_type": "code",
   "execution_count": 6,
   "id": "9b1af77b",
   "metadata": {},
   "outputs": [],
   "source": [
    "# Join all text in the query_text list into a single string\n",
    "query_text_file = ' '.join(query_text)\n",
    "\n",
    "# Convert passages_text to a string\n",
    "passages_text_file = str(passages_text)\n",
    "\n",
    "if not os.path.exists('./data'):\n",
    "    os.makedirs('./data')\n",
    "\n",
    "# Save the query and passages text to a txt file\n",
    "with open('./data/query_text.txt', 'w') as f:\n",
    "    f.write(query_text_file)\n",
    "\n",
    "with open('./data/passages_text.txt', 'w') as f:\n",
    "    f.write(passages_text_file)\n"
   ]
  },
  {
   "cell_type": "markdown",
   "id": "5c740be0",
   "metadata": {},
   "source": [
    "Load the tokenizer function from before and tokenize the query and passages strings, and get the vocab"
   ]
  },
  {
   "cell_type": "code",
   "execution_count": 16,
   "id": "4e37efa1",
   "metadata": {},
   "outputs": [
    {
     "name": "stdout",
     "output_type": "stream",
     "text": [
      "Number of tokens in query:  451162\n",
      "Number of tokens in passages:  56010659\n",
      "Number of tokens in ms-marco vocabulary:  118042\n"
     ]
    }
   ],
   "source": [
    "# Load the tokenizer script to run the preprocess function on the query and passages text\n",
    "from tokenizer import preprocess, create_lookup_tables\n",
    "\n",
    "# Tokenize the query and passages strings\n",
    "query_tokens = preprocess(query_text_file)\n",
    "passages_tokens = preprocess(passages_text_file)\n",
    "\n",
    "# Get the vocabulary \n",
    "# Since it takes in a list of strings as input, we can just concatenate the two lists with a cheeky '+' sign\n",
    "vocab_to_int, int_to_vocab = create_lookup_tables(query_tokens + passages_tokens)\n",
    "\n",
    "print(\"Number of tokens in query: \", len(query_tokens))\n",
    "print(\"Number of tokens in passages: \", len(passages_tokens))\n",
    "print(\"Number of tokens in ms-marco vocabulary: \", len(vocab_to_int))\n",
    "\n"
   ]
  },
  {
   "cell_type": "markdown",
   "id": "18d854da",
   "metadata": {},
   "source": [
    "Compare to the vocabulary from the text8 wiki file"
   ]
  },
  {
   "cell_type": "code",
   "execution_count": 17,
   "id": "6feee7fd",
   "metadata": {},
   "outputs": [
    {
     "ename": "FileNotFoundError",
     "evalue": "[Errno 2] No such file or directory: './data/tkn_words_to_ids.pkl'",
     "output_type": "error",
     "traceback": [
      "\u001b[0;31m---------------------------------------------------------------------------\u001b[0m",
      "\u001b[0;31mFileNotFoundError\u001b[0m                         Traceback (most recent call last)",
      "Cell \u001b[0;32mIn[17], line 4\u001b[0m\n\u001b[1;32m      1\u001b[0m \u001b[38;5;28;01mimport\u001b[39;00m\u001b[38;5;250m \u001b[39m\u001b[38;5;21;01mpickle\u001b[39;00m\n\u001b[1;32m      3\u001b[0m \u001b[38;5;66;03m# Load the words_to_id .pkl file and check the length\u001b[39;00m\n\u001b[0;32m----> 4\u001b[0m \u001b[38;5;28;01mwith\u001b[39;00m \u001b[38;5;28;43mopen\u001b[39;49m\u001b[43m(\u001b[49m\u001b[38;5;124;43m'\u001b[39;49m\u001b[38;5;124;43m./data/tkn_words_to_ids.pkl\u001b[39;49m\u001b[38;5;124;43m'\u001b[39;49m\u001b[43m,\u001b[49m\u001b[43m \u001b[49m\u001b[38;5;124;43m'\u001b[39;49m\u001b[38;5;124;43mrb\u001b[39;49m\u001b[38;5;124;43m'\u001b[39;49m\u001b[43m)\u001b[49m \u001b[38;5;28;01mas\u001b[39;00m f:\n\u001b[1;32m      5\u001b[0m     words_to_ids \u001b[38;5;241m=\u001b[39m pickle\u001b[38;5;241m.\u001b[39mload(f)\n\u001b[1;32m      7\u001b[0m \u001b[38;5;28mprint\u001b[39m(\u001b[38;5;124m\"\u001b[39m\u001b[38;5;124mNumber of tokens in text8 vocabulary: \u001b[39m\u001b[38;5;124m\"\u001b[39m, \u001b[38;5;28mlen\u001b[39m(words_to_ids))\n",
      "File \u001b[0;32m~/MLX_Week2-1/.venv/lib/python3.10/site-packages/IPython/core/interactiveshell.py:324\u001b[0m, in \u001b[0;36m_modified_open\u001b[0;34m(file, *args, **kwargs)\u001b[0m\n\u001b[1;32m    317\u001b[0m \u001b[38;5;28;01mif\u001b[39;00m file \u001b[38;5;129;01min\u001b[39;00m {\u001b[38;5;241m0\u001b[39m, \u001b[38;5;241m1\u001b[39m, \u001b[38;5;241m2\u001b[39m}:\n\u001b[1;32m    318\u001b[0m     \u001b[38;5;28;01mraise\u001b[39;00m \u001b[38;5;167;01mValueError\u001b[39;00m(\n\u001b[1;32m    319\u001b[0m         \u001b[38;5;124mf\u001b[39m\u001b[38;5;124m\"\u001b[39m\u001b[38;5;124mIPython won\u001b[39m\u001b[38;5;124m'\u001b[39m\u001b[38;5;124mt let you open fd=\u001b[39m\u001b[38;5;132;01m{\u001b[39;00mfile\u001b[38;5;132;01m}\u001b[39;00m\u001b[38;5;124m by default \u001b[39m\u001b[38;5;124m\"\u001b[39m\n\u001b[1;32m    320\u001b[0m         \u001b[38;5;124m\"\u001b[39m\u001b[38;5;124mas it is likely to crash IPython. If you know what you are doing, \u001b[39m\u001b[38;5;124m\"\u001b[39m\n\u001b[1;32m    321\u001b[0m         \u001b[38;5;124m\"\u001b[39m\u001b[38;5;124myou can use builtins\u001b[39m\u001b[38;5;124m'\u001b[39m\u001b[38;5;124m open.\u001b[39m\u001b[38;5;124m\"\u001b[39m\n\u001b[1;32m    322\u001b[0m     )\n\u001b[0;32m--> 324\u001b[0m \u001b[38;5;28;01mreturn\u001b[39;00m \u001b[43mio_open\u001b[49m\u001b[43m(\u001b[49m\u001b[43mfile\u001b[49m\u001b[43m,\u001b[49m\u001b[43m \u001b[49m\u001b[38;5;241;43m*\u001b[39;49m\u001b[43margs\u001b[49m\u001b[43m,\u001b[49m\u001b[43m \u001b[49m\u001b[38;5;241;43m*\u001b[39;49m\u001b[38;5;241;43m*\u001b[39;49m\u001b[43mkwargs\u001b[49m\u001b[43m)\u001b[49m\n",
      "\u001b[0;31mFileNotFoundError\u001b[0m: [Errno 2] No such file or directory: './data/tkn_words_to_ids.pkl'"
     ]
    }
   ],
   "source": [
    "import pickle\n",
    "\n",
    "# Load the words_to_id .pkl file and check the length\n",
    "with open('./data/tkn_words_to_ids.pkl', 'rb') as f:\n",
    "    words_to_ids = pickle.load(f)\n",
    "\n",
    "print(\"Number of tokens in text8 vocabulary: \", len(words_to_ids))\n",
    "\n"
   ]
  },
  {
   "cell_type": "code",
   "execution_count": 50,
   "id": "1f9c5cdd",
   "metadata": {},
   "outputs": [
    {
     "name": "stdout",
     "output_type": "stream",
     "text": [
      "Number of overlapping words:  43985\n",
      "Percentage of overlapping words: 69.11%\n"
     ]
    }
   ],
   "source": [
    "# Look at the percent similarity of the vocab between text8 and ms-marco\n",
    "# Get the intersection of the vocab\n",
    "intersection = set(words_to_ids.keys()) & set(vocab_to_int.keys())\n",
    "print(\"Number of overlapping words: \", len(intersection))\n",
    "\n",
    "# Get the percentage of overlapping words\n",
    "percentage_overlap = round(len(intersection) / len(words_to_ids.keys()) * 100, 2)\n",
    "print(f\"Percentage of overlapping words: {percentage_overlap}%\")"
   ]
  },
  {
   "cell_type": "markdown",
   "id": "354abb29",
   "metadata": {},
   "source": [
    "The similarity check shows a 69.11% similarity between the text8 vocabulary and the ms-macro vocabulary. 30% of missing vocabulary may be influential, so we are going to retrain the embedding model. "
   ]
  },
  {
   "cell_type": "code",
   "execution_count": null,
   "id": "21f2bc1e",
   "metadata": {},
   "outputs": [],
   "source": []
  },
  {
   "cell_type": "code",
   "execution_count": 9,
   "id": "6f3921eb",
   "metadata": {},
   "outputs": [],
   "source": [
    "# Combine the text from the text8 and ms-marco datasets into a txt file\n",
    "text8_raw = open('./data/text8', 'r').read()\n",
    "query_raw = open('./data/query_text.txt', 'r').read()\n",
    "passages_raw = open('./data/passages_text.txt', 'r').read()\n",
    "\n",
    "# Combine the text from the text8 and ms-marco datasets into a txt file\n",
    "with open('./data/combined_text8_msmarco.txt', 'w') as f:\n",
    "    f.write(text8_raw + \"\\n\" + query_raw + \"\\n\" + passages_raw)\n"
   ]
  },
  {
   "cell_type": "code",
   "execution_count": null,
   "id": "655315c2",
   "metadata": {},
   "outputs": [],
   "source": []
  },
  {
   "cell_type": "markdown",
   "id": "1e876807",
   "metadata": {},
   "source": [
    "#### DUMP "
   ]
  },
  {
   "cell_type": "code",
   "execution_count": 29,
   "id": "293a793d",
   "metadata": {},
   "outputs": [
    {
     "name": "stdout",
     "output_type": "stream",
     "text": [
      "Query type distribution:\n",
      "Counter({'description': 44961, 'numeric': 22758, 'entity': 8529, 'location': 4052, 'person': 2026})\n",
      "\n",
      "Number of answers per query:\n",
      "Min: 0\n",
      "Max: 7\n",
      "Average: 1.08\n",
      "Queries with no answers: 2622\n",
      "Queries with 1 answer: 71726\n",
      "Queries with multiple answers: 7978\n"
     ]
    }
   ],
   "source": [
    "# Analyze query types\n",
    "from collections import Counter\n",
    "\n",
    "query_types = [example['query_type'] for example in ds['train']]\n",
    "print(\"Query type distribution:\")\n",
    "print(Counter(query_types))\n",
    "\n",
    "# Analyze the number of answers per query\n",
    "answer_counts = [sum(example['passages']['is_selected']) for example in ds['train']]\n",
    "print(\"\\nNumber of answers per query:\")\n",
    "print(f\"Min: {min(answer_counts)}\")\n",
    "print(f\"Max: {max(answer_counts)}\")\n",
    "print(f\"Average: {sum(answer_counts)/len(answer_counts):.2f}\")\n",
    "print(f\"Queries with no answers: {answer_counts.count(0)}\")\n",
    "print(f\"Queries with 1 answer: {answer_counts.count(1)}\")\n",
    "print(f\"Queries with multiple answers: {len(answer_counts) - answer_counts.count(0) - answer_counts.count(1)}\")"
   ]
  },
  {
   "cell_type": "code",
   "execution_count": 30,
   "id": "ae43d3cd",
   "metadata": {},
   "outputs": [
    {
     "data": {
      "image/png": "[encoded data removed]",
      "text/plain": [
       "<Figure size 1000x600 with 1 Axes>"
      ]
     },
     "metadata": {},
     "output_type": "display_data"
    },
    {
     "ename": "TypeError",
     "evalue": "string indices must be integers, not 'str'",
     "output_type": "error",
     "traceback": [
      "\u001b[31m---------------------------------------------------------------------------\u001b[39m",
      "\u001b[31mTypeError\u001b[39m                                 Traceback (most recent call last)",
      "\u001b[36mCell\u001b[39m\u001b[36m \u001b[39m\u001b[32mIn[30]\u001b[39m\u001b[32m, line 16\u001b[39m\n\u001b[32m     14\u001b[39m passage_lengths = []\n\u001b[32m     15\u001b[39m \u001b[38;5;28;01mfor\u001b[39;00m example \u001b[38;5;129;01min\u001b[39;00m ds[\u001b[33m'\u001b[39m\u001b[33mtrain\u001b[39m\u001b[33m'\u001b[39m][:\u001b[32m1000\u001b[39m]:  \u001b[38;5;66;03m# Sample for faster processing\u001b[39;00m\n\u001b[32m---> \u001b[39m\u001b[32m16\u001b[39m     \u001b[38;5;28;01mfor\u001b[39;00m passage \u001b[38;5;129;01min\u001b[39;00m \u001b[43mexample\u001b[49m\u001b[43m[\u001b[49m\u001b[33;43m'\u001b[39;49m\u001b[33;43mpassages\u001b[39;49m\u001b[33;43m'\u001b[39;49m\u001b[43m]\u001b[49m[\u001b[33m'\u001b[39m\u001b[33mpassage_text\u001b[39m\u001b[33m'\u001b[39m]:\n\u001b[32m     17\u001b[39m         passage_lengths.append(\u001b[38;5;28mlen\u001b[39m(passage.split()))\n\u001b[32m     19\u001b[39m plt.figure(figsize=(\u001b[32m10\u001b[39m, \u001b[32m6\u001b[39m))\n",
      "\u001b[31mTypeError\u001b[39m: string indices must be integers, not 'str'"
     ]
    }
   ],
   "source": [
    "import matplotlib.pyplot as plt\n",
    "import numpy as np\n",
    "\n",
    "# Plot distribution of query lengths\n",
    "query_lengths = [len(example['query'].split()) for example in ds['train']]\n",
    "plt.figure(figsize=(10, 6))\n",
    "plt.hist(query_lengths, bins=50)\n",
    "plt.title('Distribution of Query Lengths (in words)')\n",
    "plt.xlabel('Number of Words')\n",
    "plt.ylabel('Count')\n",
    "plt.show()\n",
    "\n",
    "# Plot distribution of passage lengths\n",
    "passage_lengths = []\n",
    "for example in ds['train'][:1000]:  # Sample for faster processing\n",
    "    for passage in example['passages']['passage_text']:\n",
    "        passage_lengths.append(len(passage.split()))\n",
    "\n",
    "plt.figure(figsize=(10, 6))\n",
    "plt.hist(passage_lengths, bins=50)\n",
    "plt.title('Distribution of Passage Lengths (in words)')\n",
    "plt.xlabel('Number of Words')\n",
    "plt.ylabel('Count')\n",
    "plt.show()"
   ]
  },
  {
   "cell_type": "code",
   "execution_count": 36,
   "id": "a39ab705",
   "metadata": {},
   "outputs": [
    {
     "data": {
      "image/png": "[encoded data removed]",
      "text/plain": [
       "<Figure size 1200x700 with 1 Axes>"
      ]
     },
     "metadata": {},
     "output_type": "display_data"
    },
    {
     "name": "stdout",
     "output_type": "stream",
     "text": [
      "Document Length Statistics:\n",
      "Total number of documents: 676193\n",
      "Mean length: 421.68\n",
      "Median length: 431.00\n",
      "Minimum length: 19\n",
      "Maximum length: 1167\n",
      "Standard deviation: 147.38\n"
     ]
    }
   ],
   "source": [
    "import matplotlib.pyplot as plt\n",
    "import numpy as np\n",
    "\n",
    "def get_document_lengths(dataset):\n",
    "    lengths = []\n",
    "    for example in dataset:\n",
    "        lengths.extend(len(passage) for passage in example['passages']['passage_text'])\n",
    "    return lengths\n",
    "\n",
    "# Assuming ds is your dataset\n",
    "document_lengths = get_document_lengths(ds['train'])\n",
    "\n",
    "plt.figure(figsize=(12, 7))\n",
    "plt.hist(document_lengths, bins=30, edgecolor='black')\n",
    "plt.title('Distribution of Document Lengths')\n",
    "plt.xlabel('Document Length (characters)')\n",
    "plt.ylabel('Frequency')\n",
    "\n",
    "plt.text(0.95, 0.95, \n",
    "         f'Mean Length: {np.mean(document_lengths):.2f}\\n'\n",
    "         f'Median Length: {np.median(document_lengths):.2f}\\n'\n",
    "         f'Min Length: {np.min(document_lengths)}\\n'\n",
    "         f'Max Length: {np.max(document_lengths)}', \n",
    "         transform=plt.gca().transAxes, \n",
    "         verticalalignment='top', \n",
    "         horizontalalignment='right',\n",
    "         bbox=dict(boxstyle='round', facecolor='white', alpha=0.7))\n",
    "\n",
    "plt.tight_layout()\n",
    "plt.show()\n",
    "\n",
    "print(\"Document Length Statistics:\")\n",
    "print(f\"Total number of documents: {len(document_lengths)}\")\n",
    "print(f\"Mean length: {np.mean(document_lengths):.2f}\")\n",
    "print(f\"Median length: {np.median(document_lengths):.2f}\")\n",
    "print(f\"Minimum length: {np.min(document_lengths)}\")\n",
    "print(f\"Maximum length: {np.max(document_lengths)}\")\n",
    "print(f\"Standard deviation: {np.std(document_lengths):.2f}\")"
   ]
  },
  {
   "cell_type": "code",
   "execution_count": 38,
   "id": "dcd7448f",
   "metadata": {},
   "outputs": [
    {
     "name": "stdout",
     "output_type": "stream",
     "text": [
      "Model type: <class 'collections.OrderedDict'>\n",
      "{\n",
      "  emb.weight: \n",
      "    Tensor: shape=torch.Size([63642, 128]), dtype=torch.float32\n",
      "  ffw.weight: \n",
      "    Tensor: shape=torch.Size([63642, 128]), dtype=torch.float32\n",
      "}\n"
     ]
    }
   ],
   "source": [
    "# Simple script to inspect model\n",
    "import torch\n",
    "import os\n",
    "\n",
    "# Find the model file\n",
    "artifact_dir = \"./downloaded_model\"\n",
    "model_files = [f for f in os.listdir(artifact_dir) if f.endswith('.pth')]\n",
    "model_path = os.path.join(artifact_dir, model_files[0])\n",
    "\n",
    "# Load and inspect\n",
    "model_data = torch.load(model_path, map_location=torch.device('cpu'))\n",
    "print(\"Model type:\", type(model_data))\n",
    "\n",
    "# Recursively print structure\n",
    "def print_structure(obj, indent=0):\n",
    "    if isinstance(obj, dict):\n",
    "        print(\" \" * indent + \"{\")\n",
    "        for k, v in obj.items():\n",
    "            print(\" \" * (indent + 2) + f\"{k}: \", end=\"\")\n",
    "            if isinstance(v, (dict, list)) or (hasattr(v, \"shape\") and hasattr(v, \"dtype\")):\n",
    "                print()\n",
    "                print_structure(v, indent + 4)\n",
    "            else:\n",
    "                print(type(v))\n",
    "        print(\" \" * indent + \"}\")\n",
    "    elif isinstance(obj, list):\n",
    "        print(\" \" * indent + \"[\")\n",
    "        for item in obj[:3]:  # Print just first 3 for brevity\n",
    "            print_structure(item, indent + 2)\n",
    "        if len(obj) > 3:\n",
    "            print(\" \" * (indent + 2) + \"...\")\n",
    "        print(\" \" * indent + \"]\")\n",
    "    elif hasattr(obj, \"shape\") and hasattr(obj, \"dtype\"):  # Tensor-like\n",
    "        print(\" \" * indent + f\"Tensor: shape={obj.shape}, dtype={obj.dtype}\")\n",
    "    else:\n",
    "        print(\" \" * indent + str(type(obj)))\n",
    "\n",
    "print_structure(model_data)"
   ]
  }
 ],
 "metadata": {
  "kernelspec": {
   "display_name": ".venv",
   "language": "python",
   "name": "python3"
  },
  "language_info": {
   "codemirror_mode": {
    "name": "ipython",
    "version": 3
   },
   "file_extension": ".py",
   "mimetype": "text/x-python",
   "name": "python",
   "nbconvert_exporter": "python",
   "pygments_lexer": "ipython3",
   "version": "3.10.12"
  }
 },
 "nbformat": 4,
 "nbformat_minor": 5
}

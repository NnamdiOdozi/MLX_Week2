{
 "cells": [
  {
   "cell_type": "markdown",
   "metadata": {},
   "source": [
    "This notebook loads, cleans, and tokenizes data to produce a vocab, word to id mapping, and id to word mapping. \n",
    "* it also has a code block to calculate the percent similarity between different vocabs \n",
    "* in this case, we wanted to compare the similarity between the ms marco v1.1 vocab and the glove word2vec vocab\n",
    "* at the end of the notebook, we generate a training dataset for the CBOW model in word2vec"
   ]
  },
  {
   "cell_type": "markdown",
   "metadata": {},
   "source": [
    "### LOAD THE DATA "
   ]
  },
  {
   "cell_type": "code",
   "execution_count": 1,
   "metadata": {},
   "outputs": [
    {
     "data": {
      "application/vnd.jupyter.widget-view+json": {
       "model_id": "df14f3f9205848e1bf2d2e71c264159a",
       "version_major": 2,
       "version_minor": 0
      },
      "text/plain": [
       "README.md:   0%|          | 0.00/9.48k [00:00<?, ?B/s]"
      ]
     },
     "metadata": {},
     "output_type": "display_data"
    },
    {
     "data": {
      "application/vnd.jupyter.widget-view+json": {
       "model_id": "47938dafd866411393a75d0610b615ed",
       "version_major": 2,
       "version_minor": 0
      },
      "text/plain": [
       "validation-00000-of-00001.parquet:   0%|          | 0.00/21.4M [00:00<?, ?B/s]"
      ]
     },
     "metadata": {},
     "output_type": "display_data"
    },
    {
     "data": {
      "application/vnd.jupyter.widget-view+json": {
       "model_id": "a89c80af91ad430dbccb67fdee287d11",
       "version_major": 2,
       "version_minor": 0
      },
      "text/plain": [
       "train-00000-of-00001.parquet:   0%|          | 0.00/175M [00:00<?, ?B/s]"
      ]
     },
     "metadata": {},
     "output_type": "display_data"
    },
    {
     "data": {
      "application/vnd.jupyter.widget-view+json": {
       "model_id": "7764613f25084ccba2464e764911c964",
       "version_major": 2,
       "version_minor": 0
      },
      "text/plain": [
       "test-00000-of-00001.parquet:   0%|          | 0.00/20.5M [00:00<?, ?B/s]"
      ]
     },
     "metadata": {},
     "output_type": "display_data"
    },
    {
     "data": {
      "application/vnd.jupyter.widget-view+json": {
       "model_id": "b10806a5b0314858815d419980f15eee",
       "version_major": 2,
       "version_minor": 0
      },
      "text/plain": [
       "Generating validation split:   0%|          | 0/10047 [00:00<?, ? examples/s]"
      ]
     },
     "metadata": {},
     "output_type": "display_data"
    },
    {
     "data": {
      "application/vnd.jupyter.widget-view+json": {
       "model_id": "b7e1e931dd93488c8568efdba992e330",
       "version_major": 2,
       "version_minor": 0
      },
      "text/plain": [
       "Generating train split:   0%|          | 0/82326 [00:00<?, ? examples/s]"
      ]
     },
     "metadata": {},
     "output_type": "display_data"
    },
    {
     "data": {
      "application/vnd.jupyter.widget-view+json": {
       "model_id": "1fa5d4b2a6d54fe6bb8a5417704fdbf9",
       "version_major": 2,
       "version_minor": 0
      },
      "text/plain": [
       "Generating test split:   0%|          | 0/9650 [00:00<?, ? examples/s]"
      ]
     },
     "metadata": {},
     "output_type": "display_data"
    },
    {
     "name": "stdout",
     "output_type": "stream",
     "text": [
      "train dataset:  Dataset({\n",
      "    features: ['answers', 'passages', 'query', 'query_id', 'query_type', 'wellFormedAnswers'],\n",
      "    num_rows: 82326\n",
      "})\n",
      "validation dataset:  Dataset({\n",
      "    features: ['answers', 'passages', 'query', 'query_id', 'query_type', 'wellFormedAnswers'],\n",
      "    num_rows: 10047\n",
      "})\n",
      "test dataset:  Dataset({\n",
      "    features: ['answers', 'passages', 'query', 'query_id', 'query_type', 'wellFormedAnswers'],\n",
      "    num_rows: 9650\n",
      "})\n"
     ]
    }
   ],
   "source": [
    "# Prepare the data\n",
    "from datasets import load_dataset\n",
    "import pandas as pd\n",
    "\n",
    "\n",
    "# Stream the dataset from Hugging Face\n",
    "ds_marco = load_dataset(\"microsoft/ms_marco\", \"v1.1\")\n",
    "\n",
    "# Check that the dataset is loaded correctly\n",
    "ds_marco.keys()\n",
    "print(\"train dataset: \", ds_marco['train'])\n",
    "print(\"validation dataset: \", ds_marco['validation'])\n",
    "print(\"test dataset: \", ds_marco['test'])"
   ]
  },
  {
   "cell_type": "code",
   "execution_count": 8,
   "metadata": {},
   "outputs": [],
   "source": [
    "# Turn the dataset into a pandas dataframe\n",
    "train = pd.DataFrame(ds_marco['train'])\n",
    "test = pd.DataFrame(ds_marco['test'])\n",
    "validation = pd.DataFrame(ds_marco['validation'])\n",
    "\n",
    "# Combine the train, validation and test datasets\n",
    "ds_marco_all = pd.concat([train, validation, test])\n",
    "\n",
    "# Save as a parquet file\n",
    "ds_marco_all.to_parquet(\"../data/marco_all.parquet\")"
   ]
  },
  {
   "cell_type": "code",
   "execution_count": 10,
   "metadata": {},
   "outputs": [
    {
     "data": {
      "text/html": [
       "<div>\n",
       "<style scoped>\n",
       "    .dataframe tbody tr th:only-of-type {\n",
       "        vertical-align: middle;\n",
       "    }\n",
       "\n",
       "    .dataframe tbody tr th {\n",
       "        vertical-align: top;\n",
       "    }\n",
       "\n",
       "    .dataframe thead th {\n",
       "        text-align: right;\n",
       "    }\n",
       "</style>\n",
       "<table border=\"1\" class=\"dataframe\">\n",
       "  <thead>\n",
       "    <tr style=\"text-align: right;\">\n",
       "      <th></th>\n",
       "      <th>answers</th>\n",
       "      <th>passages</th>\n",
       "      <th>query</th>\n",
       "      <th>query_id</th>\n",
       "      <th>query_type</th>\n",
       "      <th>wellFormedAnswers</th>\n",
       "    </tr>\n",
       "  </thead>\n",
       "  <tbody>\n",
       "    <tr>\n",
       "      <th>0</th>\n",
       "      <td>[Results-Based Accountability is a disciplined...</td>\n",
       "      <td>{'is_selected': [0, 0, 0, 0, 0, 1, 0, 0, 0, 0]...</td>\n",
       "      <td>what is rba</td>\n",
       "      <td>19699</td>\n",
       "      <td>description</td>\n",
       "      <td>[]</td>\n",
       "    </tr>\n",
       "    <tr>\n",
       "      <th>1</th>\n",
       "      <td>[Yes]</td>\n",
       "      <td>{'is_selected': [0, 1, 0, 0, 0, 0, 0], 'passag...</td>\n",
       "      <td>was ronald reagan a democrat</td>\n",
       "      <td>19700</td>\n",
       "      <td>description</td>\n",
       "      <td>[]</td>\n",
       "    </tr>\n",
       "    <tr>\n",
       "      <th>2</th>\n",
       "      <td>[20-25 minutes]</td>\n",
       "      <td>{'is_selected': [0, 0, 0, 0, 1, 0, 0, 0, 0, 0]...</td>\n",
       "      <td>how long do you need for sydney and surroundin...</td>\n",
       "      <td>19701</td>\n",
       "      <td>numeric</td>\n",
       "      <td>[]</td>\n",
       "    </tr>\n",
       "    <tr>\n",
       "      <th>3</th>\n",
       "      <td>[$11 to $22 per square foot]</td>\n",
       "      <td>{'is_selected': [0, 0, 0, 0, 0, 0, 0, 0, 1], '...</td>\n",
       "      <td>price to install tile in shower</td>\n",
       "      <td>19702</td>\n",
       "      <td>numeric</td>\n",
       "      <td>[]</td>\n",
       "    </tr>\n",
       "    <tr>\n",
       "      <th>4</th>\n",
       "      <td>[Due to symptoms in the body]</td>\n",
       "      <td>{'is_selected': [0, 0, 1, 0, 0, 0, 0, 0], 'pas...</td>\n",
       "      <td>why conversion observed in body</td>\n",
       "      <td>19703</td>\n",
       "      <td>description</td>\n",
       "      <td>[]</td>\n",
       "    </tr>\n",
       "  </tbody>\n",
       "</table>\n",
       "</div>"
      ],
      "text/plain": [
       "                                             answers  \\\n",
       "0  [Results-Based Accountability is a disciplined...   \n",
       "1                                              [Yes]   \n",
       "2                                    [20-25 minutes]   \n",
       "3                       [$11 to $22 per square foot]   \n",
       "4                      [Due to symptoms in the body]   \n",
       "\n",
       "                                            passages  \\\n",
       "0  {'is_selected': [0, 0, 0, 0, 0, 1, 0, 0, 0, 0]...   \n",
       "1  {'is_selected': [0, 1, 0, 0, 0, 0, 0], 'passag...   \n",
       "2  {'is_selected': [0, 0, 0, 0, 1, 0, 0, 0, 0, 0]...   \n",
       "3  {'is_selected': [0, 0, 0, 0, 0, 0, 0, 0, 1], '...   \n",
       "4  {'is_selected': [0, 0, 1, 0, 0, 0, 0, 0], 'pas...   \n",
       "\n",
       "                                               query  query_id   query_type  \\\n",
       "0                                        what is rba     19699  description   \n",
       "1                       was ronald reagan a democrat     19700  description   \n",
       "2  how long do you need for sydney and surroundin...     19701      numeric   \n",
       "3                    price to install tile in shower     19702      numeric   \n",
       "4                    why conversion observed in body     19703  description   \n",
       "\n",
       "  wellFormedAnswers  \n",
       "0                []  \n",
       "1                []  \n",
       "2                []  \n",
       "3                []  \n",
       "4                []  "
      ]
     },
     "execution_count": 10,
     "metadata": {},
     "output_type": "execute_result"
    }
   ],
   "source": [
    "ds_marco_all.head()"
   ]
  },
  {
   "cell_type": "code",
   "execution_count": 25,
   "metadata": {},
   "outputs": [
    {
     "name": "stdout",
     "output_type": "stream",
     "text": [
      "[\"Since 2007, the RBA's outstanding reputation has been affected by the 'Securency' or NPA scandal. These RBA subsidiaries were involved in bribing overseas officials so that Australia might win lucrative note-printing contracts. The assets of the bank include the gold and foreign exchange reserves of Australia, which is estimated to have a net worth of A$101 billion. Nearly 94% of the RBA's employees work at its headquarters in Sydney, New South Wales and at the Business Resumption Site.\", \"The Reserve Bank of Australia (RBA) came into being on 14 January 1960 as Australia 's central bank and banknote issuing authority, when the Reserve Bank Act 1959 removed the central banking functions from the Commonwealth Bank. The assets of the bank include the gold and foreign exchange reserves of Australia, which is estimated to have a net worth of A$101 billion. Nearly 94% of the RBA's employees work at its headquarters in Sydney, New South Wales and at the Business Resumption Site.\", 'RBA Recognized with the 2014 Microsoft US Regional Partner of the ... by PR Newswire. Contract Awarded for supply and support the. Securitisations System used for risk management and analysis. ', 'The inner workings of a rebuildable atomizer are surprisingly simple. The coil inside the RBA is made of some type of resistance wire, normally Kanthal or nichrome. When a current is applied to the coil (resistance wire), it heats up and the heated coil then vaporizes the eliquid. 1 The bottom feed RBA is, perhaps, the easiest of all RBA types to build, maintain, and use. 2  It is filled from below, much like bottom coil clearomizer. 3  Bottom feed RBAs can utilize cotton instead of silica for the wick. 4  The Genesis, or genny, is a top feed RBA that utilizes a short woven mesh wire.', 'Results-Based Accountability® (also known as RBA) is a disciplined way of thinking and taking action that communities can use to improve the lives of children, youth, families, adults and the community as a whole. RBA is also used by organizations to improve the performance of their programs. RBA improves the lives of children, families, and communities and the performance of programs because RBA: 1  Gets from talk to action quickly; 2  Is a simple, common sense process that everyone can understand; 3  Helps groups to surface and challenge assumptions that can be barriers to innovation;', 'Results-Based Accountability® (also known as RBA) is a disciplined way of thinking and taking action that communities can use to improve the lives of children, youth, families, adults and the community as a whole. RBA is also used by organizations to improve the performance of their programs. Creating Community Impact with RBA. Community impact focuses on conditions of well-being for children, families and the community as a whole that a group of leaders is working collectively to improve. For example: “Residents with good jobs,” “Children ready for school,” or “A safe and clean neighborhood”.', 'RBA uses a data-driven, decision-making process to help communities and organizations get beyond talking about problems to taking action to solve problems. It is a simple, common sense framework that everyone can understand. RBA starts with ends and works backward, towards means. The “end” or difference you are trying to make looks slightly different if you are working on a broad community level or are focusing on your specific program or organization. RBA improves the lives of children, families, and communities and the performance of programs because RBA: 1  Gets from talk to action quickly; 2  Is a simple, common sense process that everyone can understand; 3  Helps groups to surface and challenge assumptions that can be barriers to innovation;', 'vs. NetIQ Identity Manager. Risk-based authentication (RBA) is a method of applying varying levels of stringency to authentication processes based on the likelihood that access to a given system could result in its being compromised. Risk-based authentication can be categorized as either user-dependent or transaction-dependent. User-dependent RBA processes employ the same authentication for every session initiated by a given user; the exact credentials that the site demands depend on who the user is.', 'A rebuildable atomizer (RBA), often referred to as simply a “rebuildable,” is just a special type of atomizer used in the Vape Pen and Mod Industry that connects to a personal vaporizer. 1 The bottom feed RBA is, perhaps, the easiest of all RBA types to build, maintain, and use. 2  It is filled from below, much like bottom coil clearomizer. 3  Bottom feed RBAs can utilize cotton instead of silica for the wick. 4  The Genesis, or genny, is a top feed RBA that utilizes a short woven mesh wire.', 'Get To Know Us. RBA is a digital and technology consultancy with roots in strategy, design and technology. Our team of specialists help progressive companies deliver modern digital experiences backed by proven technology engineering. ']\n",
      "['In his younger years, Ronald Reagan was a member of the Democratic Party and campaigned for Democratic candidates; however, his views grew more conservative over time, and in the early 1960s he officially became a Republican. In November 1984, Ronald Reagan was reelected in a landslide, defeating Walter Mondale and his running mate Geraldine Ferraro (1935-), the first female vice-presidential candidate from a major U.S. political party.', \"From Wikipedia, the free encyclopedia. A Reagan Democrat is a traditionally Democratic voter in the United States, especially a white working-class Northerner, who defected from their party to support Republican President Ronald Reagan in either or both the 1980 and 1984 elections. During the 1980 election a dramatic number of voters in the U.S., disillusioned with the economic 'malaise' of the 1970s and the presidency of Jimmy Carter (even more than, four years earlier, Liberal Republican Gerald Ford), supported former California governor (and former Democrat) Ronald Reagan.\", 'Ronald Reagan began his political life in the Democratic Party, but as he became more and more conservative, he ultimately changed to the Republican Party in the early 1960s. Yes, he switched parties in 1962. He said that he did not desert the Democrats but rather they deserted him. Yes, Ronald Reagan was a member of the Democratic Party until he s … witched to the Republican Party in 1962, at the age of 51. 8 people found this useful.', 'Ronald Wilson Reagan (/ˈrɒnəld ˈwɪlsən ˈreɪɡən/ ; February 6, 1911 – June 5, 2004) was an American politician, commentator, and actor, who served as the 40th President of the United States from 1981 to 1989. I think Ronald Reagan changed the trajectory of America in a way that Richard Nixon did not and in a way that Bill Clinton did not. He put us on a fundamentally different path because the country was ready for it.', \"When Reagan was a 'liberal Democrat'. In 1948, a very different sounding Ronald Reagan campaigned on the radio for Democrat Harry Truman. Listen to the old audio recording. ... more Duration: {{video.duration.momentjs}}. \", 'Ronald Reagan (1911-2004), a former actor and California governor, served as the 40th U.S. president from 1981 to 1989. Raised in small-town Illinois, he became a Hollywood actor in his 20s and later served as the Republican governor of California from 1967 to 1975. In November 1984, Ronald Reagan was reelected in a landslide, defeating Walter Mondale and his running mate Geraldine Ferraro (1935-), the first female vice-presidential candidate from a major U.S. political party.', '1984 Re-Election. In November 1984, Ronald Reagan was re-elected in a landslide, defeating Democratic challenger Walter Mondale. Reagan carried 49 of the 50 U.S. states in the election, and received 525 of 538 electoral votes—the largest number ever won by an American presidential candidate. ']\n",
      "['Sydney, New South Wales, Australia is located in a coastal basin bordered by the Pacific Ocean to the east, the Blue Mountains to the west, the Hawkesbury River to the north and the Woronora Plateau to the south. The Sydney Statistical Division, used for census data, is the unofficial metropolitan area and covers 12,145 km² (4,689 mi²). This area includes the Central Coast and Blue Mountains as well as broad swathes of national park and other non-urban land.', 'This itinerary will have you crossing the country to take in the Great Barrier Reef, Australia’s iconic reef in Queensland, before heading to Western Australia to see the breath taking Ningaloo Reef, one of Australia’s best kept secrets. View more information. 10 day-Sydney, rock and reef. It’s easy to see why Hamilton Island is one of the most popular spots for a getaway on the Great Barrier Reef. With palm-fringed beaches, top restaurants and stylish resorts, there’s plenty to do on land, while those keen to explore the clear waters of the Whitsundays will be richly rewarded.', \"The Sydney central business district, Sydney harbour and outer suburbs from the West. North Sydney 's commercial district. The extensive area covered by urban Sydney is formally divided into more than 300 suburbs for addressing and postal purposes, and administered as 38 local government areas. The Sydney Statistical Division, used for census data, is the unofficial metropolitan area and covers 12,145 km² (4,689 mi²). This area includes the Central Coast and Blue Mountains as well as broad swathes of national park and other non-urban land.\", \"1 Taxis to the city centre should cost approximately $40 (including tolls), and more to other Sydney destinations (The Rocks $40-45, North Sydney $45, Manly $50, Parramatta $80-100 etc.) You can expect to pay a $3.80 airport taxi levy and a $5.50 Eastern Distributor toll on top of the metered fare. Newtown in Sydney's inner-west (approx 4km from the CBD) is renowned for its inexpensive cafes and restaurants on King St, in particular Thai food. It is highly popular among students from the nearby Sydney University.\", \"Sydney is the capital city of the Australian state of New South Wales, and Australia's largest city. A week in Sydney will help you see many of the sights of Sydney and its surrounds, and understand the city and its culture. If you're up for exploring the area by bike (one of the best ways to do so as much of it is parkland), take the train to Concord West station on the Northern Line (red line on the Sydney Trains map-about 20-25 minutes from the city on a direct train).\", 'Sydney Attractions. Sydney is home to some of Australia’s most iconic attractions. The Sydney Opera House is a thriving hub of art, culture and history. 1km (return) - 1.5 hour (each way)Step out of your car and into the past. This short walk, perfect for walking with children and for visitors with ties to the local area, pulls you back thro... http://www.nationalparks.nsw.gov.au/scheyville-national-park/migrant-heritage-walk/walking.', \"Sydney lies on a submergent coastline, where the ocean level has risen to flood deep river valleys (rias) carved in the sandstone. There are more than 70 harbour and ocean beaches, including the famous Bondi Beach, in the urban area. Sydney's urban area covers 1,788 km² (690 mi²). The Sydney Statistical Division, used for census data, is the unofficial metropolitan area and covers 12,145 km² (4,689 mi²). This area includes the Central Coast and Blue Mountains as well as broad swathes of national park and other non-urban land.\", \"On your right across College Street, in the sandstone building on the corner, is the Australian Museum [3] ($12 adult/$6 children, $30 family (2+2)). This museum, which focuses on natural history, is worth a visit in its own right if you have more time in Sydney and will take a couple of hours to explore. If you're up for exploring the area by bike (one of the best ways to do so as much of it is parkland), take the train to Concord West station on the Northern Line (red line on the Sydney Trains map-about 20-25 minutes from the city on a direct train).\", 'The Rocks. This is a complete listing of the suburbs and localities in the greater Sydney area in alphabetical order. Sydney has about 38 local government areas, each consisting of several suburbs (suburbs in Australia are purely geographical, not political, divisions). See table below, Category:Suburbs of Sydney and Category:Local government areas in Sydney. Suburbs are listed here if they are inside the Sydney metro area, and are listed in the Geographical Names Register as being suburbs.', \"Sydney is a very large city, and we haven't spent much time outside of the inner suburbs, apart from what you would have seen on the way to the Blue Mountains. On Day 5 we'll explore one of Sydney's parkland areas in the Sydney Olympic Park at Homebush Bay [63] . If you're up for exploring the area by bike (one of the best ways to do so as much of it is parkland), take the train to Concord West station on the Northern Line (red line on the Sydney Trains map-about 20-25 minutes from the city on a direct train).\"]\n",
      "['In regards to tile installation costs, consumers can expect to pay an average of $25 per square foot, depending on the grade of material that is used. For a medium-sized shower, the price can cost about $2,000. Tile installation materials include:', '1 Polished nickel faucets-Average cost is $400 each plus four hours of installation; 2  Install ceramic tile floor to match shower-Average prices for installation are between $11 to $22 per square foot; 3  A light/fan combination-Averages at $180 and one hour', 'Enhancement and improvement costs. 1  Polished nickel faucets-Average cost is $400 each plus four hours of installation; 2  Install ceramic tile floor to match shower-Average prices for installation are between $11 to $22 per square foot; 3  A light/fan combination-Averages at $180 and one hour of installation; 4  Insulate and re-finish ceilings and 5  ... Painti', 'Granite shower tile is available at an average of $3.49 per square foot to $6.99 per square foot. Polished stone wall tile comes in many choices, including pebble stone that costs about $10 per square foot and $12 per square foot for a smooth surface polished stone tile.', '1 Higher-end tile such as granite or marble is going to cost more than a standard ceramic tile. 2  On average, plan on spending anywhere from $2,500 to as much as $5,000 or more for a standard 3′ x 5′ shower. 3  Showers can widely vary in size, but most of the time the cost will be within this price range.', 'Our free calculator uses recent, trusted data to estimate costs for your Bathroom Floor Tile Installation project. For a basic 120 square feet project in zip code 47474, the benchmark cost to Install Bathroom Floor Tile ranges between $9.53 - $13.80 per square foot* .', 'The cost for a typical small bathroom remodel will range from about $4,000 to $12,000 with the average cost being about $8,000. Let’s look at how the costs breakout starting with the most basic remodel including a new toilet, shower, vanity & sink and tile.', 'The national average for a new shower installation project, when performed by a capable contractor, is $2,689. At the low-end of the normal cost range, homeowners are paying $1,109, and at the high end of the average range they’re spending $2,459. More luxurious showers can cost in excess of $10,000 to install.', '1 Install ceramic tile floor to match shower-Average prices for installation are between $11 to $22 per square foot; 2  A light/fan combination-Averages at $180 and one hour of installation; 3  Insulate and re-finish ceilings and walls-Fiberglass wall insulation with R-30 value will cost $2.25 per square foot.']\n",
      "['Conclusions: In adult body CT, dose to an organ fully encompassed by the primary radiation beam can be estimated from CTDI vol using a protocol-independent conversion coefficient. However, fully encompassed organs only account for 50% ± 19% of k factor and 46% ± 24% of q factor. Dose received by partially encompassed organs is also substantial. To estimate effective dose and risk index from DLP, it is necessary to use conversion coefficients specific to the anatomical region examined.', 'The brain uses loads and loads of energy which is a major challenge for your metabolism-the organ which uses most energy prefers to run on the fuel that can be stored worst. Fatty acids can be converted to ketones, which can partly power the brain. More about the brain later, it is not that simple.', 'Conversion disorder is a type of somatoform disorder where physical symptoms or signs are present that cannot be explained by a medical condition. Very importantly, unlike factitious disorders and malingering, the symptoms of somatoform disorders are not intentional or under conscious control of the patient.', 'Conversion disorder is a mental condition in which a person has blindness, paralysis, or other nervous system (neurologic) symptoms that cannot be explained by medical evaluation.', 'Conversion disorder symptoms may appear suddenly after a stressful event or trauma, whether physical or psychological. Signs and symptoms that affect movement function may include: 1  Weakness or paralysis. 2  Abnormal movement, such as tremors or difficulty walking. 3  Loss of balance.', 'Glucose. Glucose is a carbohydrate, and is the most important simple sugar in human metabolism. Glucose is called a simple sugar or a monosaccharide because it is one of the smallest units which has the characteristics of this class of carbohydrates. Glucose is also sometimes called dextrose. Corn syrup is primarily glucose.', 'Sometimes people with conversion disorder have tremors or symptoms that resemble fainting spells or seizures * . There also may be loss of feeling in various parts of the body, or loss of the sense of smell, and symptoms may occur together.', 'Glucose is a carbohydrate, and is the most important simple sugar in human metabolism. Glucose is called a simple sugar or a monosaccharide because it is one of the smallest units which has the characteristics of this class of carbohydrates. Glucose is also sometimes called dextrose. Corn syrup is primarily glucose.']\n"
     ]
    },
    {
     "data": {
      "text/plain": [
       "\"Plateau to the south. The Sydney Statistical Division, used for census data, is the unofficial metropolitan area and covers 12,145 km² (4,689 mi²). This area includes the Central Coast and Blue Mountains as well as broad swathes of national park and other non-urban land. This itinerary will have you crossing the country to take in the Great Barrier Reef, Australia’s iconic reef in Queensland, before heading to Western Australia to see the breath taking Ningaloo Reef, one of Australia’s best kept secrets. View more information. 10 day-Sydney, rock and reef. It’s easy to see why Hamilton Island is one of the most popular spots for a getaway on the Great Barrier Reef. With palm-fringed beaches, top restaurants and stylish resorts, there’s plenty to do on land, while those keen to explore the clear waters of the Whitsundays will be richly rewarded. The Sydney central business district, Sydney harbour and outer suburbs from the West. North Sydney 's commercial district. The extensive area covered by urban Sydney is formally divided into more than 300 suburbs for addressing and postal purposes, and administered as 38 local government areas. The Sydney Statistical Division, used for census data, is the unofficial metropolitan area and covers 12,145 km² (4,689 mi²). This area includes the Central Coast and Blue Mountains as well as broad swathes of national park and other non-urban land. 1 Taxis to the city centre should cost approximately $40 (including tolls), and more to other Sydney destinations (The Rocks $40-45, North Sydney $45, Manly $50, Parramatta $80-100 etc.) You can expect to pay a $3.80 airport taxi levy and a $5.50 Eastern Distributor toll on top of the metered fare. Newtown in Sydney's inner-west (approx 4km from the CBD) is renowned for its inexpensive cafes and restaurants on King St, in particular Thai food. It is highly popular among students from the nearby Sydney University. Sydney is the capital city of the Australian state of New South Wales, and Australia's largest city. A week in Sydney will help you see many of the sights of Sydney and its surrounds, and understand the city and its culture. If you're up for exploring the area by bike (one of the best ways to do so as much of it is parkland), take the train to Concord West station on the Northern Line (red line on the Sydney Trains map-about 20-25 minutes from the city on a direct train). Sydney Attractions. Sydney is home to some of Australia’s most iconic attractions. The Sydney Opera House is a thriving hub of art, culture and history. 1km (return) - 1.5 hour (each way)Step out of your car and into the past. This short walk, perfect for walking with children and for visitors with ties to the local area, pulls you back thro... http://www.nationalparks.nsw.gov.au/scheyville-national-park/migrant-heritage-walk/walking. Sydney lies on a submergent coastline, where the ocean level has risen to flood deep river valleys (rias) carved in the sandstone. There are more than 70 harbour and ocean beaches, including the famous Bondi Beach, in the urban area. Sydney's urban area covers 1,788 km² (690 mi²). The Sydney Statistical Division, used for census data, is the unofficial metropolitan area and covers 12,145 km² (4,689 mi²). This area includes the Central Coast and Blue Mountains as well as broad swathes of national park and other non-urban land. On your right across College Street, in the sandstone building on the corner, is the Australian Museum [3] ($12 adult/$6 children, $30 family (2+2)). This museum, which focuses on natural history, is worth a visit in its own right if you have more time in Sydney and will take a couple of hours to explore. If you're up for exploring the area by bike (one of the best ways to do so as much of it is parkland), take the train to Concord West station on the Northern Line (red line on the Sydney Trains map-about 20-25 minutes from the city on a direct train). The Rocks. This is a complete listing of the suburbs and localities in the greater Sydney area in alphabetical order. Sydney has about 38 local government areas, each consisting of several suburbs (suburbs in Australia are purely geographical, not political, divisions). See table below, Category:Suburbs of Sydney and Category:Local government areas in Sydney. Suburbs are listed here if they are inside the Sydney metro area, and are listed in the Geographical Names Register as being suburbs. Sydney is a very large city, and we haven't spent much time outside of the inner suburbs, apart from what you would have seen on the way to the Blue Mountains. On Day 5 we'll explore one of Sydney's parkland areas in the Sydney Olympic Park at Homebush Bay [63] . If you're up for exploring the area by bike (one of the best ways to do so as much of it is parkland), take the train to Concord West station on the Northern Line (red line on the Sydney Trains map-about 20-25 minutes from the city on a direct train). In regards to tile installation costs, consumers can expect to pay an average of $25 per square foot, depending on the grade of material that is used. For a medium-sized shower, the price can cost about $2,000. Tile installation materials include: 1 Polished nickel faucets-Average cost is $400 each plus four hours of installation; 2  Install ceramic tile floor to match shower-Average prices for installation are between $11 to $22 per square foot; 3  A light/fan combination-Averages at $180 and one hour Enhancement and improvement costs. 1  Polished nickel faucets-Average cost is $400 each plus four hours of installation; 2  Install ceramic tile floor to match shower-Average prices for installation are between $11 to $22 per square foot; 3  A light/fan combination-Averages at $180 and one hour of installation; 4  Insulate and re-finish ceilings and 5  ... Painti Granite shower tile is available at an average of $3.49 per square foot to $6.99 per square foot. Polished stone wall tile comes in many choices, including pebble stone that costs about $10 per square foot and $12 per square foot for a smooth surface polished stone tile. 1 Higher-end tile such as granite or marble is going to cost more than a standard ceramic tile. 2  On average, plan on spending anywhere from $2,500 to as much as $5,000 or more for a standard 3′ x 5′ shower. 3  Showers can widely vary in size, but most of the time the cost will be within this price range. Our free calculator uses recent, trusted data to estimate costs for your Bathroom Floor Tile Installation project. For a basic 120 square feet project in zip code 47474, the benchmark cost to Install Bathroom Floor Tile ranges between $9.53 - $13.80 per square foot* . The cost for a typical small bathroom remodel will range from about $4,000 to $12,000 with the average cost being about $8,000. Let’s look at how the costs breakout starting with the most basic remodel including a new toilet, shower, vanity & sink and tile. The national average for a new shower installation project, when performed by a capable contractor, is $2,689. At the low-end of the normal cost range, homeowners are paying $1,109, and at the high end of the average range they’re spending $2,459. More luxurious showers can cost in excess of $10,000 to install. 1 Install ceramic tile floor to match shower-Average prices for installation are between $11 to $22 per square foot; 2  A light/fan combination-Averages at $180 and one hour of installation; 3  Insulate and re-finish ceilings and walls-Fiberglass wall insulation with R-30 value will cost $2.25 per square foot. Conclusions: In adult body CT, dose to an organ fully encompassed by the primary radiation beam can be estimated from CTDI vol using a protocol-independent conversion coefficient. However, fully encompassed organs only account for 50% ± 19% of k factor and 46% ± 24% of q factor. Dose received by partially encompassed organs is also substantial. To estimate effective dose and risk index from DLP, it is necessary to use conversion coefficients specific to the anatomical region examined. The brain uses loads and loads of energy which is a major challenge for your metabolism-the organ which uses most energy prefers to run on the fuel that can be stored worst. Fatty acids can be converted to ketones, which can partly power the brain. More about the brain later, it is not that simple. Conversion disorder is a type of somatoform disorder where physical symptoms or signs are present that cannot be explained by a medical condition. Very importantly, unlike factitious disorders and malingering, the symptoms of somatoform disorders are not intentional or under conscious control of the patient. Conversion disorder is a mental condition in which a person has blindness, paralysis, or other nervous system (neurologic) symptoms that cannot be explained by medical evaluation. Conversion disorder symptoms may appear suddenly after a stressful event or trauma, whether physical or psychological. Signs and symptoms that affect movement function may include: 1  Weakness or paralysis. 2  Abnormal movement, such as tremors or difficulty walking. 3  Loss of balance. Glucose. Glucose is a carbohydrate, and is the most important simple sugar in human metabolism. Glucose is called a simple sugar or a monosaccharide because it is one of the smallest units which has the characteristics of this class of carbohydrates. Glucose is also sometimes called dextrose. Corn syrup is primarily glucose. Sometimes people with conversion disorder have tremors or symptoms that resemble fainting spells or seizures * . There also may be loss of feeling in various parts of the body, or loss of the sense of smell, and symptoms may occur together. Glucose is a carbohydrate, and is the most important simple sugar in human metabolism. Glucose is called a simple sugar or a monosaccharide because it is one of the smallest units which has the characteristics of this class of carbohydrates. Glucose is also sometimes called dextrose. Corn syrup is primarily glucose.\""
      ]
     },
     "execution_count": 25,
     "metadata": {},
     "output_type": "execute_result"
    }
   ],
   "source": [
    "# Create query into a large string\n",
    "query_list = ds_marco_all['query']\n",
    "all_queries = \" \".join(query_list)\n",
    "\n",
    "# Create passages into a large string\n",
    "all_passages = []\n",
    "passages_list = ds_marco_all['passages']\n",
    "\n",
    "for passage in passages_list[:5]:\n",
    "    print(passage['passage_text'])\n",
    "    passage_list = ' '.join(passage['passage_text'])\n",
    "    all_passages.append(passage_list)\n",
    "\n",
    "all_passages = \" \".join(all_passages)\n",
    "\n",
    "\n",
    "all_text_dsmarco = all_queries + \" \" + all_passages\n",
    "\n",
    "all_text_dsmarco[-10000:]\n"
   ]
  },
  {
   "cell_type": "code",
   "execution_count": 40,
   "metadata": {},
   "outputs": [],
   "source": [
    "# This section we look take the vocab from a pretrained gloveword2vec\n",
    "\n",
    "import os\n",
    "import requests\n",
    "import zipfile\n",
    "import io\n",
    "from gensim.scripts.glove2word2vec import glove2word2vec\n",
    "from gensim.models import KeyedVectors\n"
   ]
  },
  {
   "cell_type": "code",
   "execution_count": 42,
   "metadata": {},
   "outputs": [],
   "source": [
    "# Create directory for downloaded files\n",
    "os.makedirs('downloaded_model', exist_ok=True)\n",
    "\n",
    "# Download glove model\n",
    "url = 'https://nlp.stanford.edu/data/glove.6B.zip'\n",
    "response = requests.get(url)\n",
    "if response.status_code == 200:\n",
    "    z = zipfile.ZipFile(io.BytesIO(response.content))\n",
    "    z.extractall(\"downloaded_model\")\n",
    "else:\n",
    "    print(f\"Failed to download glove model. Status code: {response.status_code}\")\n",
    "\n"
   ]
  },
  {
   "cell_type": "code",
   "execution_count": 43,
   "metadata": {},
   "outputs": [
    {
     "name": "stdout",
     "output_type": "stream",
     "text": [
      "Converting GloVe format to Word2Vec format...\n"
     ]
    },
    {
     "name": "stderr",
     "output_type": "stream",
     "text": [
      "/var/folders/1g/001b0hn532lf00rl5449kg6h0000gn/T/ipykernel_3955/967630633.py:6: DeprecationWarning: Call to deprecated `glove2word2vec` (KeyedVectors.load_word2vec_format(.., binary=False, no_header=True) loads GLoVE text vectors.).\n",
      "  glove2word2vec(glove_input_file, word2vec_output_file)\n"
     ]
    },
    {
     "data": {
      "text/plain": [
       "(400000, 100)"
      ]
     },
     "execution_count": 43,
     "metadata": {},
     "output_type": "execute_result"
    }
   ],
   "source": [
    "# Convert to word2vec format\n",
    "glove_input_file = 'downloaded_model/glove.6B.100d.txt'\n",
    "word2vec_output_file = 'downloaded_model/glove.6B.100d.word2vec.txt'\n",
    "\n",
    "print(\"Converting GloVe format to Word2Vec format...\")\n",
    "glove2word2vec(glove_input_file, word2vec_output_file)\n"
   ]
  },
  {
   "cell_type": "code",
   "execution_count": 46,
   "metadata": {},
   "outputs": [
    {
     "name": "stdout",
     "output_type": "stream",
     "text": [
      "Loading the model...\n",
      "Model loaded successfully with 400000 words\n"
     ]
    }
   ],
   "source": [
    "#Load and test the model\n",
    "print(\"Loading the model...\")\n",
    "model = KeyedVectors.load_word2vec_format(word2vec_output_file)\n",
    "print(f\"Model loaded successfully with {len(model.key_to_index)} words\")\n"
   ]
  },
  {
   "cell_type": "code",
   "execution_count": 47,
   "metadata": {},
   "outputs": [
    {
     "name": "stdout",
     "output_type": "stream",
     "text": [
      "Vocab length: 400000\n"
     ]
    }
   ],
   "source": [
    "# Extract the vocab from the model\n",
    "glove_vocab = set(model.key_to_index.keys())\n",
    "\n",
    "# Print the length of the vocab\n",
    "print(f\"Vocab length: {len(glove_vocab)}\")\n",
    "\n",
    "# Save the vocab to a file\n",
    "with open('glove_vocab.txt', 'w') as f:\n",
    "    for word in glove_vocab:\n",
    "        f.write(word + '\\n')\n"
   ]
  },
  {
   "cell_type": "markdown",
   "metadata": {},
   "source": [
    "UNCOMMENT THIS CODE BLOCK IF YOU WANT TO COMBINE WITH TEXT 8 ⬇️"
   ]
  },
  {
   "cell_type": "raw",
   "metadata": {
    "vscode": {
     "languageId": "raw"
    }
   },
   "source": [
    "# open text8 \n",
    "text8 = open(\"./data/text8\", \"r\").read()\n",
    "print(text8[:100])\n",
    "\n",
    "# combine all queries and passages with text8\n",
    "combined_text = all_queries + \" \" + all_passages + \" \" + text8\n",
    "\n",
    "# save to file\n",
    "with open(\"./data/text8_marco_train.txt\", \"w\") as f:\n",
    "    f.write(combined_text)\n",
    "    \n",
    "# Check that it works\n",
    "print(\"total number of characters in combined_text: \", len(combined_text))"
   ]
  },
  {
   "cell_type": "markdown",
   "metadata": {},
   "source": [
    "### THIS SECTION RUNS THE TOKENIZER\n",
    "* Create a new vocabulary, corpus, word to id and id to word mapping from this combined dataset"
   ]
  },
  {
   "cell_type": "code",
   "execution_count": 87,
   "metadata": {},
   "outputs": [],
   "source": [
    "import re\n",
    "from collections import Counter\n",
    "\n",
    "def tokenize_text(text):\n",
    "    # remove punctuation, number, and non-alphabetic characters\n",
    "    remove_punctuation = re.sub(r'[^\\w\\s]', '', text)\n",
    "    remove_numbers = re.sub(r'\\d+', '', remove_punctuation)\n",
    "    lower_case_words = remove_numbers.lower()\n",
    "    words = lower_case_words.split(' ')\n",
    "\n",
    "    # print count of words in split_words_by_whitespace\n",
    "    print(f\"Total number of words in the text: {len(words)}\")\n",
    "\n",
    "    # print number of unique words before filtering\n",
    "    print(f\"The vocabulary before filtering: {len(set(words))}\")\n",
    "\n",
    "    vocab = []\n",
    "    word_counts = Counter(words)\n",
    "    #print(\"Check first 10 words in word_counts: \", dict(list(word_counts.items())[:10]))\n",
    "    \n",
    "    # Check how often a word like \"rba\" appears\n",
    "    print(\"Check how often a word like 'rba' appears: \", word_counts[\"rba\"])\n",
    "\n",
    "    # if a word appears less than 5 times, do not include it in the vocabulary\n",
    "    \"\"\"\n",
    "    for word, count in word_counts.items():\n",
    "        if count < 5:\n",
    "            vocab.append(word)\n",
    "            \"\"\"\n",
    "    # vocab is the unique words in the vocab\n",
    "    vocab = list(word_counts.keys())\n",
    "    word_to_id = {word: i for i, word in enumerate(vocab)}\n",
    "    id_to_word = {i: word for i, word in enumerate(vocab)}\n",
    "\n",
    "    # Sum the counts of all words in the text before filtering\n",
    "    total_count_of_words = sum(count for word, count in word_counts.items())\n",
    "    #print(f\"Total number of words in the text before filtering: {total_count_of_words}\")\n",
    "\n",
    "    # this line checks if your counter is working properly\n",
    "    print(f\"The vocabulary has {len(vocab)} words\")\n",
    "\n",
    "    # Get the sum of words that appear in the vocab\n",
    "    sum_of_words_in_vocab = sum(count for word, count in word_counts.items() if word in vocab)\n",
    "    print(f\"The sum of words that appear in the vocab: {sum_of_words_in_vocab}\")\n",
    "\n",
    "    \n",
    "    # Optional: Show what percentage of words the vocab represents\n",
    "    #percentage = (total_count_of_vocab_words / total_count_of_words) * 100\n",
    "    #print(f\"This represents {percentage:.2f}% of all words in the corpus\")\n",
    "\n",
    "    return word_to_id, id_to_word, vocab, word_counts\n",
    "\n",
    "def generate_corpus(text, vocab):\n",
    "    # remove punctuation, number, and non-alphabetic characters\n",
    "    remove_punctuation = re.sub(r'[^\\w\\s]', '', text)\n",
    "    remove_numbers = re.sub(r'\\d+', '', remove_punctuation)\n",
    "    lower_case_words = remove_numbers.lower()\n",
    "    words = lower_case_words.split(' ')\n",
    "\n",
    "    # filter corpus to only include words in the top k words\n",
    "    corpus = [word for word in words if word in vocab]\n",
    "    print(\"corpus length:\", len(corpus))\n",
    "\n",
    "    return corpus"
   ]
  },
  {
   "cell_type": "markdown",
   "metadata": {},
   "source": [
    "Usage"
   ]
  },
  {
   "cell_type": "code",
   "execution_count": 88,
   "metadata": {},
   "outputs": [
    {
     "name": "stdout",
     "output_type": "stream",
     "text": [
      "Total number of words in the text: 619952\n",
      "The vocabulary before filtering: 40639\n",
      "Check how often a word like 'rba' appears:  27\n",
      "The vocabulary has 40639 words\n",
      "The sum of words that appear in the vocab: 619952\n"
     ]
    }
   ],
   "source": [
    "# First get the vocabulary and mappings ms marco\n",
    "word_to_id, id_to_word, vocab, word_counts = tokenize_text(all_text_dsmarco)\n",
    "\n",
    "# Then generate the corpus using the vocabulary\n",
    "#corpus = generate_corpus(all_text_dsmarco, vocab)"
   ]
  },
  {
   "cell_type": "code",
   "execution_count": 86,
   "metadata": {},
   "outputs": [],
   "source": [
    "vocab_counter = []\n",
    "for word, count in word_counts.items():\n",
    "    if word in vocab:\n",
    "        vocab_counter.append((word, count))\n",
    "\n",
    "# sort the vocab by count\n",
    "vocab_counter.sort(key=lambda x: x[1], reverse=True)\n",
    "            \n",
    "\n",
    "# save the vocab and word counts list of tuples as csv\n",
    "with open(\"../data/vocab.csv\", \"w\") as f:\n",
    "    for word, count in vocab_counter:\n",
    "        f.write(f\"{word},{count}\\n\")\n",
    "\n"
   ]
  },
  {
   "cell_type": "code",
   "execution_count": 73,
   "metadata": {},
   "outputs": [
    {
     "name": "stdout",
     "output_type": "stream",
     "text": [
      "['what', 'is', 'rba', 'was', 'ronald', 'reagan', 'a', 'democrat', 'how', 'long']\n",
      "Number of unique words in the vocab: 7686\n"
     ]
    }
   ],
   "source": [
    "# print the first 10 words in the vocab\n",
    "print(vocab[:10])\n",
    "\n",
    "# Print number of unique words in the vocab\n",
    "print(f\"Number of unique words in the vocab: {len(vocab)}\")\n"
   ]
  },
  {
   "cell_type": "markdown",
   "metadata": {},
   "source": [
    "Get overlap in vocab"
   ]
  },
  {
   "cell_type": "code",
   "execution_count": 91,
   "metadata": {},
   "outputs": [
    {
     "name": "stdout",
     "output_type": "stream",
     "text": [
      "Number of overlapping words:  34843\n",
      "Percentage of glove vocab in ms marco vocab: 85.74%\n"
     ]
    }
   ],
   "source": [
    "# Compare similarity between the glove vocab and the ms marco vocab\n",
    "# Get the intersection of the vocab\n",
    "intersection = set(glove_vocab) & set(vocab)\n",
    "print(\"Number of overlapping words: \", len(intersection))\n",
    "\n",
    "# What percentage of the glove vocab is in the ms marco vocab\n",
    "percentage_overlap = round(len(intersection) / len(vocab) * 100, 2)\n",
    "print(f\"Percentage of ms marco vocab in glove vocab: {percentage_overlap}%\")\n"
   ]
  },
  {
   "cell_type": "code",
   "execution_count": 10,
   "metadata": {},
   "outputs": [],
   "source": [
    "# save word_to_id, id_to_word, vocab, and corpus as .pt files\n",
    "import torch\n",
    "import json\n",
    "\n",
    "# save word_to_id\n",
    "torch.save(word_to_id, \"./data/word_to_id.pt\")\n",
    "\n",
    "\n",
    "\n",
    "# save id_to_word\n",
    "torch.save(id_to_word, \"./data/id_to_word.pt\")\n",
    "\n",
    "# save as json file\n",
    "with open(\"./data/id_to_word.json\", \"w\") as f:\n",
    "    json.dump(id_to_word, f)\n",
    "\n",
    "# save vocab\n",
    "torch.save(vocab, \"./data/vocab.pt\")\n",
    "\n",
    "# save corpus\n",
    "torch.save(corpus, \"./data/corpus.pt\")\n",
    "\n"
   ]
  },
  {
   "cell_type": "markdown",
   "metadata": {},
   "source": [
    "In this section we generate the CBOW training data"
   ]
  },
  {
   "cell_type": "code",
   "execution_count": 11,
   "metadata": {},
   "outputs": [],
   "source": [
    "# generate the CBOW training data \n",
    "def generate_training_data(corpus):\n",
    "   data = []\n",
    "\n",
    "\n",
    "   # start from index 2 and end 2 positions before the last word\n",
    "   # this ensures we always have 2 words before and after the target word\n",
    "   # for a 5-len sliding window\n",
    "\n",
    "\n",
    "   for i in range(2, len(corpus) - 2):\n",
    "       # Get the context words\n",
    "       # 'i' is the index of the target word\n",
    "       # [i-2:i] gets the two words before the target word\n",
    "       # [i+1:i+3] gets the two words after the target word\n",
    "       context_words = corpus[i-2:i] + corpus[i+1:i+3]\n",
    "      \n",
    "       # Get the target word\n",
    "       target_word = corpus[i]\n",
    "\n",
    "\n",
    "       # Append the tuple to the data list\n",
    "       data.append((context_words, target_word))\n",
    "\n",
    "\n",
    "   return data\n"
   ]
  },
  {
   "cell_type": "code",
   "execution_count": 12,
   "metadata": {},
   "outputs": [],
   "source": [
    "training_data = generate_training_data(corpus)\n",
    "\n",
    "# save training data as .pt file\n",
    "torch.save(training_data, \"./data/training_data.pt\")\n",
    "\n"
   ]
  },
  {
   "cell_type": "code",
   "execution_count": 14,
   "metadata": {},
   "outputs": [],
   "source": [
    "# save training data as jsonl file\n",
    "\n",
    "import json \n",
    "\n",
    "with open(\"./data/training_data.jsonl\", \"w\") as f:\n",
    "    for context, target in training_data:\n",
    "        json.dump([context, target], f)\n",
    "        f.write('\\n')\n"
   ]
  },
  {
   "cell_type": "markdown",
   "metadata": {},
   "source": []
  }
 ],
 "metadata": {
  "kernelspec": {
   "display_name": ".venv",
   "language": "python",
   "name": "python3"
  },
  "language_info": {
   "codemirror_mode": {
    "name": "ipython",
    "version": 3
   },
   "file_extension": ".py",
   "mimetype": "text/x-python",
   "name": "python",
   "nbconvert_exporter": "python",
   "pygments_lexer": "ipython3",
   "version": "3.11.6"
  }
 },
 "nbformat": 4,
 "nbformat_minor": 2
}

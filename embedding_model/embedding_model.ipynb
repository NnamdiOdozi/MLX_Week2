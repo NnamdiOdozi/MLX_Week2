{
 "cells": [
  {
   "cell_type": "markdown",
   "id": "31b465a2",
   "metadata": {},
   "source": [
    "# import text8 "
   ]
  },
  {
   "cell_type": "code",
   "execution_count": 1,
   "id": "4264a897",
   "metadata": {},
   "outputs": [
    {
     "ename": "FileNotFoundError",
     "evalue": "[Errno 2] No such file or directory: 'text8'",
     "output_type": "error",
     "traceback": [
      "\u001b[0;31m---------------------------------------------------------------------------\u001b[0m",
      "\u001b[0;31mFileNotFoundError\u001b[0m                         Traceback (most recent call last)",
      "Cell \u001b[0;32mIn[1], line 1\u001b[0m\n\u001b[0;32m----> 1\u001b[0m \u001b[38;5;28;01mwith\u001b[39;00m \u001b[38;5;28;43mopen\u001b[39;49m\u001b[43m(\u001b[49m\u001b[38;5;124;43m\"\u001b[39;49m\u001b[38;5;124;43mtext8\u001b[39;49m\u001b[38;5;124;43m\"\u001b[39;49m\u001b[43m,\u001b[49m\u001b[43m \u001b[49m\u001b[38;5;124;43m\"\u001b[39;49m\u001b[38;5;124;43mr\u001b[39;49m\u001b[38;5;124;43m\"\u001b[39;49m\u001b[43m)\u001b[49m \u001b[38;5;28;01mas\u001b[39;00m f:\n\u001b[1;32m      2\u001b[0m     text \u001b[38;5;241m=\u001b[39m f\u001b[38;5;241m.\u001b[39mread()\n",
      "File \u001b[0;32m~/MLX_Week2-1/venv/lib/python3.10/site-packages/IPython/core/interactiveshell.py:324\u001b[0m, in \u001b[0;36m_modified_open\u001b[0;34m(file, *args, **kwargs)\u001b[0m\n\u001b[1;32m    317\u001b[0m \u001b[38;5;28;01mif\u001b[39;00m file \u001b[38;5;129;01min\u001b[39;00m {\u001b[38;5;241m0\u001b[39m, \u001b[38;5;241m1\u001b[39m, \u001b[38;5;241m2\u001b[39m}:\n\u001b[1;32m    318\u001b[0m     \u001b[38;5;28;01mraise\u001b[39;00m \u001b[38;5;167;01mValueError\u001b[39;00m(\n\u001b[1;32m    319\u001b[0m         \u001b[38;5;124mf\u001b[39m\u001b[38;5;124m\"\u001b[39m\u001b[38;5;124mIPython won\u001b[39m\u001b[38;5;124m'\u001b[39m\u001b[38;5;124mt let you open fd=\u001b[39m\u001b[38;5;132;01m{\u001b[39;00mfile\u001b[38;5;132;01m}\u001b[39;00m\u001b[38;5;124m by default \u001b[39m\u001b[38;5;124m\"\u001b[39m\n\u001b[1;32m    320\u001b[0m         \u001b[38;5;124m\"\u001b[39m\u001b[38;5;124mas it is likely to crash IPython. If you know what you are doing, \u001b[39m\u001b[38;5;124m\"\u001b[39m\n\u001b[1;32m    321\u001b[0m         \u001b[38;5;124m\"\u001b[39m\u001b[38;5;124myou can use builtins\u001b[39m\u001b[38;5;124m'\u001b[39m\u001b[38;5;124m open.\u001b[39m\u001b[38;5;124m\"\u001b[39m\n\u001b[1;32m    322\u001b[0m     )\n\u001b[0;32m--> 324\u001b[0m \u001b[38;5;28;01mreturn\u001b[39;00m \u001b[43mio_open\u001b[49m\u001b[43m(\u001b[49m\u001b[43mfile\u001b[49m\u001b[43m,\u001b[49m\u001b[43m \u001b[49m\u001b[38;5;241;43m*\u001b[39;49m\u001b[43margs\u001b[49m\u001b[43m,\u001b[49m\u001b[43m \u001b[49m\u001b[38;5;241;43m*\u001b[39;49m\u001b[38;5;241;43m*\u001b[39;49m\u001b[43mkwargs\u001b[49m\u001b[43m)\u001b[49m\n",
      "\u001b[0;31mFileNotFoundError\u001b[0m: [Errno 2] No such file or directory: 'text8'"
     ]
    }
   ],
   "source": [
    "with open(\"text8\", \"r\") as f:\n",
    "    text = f.read()"
   ]
  },
  {
   "cell_type": "code",
   "execution_count": null,
   "id": "ece7174c",
   "metadata": {},
   "outputs": [],
   "source": [
    " # tokens are separated by whitespace\n",
    "tokens = text.split()\n",
    "print(tokens[:20]) "
   ]
  },
  {
   "cell_type": "code",
   "execution_count": null,
   "id": "30ec8edd",
   "metadata": {},
   "outputs": [],
   "source": [
    "from collections import Counter\n",
    "import torch"
   ]
  },
  {
   "cell_type": "markdown",
   "id": "b9d41e45",
   "metadata": {
    "vscode": {
     "languageId": "plaintext"
    }
   },
   "source": [
    "## Import query and passages"
   ]
  },
  {
   "cell_type": "code",
   "execution_count": null,
   "id": "e3c026e5",
   "metadata": {},
   "outputs": [],
   "source": []
  },
  {
   "cell_type": "markdown",
   "id": "71e3b6bd",
   "metadata": {
    "vscode": {
     "languageId": "plaintext"
    }
   },
   "source": [
    "## Take most common "
   ]
  },
  {
   "cell_type": "code",
   "execution_count": null,
   "id": "2b559501",
   "metadata": {},
   "outputs": [],
   "source": [
    "# take the 30,000 most frequently occuring tokens\n",
    "\n",
    "token_counts = Counter(tokens)\n",
    "most_common = token_counts.most_common(30000)\n",
    "vocab_list = [token for token, _ in most_common]\n",
    "\n",
    "# Create simple word-to-index and index-to-word mappings\n",
    "token_to_index = {token: idx for idx, token in enumerate(vocab_list)} # for turning raw text into training data\n",
    "index_to_token = {idx: token for token, idx in token_to_index.items()} # reverse index - for interpreting model outputs/predictions"
   ]
  },
  {
   "cell_type": "markdown",
   "id": "08056b1f",
   "metadata": {
    "vscode": {
     "languageId": "plaintext"
    }
   },
   "source": [
    "# Define CBOW "
   ]
  },
  {
   "cell_type": "code",
   "execution_count": null,
   "id": "ae18d6ae",
   "metadata": {},
   "outputs": [],
   "source": [
    "\n",
    "class CBOW(nn.Module):\n",
    "    def __init__(self, vocab_size, embedding_dim):\n",
    "        super(CBOW, self).__init__()\n",
    "        self.embeddings = nn.Embedding(vocab_size, embedding_dim)\n",
    "        self.linear = nn.Linear(embedding_dim, vocab_size)\n",
    "\n",
    "    def forward(self, inputs):\n",
    "        embeds = self.embeddings(inputs)\n",
    "        mean_embeds = embeds.mean(dim=1) \n",
    "        out = self.linear(mean_embeds)\n",
    "        return out"
   ]
  },
  {
   "cell_type": "code",
   "execution_count": null,
   "id": "dfc7f5d1",
   "metadata": {},
   "outputs": [],
   "source": [
    "from torch.utils.data import DataLoader"
   ]
  },
  {
   "cell_type": "markdown",
   "id": "d806bb3a",
   "metadata": {
    "vscode": {
     "languageId": "plaintext"
    }
   },
   "source": [
    "## generate pairs "
   ]
  },
  {
   "cell_type": "code",
   "execution_count": null,
   "id": "e00a0c95",
   "metadata": {},
   "outputs": [],
   "source": [
    "def generate_cbow_pairs(tokens, window_size):\n",
    "    pairs = []\n",
    "    vocab_set = set(vocab_list)  # Use a set for faster membership checks\n",
    "\n",
    "    for i in range(window_size, len(tokens) - window_size):\n",
    "        context = tokens[i - window_size:i] + tokens[i+1:i + window_size + 1]\n",
    "        target = tokens[i]\n",
    "\n",
    "        # Only include tokens that are in the vocab_list\n",
    "        if target in vocab_set and all(token in vocab_set for token in context):\n",
    "            # Convert context and target to indices\n",
    "            indexed_context = [token_to_index[token] for token in context]\n",
    "            indexed_target = token_to_index[target]\n",
    "            pairs.append((indexed_context, indexed_target))\n",
    "    return pairs"
   ]
  },
  {
   "cell_type": "markdown",
   "id": "10700c44",
   "metadata": {
    "vscode": {
     "languageId": "plaintext"
    }
   },
   "source": [
    "## define class "
   ]
  },
  {
   "cell_type": "code",
   "execution_count": null,
   "id": "bbd120b1",
   "metadata": {},
   "outputs": [],
   "source": [
    "class CBOWDataset(torch.utils.data.Dataset):\n",
    "    def __init__(self, pairs):\n",
    "        self.pairs = pairs\n",
    "\n",
    "    def __len__(self):\n",
    "        return len(self.pairs)\n",
    "\n",
    "    def __getitem__(self, idx):\n",
    "        context, target = self.pairs[idx]\n",
    "        return torch.tensor(context), torch.tensor(target)"
   ]
  },
  {
   "cell_type": "code",
   "execution_count": null,
   "id": "7770938f",
   "metadata": {},
   "outputs": [],
   "source": [
    "import random\n",
    "from sklearn.model_selection import train_test_split\n",
    "\n",
    "embedding_dim = 100  # 50-100 for 10k-30k tokens\n",
    "window_size = 2  # either side of centre token\n",
    "\n",
    "# Generate CBOW pairs from the full dataset\n",
    "cbow_pairs = generate_cbow_pairs(tokens, window_size)\n",
    "\n",
    "# Split into training and test sets (e.g. 20% train, 2% test = 90% drop)\n",
    "train_pairs, test_pairs = train_test_split(\n",
    "    cbow_pairs,\n",
    "    train_size=0.20,\n",
    "    test_size=0.02,\n",
    "    random_state=42\n",
    ")\n"
   ]
  },
  {
   "cell_type": "code",
   "execution_count": null,
   "id": "133c03a2",
   "metadata": {},
   "outputs": [],
   "source": [
    "# training dataset\n",
    "dataset = CBOWDataset(train_pairs)\n",
    "dataloader = DataLoader(dataset, batch_size=128, shuffle=True)"
   ]
  },
  {
   "cell_type": "code",
   "execution_count": null,
   "id": "0ec653a3",
   "metadata": {},
   "outputs": [],
   "source": [
    "vocab_size = len(token_to_index) # 30k\n",
    "\n",
    "# use cuda\n",
    "device = torch.device(\"cuda\" if torch.cuda.is_available() else \"cpu\")\n",
    "\n",
    "model = CBOW(vocab_size, embedding_dim)\n",
    "\n",
    "model = model.to(device)\n",
    "\n",
    "loss_fn = nn.CrossEntropyLoss()\n",
    "optimizer = torch.optim.Adam(model.parameters(), lr=0.001)\n",
    "\n",
    "epochs = 10\n",
    "for epoch in range(epochs):\n",
    "    total_loss = 0\n",
    "    for context_batch, target_batch in dataloader:\n",
    "        context_batch = context_batch.to(device)  # Move input batch to device\n",
    "        target_batch = target_batch.to(device)  # Move target batch to device\n",
    "\n",
    "        output = model(context_batch)             \n",
    "        loss = loss_fn(output, target_batch)\n",
    "        \n",
    "        optimizer.zero_grad()\n",
    "        loss.backward()\n",
    "        optimizer.step()\n",
    "        \n",
    "        total_loss += loss.item()\n",
    "    average_epoch_loss = total_loss / len(dataloader)\n",
    "    print(f\"Epoch {epoch+1}, Avg Loss: {average_epoch_loss:.4f}\")"
   ]
  },
  {
   "cell_type": "markdown",
   "id": "e88db03f",
   "metadata": {
    "vscode": {
     "languageId": "plaintext"
    }
   },
   "source": [
    "## testing"
   ]
  },
  {
   "cell_type": "code",
   "execution_count": null,
   "id": "4c6e4c06",
   "metadata": {},
   "outputs": [],
   "source": [
    "\n",
    "test_dataset = CBOWDataset(test_pairs)\n",
    "test_dataloader = DataLoader(test_dataset, batch_size=128, shuffle=False)\n",
    "\n",
    "model.eval()\n",
    "test_loss = 0.0\n",
    "correct = 0\n",
    "total = 0\n",
    "\n",
    "with torch.no_grad():\n",
    "    for context_batch, target_batch in test_dataloader:\n",
    "        context_batch = context_batch.to(device)\n",
    "        target_batch = target_batch.to(device)\n",
    "\n",
    "        output = model(context_batch)\n",
    "        loss = loss_fn(output, target_batch)\n",
    "        test_loss += loss.item()\n",
    "\n",
    "        _, predicted = torch.max(output, dim=1)\n",
    "        correct += (predicted == target_batch).sum().item()\n",
    "        total += target_batch.size(0)\n",
    "\n",
    "average_test_loss = test_loss / len(test_dataloader)\n",
    "accuracy = correct / total * 100\n",
    "\n",
    "print(f\"Test Loss: {average_test_loss:.4f}, Accuracy: {accuracy:.2f}%\")"
   ]
  },
  {
   "cell_type": "markdown",
   "id": "1919668a",
   "metadata": {},
   "source": [
    "# similar words test function"
   ]
  },
  {
   "cell_type": "code",
   "execution_count": null,
   "id": "dccb76f7",
   "metadata": {},
   "outputs": [],
   "source": [
    "\n",
    "\n",
    "import torch.nn.functional as F\n",
    "\n",
    "def get_similar_words(query_word, word_to_ix, ix_to_word, embeddings, top_k=5):\n",
    "    if query_word not in word_to_ix:\n",
    "        print(f\"'{query_word}' not in vocabulary.\")\n",
    "        return []\n",
    "\n",
    "    query_idx = word_to_ix[query_word]\n",
    "    query_embedding = embeddings[query_idx]\n",
    "\n",
    "    # Compute cosine similarity with all embeddings\n",
    "    similarities = F.cosine_similarity(query_embedding.unsqueeze(0), embeddings)\n",
    "    \n",
    "    # Get top_k most similar (excluding the query word itself)\n",
    "    top_indices = similarities.argsort(descending=True)[1:top_k+1]\n",
    "    similar_words = [(ix_to_word[idx.item()], similarities[idx].item()) for idx in top_indices]\n",
    "    \n",
    "    return similar_words"
   ]
  },
  {
   "cell_type": "markdown",
   "id": "9d8f0dd8",
   "metadata": {
    "vscode": {
     "languageId": "plaintext"
    }
   },
   "source": [
    "# normalize embeddings"
   ]
  },
  {
   "cell_type": "code",
   "execution_count": null,
   "id": "000f8983",
   "metadata": {},
   "outputs": [],
   "source": [
    "\n",
    "embedding_weights = model.embeddings.weight.data  # shape: [vocab_size, embedding_dim]\n",
    "norms = embedding_weights.norm(dim=1, keepdim=True)\n",
    "normalized_embeddings = embedding_weights / norms"
   ]
  },
  {
   "cell_type": "markdown",
   "id": "78f59dd6",
   "metadata": {
    "vscode": {
     "languageId": "plaintext"
    }
   },
   "source": [
    "## function to test with a word "
   ]
  },
  {
   "cell_type": "code",
   "execution_count": null,
   "id": "4fe21eff",
   "metadata": {},
   "outputs": [],
   "source": [
    "word = \"three\"\n",
    "similar = get_similar_words(word, token_to_index, index_to_token, normalized_embeddings, top_k=5)\n",
    "print(f\"Words similar to {word}:\")\n",
    "for word, score in similar:\n",
    "    print(f\"{word} ({score:.4f})\")"
   ]
  }
 ],
 "metadata": {
  "kernelspec": {
   "display_name": "venv",
   "language": "python",
   "name": "python3"
  },
  "language_info": {
   "codemirror_mode": {
    "name": "ipython",
    "version": 3
   },
   "file_extension": ".py",
   "mimetype": "text/x-python",
   "name": "python",
   "nbconvert_exporter": "python",
   "pygments_lexer": "ipython3",
   "version": "3.10.12"
  }
 },
 "nbformat": 4,
 "nbformat_minor": 5
}
